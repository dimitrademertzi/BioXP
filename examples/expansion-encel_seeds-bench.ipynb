{
 "cells": [
  {
   "cell_type": "code",
   "execution_count": 1,
   "metadata": {},
   "outputs": [
    {
     "name": "stderr",
     "output_type": "stream",
     "text": [
      "\u001b[32m\u001b[1m Activating\u001b[22m\u001b[39m new environment at `/Users/anarres/Documents/projects/BioXP/Project.toml`\n"
     ]
    }
   ],
   "source": [
    "] activate \"/Users/anarres/Documents/projects/BioXP\""
   ]
  },
  {
   "cell_type": "code",
   "execution_count": 3,
   "metadata": {},
   "outputs": [
    {
     "name": "stderr",
     "output_type": "stream",
     "text": [
      "┌ Info: Precompiling ProgressMeter [92933f4c-e287-5a05-a399-4b506db050ca]\n",
      "└ @ Base loading.jl:1278\n",
      "┌ Info: Precompiling BenchmarkTools [6e4b80f9-dd63-53aa-95a3-0cdb28fa8baf]\n",
      "└ @ Base loading.jl:1278\n"
     ]
    }
   ],
   "source": [
    "using BioXP\n",
    "using ProgressMeter\n",
    "using BenchmarkTools\n",
    "# using BenchmarkTools"
   ]
  },
  {
   "cell_type": "markdown",
   "metadata": {},
   "source": [
    "### Check nthreads"
   ]
  },
  {
   "cell_type": "code",
   "execution_count": 8,
   "metadata": {},
   "outputs": [
    {
     "data": {
      "text/plain": [
       "1"
      ]
     },
     "execution_count": 8,
     "metadata": {},
     "output_type": "execute_result"
    }
   ],
   "source": [
    "Threads.nthreads()"
   ]
  },
  {
   "cell_type": "markdown",
   "metadata": {},
   "source": [
    "### Put everything in one function for benchmarking"
   ]
  },
  {
   "cell_type": "code",
   "execution_count": 40,
   "metadata": {},
   "outputs": [
    {
     "data": {
      "text/plain": [
       "run_all (generic function with 1 method)"
      ]
     },
     "execution_count": 40,
     "metadata": {},
     "output_type": "execute_result"
    }
   ],
   "source": [
    "function run_all()\n",
    "    ## Organism JSONs from ecg (JGI)\n",
    "    # input_dir = \"data/input/rids/\"\n",
    "    input_dir = \"../test/data/rids-methanogens/\"\n",
    "\n",
    "    ## Master file from ecg (with dgs added from `add_dgs_to_master` .py files)\n",
    "    rstructs_path = \"../test/data/master_from_redges-og-submission.json\"\n",
    "\n",
    "    ## User defined seeds/targets\n",
    "    seeds_path = \"../data/seeds/encel_papers_2019.json\"\n",
    "    targets_path = \"../data/seeds/seeds.json\"\n",
    "    sid_name = \"Contains KEGGID P\"\n",
    "    tid_name = \"targets_Freilich09\";\n",
    "\n",
    "    ## Path to write to\n",
    "    # write_dir = joinpath(\"data\",\"output\",sid_name)\n",
    "    write_dir = joinpath(\"data\",\"output\",sid_name*\"-methanogens\")\n",
    "\n",
    "    if !ispath(write_dir)\n",
    "        mkpath(write_dir)\n",
    "    end\n",
    "    \n",
    "    sids = readkeyedids(seeds_path)[sid_name]\n",
    "    tids = readkeyedids(targets_path)[tid_name]\n",
    "    rstructs = readmaster(rstructs_path)\n",
    "\n",
    "#     for path in readdir(input_dir)\n",
    "\n",
    "#         org_dir = joinpath(input_dir,path)\n",
    "\n",
    "#         if isdir(org_dir) &  !startswith(path,\".\") \n",
    "\n",
    "#             if !ispath(joinpath(write_dir,path))\n",
    "#                 mkpath(joinpath(write_dir,path))\n",
    "#             end\n",
    "\n",
    "    p = Progress(length(readdir(input_dir)),desc=\"$input_dir\")\n",
    "\n",
    "#     println(org_dir)\n",
    "    Threads.@threads for (i,fname) in collect(enumerate(readdir(input_dir)))\n",
    "#             Random.seed!(seedoffset+i)\n",
    "        if !startswith(fname,\".\") \n",
    "            rids = readids(joinpath(input_dir,fname))\n",
    "            write_path = joinpath(write_dir,basename(input_dir),fname)\n",
    "            x, t, cids, X, Y = expand(rstructs,rids,sids,tids=tids,write_path=write_path) ## new results\n",
    "            next!(p)\n",
    "        end\n",
    "    end\n",
    "    \n",
    "    simple_output_dir = write_dir #joinpath(\"data\",\"output\",sid_name)\n",
    "    \n",
    "    formatbioxpoutput(simple_output_dir)\n",
    "    \n",
    "#     for path in readdir(simple_output_dir)\n",
    "# #         org_dir = joinpath(simple_output_dir,path)\n",
    "#         @show path\n",
    "#         if !startswith(path,\".\") & !isdir(path) \n",
    "#             formatbioxpoutput(joinpath(simple_output_dir,path))\n",
    "#         end\n",
    "#     end\n",
    "end"
   ]
  },
  {
   "cell_type": "code",
   "execution_count": 41,
   "metadata": {},
   "outputs": [],
   "source": [
    "if true & false\n",
    "    println(1)\n",
    "end"
   ]
  },
  {
   "cell_type": "code",
   "execution_count": 42,
   "metadata": {},
   "outputs": [
    {
     "name": "stderr",
     "output_type": "stream",
     "text": [
      "\u001b[32m../test/data/rids-methanogens/ 86%|██████████████████   |  ETA: 0:00:00\u001b[39m"
     ]
    },
    {
     "data": {
      "text/plain": [
       "BenchmarkTools.Trial: \n",
       "  memory estimate:  233.30 MiB\n",
       "  allocs estimate:  562073\n",
       "  --------------\n",
       "  minimum time:     1.036 s (3.54% GC)\n",
       "  median time:      1.080 s (4.31% GC)\n",
       "  mean time:        1.093 s (7.90% GC)\n",
       "  maximum time:     1.162 s (13.76% GC)\n",
       "  --------------\n",
       "  samples:          5\n",
       "  evals/sample:     1"
      ]
     },
     "execution_count": 42,
     "metadata": {},
     "output_type": "execute_result"
    }
   ],
   "source": [
    "@benchmark run_all()"
   ]
  },
  {
   "cell_type": "markdown",
   "metadata": {},
   "source": [
    "Benchmarking \"Contains KEGGID P-Methanogens\" without sparse Matrices:\n",
    "\n",
    "```\n",
    "BenchmarkTools.Trial: \n",
    "  memory estimate:  233.30 MiB\n",
    "  allocs estimate:  562073\n",
    "  --------------\n",
    "  minimum time:     1.036 s (3.54% GC)\n",
    "  median time:      1.080 s (4.31% GC)\n",
    "  mean time:        1.093 s (7.90% GC)\n",
    "  maximum time:     1.162 s (13.76% GC)\n",
    "  --------------\n",
    "  samples:          5\n",
    "  evals/sample:     1\n",
    "```"
   ]
  },
  {
   "cell_type": "code",
   "execution_count": null,
   "metadata": {},
   "outputs": [],
   "source": []
  },
  {
   "cell_type": "markdown",
   "metadata": {},
   "source": [
    "### Inputs"
   ]
  },
  {
   "cell_type": "code",
   "execution_count": 5,
   "metadata": {},
   "outputs": [
    {
     "data": {
      "text/plain": [
       "\"data/output/Contains KEGGID P-methanogens\""
      ]
     },
     "execution_count": 5,
     "metadata": {},
     "output_type": "execute_result"
    }
   ],
   "source": [
    "## Organism JSONs from ecg (JGI)\n",
    "# input_dir = \"data/input/rids/\"\n",
    "input_dir = \"../test/data/input/rids-methanogens/\"\n",
    "\n",
    "## Master file from ecg (with dgs added from `add_dgs_to_master` .py files)\n",
    "rstructs_path = \"../test/data/input/rstructs/master_from_redges-og-submission.json\"\n",
    "\n",
    "## User defined seeds/targets\n",
    "seeds_path = \"../data/input/seeds/encel_papers_2019.json\"\n",
    "targets_path = \"../data/input/seeds/seeds.json\"\n",
    "sid_name = \"Contains KEGGID P\"\n",
    "tid_name = \"targets_Freilich09\";\n",
    "\n",
    "## Path to write to\n",
    "# write_dir = joinpath(\"data\",\"output\",sid_name)\n",
    "write_dir = joinpath(\"data\",\"output\",sid_name*\"-methanogens\")\n",
    "\n",
    "if !ispath(write_dir)\n",
    "    mkpath(write_dir)\n",
    "end"
   ]
  },
  {
   "cell_type": "markdown",
   "metadata": {},
   "source": [
    "### Run expansion"
   ]
  },
  {
   "cell_type": "markdown",
   "metadata": {},
   "source": [
    "Double check number of accessible threads"
   ]
  },
  {
   "cell_type": "code",
   "execution_count": 6,
   "metadata": {},
   "outputs": [
    {
     "data": {
      "text/plain": [
       "1"
      ]
     },
     "execution_count": 6,
     "metadata": {},
     "output_type": "execute_result"
    }
   ],
   "source": [
    "Threads.nthreads()"
   ]
  },
  {
   "cell_type": "markdown",
   "metadata": {},
   "source": [
    "Looping such that seeds are logically assigned"
   ]
  },
  {
   "cell_type": "code",
   "execution_count": 10,
   "metadata": {},
   "outputs": [
    {
     "name": "stdout",
     "output_type": "stream",
     "text": [
      "data/input/rids-methanogens/archaea\n"
     ]
    },
    {
     "name": "stderr",
     "output_type": "stream",
     "text": [
      "\u001b[32marchaea 50%|██████████████████████                      |  ETA: 0:00:00\u001b[39m"
     ]
    }
   ],
   "source": [
    "sids = readkeyedids(seeds_path)[sid_name]\n",
    "tids = readkeyedids(targets_path)[tid_name]\n",
    "rstructs = readmaster(rstructs_path)\n",
    "\n",
    "for path in readdir(input_dir)\n",
    "    \n",
    "    org_dir = joinpath(input_dir,path)\n",
    "    \n",
    "    if isdir(org_dir) &  !startswith(path,\".\") \n",
    "        \n",
    "        if !ispath(joinpath(write_dir,path))\n",
    "            mkpath(joinpath(write_dir,path))\n",
    "        end\n",
    "        \n",
    "        p = Progress(length(readdir(org_dir)),desc=\"$path\")\n",
    "        \n",
    "        println(org_dir)\n",
    "        Threads.@threads for (i,fname) in collect(enumerate(readdir(org_dir)))\n",
    "#             Random.seed!(seedoffset+i)\n",
    "            if !startswith(fname,\".\") \n",
    "                rids = readids(joinpath(org_dir,fname))\n",
    "                write_path = joinpath(write_dir,basename(org_dir),fname)\n",
    "                x, t, cids, X, Y = expand(rstructs,rids,sids,tids,write_path) ## new results\n",
    "                next!(p)\n",
    "            end\n",
    "        end\n",
    "    end\n",
    "end"
   ]
  },
  {
   "cell_type": "markdown",
   "metadata": {},
   "source": [
    "### Format output"
   ]
  },
  {
   "cell_type": "code",
   "execution_count": 11,
   "metadata": {},
   "outputs": [],
   "source": [
    "simple_output_dir = write_dir #joinpath(\"data\",\"output\",sid_name)\n",
    "    \n",
    "for path in readdir(simple_output_dir)\n",
    "    org_dir = joinpath(simple_output_dir,path)\n",
    "    if !startswith(path,\".\") \n",
    "        formatbioxpoutput(org_dir)\n",
    "    end\n",
    "end"
   ]
  },
  {
   "cell_type": "code",
   "execution_count": null,
   "metadata": {},
   "outputs": [],
   "source": []
  }
 ],
 "metadata": {
  "kernelspec": {
   "display_name": "Julia 1.5.0",
   "language": "julia",
   "name": "julia-1.5"
  },
  "language_info": {
   "file_extension": ".jl",
   "mimetype": "application/julia",
   "name": "julia",
   "version": "1.5.0"
  }
 },
 "nbformat": 4,
 "nbformat_minor": 4
}
