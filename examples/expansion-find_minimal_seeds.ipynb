{
 "cells": [
  {
   "cell_type": "code",
   "execution_count": 2,
   "metadata": {},
   "outputs": [
    {
     "name": "stderr",
     "output_type": "stream",
     "text": [
      "\u001b[32m\u001b[1m Activating\u001b[22m\u001b[39m environment at `~/Documents/projects/BioXP/Project.toml`\n"
     ]
    }
   ],
   "source": [
    "] activate \"/Users/anarres/Documents/projects/BioXP\""
   ]
  },
  {
   "cell_type": "markdown",
   "metadata": {},
   "source": [
    "Some visual sugar"
   ]
  },
  {
   "cell_type": "code",
   "execution_count": 3,
   "metadata": {},
   "outputs": [],
   "source": [
    "# ] add ProgressMeter"
   ]
  },
  {
   "cell_type": "code",
   "execution_count": 4,
   "metadata": {},
   "outputs": [],
   "source": [
    "using BioXP\n",
    "using ProgressMeter\n",
    "using Random\n",
    "using JSON\n",
    "# using BenchmarkTools"
   ]
  },
  {
   "cell_type": "markdown",
   "metadata": {},
   "source": [
    "### Inputs"
   ]
  },
  {
   "cell_type": "code",
   "execution_count": 4,
   "metadata": {},
   "outputs": [],
   "source": [
    "## Organism JSONs from ecg (JGI)\n",
    "input_dir = \"data/input/rids/\"\n",
    "\n",
    "## Master file from ecg (with dgs added from `add_dgs_to_master` .py files)\n",
    "rstructs_path = \"data/input/rstructs/master_from_redges-og-submission.json\"\n",
    "\n",
    "## User defined seeds/targets\n",
    "sid_sets_dir = \"data/input/sid_randomizations/\"\n",
    "targets_path = \"data/input/seeds/seeds.json\"\n",
    "tid_name = \"targets_Freilich09\";"
   ]
  },
  {
   "cell_type": "markdown",
   "metadata": {},
   "source": [
    "### Path to write to"
   ]
  },
  {
   "cell_type": "code",
   "execution_count": 5,
   "metadata": {},
   "outputs": [],
   "source": [
    "write_mdir = \"data/output/minimal_seed_sets/\";\n",
    "\n",
    "if !ispath(write_mdir)\n",
    "    mkpath(write_mdir)\n",
    "end"
   ]
  },
  {
   "cell_type": "markdown",
   "metadata": {},
   "source": [
    "Double check number of accessible threads"
   ]
  },
  {
   "cell_type": "code",
   "execution_count": 18,
   "metadata": {},
   "outputs": [
    {
     "data": {
      "text/plain": [
       "10"
      ]
     },
     "execution_count": 18,
     "metadata": {},
     "output_type": "execute_result"
    }
   ],
   "source": [
    "Threads.nthreads()"
   ]
  },
  {
   "cell_type": "markdown",
   "metadata": {},
   "source": [
    "### Run minimal seed set expansions"
   ]
  },
  {
   "cell_type": "markdown",
   "metadata": {},
   "source": [
    "Remember here that the threading is internal to the function"
   ]
  },
  {
   "cell_type": "code",
   "execution_count": 7,
   "metadata": {},
   "outputs": [
    {
     "name": "stderr",
     "output_type": "stream",
     "text": [
      "\u001b[32mbacteria100%|███████████████████████████████████████████| Time: 1 days, 20:02:55\u001b[39m\n"
     ]
    }
   ],
   "source": [
    "tids = readkeyedids(targets_path)[tid_name]\n",
    "rstructs = readmaster(rstructs_path)\n",
    "\n",
    "for path in readdir(input_dir)\n",
    "    \n",
    "    org_dir = joinpath(input_dir,path)\n",
    "    \n",
    "    if isdir(org_dir)\n",
    "        \n",
    "        p = Progress(length(readdir(org_dir)),desc=\"$path\")\n",
    "        \n",
    "        for (i,fname) in collect(enumerate(readdir(org_dir)))\n",
    "            if endswith(fname,\".json\")\n",
    "    #             Random.seed!(seedoffset+i)\n",
    "                rids = readids(joinpath(org_dir,fname))\n",
    "                sid_sets_path = joinpath(sid_sets_dir,basename(org_dir),fname)\n",
    "                sid_sets = convert(Vector{IDs},JSON.parsefile(sid_sets_path))\n",
    "                write_path = joinpath(write_mdir,basename(org_dir),splitext(basename(fname))[1])\n",
    "                \n",
    "                if !ispath(joinpath(write_path))\n",
    "                    mkpath(joinpath(write_path))\n",
    "                end\n",
    "\n",
    "                find_minimal_seed_set(rstructs,\n",
    "                    rids,\n",
    "                    sid_sets,\n",
    "                    tids,\n",
    "                    write_path)\n",
    "\n",
    "#                 open(write_path,\"w\") do f\n",
    "#                     JSON.print(f, random_seed_sets, 2) #indent=2\n",
    "#                 end\n",
    "\n",
    "                next!(p)\n",
    "            end\n",
    "        end\n",
    "    end\n",
    "end\n",
    "\n"
   ]
  },
  {
   "cell_type": "markdown",
   "metadata": {},
   "source": [
    "### Format output"
   ]
  },
  {
   "cell_type": "markdown",
   "metadata": {},
   "source": [
    "_I should format this for multithreading if I rerun it, because it takes awhile_"
   ]
  },
  {
   "cell_type": "code",
   "execution_count": 16,
   "metadata": {},
   "outputs": [
    {
     "name": "stderr",
     "output_type": "stream",
     "text": [
      "\u001b[32marchaea100%|████████████████████████████████████████████| Time: 0:01:02\u001b[39m\n",
      "\u001b[32mbacteria100%|███████████████████████████████████████████| Time: 0:19:10\u001b[39m\n"
     ]
    }
   ],
   "source": [
    "simple_output_dir = \"data/output/minimal_seed_sets/\"\n",
    "for path1 in readdir(simple_output_dir)\n",
    "    domain_dir = joinpath(simple_output_dir,path1)\n",
    "    if isdir(domain_dir) &  !startswith(path1,\".\") \n",
    "        p = Progress(length(readdir(domain_dir)),desc=\"$path1\")\n",
    "        for path2 in readdir(domain_dir)\n",
    "            org_dir = joinpath(domain_dir,path2)\n",
    "            if isdir(org_dir) & !startswith(path2,\".\") \n",
    "                formatbioxpoutput(org_dir)\n",
    "            end\n",
    "            next!(p)\n",
    "        end\n",
    "    end\n",
    "end"
   ]
  },
  {
   "cell_type": "code",
   "execution_count": null,
   "metadata": {},
   "outputs": [],
   "source": []
  }
 ],
 "metadata": {
  "kernelspec": {
   "display_name": "Julia 1.4.1",
   "language": "julia",
   "name": "julia-1.4"
  },
  "language_info": {
   "file_extension": ".jl",
   "mimetype": "application/julia",
   "name": "julia",
   "version": "1.4.1"
  }
 },
 "nbformat": 4,
 "nbformat_minor": 4
}
