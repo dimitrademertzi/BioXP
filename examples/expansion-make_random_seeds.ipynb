{
 "cells": [
  {
   "cell_type": "code",
   "execution_count": 1,
   "metadata": {},
   "outputs": [
    {
     "name": "stderr",
     "output_type": "stream",
     "text": [
      "\u001b[32m\u001b[1m Activating\u001b[22m\u001b[39m environment at `~/Documents/projects/BioXP/Project.toml`\n"
     ]
    }
   ],
   "source": [
    "] activate \"/Users/anarres/Documents/projects/BioXP\""
   ]
  },
  {
   "cell_type": "markdown",
   "metadata": {},
   "source": [
    "Some visual sugar"
   ]
  },
  {
   "cell_type": "code",
   "execution_count": 2,
   "metadata": {},
   "outputs": [],
   "source": [
    "# ] add ProgressMeter"
   ]
  },
  {
   "cell_type": "code",
   "execution_count": 3,
   "metadata": {},
   "outputs": [],
   "source": [
    "using BioXP\n",
    "using ProgressMeter\n",
    "using Random\n",
    "using JSON\n",
    "# using BenchmarkTools"
   ]
  },
  {
   "cell_type": "markdown",
   "metadata": {},
   "source": [
    "### Inputs"
   ]
  },
  {
   "cell_type": "code",
   "execution_count": 4,
   "metadata": {},
   "outputs": [],
   "source": [
    "## Organism JSONs from ecg (JGI)\n",
    "input_dir = \"data/input/rids-methanogens/\"\n",
    "\n",
    "## Master file from ecg (with dgs added from `add_dgs_to_master` .py files)\n",
    "rstructs_path = \"data/input/rstructs/master_from_redges-og-submission.json\"\n",
    "\n",
    "## User defined seeds/targets\n",
    "seeds_and_targets_path = \"data/input/seeds/seeds.json\"\n",
    "sid_name = \"Enceladus_20-SAFR-032\"\n",
    "tid_name = \"targets_Freilich09\";"
   ]
  },
  {
   "cell_type": "markdown",
   "metadata": {},
   "source": [
    "#### Seed set randomization"
   ]
  },
  {
   "cell_type": "code",
   "execution_count": 5,
   "metadata": {},
   "outputs": [],
   "source": [
    "compound_structs_path = \"data/input/compound/\"\n",
    "n_runs = 100\n",
    "n_swaps = 1000\n",
    "beta = 20\n",
    "sortkey = :exact_mass\n",
    "zero_mass_behavior = \"end\"\n",
    "rng_seed = 1234\n",
    "# rng = MersenneTwister(1234);"
   ]
  },
  {
   "cell_type": "markdown",
   "metadata": {},
   "source": [
    "### Path to write to"
   ]
  },
  {
   "cell_type": "code",
   "execution_count": 6,
   "metadata": {},
   "outputs": [
    {
     "data": {
      "text/plain": [
       "\"data/input/sid_randomizations-methanogens\""
      ]
     },
     "execution_count": 6,
     "metadata": {},
     "output_type": "execute_result"
    }
   ],
   "source": [
    "write_dir = \"data/input/sid_randomizations-methanogens/\";\n",
    "\n",
    "if !ispath(write_dir)\n",
    "    mkpath(write_dir)\n",
    "end"
   ]
  },
  {
   "cell_type": "markdown",
   "metadata": {},
   "source": [
    "### Check rids in rstructs"
   ]
  },
  {
   "cell_type": "code",
   "execution_count": 22,
   "metadata": {},
   "outputs": [
    {
     "data": {
      "text/plain": [
       "Dict{String,Reaction} with 9934 entries:\n",
       "  \"R03857\" => Reaction(\"R03857\", [\"C01832\", \"C00016\"], [\"C03221\", \"C01352\"], Di…\n",
       "  \"R02250\" => Reaction(\"R02250\", [\"C00422\", \"C00001\"], [\"C00641\", \"C00162\"], Di…\n",
       "  \"R08640\" => Reaction(\"R08640\", [\"C17224\", \"C00024\", \"C00001\"], [\"C17226\", \"C0…\n",
       "  \"R07506\" => Reaction(\"R07506\", [\"C15778\", \"C00005\", \"C00080\", \"C00007\"], [\"C0…\n",
       "  \"R10331\" => Reaction(\"R10331\", [\"C20518\", \"C00028\"], [\"C04638\", \"C00030\"], Di…\n",
       "  \"R00340\" => Reaction(\"R00340\", [\"C02107\"], [\"C00036\", \"C00001\"], Dict{String,…\n",
       "  \"R06599\" => Reaction(\"R06599\", [\"C12176\"], [\"C14721\"], Dict{String,Any}())\n",
       "  \"R02433\" => Reaction(\"R02433\", [\"C00506\", \"C00026\"], [\"C05528\", \"C00025\"], Di…\n",
       "  \"R02769\" => Reaction(\"R02769\", [\"C01200\", \"C00009\"], [\"C00686\", \"C00074\", \"C0…\n",
       "  \"R01081\" => Reaction(\"R01081\", [\"C00121\"], [\"C00309\"], Dict{String,Any}())\n",
       "  \"R07043\" => Reaction(\"R07043\", [\"C05966\"], [\"C14813\"], Dict{String,Any}())\n",
       "  \"R08152\" => Reaction(\"R08152\", [\"C16504\", \"C00001\"], [\"C16506\"], Dict{String,…\n",
       "  \"R07518\" => Reaction(\"R07518\", [\"C05432\", \"C00030\", \"C00007\"], [\"C15867\", \"C0…\n",
       "  \"R09186\" => Reaction(\"R09186\", [\"C03826\"], [\"C00433\", \"C00001\"], Dict{String,…\n",
       "  \"R05049\" => Reaction(\"R05049\", [\"C05932\", \"C00003\", \"C00001\"], [\"C05931\", \"C0…\n",
       "  \"R10192\" => Reaction(\"R10192\", [\"C06098\", \"C00007\"], [\"C18195\", \"C18196\"], Di…\n",
       "  \"R08510\" => Reaction(\"R08510\", [\"C10138\", \"C00005\", \"C00080\"], [\"C06523\", \"C0…\n",
       "  \"R00743\" => Reaction(\"R00743\", [\"C00024\", \"C00383\"], [\"C00033\", \"C00083\"], Di…\n",
       "  \"R10908\" => Reaction(\"R10908\", [\"C02091\", \"C00048\"], [\"C00037\", \"C00802\"], Di…\n",
       "  \"R03137\" => Reaction(\"R03137\", [\"C00982\", \"C00007\"], [\"C03717\", \"C00205\", \"C0…\n",
       "  \"R06699\" => Reaction(\"R06699\", [\"C12366\"], [\"C12367\", \"C00001\"], Dict{String,…\n",
       "  \"R10320\" => Reaction(\"R10320\", [\"C00005\", \"C00080\", \"C00007\", \"C03944\"], [\"C0…\n",
       "  \"R11644\" => Reaction(\"R11644\", [\"C00999\", \"C00080\", \"C21529\", \"C00007\"], [\"C0…\n",
       "  \"R05792\" => Reaction(\"R05792\", [\"C00001\", \"C11547\"], [\"C00162\", \"C11548\"], Di…\n",
       "  \"R04273\" => Reaction(\"R04273\", [\"C03798\"], [\"C03633\"], Dict{String,Any}())\n",
       "  ⋮        => ⋮"
      ]
     },
     "execution_count": 22,
     "metadata": {},
     "output_type": "execute_result"
    }
   ],
   "source": [
    "rstructs = readmaster(rstructs_path)"
   ]
  },
  {
   "cell_type": "code",
   "execution_count": 11,
   "metadata": {},
   "outputs": [],
   "source": [
    "rids = readids(joinpath(input_dir,\"archaea\",\"2511231210.json\"));"
   ]
  },
  {
   "cell_type": "code",
   "execution_count": 13,
   "metadata": {},
   "outputs": [
    {
     "data": {
      "text/plain": [
       "true"
      ]
     },
     "execution_count": 13,
     "metadata": {},
     "output_type": "execute_result"
    }
   ],
   "source": [
    "\"R03038\" in rids"
   ]
  },
  {
   "cell_type": "code",
   "execution_count": 14,
   "metadata": {},
   "outputs": [
    {
     "data": {
      "text/plain": [
       "727"
      ]
     },
     "execution_count": 14,
     "metadata": {},
     "output_type": "execute_result"
    }
   ],
   "source": [
    "length(rids)"
   ]
  },
  {
   "cell_type": "code",
   "execution_count": 28,
   "metadata": {},
   "outputs": [
    {
     "data": {
      "text/plain": [
       "52-element Array{String,1}:\n",
       " \"R03038\"\n",
       " \"R06209\"\n",
       " \"R03646\"\n",
       " \"R06280\"\n",
       " \"R05577\"\n",
       " \"R07157\"\n",
       " \"R02596\"\n",
       " \"R03919\"\n",
       " \"R04007\"\n",
       " \"R07443\"\n",
       " \"R11906\"\n",
       " \"R06200\"\n",
       " \"R11029\"\n",
       " ⋮\n",
       " \"R03660\"\n",
       " \"R03661\"\n",
       " \"R11893\"\n",
       " \"R08218\"\n",
       " \"R03662\"\n",
       " \"R03663\"\n",
       " \"R03664\"\n",
       " \"R02918\"\n",
       " \"R11891\"\n",
       " \"R11892\"\n",
       " \"R03665\"\n",
       " \"R11896\""
      ]
     },
     "execution_count": 28,
     "metadata": {},
     "output_type": "execute_result"
    }
   ],
   "source": [
    "setdiff(rids,(BioXP.remove_rids_not_in_rstructs(rstructs,rids)))"
   ]
  },
  {
   "cell_type": "code",
   "execution_count": 23,
   "metadata": {},
   "outputs": [
    {
     "data": {
      "text/plain": [
       "646-element Array{String,1}:\n",
       " \"R02003\"\n",
       " \"R03898\"\n",
       " \"R03896\"\n",
       " \"R07399\"\n",
       " \"R00475\"\n",
       " \"R01341\"\n",
       " \"R04640\"\n",
       " \"R10716\"\n",
       " \"R10331\"\n",
       " \"R10325\"\n",
       " \"R10326\"\n",
       " \"R09375\"\n",
       " \"R09376\"\n",
       " ⋮\n",
       " \"R02777\"\n",
       " \"R06513\"\n",
       " \"R02098\"\n",
       " \"R02094\"\n",
       " \"R02100\"\n",
       " \"R05679\"\n",
       " \"R05680\"\n",
       " \"R00597\"\n",
       " \"R10552\"\n",
       " \"R03020\"\n",
       " \"R10496\"\n",
       " \"R10611\""
      ]
     },
     "execution_count": 23,
     "metadata": {},
     "output_type": "execute_result"
    }
   ],
   "source": [
    "BioXP.remove_rids_not_in_rstructs(rstructs,rids)"
   ]
  },
  {
   "cell_type": "markdown",
   "metadata": {},
   "source": [
    "There's a significant number of rids here that aren't in the version of kegg that I'm using. Wtf do I do here? If I just remove them that seems pretty biased. But if I update kegg and use them then that's also pretty biased..."
   ]
  },
  {
   "cell_type": "markdown",
   "metadata": {},
   "source": [
    "This might not be as big an issue as I think. Many of these could be excluded because they contained glycans or aren't balanced."
   ]
  },
  {
   "cell_type": "markdown",
   "metadata": {},
   "source": [
    "### Make random seeds"
   ]
  },
  {
   "cell_type": "code",
   "execution_count": 30,
   "metadata": {},
   "outputs": [
    {
     "name": "stderr",
     "output_type": "stream",
     "text": [
      "\u001b[32marchaea 86%|█████████████████████████████████████▊      |  ETA: 0:00:00\u001b[39m"
     ]
    }
   ],
   "source": [
    "rstructs = readmaster(rstructs_path)\n",
    "compound_structs = readcompounds(compound_structs_path);\n",
    "\n",
    "for path in readdir(input_dir)\n",
    "    \n",
    "    org_dir = joinpath(input_dir,path)\n",
    "    \n",
    "    if isdir(org_dir)\n",
    "        \n",
    "        if !ispath(joinpath(write_dir,path))\n",
    "            mkpath(joinpath(write_dir,path))\n",
    "        end\n",
    "        \n",
    "        p = Progress(length(readdir(org_dir)),desc=\"$path\")\n",
    "        \n",
    "        Threads.@threads for (i,fname) in collect(enumerate(readdir(org_dir)))\n",
    "            if endswith(fname,\".json\")\n",
    "\n",
    "                rids = readids(joinpath(org_dir,fname))\n",
    "#                 cids = list_biosystem_compounds_from_rids(rstructs,rids)\n",
    "                cids = list_biosystem_compounds_from_rids(rstructs,BioXP.remove_rids_not_in_rstructs(rstructs,rids))\n",
    "#                 cids = BioXP.identify_biosystem_compounds(rstructs,rids)\n",
    "                write_path = joinpath(write_dir,basename(org_dir),fname)\n",
    "\n",
    "                random_seed_sets = randomizecompounds(cids,\n",
    "                                        compound_structs,\n",
    "                                        n_runs,\n",
    "                                        n_swaps,\n",
    "                                        beta,\n",
    "                                        sortkey,\n",
    "                                        zero_mass_behavior,\n",
    "                                        MersenneTwister(rng_seed))\n",
    "                open(write_path,\"w\") do f\n",
    "                    JSON.print(f, random_seed_sets, 2) #indent=2\n",
    "                end\n",
    "\n",
    "                next!(p)\n",
    "            end\n",
    "        end\n",
    "    end\n",
    "end\n"
   ]
  },
  {
   "cell_type": "markdown",
   "metadata": {},
   "source": [
    "## I'm using the same seed to initialize all the compound randomizaitons. This should be ok since it a single RNG object will still step through random numbers as it fills out the random seed set for a single organism. But I need to watch out to make sure that this doesn't cause my problems later. "
   ]
  },
  {
   "cell_type": "markdown",
   "metadata": {},
   "source": [
    "## I ALREADY HAD THIS FUNCTION `IDENTIFY_BIOSYSTEM_COMPOUNDS`\n",
    "## SHOULD DELETE `list_biosystem_compounds_from_rids`"
   ]
  },
  {
   "cell_type": "code",
   "execution_count": null,
   "metadata": {},
   "outputs": [],
   "source": []
  },
  {
   "cell_type": "code",
   "execution_count": null,
   "metadata": {},
   "outputs": [],
   "source": []
  },
  {
   "cell_type": "code",
   "execution_count": null,
   "metadata": {},
   "outputs": [],
   "source": []
  }
 ],
 "metadata": {
  "kernelspec": {
   "display_name": "Julia 1.4.1",
   "language": "julia",
   "name": "julia-1.4"
  },
  "language_info": {
   "file_extension": ".jl",
   "mimetype": "application/julia",
   "name": "julia",
   "version": "1.4.1"
  }
 },
 "nbformat": 4,
 "nbformat_minor": 4
}
