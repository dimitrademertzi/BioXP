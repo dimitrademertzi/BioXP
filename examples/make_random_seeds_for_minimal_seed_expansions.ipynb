{
 "cells": [
  {
   "cell_type": "code",
   "execution_count": 1,
   "metadata": {},
   "outputs": [
    {
     "name": "stderr",
     "output_type": "stream",
     "text": [
      "\u001b[32m\u001b[1m Activating\u001b[22m\u001b[39m environment at `~/Documents/projects/BioXP/Project.toml`\n"
     ]
    }
   ],
   "source": [
    "] activate \"/Users/anarres/Documents/projects/BioXP\""
   ]
  },
  {
   "cell_type": "markdown",
   "metadata": {},
   "source": [
    "Some visual sugar"
   ]
  },
  {
   "cell_type": "code",
   "execution_count": 2,
   "metadata": {},
   "outputs": [],
   "source": [
    "# ] add ProgressMeter"
   ]
  },
  {
   "cell_type": "code",
   "execution_count": 3,
   "metadata": {},
   "outputs": [],
   "source": [
    "using BioXP\n",
    "using ProgressMeter\n",
    "using Random\n",
    "using JSON\n",
    "# using BenchmarkTools"
   ]
  },
  {
   "cell_type": "markdown",
   "metadata": {},
   "source": [
    "### Inputs"
   ]
  },
  {
   "cell_type": "code",
   "execution_count": 4,
   "metadata": {},
   "outputs": [],
   "source": [
    "## Organism JSONs from ecg (JGI)\n",
    "input_dir = \"data/input/rids-methanogens/\"\n",
    "\n",
    "## Master file from ecg (with dgs added from `add_dgs_to_master` .py files)\n",
    "rstructs_path = \"data/input/rstructs/master_from_redges-og-submission.json\"\n",
    "\n",
    "## User defined seeds/targets\n",
    "seeds_and_targets_path = \"data/input/seeds/seeds.json\"\n",
    "sid_name = \"Enceladus_20-SAFR-032\"\n",
    "tid_name = \"targets_Freilich09\";"
   ]
  },
  {
   "cell_type": "markdown",
   "metadata": {},
   "source": [
    "#### Seed set randomization"
   ]
  },
  {
   "cell_type": "code",
   "execution_count": 5,
   "metadata": {},
   "outputs": [],
   "source": [
    "compound_structs_path = \"data/input/compound/\"\n",
    "n_runs = 100\n",
    "n_swaps = 1000\n",
    "beta = 20\n",
    "sortkey = :exact_mass\n",
    "zero_mass_behavior = \"end\"\n",
    "rng_seed = 1234\n",
    "# rng = MersenneTwister(1234);"
   ]
  },
  {
   "cell_type": "markdown",
   "metadata": {},
   "source": [
    "### Path to write to"
   ]
  },
  {
   "cell_type": "code",
   "execution_count": 6,
   "metadata": {},
   "outputs": [
    {
     "data": {
      "text/plain": [
       "\"data/input/sid_randomizations-methanogens\""
      ]
     },
     "execution_count": 6,
     "metadata": {},
     "output_type": "execute_result"
    }
   ],
   "source": [
    "write_dir = \"data/input/sid_randomizations-methanogens/\";\n",
    "\n",
    "if !ispath(write_dir)\n",
    "    mkpath(write_dir)\n",
    "end"
   ]
  },
  {
   "cell_type": "markdown",
   "metadata": {},
   "source": [
    "### Make random seeds"
   ]
  },
  {
   "cell_type": "code",
   "execution_count": 30,
   "metadata": {},
   "outputs": [
    {
     "name": "stderr",
     "output_type": "stream",
     "text": [
      "\u001b[32marchaea 86%|█████████████████████████████████████▊      |  ETA: 0:00:00\u001b[39m"
     ]
    }
   ],
   "source": [
    "rstructs = readmaster(rstructs_path)\n",
    "compound_structs = readcompounds(compound_structs_path);\n",
    "\n",
    "for path in readdir(input_dir)\n",
    "    \n",
    "    org_dir = joinpath(input_dir,path)\n",
    "    \n",
    "    if isdir(org_dir)\n",
    "        \n",
    "        if !ispath(joinpath(write_dir,path))\n",
    "            mkpath(joinpath(write_dir,path))\n",
    "        end\n",
    "        \n",
    "        p = Progress(length(readdir(org_dir)),desc=\"$path\")\n",
    "        \n",
    "        Threads.@threads for (i,fname) in collect(enumerate(readdir(org_dir)))\n",
    "            if endswith(fname,\".json\")\n",
    "\n",
    "                rids = readids(joinpath(org_dir,fname))\n",
    "#                 cids = list_biosystem_compounds_from_rids(rstructs,rids)\n",
    "                cids = list_biosystem_compounds_from_rids(rstructs,BioXP.remove_rids_not_in_rstructs(rstructs,rids))\n",
    "#                 cids = BioXP.identify_biosystem_compounds(rstructs,rids)\n",
    "                write_path = joinpath(write_dir,basename(org_dir),fname)\n",
    "\n",
    "                random_seed_sets = randomizecompounds(cids,\n",
    "                                        compound_structs,\n",
    "                                        n_runs,\n",
    "                                        n_swaps,\n",
    "                                        beta,\n",
    "                                        sortkey,\n",
    "                                        zero_mass_behavior,\n",
    "                                        MersenneTwister(rng_seed))\n",
    "                open(write_path,\"w\") do f\n",
    "                    JSON.print(f, random_seed_sets, 2) #indent=2\n",
    "                end\n",
    "\n",
    "                next!(p)\n",
    "            end\n",
    "        end\n",
    "    end\n",
    "end\n"
   ]
  },
  {
   "cell_type": "code",
   "execution_count": null,
   "metadata": {},
   "outputs": [],
   "source": []
  }
 ],
 "metadata": {
  "kernelspec": {
   "display_name": "Julia 1.4.1",
   "language": "julia",
   "name": "julia-1.4"
  },
  "language_info": {
   "file_extension": ".jl",
   "mimetype": "application/julia",
   "name": "julia",
   "version": "1.4.1"
  }
 },
 "nbformat": 4,
 "nbformat_minor": 4
}
