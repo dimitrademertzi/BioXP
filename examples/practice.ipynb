{
 "cells": [
  {
   "cell_type": "markdown",
   "metadata": {},
   "source": [
    "Loading the necessary packages and setting the working directory."
   ]
  },
  {
   "cell_type": "code",
   "execution_count": 2,
   "metadata": {},
   "outputs": [
    {
     "name": "stderr",
     "output_type": "stream",
     "text": [
      "\u001b[32m\u001b[1m  Activating\u001b[22m\u001b[39m project at `~/Macdocs/Master/Internship_JP/metnetexp/BioXP`\n"
     ]
    }
   ],
   "source": [
    "cd(joinpath(homedir(), \"Macdocs\", \"Master\", \"Internship_JP\", \"metnetexp\", \"BioXP\"))\n",
    "\n",
    "using Pkg\n",
    "Pkg.activate(joinpath(pwd(), \"Project.toml\"))\n",
    "\n",
    "using BioXP, ProgressMeter, BenchmarkTools, Profile, JSON"
   ]
  },
  {
   "cell_type": "code",
   "execution_count": 43,
   "metadata": {},
   "outputs": [
    {
     "name": "stdout",
     "output_type": "stream",
     "text": [
      "[\"/Users/dimitrademertzi/Macdocs/Master/Internship_JP/metnetexp/BioXP/data/input/rids-methanogens/2511231210.json\", \"/Users/dimitrademertzi/Macdocs/Master/Internship_JP/metnetexp/BioXP/data/input/rids-methanogens/2576861399.json\", \"/Users/dimitrademertzi/Macdocs/Master/Internship_JP/metnetexp/BioXP/data/input/rids-methanogens/2582580744.json\", \"/Users/dimitrademertzi/Macdocs/Master/Internship_JP/metnetexp/BioXP/data/input/rids-methanogens/2593339150.json\", \"/Users/dimitrademertzi/Macdocs/Master/Internship_JP/metnetexp/BioXP/data/input/rids-methanogens/2593339167.json\", \"/Users/dimitrademertzi/Macdocs/Master/Internship_JP/metnetexp/BioXP/data/input/rids-methanogens/2654587756.json\", \"/Users/dimitrademertzi/Macdocs/Master/Internship_JP/metnetexp/BioXP/data/input/rids-methanogens/2681812966.json\", \"/Users/dimitrademertzi/Macdocs/Master/Internship_JP/metnetexp/BioXP/data/input/rids-methanogens/2775506917.json\", \"/Users/dimitrademertzi/Macdocs/Master/Internship_JP/metnetexp/BioXP/data/input/rids-methanogens/2775506920.json\", \"/Users/dimitrademertzi/Macdocs/Master/Internship_JP/metnetexp/BioXP/data/input/rids-methanogens/2791355116.json\", \"/Users/dimitrademertzi/Macdocs/Master/Internship_JP/metnetexp/BioXP/data/input/rids-methanogens/637000164.json\", \"/Users/dimitrademertzi/Macdocs/Master/Internship_JP/metnetexp/BioXP/data/input/rids-methanogens/640753036.json\", \"/Users/dimitrademertzi/Macdocs/Master/Internship_JP/metnetexp/BioXP/data/input/rids-methanogens/646564549.json\"]\n"
     ]
    }
   ],
   "source": [
    "input_dir = joinpath(pwd(),\"data\",\"input\", \"rids-methanogens\")\n",
    "seeds_dir = joinpath(pwd(),\"data\",\"input\",\"seeds\") \n",
    "\n",
    "rstructs_path = joinpath(pwd(),\"data\",\"input\",\"master_from_redges-og-submission.json\")\n",
    "\n",
    "seeds_path = joinpath(seeds_dir,\"encel_papers_2019.json\")\n",
    "targets_path = joinpath(seeds_dir, \"seeds.json\")\n",
    "\n",
    "sid_name = \"Contains KEGGID P\"\n",
    "tid_name = \"targets_Freilich09\";\n",
    "\n",
    "\n",
    "write_dir = joinpath(pwd(), \"data\", \"output\", (replace(sid_name, \" \" => \"_\"))*\"-methanogens\")\n",
    "\n",
    "if !ispath(write_dir)\n",
    "    mkpath(write_dir)\n",
    "end\n",
    "\n",
    "sids = readkeyedids(seeds_path)[sid_name]\n",
    "tids = readkeyedids(targets_path)[tid_name]\n",
    "rstructs = readmaster(rstructs_path)\n",
    "\n",
    "current_filepaths = filter(x -> !startswith(x, \".\"), readdir(input_dir, join=true))\n",
    "\n",
    "println(current_filepaths)"
   ]
  },
  {
   "cell_type": "markdown",
   "metadata": {},
   "source": [
    "Find specific file in the project directory"
   ]
  },
  {
   "cell_type": "code",
   "execution_count": 31,
   "metadata": {},
   "outputs": [
    {
     "name": "stdout",
     "output_type": "stream",
     "text": [
      "/Users/dimitrademertzi/Macdocs/Master/Internship_JP/metnetexp/BioXP/data/input/rids-methanogens/2511231210.json\n",
      "/Users/dimitrademertzi/Macdocs/Master/Internship_JP/metnetexp/BioXP/data/input/rids-methanogens/2576861399.json\n",
      "/Users/dimitrademertzi/Macdocs/Master/Internship_JP/metnetexp/BioXP/data/input/rids-methanogens/2582580744.json\n",
      "/Users/dimitrademertzi/Macdocs/Master/Internship_JP/metnetexp/BioXP/data/input/rids-methanogens/2593339150.json\n",
      "/Users/dimitrademertzi/Macdocs/Master/Internship_JP/metnetexp/BioXP/data/input/rids-methanogens/2593339167.json\n",
      "/Users/dimitrademertzi/Macdocs/Master/Internship_JP/metnetexp/BioXP/data/input/rids-methanogens/2654587756.json\n",
      "/Users/dimitrademertzi/Macdocs/Master/Internship_JP/metnetexp/BioXP/data/input/rids-methanogens/2681812966.json\n",
      "/Users/dimitrademertzi/Macdocs/Master/Internship_JP/metnetexp/BioXP/data/input/rids-methanogens/2775506917.json\n",
      "/Users/dimitrademertzi/Macdocs/Master/Internship_JP/metnetexp/BioXP/data/input/rids-methanogens/2775506920.json\n",
      "/Users/dimitrademertzi/Macdocs/Master/Internship_JP/metnetexp/BioXP/data/input/rids-methanogens/2791355116.json\n",
      "/Users/dimitrademertzi/Macdocs/Master/Internship_JP/metnetexp/BioXP/data/input/rids-methanogens/637000164.json\n",
      "/Users/dimitrademertzi/Macdocs/Master/Internship_JP/metnetexp/BioXP/data/input/rids-methanogens/640753036.json\n",
      "/Users/dimitrademertzi/Macdocs/Master/Internship_JP/metnetexp/BioXP/data/input/rids-methanogens/646564549.json\n"
     ]
    }
   ],
   "source": [
    "for (i, file_path) in enumerate(current_filepaths)\n",
    "\n",
    "    file_name = basename(file_path)\n",
    "\n",
    "    if !ispath(joinpath(write_dir, file_name))\n",
    "        mkpath(joinpath(write_dir, file_name))\n",
    "        continue\n",
    "    end\n",
    "\n",
    "    progress = Progress(length(file_name), desc=\"$file_name\")\n",
    "    \n",
    "    rids = readids(file_path)\n",
    "\n",
    "    println(file_path)\n",
    "\n",
    "    \n",
    "\n",
    "end"
   ]
  },
  {
   "cell_type": "code",
   "execution_count": 42,
   "metadata": {},
   "outputs": [
    {
     "name": "stdout",
     "output_type": "stream",
     "text": [
      "[(1, \"2511231210.json\"), (2, \"2576861399.json\"), (3, \"2582580744.json\"), (4, \"2593339150.json\"), (5, \"2593339167.json\"), (6, \"2654587756.json\"), (7, \"2681812966.json\"), (8, \"2775506917.json\"), (9, \"2775506920.json\"), (10, \"2791355116.json\"), (11, \"637000164.json\"), (12, \"640753036.json\"), (13, \"646564549.json\")]\n",
      "[(1, \"2511231210.json\"), (2, \"2576861399.json\"), (3, \"2582580744.json\"), (4, \"2593339150.json\"), (5, \"2593339167.json\"), (6, \"2654587756.json\"), (7, \"2681812966.json\"), (8, \"2775506917.json\"), (9, \"2775506920.json\"), (10, \"2791355116.json\"), (11, \"637000164.json\"), (12, \"640753036.json\"), (13, \"646564549.json\")]\n",
      "[(1, \"2511231210.json\"), (2, \"2576861399.json\"), (3, \"2582580744.json\"), (4, \"2593339150.json\"), (5, \"2593339167.json\"), (6, \"2654587756.json\"), (7, \"2681812966.json\"), (8, \"2775506917.json\"), (9, \"2775506920.json\"), (10, \"2791355116.json\"), (11, \"637000164.json\"), (12, \"640753036.json\"), (13, \"646564549.json\")]\n",
      "[(1, \"2511231210.json\"), (2, \"2576861399.json\"), (3, \"2582580744.json\"), (4, \"2593339150.json\"), (5, \"2593339167.json\"), (6, \"2654587756.json\"), (7, \"2681812966.json\"), (8, \"2775506917.json\"), (9, \"2775506920.json\"), (10, \"2791355116.json\"), (11, \"637000164.json\"), (12, \"640753036.json\"), (13, \"646564549.json\")]\n",
      "[(1, \"2511231210.json\"), (2, \"2576861399.json\"), (3, \"2582580744.json\"), (4, \"2593339150.json\"), (5, \"2593339167.json\"), (6, \"2654587756.json\"), (7, \"2681812966.json\"), (8, \"2775506917.json\"), (9, \"2775506920.json\"), (10, \"2791355116.json\"), (11, \"637000164.json\"), (12, \"640753036.json\"), (13, \"646564549.json\")]\n",
      "[(1, \"2511231210.json\"), (2, \"2576861399.json\"), (3, \"2582580744.json\"), (4, \"2593339150.json\"), (5, \"2593339167.json\"), (6, \"2654587756.json\"), (7, \"2681812966.json\"), (8, \"2775506917.json\"), (9, \"2775506920.json\"), (10, \"2791355116.json\"), (11, \"637000164.json\"), (12, \"640753036.json\"), (13, \"646564549.json\")]\n",
      "[(1, \"2511231210.json\"), (2, \"2576861399.json\"), (3, \"2582580744.json\"), (4, \"2593339150.json\"), (5, \"2593339167.json\"), (6, \"2654587756.json\"), (7, \"2681812966.json\"), (8, \"2775506917.json\"), (9, \"2775506920.json\"), (10, \"2791355116.json\"), (11, \"637000164.json\"), (12, \"640753036.json\"), (13, \"646564549.json\")]\n",
      "[(1, \"2511231210.json\"), (2, \"2576861399.json\"), (3, \"2582580744.json\"), (4, \"2593339150.json\"), (5, \"2593339167.json\"), (6, \"2654587756.json\"), (7, \"2681812966.json\"), (8, \"2775506917.json\"), (9, \"2775506920.json\"), (10, \"2791355116.json\"), (11, \"637000164.json\"), (12, \"640753036.json\"), (13, \"646564549.json\")]\n",
      "[(1, \"2511231210.json\"), (2, \"2576861399.json\"), (3, \"2582580744.json\"), (4, \"2593339150.json\"), (5, \"2593339167.json\"), (6, \"2654587756.json\"), (7, \"2681812966.json\"), (8, \"2775506917.json\"), (9, \"2775506920.json\"), (10, \"2791355116.json\"), (11, \"637000164.json\"), (12, \"640753036.json\"), (13, \"646564549.json\")]\n",
      "[(1, \"2511231210.json\"), (2, \"2576861399.json\"), (3, \"2582580744.json\"), (4, \"2593339150.json\"), (5, \"2593339167.json\"), (6, \"2654587756.json\"), (7, \"2681812966.json\"), (8, \"2775506917.json\"), (9, \"2775506920.json\"), (10, \"2791355116.json\"), (11, \"637000164.json\"), (12, \"640753036.json\"), (13, \"646564549.json\")]\n",
      "[(1, \"2511231210.json\"), (2, \"2576861399.json\"), (3, \"2582580744.json\"), (4, \"2593339150.json\"), (5, \"2593339167.json\"), (6, \"2654587756.json\"), (7, \"2681812966.json\"), (8, \"2775506917.json\"), (9, \"2775506920.json\"), (10, \"2791355116.json\"), (11, \"637000164.json\"), (12, \"640753036.json\"), (13, \"646564549.json\")]\n",
      "[(1, \"2511231210.json\"), (2, \"2576861399.json\"), (3, \"2582580744.json\"), (4, \"2593339150.json\"), (5, \"2593339167.json\"), (6, \"2654587756.json\"), (7, \"2681812966.json\"), (8, \"2775506917.json\"), (9, \"2775506920.json\"), (10, \"2791355116.json\"), (11, \"637000164.json\"), (12, \"640753036.json\"), (13, \"646564549.json\")]\n",
      "[(1, \"2511231210.json\"), (2, \"2576861399.json\"), (3, \"2582580744.json\"), (4, \"2593339150.json\"), (5, \"2593339167.json\"), (6, \"2654587756.json\"), (7, \"2681812966.json\"), (8, \"2775506917.json\"), (9, \"2775506920.json\"), (10, \"2791355116.json\"), (11, \"637000164.json\"), (12, \"640753036.json\"), (13, \"646564549.json\")]\n"
     ]
    }
   ],
   "source": [
    "for path in readdir(input_dir)\n",
    "\n",
    "\n",
    "    org_dir = joinpath(input_dir,path)\n",
    "\n",
    "    println(collect(enumerate(readdir(input_dir))))\n",
    "    # for (i,fname) in collect(enumerate(readdir(input_dir)))\n",
    "    #     println(fname)\n",
    "    # end\n",
    "\n",
    "end"
   ]
  },
  {
   "cell_type": "code",
   "execution_count": null,
   "metadata": {},
   "outputs": [],
   "source": [
    "# tomlfiles = filter(x -> endswith(x, \"Project.toml\"), readdir(directory, join=true))\n",
    "# println(tomlfiles[1])\n",
    "\n",
    "\n",
    "#=\n",
    "Multi-line comment\n",
    "=#"
   ]
  },
  {
   "cell_type": "code",
   "execution_count": 46,
   "metadata": {},
   "outputs": [
    {
     "name": "stdout",
     "output_type": "stream",
     "text": [
      "i: 1\t Thread ID: 1\n"
     ]
    }
   ],
   "source": [
    "for i in 1:Threads.nthreads()\n",
    "    println(\"i: \", i, \"\\t Thread ID: \", Threads.threadid()) \n",
    "end"
   ]
  }
 ],
 "metadata": {
  "kernelspec": {
   "display_name": "Julia 1.10.2",
   "language": "julia",
   "name": "julia-1.10"
  },
  "language_info": {
   "file_extension": ".jl",
   "mimetype": "application/julia",
   "name": "julia",
   "version": "1.10.2"
  }
 },
 "nbformat": 4,
 "nbformat_minor": 4
}
