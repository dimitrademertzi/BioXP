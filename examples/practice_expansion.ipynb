{
 "cells": [
  {
   "cell_type": "markdown",
   "metadata": {},
   "source": [
    "### Basic expansion for different organisms"
   ]
  },
  {
   "cell_type": "markdown",
   "metadata": {},
   "source": [
    "Loading the necessary packages and setting the working directory."
   ]
  },
  {
   "cell_type": "code",
   "execution_count": 1,
   "metadata": {},
   "outputs": [
    {
     "name": "stderr",
     "output_type": "stream",
     "text": [
      "\u001b[32m\u001b[1m  Activating\u001b[22m\u001b[39m project at `~/Macdocs/Master/Internship_JP/metnetexp/BioXP`\n"
     ]
    }
   ],
   "source": [
    "cd(joinpath(homedir(), \"Macdocs\", \"Master\", \"Internship_JP\", \"metnetexp\", \"BioXP\"))\n",
    "\n",
    "using Pkg\n",
    "Pkg.activate(joinpath(pwd(), \"Project.toml\"))\n",
    "\n",
    "using BioXP, ProgressMeter, BenchmarkTools, Profile, JSON, SparseArrays"
   ]
  },
  {
   "cell_type": "markdown",
   "metadata": {},
   "source": [
    "Input directory structure, including to-be-used files"
   ]
  },
  {
   "cell_type": "code",
   "execution_count": 41,
   "metadata": {},
   "outputs": [
    {
     "data": {
      "text/plain": [
       "printDirectoryPaths (generic function with 1 method)"
      ]
     },
     "execution_count": 41,
     "metadata": {},
     "output_type": "execute_result"
    }
   ],
   "source": [
    "#Directory/Folder/File name variables\n",
    "#Names\n",
    "organismtype = \"methanogens\"\n",
    "sidname = \"Contains KEGGID P\"\n",
    "tidname = \"targets_Freilich09\"\n",
    "with_sidname = replace(sidname, \" \" => \"_\")\n",
    "\n",
    "#Files\n",
    "rstructsfile = \"master_from_redges-og-submission.json\"\n",
    "seedsfile = \"encel_papers_2019.json\"\n",
    "targetsfile = \"seeds.json\"\n",
    "\n",
    "#Folders\n",
    "ridsdir = \"rids-methanogens\"\n",
    "seedsdir = \"seeds\"\n",
    "targetsdir = \"targets\"\n",
    "\n",
    "\n",
    "#All directory paths. No need to change these unless the structure of the directories change\n",
    "inputdir = joinpath(pwd(),\"data\",\"input\")\n",
    "\n",
    "seedsdir = joinpath(inputdir, seedsdir)\n",
    "targetsdir = joinpath(inputdir, targetsdir)\n",
    "ridsdir = joinpath(inputdir, ridsdir)\n",
    "\n",
    "outputdir = joinpath(pwd(),\"data\",\"output\")\n",
    "writedir = joinpath(outputdir, with_sidname*\"_$organismtype\")\n",
    "\n",
    "#Creates writing directory, if it doesn't exist\n",
    "!ispath(writedir) && mkpath(writedir);\n",
    "\n",
    "#All file paths\n",
    "rstructspath = joinpath(inputdir, rstructsfile)\n",
    "seedspath = joinpath(seedsdir, seedsfile)\n",
    "targetspath = joinpath(seedsdir, targetsfile)"
   ]
  },
  {
   "cell_type": "code",
   "execution_count": null,
   "metadata": {},
   "outputs": [],
   "source": [
    "\"\"\"\n",
    "This function prints the directory and file paths \n",
    "that are used in the script, to check if they are correct\n",
    "Gets all the arguments in the Main module, \n",
    "filters for the ones that end with \"dir\" or \"path\"\n",
    "and prints them in a readable format\n",
    "\"\"\"\n",
    "\n",
    "function getandprintDirPaths()\n",
    "\n",
    "    vars_dict = Dict()\n",
    "\n",
    "    for var in names(Main)\n",
    "\n",
    "        #Checks if the variable is a directory or file path\n",
    "        if endswith(string(var), \"dir\") || endswith(string(var), \"path\")\n",
    "            \n",
    "    \n",
    "            if endswith(string(var), \"dir\") \n",
    "                tbprinted = join(split(eval(var), \"/\")[end-2:end], \"/\") \n",
    "                dict_key_end = \" Directory: \"\n",
    "                dict_key_beg = uppercasefirst(split(string(var), \"dir\")[1])\n",
    "            else\n",
    "                tbprinted = join(split(eval(var), \"/\")[end:end], \"/\")\n",
    "                dict_key_end = \" file path: \"\n",
    "                dict_key_beg = uppercasefirst(split(string(var), \"path\")[1])\n",
    "            end\n",
    "\n",
    "            vars_dict[dict_key_beg*dict_key_end] = tbprinted\n",
    "            \n",
    "        end\n",
    "    end\n",
    "\n",
    "    for key in keys(vars_dict)\n",
    "        println(key, vars_dict[key], \"\\n\")\n",
    "    end\n",
    "end\n",
    "\n",
    "getandprintDirPaths()\n"
   ]
  },
  {
   "cell_type": "code",
   "execution_count": 42,
   "metadata": {},
   "outputs": [],
   "source": [
    "#Create usable data structures from files based on parser functions\n",
    "sids = readkeyedids(seedspath)[sidname]\n",
    "tids = readkeyedids(targetspath)[tidname]\n",
    "\n",
    "#Get all the seed filepaths and filenames\n",
    "seed_filepaths = filter(x -> !startswith(x, \".\"), readdir(ridsdir, join=true))\n",
    "seed_filenames = filter(x -> !startswith(x, \".\"), readdir(ridsdir));\n",
    "\n",
    "#Running the actual analysis\n",
    "Threads.@threads for (i, file_name) in collect(enumerate(seed_filenames))\n",
    "\n",
    "    # Why is it needed to create a dir for every seed file?\n",
    "    write_path = joinpath(writedir, seed_filenames[i])\n",
    "    #!ispath(write_path) && mkpath(write_path) \n",
    "\n",
    "    p = Progress(length(file_name), desc=file_name)\n",
    "    rids = readids(seed_filepaths[i])\n",
    "    \n",
    "    x, t, cids, X, Y = expand(rstructs, rids, sids, tids=tids, write_path=write_path)\n",
    "    next!(p)\n",
    "\n",
    "end"
   ]
  },
  {
   "cell_type": "code",
   "execution_count": 51,
   "metadata": {},
   "outputs": [
    {
     "name": "stdout",
     "output_type": "stream",
     "text": [
      "i: 1\t Thread ID: 1\n"
     ]
    }
   ],
   "source": [
    "# for i in 1:Threads.nthreads()\n",
    "#     println(\"i: \", i, \"\\t Thread ID: \", Threads.threadid()) \n",
    "# end"
   ]
  },
  {
   "cell_type": "markdown",
   "metadata": {},
   "source": []
  }
 ],
 "metadata": {
  "kernelspec": {
   "display_name": "Julia 1.10.2",
   "language": "julia",
   "name": "julia-1.10"
  },
  "language_info": {
   "file_extension": ".jl",
   "mimetype": "application/julia",
   "name": "julia",
   "version": "1.10.2"
  }
 },
 "nbformat": 4,
 "nbformat_minor": 4
}
