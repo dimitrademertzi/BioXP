{
 "cells": [
  {
   "cell_type": "code",
   "execution_count": 18,
   "metadata": {},
   "outputs": [
    {
     "name": "stderr",
     "output_type": "stream",
     "text": [
      "\u001b[32m\u001b[1m  Activating\u001b[22m\u001b[39m project at `~/Macdocs/Master/Internship_JP/metnetexp/BioXP`\n"
     ]
    }
   ],
   "source": [
    "cd(joinpath(homedir(), \"Macdocs\", \"Master\", \"Internship_JP\", \"metnetexp\", \"BioXP\"))\n",
    "\n",
    "using Pkg\n",
    "Pkg.activate(joinpath(pwd(), \"Project.toml\"))\n",
    "\n",
    "using BioXP, ProgressMeter, BenchmarkTools, Profile, JSON"
   ]
  },
  {
   "cell_type": "code",
   "execution_count": 6,
   "metadata": {},
   "outputs": [],
   "source": [
    "using BioXP\n",
    "using ProgressMeter\n",
    "# using BenchmarkTools"
   ]
  },
  {
   "cell_type": "markdown",
   "metadata": {},
   "source": [
    "### Inputs"
   ]
  },
  {
   "cell_type": "code",
   "execution_count": 19,
   "metadata": {},
   "outputs": [],
   "source": [
    "input_dir = joinpath(pwd(),\"data\",\"input\", \"rids-methanogens\")\n",
    "seeds_dir = joinpath(pwd(),\"data\",\"input\",\"seeds\") \n",
    "\n",
    "rstructs_path = joinpath(pwd(),\"data\",\"input\",\"master_from_redges-og-submission.json\")\n",
    "\n",
    "seeds_path = joinpath(seeds_dir,\"encel_papers_2019.json\")\n",
    "targets_path = joinpath(seeds_dir, \"seeds.json\")\n",
    "\n",
    "sid_name = \"Contains KEGGID P\"\n",
    "#sid_name_removed_spaces = replace(sid_name, \" \" => \"_\")\n",
    "\n",
    "tid_name = \"targets_Freilich09\";\n",
    "\n",
    "## Path to write to\n",
    "# write_dir = joinpath(\"data\",\"output\",sid_name)\n",
    "write_dir = joinpath(pwd(), \"data\", \"output\", (replace(sid_name, \" \" => \"_\"))*\"-methanogens\")\n",
    "\n",
    "if !ispath(write_dir)\n",
    "    mkpath(write_dir)\n",
    "end\n"
   ]
  },
  {
   "cell_type": "code",
   "execution_count": 16,
   "metadata": {},
   "outputs": [
    {
     "name": "stdout",
     "output_type": "stream",
     "text": [
      "data/output/Contains_KEGGID_P-methanogens\n"
     ]
    }
   ],
   "source": [
    "## Organism JSONs from ecg (JGI)\n",
    "# input_dir = \"data/input/rids/\"\n",
    "input_dir = \"data/input/rids-methanogens/\"\n",
    "\n",
    "## Master file from ecg (with dgs added from `add_dgs_to_master` .py files)\n",
    "rstructs_path = \"data/input/rstructs/master_from_redges-og-submission.json\"\n",
    "\n",
    "## User defined seeds/targets\n",
    "seeds_path = \"data/input/seeds/encel_papers_2019.json\"\n",
    "targets_path = \"data/input/seeds/seeds.json\"\n",
    "sid_name = \"Contains_KEGGID_P\"\n",
    "tid_name = \"targets_Freilich09\";\n",
    "\n",
    "## Path to write to\n",
    "# write_dir = joinpath(\"data\",\"output\",sid_name)\n",
    "write_dir = joinpath(\"data\",\"output\",sid_name*\"-methanogens\")\n",
    "println(write_dir)\n",
    "# if !ispath(write_dir)\n",
    "#     mkpath(write_dir)\n",
    "# end"
   ]
  },
  {
   "cell_type": "markdown",
   "metadata": {},
   "source": [
    "### Run expansion"
   ]
  },
  {
   "cell_type": "markdown",
   "metadata": {},
   "source": [
    "Double check number of accessible threads"
   ]
  },
  {
   "cell_type": "code",
   "execution_count": null,
   "metadata": {},
   "outputs": [
    {
     "ename": "LoadError",
     "evalue": "UndefVarError: `JSON` not defined",
     "output_type": "error",
     "traceback": [
      "UndefVarError: `JSON` not defined",
      "",
      "Stacktrace:",
      " [1] top-level scope",
      "   @ In[1]:1"
     ]
    }
   ],
   "source": []
  },
  {
   "cell_type": "markdown",
   "metadata": {},
   "source": [
    "Looping such that seeds are logically assigned"
   ]
  },
  {
   "cell_type": "code",
   "execution_count": 21,
   "metadata": {},
   "outputs": [],
   "source": [
    "sids = readkeyedids(seeds_path)[sid_name]\n",
    "tids = readkeyedids(targets_path)[tid_name]\n",
    "rstructs = readmaster(rstructs_path)\n",
    "\n",
    "for path in readdir(input_dir)\n",
    "    \n",
    "    org_dir = joinpath(input_dir,path)\n",
    "    if isdir(org_dir) &  !startswith(path,\".\") \n",
    "        \n",
    "        if !ispath(joinpath(write_dir,path))\n",
    "            mkpath(joinpath(write_dir,path))\n",
    "        end\n",
    "        \n",
    "        p = Progress(length(readdir(org_dir)),desc=\"$path\")\n",
    "        \n",
    "        \n",
    "        Threads.@threads for (i,fname) in collect(enumerate(readdir(org_dir)))\n",
    "#             Random.seed!(seedoffset+i)\n",
    "            if !startswith(fname,\".\")\n",
    "\n",
    "\n",
    "                rids = readids(joinpath(org_dir,fname))\n",
    "                write_path = joinpath(write_dir,basename(org_dir),fname)\n",
    "                x, t, cids, X, Y = expand(rstructs,rids,sids,tids,write_path) ## new results\n",
    "                next!(p)\n",
    "\n",
    "            end\n",
    "        end\n",
    "    end\n",
    "end"
   ]
  },
  {
   "cell_type": "markdown",
   "metadata": {},
   "source": [
    "### Format output"
   ]
  },
  {
   "cell_type": "code",
   "execution_count": null,
   "metadata": {},
   "outputs": [],
   "source": [
    "simple_output_dir = write_dir #joinpath(\"data\",\"output\",sid_name)\n",
    "    \n",
    "for path in readdir(simple_output_dir)\n",
    "    org_dir = joinpath(simple_output_dir,path)\n",
    "    if !startswith(path,\".\") \n",
    "        formatbioxpoutput(org_dir)\n",
    "    end\n",
    "end"
   ]
  },
  {
   "cell_type": "code",
   "execution_count": null,
   "metadata": {},
   "outputs": [],
   "source": []
  }
 ],
 "metadata": {
  "kernelspec": {
   "display_name": "Julia 1.10.2",
   "language": "julia",
   "name": "julia-1.10"
  },
  "language_info": {
   "file_extension": ".jl",
   "mimetype": "application/julia",
   "name": "julia",
   "version": "1.10.2"
  }
 },
 "nbformat": 4,
 "nbformat_minor": 4
}
