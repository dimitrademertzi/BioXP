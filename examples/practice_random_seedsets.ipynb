{
 "cells": [
  {
   "cell_type": "markdown",
   "metadata": {},
   "source": [
    "### Basic expansion for different organisms"
   ]
  },
  {
   "cell_type": "markdown",
   "metadata": {},
   "source": [
    "Loading the necessary packages and setting the working directory."
   ]
  },
  {
   "cell_type": "code",
   "execution_count": 99,
   "metadata": {},
   "outputs": [
    {
     "name": "stderr",
     "output_type": "stream",
     "text": [
      "\u001b[32m\u001b[1m  Activating\u001b[22m\u001b[39m project at `~/Macdocs/Master/Internship_JP/metnetexp/BioXP`\n"
     ]
    }
   ],
   "source": [
    "cd(joinpath(homedir(), \"Macdocs\", \"Master\", \"Internship_JP\", \"metnetexp\", \"BioXP\"))\n",
    "\n",
    "using Pkg\n",
    "Pkg.activate(joinpath(pwd(), \"Project.toml\"))\n",
    "\n",
    "using BioXP, ProgressMeter, Random, JSON, InteractiveUtils\n"
   ]
  },
  {
   "cell_type": "markdown",
   "metadata": {},
   "source": [
    "Input directory structure, including to-be-used files"
   ]
  },
  {
   "cell_type": "code",
   "execution_count": 100,
   "metadata": {},
   "outputs": [],
   "source": [
    "#Directory/Folder/File name variables\n",
    "#Names\n",
    "organismtype = \"methanogens\"\n",
    "sidname = \"Enceladus_20-SAFR-032\"\n",
    "tidname = \"targets_Freilich09\"\n",
    "\n",
    "\n",
    "#Files\n",
    "rstructsfile = \"master_from_redges-og-submission.json\"\n",
    "seedsfile = \"seeds.json\"\n",
    "targetsfile = \"seeds.json\"\n",
    "\n",
    "#Folders\n",
    "ridsdir = \"rids-methanogens\"\n",
    "seedsdir = \"seeds\"\n",
    "targetsdir = \"targets\"\n",
    "compoundsdir = \"compounds\"\n",
    "\n",
    "\n",
    "#All directory paths. No need to change these unless the structure of the directories change\n",
    "inputdir = joinpath(pwd(),\"data\",\"input\")\n",
    "\n",
    "seedsdir = joinpath(inputdir, seedsdir)\n",
    "targetsdir = joinpath(inputdir, targetsdir)\n",
    "ridsdir = joinpath(inputdir, ridsdir)\n",
    "compoundsdir = joinpath(inputdir, compoundsdir)\n",
    "\n",
    "\n",
    "outputdir = joinpath(pwd(),\"data\",\"output\")\n",
    "writedir = joinpath(inputdir, \"sid_randomizations\", \"sidrand\"*\"_$organismtype\")\n",
    "\n",
    "#Creates writing directory, if it doesn't exist\n",
    "!ispath(writedir) && mkpath(writedir);\n",
    "\n",
    "#All file paths\n",
    "rstructspath = joinpath(inputdir, rstructsfile)\n",
    "seedspath = joinpath(seedsdir, seedsfile)\n",
    "targetspath = joinpath(seedsdir, targetsfile);"
   ]
  },
  {
   "cell_type": "markdown",
   "metadata": {},
   "source": [
    "Function to get and print directory and file paths"
   ]
  },
  {
   "cell_type": "code",
   "execution_count": 101,
   "metadata": {},
   "outputs": [
    {
     "data": {
      "text/plain": [
       "getandprintDirPaths (generic function with 1 method)"
      ]
     },
     "execution_count": 101,
     "metadata": {},
     "output_type": "execute_result"
    }
   ],
   "source": [
    "\"\"\"\n",
    "This function prints the directory and file paths \n",
    "that are used in the script, to check if they are correct\n",
    "Gets all the arguments in the Main module, \n",
    "filters for the ones that end with \"dir\" or \"path\"\n",
    "and prints them in a readable format\n",
    "\"\"\"\n",
    "\n",
    "function getandprintDirPaths()\n",
    "\n",
    "    vars_dict = Dict()\n",
    "\n",
    "    for var in names(Main)\n",
    "\n",
    "        #Checks if the variable is a directory or file path\n",
    "        if endswith(string(var), \"dir\") || endswith(string(var), \"path\")\n",
    "            \n",
    "    \n",
    "            if endswith(string(var), \"dir\") \n",
    "                tbprinted = join(split(eval(var), \"/\")[end-2:end], \"/\") \n",
    "                dict_key_end = \" Directory: \"\n",
    "                dict_key_beg = uppercasefirst(split(string(var), \"dir\")[1])\n",
    "            else\n",
    "                tbprinted = join(split(eval(var), \"/\")[end:end], \"/\")\n",
    "                dict_key_end = \" file path: \"\n",
    "                dict_key_beg = uppercasefirst(split(string(var), \"path\")[1])\n",
    "            end\n",
    "\n",
    "            vars_dict[dict_key_beg*dict_key_end] = tbprinted\n",
    "            \n",
    "        end\n",
    "    end\n",
    "\n",
    "    for key in keys(vars_dict)\n",
    "        println(key, vars_dict[key], \"\\n\")\n",
    "    end\n",
    "end\n",
    "\n"
   ]
  },
  {
   "cell_type": "markdown",
   "metadata": {},
   "source": [
    "Variable determination and \n",
    "seed set randomization"
   ]
  },
  {
   "cell_type": "code",
   "execution_count": 126,
   "metadata": {},
   "outputs": [
    {
     "ename": "LoadError",
     "evalue": "TypeError: in typeassert, expected AbstractRNG, got a value of type Int64",
     "output_type": "error",
     "traceback": [
      "TypeError: in typeassert, expected AbstractRNG, got a value of type Int64",
      "",
      "Stacktrace:",
      " [1] top-level scope",
      "   @ In[126]:10"
     ]
    }
   ],
   "source": [
    "#Get all the seed filepaths and filenames\n",
    "seed_filepaths = filter(x -> !startswith(x, \".\"), readdir(ridsdir, join=true))\n",
    "seed_filenames = filter(x -> !startswith(x, \".\"), readdir(ridsdir));\n",
    "\n",
    "#Create usable data structures from files based on parser functions\n",
    "sids = readkeyedids(seedspath)[sidname]\n",
    "tids = readkeyedids(targetspath)[tidname]\n",
    "\n",
    "rstructs = readmaster(rstructspath)\n",
    "compoundstructs = readcompounds(compoundsdir)\n",
    "\n",
    "\n",
    "#Set dict of arguments for the randomization compounds function\n",
    "rand_comp_args = Dict(\n",
    "    :compound_structs => compoundstructs :: Compounds,\n",
    "    :tids => tids :: IDs,\n",
    "    :n_runs => 100 :: Int64,\n",
    "    :n_swaps => 1000 :: Int64,\n",
    "    :beta => 20 :: Real,\n",
    "    :sortkey => :exact_mass :: Symbol,\n",
    "    :rng => MersenneTwister(1234)\n",
    ");\n",
    "\n",
    "#(;args...)"
   ]
  },
  {
   "cell_type": "code",
   "execution_count": 125,
   "metadata": {},
   "outputs": [
    {
     "ename": "LoadError",
     "evalue": "TaskFailedException\n\n\u001b[91m    nested task error: \u001b[39mMethodError: no method matching randomizecompounds(::Vector{String}; beta::Int64, n_swaps::Int64, n_runs::Int64, rng::Int64, tids::Vector{String}, sortkey::Symbol, compound_structs::Dict{String, Compound})\n    \n    \u001b[0mClosest candidates are:\n    \u001b[0m  randomizecompounds(::Vector{String}, \u001b[91m::Vector{String}\u001b[39m, \u001b[91m::Dict{String, Compound}\u001b[39m, \u001b[91m::Int64\u001b[39m, \u001b[91m::Int64\u001b[39m)\u001b[91m got unsupported keyword arguments \"beta\", \"n_swaps\", \"n_runs\", \"rng\", \"tids\", \"sortkey\", \"compound_structs\"\u001b[39m\n    \u001b[0m\u001b[90m   @\u001b[39m \u001b[35mBioXP\u001b[39m \u001b[90m~/Macdocs/Master/Internship_JP/metnetexp/BioXP/src/\u001b[39m\u001b[90m\u001b[4mrandomize.jl:128\u001b[24m\u001b[39m\n    \u001b[0m  randomizecompounds(::Vector{String}, \u001b[91m::Vector{String}\u001b[39m, \u001b[91m::Dict{String, Compound}\u001b[39m, \u001b[91m::Int64\u001b[39m)\u001b[91m got unsupported keyword arguments \"beta\", \"n_swaps\", \"n_runs\", \"rng\", \"tids\", \"sortkey\", \"compound_structs\"\u001b[39m\n    \u001b[0m\u001b[90m   @\u001b[39m \u001b[35mBioXP\u001b[39m \u001b[90m~/Macdocs/Master/Internship_JP/metnetexp/BioXP/src/\u001b[39m\u001b[90m\u001b[4mrandomize.jl:128\u001b[24m\u001b[39m\n    \u001b[0m  randomizecompounds(::Vector{String}, \u001b[91m::Vector{String}\u001b[39m, \u001b[91m::Dict{String, Compound}\u001b[39m, \u001b[91m::Int64\u001b[39m, \u001b[91m::Int64\u001b[39m, \u001b[91m::Real\u001b[39m, \u001b[91m::Symbol\u001b[39m, \u001b[91m::AbstractRNG\u001b[39m)\u001b[91m got unsupported keyword arguments \"beta\", \"n_swaps\", \"n_runs\", \"rng\", \"tids\", \"sortkey\", \"compound_structs\"\u001b[39m\n    \u001b[0m\u001b[90m   @\u001b[39m \u001b[35mBioXP\u001b[39m \u001b[90m~/Macdocs/Master/Internship_JP/metnetexp/BioXP/src/\u001b[39m\u001b[90m\u001b[4mrandomize.jl:128\u001b[24m\u001b[39m\n    \u001b[0m  ...\n    \n    Stacktrace:\n     [1] \u001b[0m\u001b[1mmacro expansion\u001b[22m\n    \u001b[90m   @\u001b[39m \u001b[90m./\u001b[39m\u001b[90m\u001b[4mIn[125]:10\u001b[24m\u001b[39m\u001b[90m [inlined]\u001b[39m\n     [2] \u001b[0m\u001b[1m(::var\"#184#threadsfor_fun#120\"{var\"#184#threadsfor_fun#119#121\"{Vector{Tuple{Int64, String}}}})\u001b[22m\u001b[0m\u001b[1m(\u001b[22m\u001b[90mtid\u001b[39m::\u001b[0mInt64; \u001b[90monethread\u001b[39m::\u001b[0mBool\u001b[0m\u001b[1m)\u001b[22m\n    \u001b[90m   @\u001b[39m \u001b[33mMain\u001b[39m \u001b[90m./\u001b[39m\u001b[90m\u001b[4mthreadingconstructs.jl:215\u001b[24m\u001b[39m\n     [3] \u001b[0m\u001b[1m#184#threadsfor_fun\u001b[22m\n    \u001b[90m   @\u001b[39m \u001b[90m./\u001b[39m\u001b[90m\u001b[4mthreadingconstructs.jl:182\u001b[24m\u001b[39m\u001b[90m [inlined]\u001b[39m\n     [4] \u001b[0m\u001b[1m(::Base.Threads.var\"#1#2\"{var\"#184#threadsfor_fun#120\"{var\"#184#threadsfor_fun#119#121\"{Vector{Tuple{Int64, String}}}}, Int64})\u001b[22m\u001b[0m\u001b[1m(\u001b[22m\u001b[0m\u001b[1m)\u001b[22m\n    \u001b[90m   @\u001b[39m \u001b[90mBase.Threads\u001b[39m \u001b[90m./\u001b[39m\u001b[90m\u001b[4mthreadingconstructs.jl:154\u001b[24m\u001b[39m",
     "output_type": "error",
     "traceback": [
      "TaskFailedException\n\n\u001b[91m    nested task error: \u001b[39mMethodError: no method matching randomizecompounds(::Vector{String}; beta::Int64, n_swaps::Int64, n_runs::Int64, rng::Int64, tids::Vector{String}, sortkey::Symbol, compound_structs::Dict{String, Compound})\n    \n    \u001b[0mClosest candidates are:\n    \u001b[0m  randomizecompounds(::Vector{String}, \u001b[91m::Vector{String}\u001b[39m, \u001b[91m::Dict{String, Compound}\u001b[39m, \u001b[91m::Int64\u001b[39m, \u001b[91m::Int64\u001b[39m)\u001b[91m got unsupported keyword arguments \"beta\", \"n_swaps\", \"n_runs\", \"rng\", \"tids\", \"sortkey\", \"compound_structs\"\u001b[39m\n    \u001b[0m\u001b[90m   @\u001b[39m \u001b[35mBioXP\u001b[39m \u001b[90m~/Macdocs/Master/Internship_JP/metnetexp/BioXP/src/\u001b[39m\u001b[90m\u001b[4mrandomize.jl:128\u001b[24m\u001b[39m\n    \u001b[0m  randomizecompounds(::Vector{String}, \u001b[91m::Vector{String}\u001b[39m, \u001b[91m::Dict{String, Compound}\u001b[39m, \u001b[91m::Int64\u001b[39m)\u001b[91m got unsupported keyword arguments \"beta\", \"n_swaps\", \"n_runs\", \"rng\", \"tids\", \"sortkey\", \"compound_structs\"\u001b[39m\n    \u001b[0m\u001b[90m   @\u001b[39m \u001b[35mBioXP\u001b[39m \u001b[90m~/Macdocs/Master/Internship_JP/metnetexp/BioXP/src/\u001b[39m\u001b[90m\u001b[4mrandomize.jl:128\u001b[24m\u001b[39m\n    \u001b[0m  randomizecompounds(::Vector{String}, \u001b[91m::Vector{String}\u001b[39m, \u001b[91m::Dict{String, Compound}\u001b[39m, \u001b[91m::Int64\u001b[39m, \u001b[91m::Int64\u001b[39m, \u001b[91m::Real\u001b[39m, \u001b[91m::Symbol\u001b[39m, \u001b[91m::AbstractRNG\u001b[39m)\u001b[91m got unsupported keyword arguments \"beta\", \"n_swaps\", \"n_runs\", \"rng\", \"tids\", \"sortkey\", \"compound_structs\"\u001b[39m\n    \u001b[0m\u001b[90m   @\u001b[39m \u001b[35mBioXP\u001b[39m \u001b[90m~/Macdocs/Master/Internship_JP/metnetexp/BioXP/src/\u001b[39m\u001b[90m\u001b[4mrandomize.jl:128\u001b[24m\u001b[39m\n    \u001b[0m  ...\n    \n    Stacktrace:\n     [1] \u001b[0m\u001b[1mmacro expansion\u001b[22m\n    \u001b[90m   @\u001b[39m \u001b[90m./\u001b[39m\u001b[90m\u001b[4mIn[125]:10\u001b[24m\u001b[39m\u001b[90m [inlined]\u001b[39m\n     [2] \u001b[0m\u001b[1m(::var\"#184#threadsfor_fun#120\"{var\"#184#threadsfor_fun#119#121\"{Vector{Tuple{Int64, String}}}})\u001b[22m\u001b[0m\u001b[1m(\u001b[22m\u001b[90mtid\u001b[39m::\u001b[0mInt64; \u001b[90monethread\u001b[39m::\u001b[0mBool\u001b[0m\u001b[1m)\u001b[22m\n    \u001b[90m   @\u001b[39m \u001b[33mMain\u001b[39m \u001b[90m./\u001b[39m\u001b[90m\u001b[4mthreadingconstructs.jl:215\u001b[24m\u001b[39m\n     [3] \u001b[0m\u001b[1m#184#threadsfor_fun\u001b[22m\n    \u001b[90m   @\u001b[39m \u001b[90m./\u001b[39m\u001b[90m\u001b[4mthreadingconstructs.jl:182\u001b[24m\u001b[39m\u001b[90m [inlined]\u001b[39m\n     [4] \u001b[0m\u001b[1m(::Base.Threads.var\"#1#2\"{var\"#184#threadsfor_fun#120\"{var\"#184#threadsfor_fun#119#121\"{Vector{Tuple{Int64, String}}}}, Int64})\u001b[22m\u001b[0m\u001b[1m(\u001b[22m\u001b[0m\u001b[1m)\u001b[22m\n    \u001b[90m   @\u001b[39m \u001b[90mBase.Threads\u001b[39m \u001b[90m./\u001b[39m\u001b[90m\u001b[4mthreadingconstructs.jl:154\u001b[24m\u001b[39m",
      "",
      "Stacktrace:",
      " [1] threading_run(fun::var\"#184#threadsfor_fun#120\"{var\"#184#threadsfor_fun#119#121\"{Vector{Tuple{Int64, String}}}}, static::Bool)",
      "   @ Base.Threads ./threadingconstructs.jl:172",
      " [2] macro expansion",
      "   @ ./threadingconstructs.jl:220 [inlined]",
      " [3] top-level scope",
      "   @ ./In[125]:2"
     ]
    }
   ],
   "source": [
    "#Running the actual generation of random seed sets\n",
    "Threads.@threads for (i, file_name) in collect(enumerate(seed_filenames))\n",
    "\n",
    "    p = Progress(length(file_name), desc=file_name)\n",
    "\n",
    "    cids = BioXP.identify_biosystem_compounds(rstructs, BioXP.remove_rids_not_in_rstructs(rstructs, readids(seed_filepaths[i])))\n",
    "\n",
    "\n",
    "\n",
    "    rand_seed_sets = randomizecompounds(cids; rand_comp_args...)\n",
    "    \n",
    "    # open(joinpath(writedir, seed_filenames[i]), \"w\") do f\n",
    "    #     JSON.print(f, random_seed_sets, 2)\n",
    "    # end\n",
    "\n",
    "    # next!(p)\n",
    "\n",
    "end"
   ]
  },
  {
   "cell_type": "code",
   "execution_count": 51,
   "metadata": {},
   "outputs": [
    {
     "name": "stdout",
     "output_type": "stream",
     "text": [
      "i: 1\t Thread ID: 1\n"
     ]
    }
   ],
   "source": [
    "# for i in 1:Threads.nthreads()\n",
    "#     println(\"i: \", i, \"\\t Thread ID: \", Threads.threadid()) \n",
    "# end"
   ]
  },
  {
   "cell_type": "markdown",
   "metadata": {},
   "source": []
  }
 ],
 "metadata": {
  "kernelspec": {
   "display_name": "Julia 1.10.2",
   "language": "julia",
   "name": "julia-1.10"
  },
  "language_info": {
   "file_extension": ".jl",
   "mimetype": "application/julia",
   "name": "julia",
   "version": "1.10.2"
  }
 },
 "nbformat": 4,
 "nbformat_minor": 4
}
