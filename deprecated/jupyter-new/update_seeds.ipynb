{
 "cells": [
  {
   "cell_type": "markdown",
   "metadata": {},
   "source": [
    "## This script formats the magee_plus.csv file such that it can be read into BioXP for seeds"
   ]
  },
  {
   "cell_type": "code",
   "execution_count": 1,
   "metadata": {},
   "outputs": [],
   "source": [
    "import pandas as pd\n",
    "import seaborn as sns\n",
    "import matplotlib.pyplot as plt\n",
    "\n",
    "%matplotlib inline"
   ]
  },
  {
   "cell_type": "code",
   "execution_count": 161,
   "metadata": {},
   "outputs": [],
   "source": [
    "import collections\n",
    "import copy\n",
    "import json"
   ]
  },
  {
   "cell_type": "code",
   "execution_count": 2,
   "metadata": {},
   "outputs": [],
   "source": [
    "df = pd.read_csv(\"../data/seeds/magee_plus.csv\")"
   ]
  },
  {
   "cell_type": "code",
   "execution_count": 4,
   "metadata": {},
   "outputs": [
    {
     "data": {
      "text/plain": [
       "Species                object\n",
       "Other names            object\n",
       "KEGG ID                object\n",
       "Waite 2009            float64\n",
       "Magee 2017 LPSC       float64\n",
       "Postberg 2018         float64\n",
       "Waite 2017            float64\n",
       "Postberg 2009         float64\n",
       "Contains reactions      int64\n",
       "dtype: object"
      ]
     },
     "execution_count": 4,
     "metadata": {},
     "output_type": "execute_result"
    }
   ],
   "source": [
    "df.dtypes"
   ]
  },
  {
   "cell_type": "code",
   "execution_count": 12,
   "metadata": {},
   "outputs": [],
   "source": [
    "df = df.fillna(0)"
   ]
  },
  {
   "cell_type": "markdown",
   "metadata": {},
   "source": [
    "### Convert all elements to int 0 or 1"
   ]
  },
  {
   "cell_type": "code",
   "execution_count": 13,
   "metadata": {},
   "outputs": [],
   "source": [
    "cols_to_convert = [\"Waite 2009\",\"Magee 2017 LPSC\",\"Postberg 2018\",\"Waite 2017\",\"Postberg 2009\"]"
   ]
  },
  {
   "cell_type": "code",
   "execution_count": 14,
   "metadata": {},
   "outputs": [],
   "source": [
    "col_types = {}\n",
    "for col in cols_to_convert:\n",
    "    col_types[col] = \"int64\""
   ]
  },
  {
   "cell_type": "code",
   "execution_count": 36,
   "metadata": {},
   "outputs": [
    {
     "data": {
      "text/html": [
       "<div>\n",
       "<style scoped>\n",
       "    .dataframe tbody tr th:only-of-type {\n",
       "        vertical-align: middle;\n",
       "    }\n",
       "\n",
       "    .dataframe tbody tr th {\n",
       "        vertical-align: top;\n",
       "    }\n",
       "\n",
       "    .dataframe thead th {\n",
       "        text-align: right;\n",
       "    }\n",
       "</style>\n",
       "<table border=\"1\" class=\"dataframe\">\n",
       "  <thead>\n",
       "    <tr style=\"text-align: right;\">\n",
       "      <th></th>\n",
       "      <th>Species</th>\n",
       "      <th>Other names</th>\n",
       "      <th>KEGG ID</th>\n",
       "      <th>Waite 2009</th>\n",
       "      <th>Magee 2017 LPSC</th>\n",
       "      <th>Postberg 2018</th>\n",
       "      <th>Waite 2017</th>\n",
       "      <th>Postberg 2009</th>\n",
       "      <th>Contains reactions</th>\n",
       "    </tr>\n",
       "  </thead>\n",
       "  <tbody>\n",
       "    <tr>\n",
       "      <th>0</th>\n",
       "      <td>H2O</td>\n",
       "      <td>water</td>\n",
       "      <td>C00001</td>\n",
       "      <td>1.0</td>\n",
       "      <td>1.0</td>\n",
       "      <td>1.0</td>\n",
       "      <td>1.0</td>\n",
       "      <td>1.0</td>\n",
       "      <td>1</td>\n",
       "    </tr>\n",
       "    <tr>\n",
       "      <th>1</th>\n",
       "      <td>CO2</td>\n",
       "      <td>carbon dioxide</td>\n",
       "      <td>C00011</td>\n",
       "      <td>1.0</td>\n",
       "      <td>1.0</td>\n",
       "      <td>1.0</td>\n",
       "      <td>1.0</td>\n",
       "      <td>1.0</td>\n",
       "      <td>1</td>\n",
       "    </tr>\n",
       "    <tr>\n",
       "      <th>2</th>\n",
       "      <td>CH4</td>\n",
       "      <td>methane</td>\n",
       "      <td>C01438</td>\n",
       "      <td>1.0</td>\n",
       "      <td>1.0</td>\n",
       "      <td>1.0</td>\n",
       "      <td>1.0</td>\n",
       "      <td>1.0</td>\n",
       "      <td>1</td>\n",
       "    </tr>\n",
       "    <tr>\n",
       "      <th>3</th>\n",
       "      <td>NH3</td>\n",
       "      <td>ammonia</td>\n",
       "      <td>C00014</td>\n",
       "      <td>1.0</td>\n",
       "      <td>1.0</td>\n",
       "      <td>1.0</td>\n",
       "      <td>1.0</td>\n",
       "      <td>0.0</td>\n",
       "      <td>1</td>\n",
       "    </tr>\n",
       "    <tr>\n",
       "      <th>4</th>\n",
       "      <td>H2</td>\n",
       "      <td>hydrogen</td>\n",
       "      <td>C00282</td>\n",
       "      <td>1.0</td>\n",
       "      <td>1.0</td>\n",
       "      <td>1.0</td>\n",
       "      <td>1.0</td>\n",
       "      <td>0.0</td>\n",
       "      <td>1</td>\n",
       "    </tr>\n",
       "    <tr>\n",
       "      <th>...</th>\n",
       "      <td>...</td>\n",
       "      <td>...</td>\n",
       "      <td>...</td>\n",
       "      <td>...</td>\n",
       "      <td>...</td>\n",
       "      <td>...</td>\n",
       "      <td>...</td>\n",
       "      <td>...</td>\n",
       "      <td>...</td>\n",
       "    </tr>\n",
       "    <tr>\n",
       "      <th>64</th>\n",
       "      <td>SiO2</td>\n",
       "      <td>silica</td>\n",
       "      <td>C19572</td>\n",
       "      <td>0.0</td>\n",
       "      <td>0.0</td>\n",
       "      <td>0.0</td>\n",
       "      <td>1.0</td>\n",
       "      <td>0.0</td>\n",
       "      <td>0</td>\n",
       "    </tr>\n",
       "    <tr>\n",
       "      <th>65</th>\n",
       "      <td>H2O2</td>\n",
       "      <td>hydrogen peroxide</td>\n",
       "      <td>C00027</td>\n",
       "      <td>0.0</td>\n",
       "      <td>0.0</td>\n",
       "      <td>0.0</td>\n",
       "      <td>1.0</td>\n",
       "      <td>0.0</td>\n",
       "      <td>1</td>\n",
       "    </tr>\n",
       "    <tr>\n",
       "      <th>66</th>\n",
       "      <td>OH-</td>\n",
       "      <td>hydroxide ion</td>\n",
       "      <td>C01328</td>\n",
       "      <td>0.0</td>\n",
       "      <td>0.0</td>\n",
       "      <td>0.0</td>\n",
       "      <td>1.0</td>\n",
       "      <td>0.0</td>\n",
       "      <td>1</td>\n",
       "    </tr>\n",
       "    <tr>\n",
       "      <th>67</th>\n",
       "      <td>C2H3N</td>\n",
       "      <td>Acetonitrile</td>\n",
       "      <td>0</td>\n",
       "      <td>0.0</td>\n",
       "      <td>0.0</td>\n",
       "      <td>0.0</td>\n",
       "      <td>0.0</td>\n",
       "      <td>0.0</td>\n",
       "      <td>0</td>\n",
       "    </tr>\n",
       "    <tr>\n",
       "      <th>68</th>\n",
       "      <td>C2H3+</td>\n",
       "      <td>Ethylenyl</td>\n",
       "      <td>0</td>\n",
       "      <td>0.0</td>\n",
       "      <td>0.0</td>\n",
       "      <td>1.0</td>\n",
       "      <td>0.0</td>\n",
       "      <td>0.0</td>\n",
       "      <td>0</td>\n",
       "    </tr>\n",
       "  </tbody>\n",
       "</table>\n",
       "<p>69 rows × 9 columns</p>\n",
       "</div>"
      ],
      "text/plain": [
       "   Species        Other names KEGG ID  Waite 2009  Magee 2017 LPSC  \\\n",
       "0      H2O              water  C00001         1.0              1.0   \n",
       "1      CO2     carbon dioxide  C00011         1.0              1.0   \n",
       "2      CH4            methane  C01438         1.0              1.0   \n",
       "3      NH3            ammonia  C00014         1.0              1.0   \n",
       "4       H2           hydrogen  C00282         1.0              1.0   \n",
       "..     ...                ...     ...         ...              ...   \n",
       "64    SiO2             silica  C19572         0.0              0.0   \n",
       "65    H2O2  hydrogen peroxide  C00027         0.0              0.0   \n",
       "66     OH-      hydroxide ion  C01328         0.0              0.0   \n",
       "67   C2H3N       Acetonitrile       0         0.0              0.0   \n",
       "68   C2H3+          Ethylenyl       0         0.0              0.0   \n",
       "\n",
       "    Postberg 2018  Waite 2017  Postberg 2009  Contains reactions  \n",
       "0             1.0         1.0            1.0                   1  \n",
       "1             1.0         1.0            1.0                   1  \n",
       "2             1.0         1.0            1.0                   1  \n",
       "3             1.0         1.0            0.0                   1  \n",
       "4             1.0         1.0            0.0                   1  \n",
       "..            ...         ...            ...                 ...  \n",
       "64            0.0         1.0            0.0                   0  \n",
       "65            0.0         1.0            0.0                   1  \n",
       "66            0.0         1.0            0.0                   1  \n",
       "67            0.0         0.0            0.0                   0  \n",
       "68            1.0         0.0            0.0                   0  \n",
       "\n",
       "[69 rows x 9 columns]"
      ]
     },
     "execution_count": 36,
     "metadata": {},
     "output_type": "execute_result"
    }
   ],
   "source": [
    "df"
   ]
  },
  {
   "cell_type": "code",
   "execution_count": 29,
   "metadata": {},
   "outputs": [
    {
     "data": {
      "text/plain": [
       "68"
      ]
     },
     "execution_count": 29,
     "metadata": {},
     "output_type": "execute_result"
    }
   ],
   "source": [
    "len(set(df[\"Species\"]))"
   ]
  },
  {
   "cell_type": "code",
   "execution_count": 30,
   "metadata": {},
   "outputs": [
    {
     "data": {
      "text/plain": [
       "69"
      ]
     },
     "execution_count": 30,
     "metadata": {},
     "output_type": "execute_result"
    }
   ],
   "source": [
    "len(list(df[\"Species\"]))"
   ]
  },
  {
   "cell_type": "code",
   "execution_count": 35,
   "metadata": {
    "collapsed": true,
    "jupyter": {
     "outputs_hidden": true
    }
   },
   "outputs": [
    {
     "data": {
      "text/plain": [
       "Counter({'H2O': 1,\n",
       "         'CO2': 1,\n",
       "         'CH4': 1,\n",
       "         'NH3': 1,\n",
       "         'H2': 1,\n",
       "         'CO': 1,\n",
       "         'N2': 1,\n",
       "         'C2H2': 1,\n",
       "         'HCN': 1,\n",
       "         'C2H4': 1,\n",
       "         'CH2O': 1,\n",
       "         'C2H6': 1,\n",
       "         'NO': 1,\n",
       "         'C3H4': 1,\n",
       "         'CH5N': 1,\n",
       "         'C3H6': 1,\n",
       "         'C2H3N': 2,\n",
       "         'C3H8': 1,\n",
       "         'C2H7N': 1,\n",
       "         'C4H8': 1,\n",
       "         'C2H6N2': 1,\n",
       "         'C4H10': 1,\n",
       "         'C4H9N': 1,\n",
       "         'C5H10': 1,\n",
       "         'C4H8N2': 1,\n",
       "         'C5H12': 1,\n",
       "         'C6H12N4': 1,\n",
       "         'C8H18': 1,\n",
       "         'O2': 1,\n",
       "         'C2H7NO': 1,\n",
       "         'CH3OH': 1,\n",
       "         'C2H5NO2': 1,\n",
       "         'C2H2O': 1,\n",
       "         'C3H7NO2': 1,\n",
       "         'C2H4O': 1,\n",
       "         'C2H6O': 1,\n",
       "         'C3H6O': 1,\n",
       "         'C3H8O': 1,\n",
       "         'C2H4O2': 1,\n",
       "         'Ar': 1,\n",
       "         'C2H6O2': 1,\n",
       "         'H2S': 1,\n",
       "         'C4H10O': 1,\n",
       "         'PH3': 1,\n",
       "         'C4H6O2': 1,\n",
       "         'C3H5Cl': 1,\n",
       "         '(C2H4)n': 1,\n",
       "         'C6H6': 1,\n",
       "         'H3PO4': 1,\n",
       "         'Na+': 1,\n",
       "         'K+': 1,\n",
       "         'NaCl': 1,\n",
       "         'HCO3-': 1,\n",
       "         'H2CO3 (indirect)': 1,\n",
       "         'CO32-': 1,\n",
       "         'NaHCO3': 1,\n",
       "         'Na2CO3': 1,\n",
       "         'NaOH (indirect)': 1,\n",
       "         'KCL': 1,\n",
       "         'KHCO3': 1,\n",
       "         'K2CO3': 1,\n",
       "         'KOH (indirect)': 1,\n",
       "         'He': 1,\n",
       "         'MgO': 1,\n",
       "         'SiO2': 1,\n",
       "         'H2O2': 1,\n",
       "         'OH-': 1,\n",
       "         'C2H3+': 1})"
      ]
     },
     "execution_count": 35,
     "metadata": {},
     "output_type": "execute_result"
    }
   ],
   "source": [
    "collections.Counter(list(df[\"Species\"]))"
   ]
  },
  {
   "cell_type": "markdown",
   "metadata": {},
   "source": [
    "Need to remove bottom acetonitrile"
   ]
  },
  {
   "cell_type": "code",
   "execution_count": 39,
   "metadata": {},
   "outputs": [],
   "source": [
    "df = df.drop(axis=\"index\",labels=67)"
   ]
  },
  {
   "cell_type": "code",
   "execution_count": 41,
   "metadata": {},
   "outputs": [],
   "source": [
    "d = df.set_index(\"Species\").to_dict(\"index\")"
   ]
  },
  {
   "cell_type": "markdown",
   "metadata": {},
   "source": [
    "Add column for Contains KEGGID"
   ]
  },
  {
   "cell_type": "code",
   "execution_count": 104,
   "metadata": {},
   "outputs": [],
   "source": [
    "def contains_kegg(keggid):\n",
    "    if keggid==\"0\":\n",
    "        return 0\n",
    "    else:\n",
    "        return 1"
   ]
  },
  {
   "cell_type": "code",
   "execution_count": 105,
   "metadata": {},
   "outputs": [],
   "source": [
    "df['Contains KEGGID'] = df.apply(lambda row: contains_kegg(row['KEGG ID']), axis=1)"
   ]
  },
  {
   "cell_type": "code",
   "execution_count": 111,
   "metadata": {},
   "outputs": [
    {
     "data": {
      "text/html": [
       "<div>\n",
       "<style scoped>\n",
       "    .dataframe tbody tr th:only-of-type {\n",
       "        vertical-align: middle;\n",
       "    }\n",
       "\n",
       "    .dataframe tbody tr th {\n",
       "        vertical-align: top;\n",
       "    }\n",
       "\n",
       "    .dataframe thead th {\n",
       "        text-align: right;\n",
       "    }\n",
       "</style>\n",
       "<table border=\"1\" class=\"dataframe\">\n",
       "  <thead>\n",
       "    <tr style=\"text-align: right;\">\n",
       "      <th></th>\n",
       "      <th>Species</th>\n",
       "      <th>Other names</th>\n",
       "      <th>KEGG ID</th>\n",
       "      <th>Waite 2009</th>\n",
       "      <th>Magee 2017 LPSC</th>\n",
       "      <th>Postberg 2018</th>\n",
       "      <th>Waite 2017</th>\n",
       "      <th>Postberg 2009</th>\n",
       "      <th>Contains reactions</th>\n",
       "      <th>Contains KEGGID</th>\n",
       "    </tr>\n",
       "  </thead>\n",
       "  <tbody>\n",
       "    <tr>\n",
       "      <th>0</th>\n",
       "      <td>H2O</td>\n",
       "      <td>water</td>\n",
       "      <td>C00001</td>\n",
       "      <td>1.0</td>\n",
       "      <td>1.0</td>\n",
       "      <td>1.0</td>\n",
       "      <td>1.0</td>\n",
       "      <td>1.0</td>\n",
       "      <td>1</td>\n",
       "      <td>1</td>\n",
       "    </tr>\n",
       "    <tr>\n",
       "      <th>1</th>\n",
       "      <td>CO2</td>\n",
       "      <td>carbon dioxide</td>\n",
       "      <td>C00011</td>\n",
       "      <td>1.0</td>\n",
       "      <td>1.0</td>\n",
       "      <td>1.0</td>\n",
       "      <td>1.0</td>\n",
       "      <td>1.0</td>\n",
       "      <td>1</td>\n",
       "      <td>1</td>\n",
       "    </tr>\n",
       "    <tr>\n",
       "      <th>2</th>\n",
       "      <td>CH4</td>\n",
       "      <td>methane</td>\n",
       "      <td>C01438</td>\n",
       "      <td>1.0</td>\n",
       "      <td>1.0</td>\n",
       "      <td>1.0</td>\n",
       "      <td>1.0</td>\n",
       "      <td>1.0</td>\n",
       "      <td>1</td>\n",
       "      <td>1</td>\n",
       "    </tr>\n",
       "    <tr>\n",
       "      <th>3</th>\n",
       "      <td>NH3</td>\n",
       "      <td>ammonia</td>\n",
       "      <td>C00014</td>\n",
       "      <td>1.0</td>\n",
       "      <td>1.0</td>\n",
       "      <td>1.0</td>\n",
       "      <td>1.0</td>\n",
       "      <td>0.0</td>\n",
       "      <td>1</td>\n",
       "      <td>1</td>\n",
       "    </tr>\n",
       "    <tr>\n",
       "      <th>4</th>\n",
       "      <td>H2</td>\n",
       "      <td>hydrogen</td>\n",
       "      <td>C00282</td>\n",
       "      <td>1.0</td>\n",
       "      <td>1.0</td>\n",
       "      <td>1.0</td>\n",
       "      <td>1.0</td>\n",
       "      <td>0.0</td>\n",
       "      <td>1</td>\n",
       "      <td>1</td>\n",
       "    </tr>\n",
       "  </tbody>\n",
       "</table>\n",
       "</div>"
      ],
      "text/plain": [
       "  Species     Other names KEGG ID  Waite 2009  Magee 2017 LPSC  Postberg 2018  \\\n",
       "0     H2O           water  C00001         1.0              1.0            1.0   \n",
       "1     CO2  carbon dioxide  C00011         1.0              1.0            1.0   \n",
       "2     CH4         methane  C01438         1.0              1.0            1.0   \n",
       "3     NH3         ammonia  C00014         1.0              1.0            1.0   \n",
       "4      H2        hydrogen  C00282         1.0              1.0            1.0   \n",
       "\n",
       "   Waite 2017  Postberg 2009  Contains reactions  Contains KEGGID  \n",
       "0         1.0            1.0                   1                1  \n",
       "1         1.0            1.0                   1                1  \n",
       "2         1.0            1.0                   1                1  \n",
       "3         1.0            0.0                   1                1  \n",
       "4         1.0            0.0                   1                1  "
      ]
     },
     "execution_count": 111,
     "metadata": {},
     "output_type": "execute_result"
    }
   ],
   "source": [
    "df.head()"
   ]
  },
  {
   "cell_type": "markdown",
   "metadata": {},
   "source": [
    "Add column for union if Contains KEGGID"
   ]
  },
  {
   "cell_type": "code",
   "execution_count": 114,
   "metadata": {},
   "outputs": [],
   "source": [
    "def unify_papers(row,sources):\n",
    "    if row[\"Contains KEGGID\"] == 1:\n",
    "        for source in sources:\n",
    "            if row[source] == 1:\n",
    "                return 1\n",
    "    return 0        "
   ]
  },
  {
   "cell_type": "code",
   "execution_count": 115,
   "metadata": {},
   "outputs": [],
   "source": [
    "df['Appears with KEGGID'] = df.apply(lambda row: unify_papers(row,sources), axis=1)"
   ]
  },
  {
   "cell_type": "code",
   "execution_count": 117,
   "metadata": {},
   "outputs": [
    {
     "data": {
      "text/html": [
       "<div>\n",
       "<style scoped>\n",
       "    .dataframe tbody tr th:only-of-type {\n",
       "        vertical-align: middle;\n",
       "    }\n",
       "\n",
       "    .dataframe tbody tr th {\n",
       "        vertical-align: top;\n",
       "    }\n",
       "\n",
       "    .dataframe thead th {\n",
       "        text-align: right;\n",
       "    }\n",
       "</style>\n",
       "<table border=\"1\" class=\"dataframe\">\n",
       "  <thead>\n",
       "    <tr style=\"text-align: right;\">\n",
       "      <th></th>\n",
       "      <th>Species</th>\n",
       "      <th>Other names</th>\n",
       "      <th>KEGG ID</th>\n",
       "      <th>Waite 2009</th>\n",
       "      <th>Magee 2017 LPSC</th>\n",
       "      <th>Postberg 2018</th>\n",
       "      <th>Waite 2017</th>\n",
       "      <th>Postberg 2009</th>\n",
       "      <th>Contains reactions</th>\n",
       "      <th>Contains KEGGID</th>\n",
       "      <th>Appears with KEGGID</th>\n",
       "    </tr>\n",
       "  </thead>\n",
       "  <tbody>\n",
       "    <tr>\n",
       "      <th>0</th>\n",
       "      <td>H2O</td>\n",
       "      <td>water</td>\n",
       "      <td>C00001</td>\n",
       "      <td>1.0</td>\n",
       "      <td>1.0</td>\n",
       "      <td>1.0</td>\n",
       "      <td>1.0</td>\n",
       "      <td>1.0</td>\n",
       "      <td>1</td>\n",
       "      <td>1</td>\n",
       "      <td>1</td>\n",
       "    </tr>\n",
       "    <tr>\n",
       "      <th>1</th>\n",
       "      <td>CO2</td>\n",
       "      <td>carbon dioxide</td>\n",
       "      <td>C00011</td>\n",
       "      <td>1.0</td>\n",
       "      <td>1.0</td>\n",
       "      <td>1.0</td>\n",
       "      <td>1.0</td>\n",
       "      <td>1.0</td>\n",
       "      <td>1</td>\n",
       "      <td>1</td>\n",
       "      <td>1</td>\n",
       "    </tr>\n",
       "    <tr>\n",
       "      <th>2</th>\n",
       "      <td>CH4</td>\n",
       "      <td>methane</td>\n",
       "      <td>C01438</td>\n",
       "      <td>1.0</td>\n",
       "      <td>1.0</td>\n",
       "      <td>1.0</td>\n",
       "      <td>1.0</td>\n",
       "      <td>1.0</td>\n",
       "      <td>1</td>\n",
       "      <td>1</td>\n",
       "      <td>1</td>\n",
       "    </tr>\n",
       "    <tr>\n",
       "      <th>3</th>\n",
       "      <td>NH3</td>\n",
       "      <td>ammonia</td>\n",
       "      <td>C00014</td>\n",
       "      <td>1.0</td>\n",
       "      <td>1.0</td>\n",
       "      <td>1.0</td>\n",
       "      <td>1.0</td>\n",
       "      <td>0.0</td>\n",
       "      <td>1</td>\n",
       "      <td>1</td>\n",
       "      <td>1</td>\n",
       "    </tr>\n",
       "    <tr>\n",
       "      <th>4</th>\n",
       "      <td>H2</td>\n",
       "      <td>hydrogen</td>\n",
       "      <td>C00282</td>\n",
       "      <td>1.0</td>\n",
       "      <td>1.0</td>\n",
       "      <td>1.0</td>\n",
       "      <td>1.0</td>\n",
       "      <td>0.0</td>\n",
       "      <td>1</td>\n",
       "      <td>1</td>\n",
       "      <td>1</td>\n",
       "    </tr>\n",
       "    <tr>\n",
       "      <th>...</th>\n",
       "      <td>...</td>\n",
       "      <td>...</td>\n",
       "      <td>...</td>\n",
       "      <td>...</td>\n",
       "      <td>...</td>\n",
       "      <td>...</td>\n",
       "      <td>...</td>\n",
       "      <td>...</td>\n",
       "      <td>...</td>\n",
       "      <td>...</td>\n",
       "      <td>...</td>\n",
       "    </tr>\n",
       "    <tr>\n",
       "      <th>63</th>\n",
       "      <td>MgO</td>\n",
       "      <td>magnesium oxide</td>\n",
       "      <td>C12567</td>\n",
       "      <td>0.0</td>\n",
       "      <td>0.0</td>\n",
       "      <td>0.0</td>\n",
       "      <td>1.0</td>\n",
       "      <td>0.0</td>\n",
       "      <td>0</td>\n",
       "      <td>1</td>\n",
       "      <td>1</td>\n",
       "    </tr>\n",
       "    <tr>\n",
       "      <th>64</th>\n",
       "      <td>SiO2</td>\n",
       "      <td>silica</td>\n",
       "      <td>C19572</td>\n",
       "      <td>0.0</td>\n",
       "      <td>0.0</td>\n",
       "      <td>0.0</td>\n",
       "      <td>1.0</td>\n",
       "      <td>0.0</td>\n",
       "      <td>0</td>\n",
       "      <td>1</td>\n",
       "      <td>1</td>\n",
       "    </tr>\n",
       "    <tr>\n",
       "      <th>65</th>\n",
       "      <td>H2O2</td>\n",
       "      <td>hydrogen peroxide</td>\n",
       "      <td>C00027</td>\n",
       "      <td>0.0</td>\n",
       "      <td>0.0</td>\n",
       "      <td>0.0</td>\n",
       "      <td>1.0</td>\n",
       "      <td>0.0</td>\n",
       "      <td>1</td>\n",
       "      <td>1</td>\n",
       "      <td>1</td>\n",
       "    </tr>\n",
       "    <tr>\n",
       "      <th>66</th>\n",
       "      <td>OH-</td>\n",
       "      <td>hydroxide ion</td>\n",
       "      <td>C01328</td>\n",
       "      <td>0.0</td>\n",
       "      <td>0.0</td>\n",
       "      <td>0.0</td>\n",
       "      <td>1.0</td>\n",
       "      <td>0.0</td>\n",
       "      <td>1</td>\n",
       "      <td>1</td>\n",
       "      <td>1</td>\n",
       "    </tr>\n",
       "    <tr>\n",
       "      <th>68</th>\n",
       "      <td>C2H3+</td>\n",
       "      <td>Ethylenyl</td>\n",
       "      <td>0</td>\n",
       "      <td>0.0</td>\n",
       "      <td>0.0</td>\n",
       "      <td>1.0</td>\n",
       "      <td>0.0</td>\n",
       "      <td>0.0</td>\n",
       "      <td>0</td>\n",
       "      <td>0</td>\n",
       "      <td>0</td>\n",
       "    </tr>\n",
       "  </tbody>\n",
       "</table>\n",
       "<p>68 rows × 11 columns</p>\n",
       "</div>"
      ],
      "text/plain": [
       "   Species        Other names KEGG ID  Waite 2009  Magee 2017 LPSC  \\\n",
       "0      H2O              water  C00001         1.0              1.0   \n",
       "1      CO2     carbon dioxide  C00011         1.0              1.0   \n",
       "2      CH4            methane  C01438         1.0              1.0   \n",
       "3      NH3            ammonia  C00014         1.0              1.0   \n",
       "4       H2           hydrogen  C00282         1.0              1.0   \n",
       "..     ...                ...     ...         ...              ...   \n",
       "63     MgO    magnesium oxide  C12567         0.0              0.0   \n",
       "64    SiO2             silica  C19572         0.0              0.0   \n",
       "65    H2O2  hydrogen peroxide  C00027         0.0              0.0   \n",
       "66     OH-      hydroxide ion  C01328         0.0              0.0   \n",
       "68   C2H3+          Ethylenyl       0         0.0              0.0   \n",
       "\n",
       "    Postberg 2018  Waite 2017  Postberg 2009  Contains reactions  \\\n",
       "0             1.0         1.0            1.0                   1   \n",
       "1             1.0         1.0            1.0                   1   \n",
       "2             1.0         1.0            1.0                   1   \n",
       "3             1.0         1.0            0.0                   1   \n",
       "4             1.0         1.0            0.0                   1   \n",
       "..            ...         ...            ...                 ...   \n",
       "63            0.0         1.0            0.0                   0   \n",
       "64            0.0         1.0            0.0                   0   \n",
       "65            0.0         1.0            0.0                   1   \n",
       "66            0.0         1.0            0.0                   1   \n",
       "68            1.0         0.0            0.0                   0   \n",
       "\n",
       "    Contains KEGGID  Appears with KEGGID  \n",
       "0                 1                    1  \n",
       "1                 1                    1  \n",
       "2                 1                    1  \n",
       "3                 1                    1  \n",
       "4                 1                    1  \n",
       "..              ...                  ...  \n",
       "63                1                    1  \n",
       "64                1                    1  \n",
       "65                1                    1  \n",
       "66                1                    1  \n",
       "68                0                    0  \n",
       "\n",
       "[68 rows x 11 columns]"
      ]
     },
     "execution_count": 117,
     "metadata": {},
     "output_type": "execute_result"
    }
   ],
   "source": [
    "df"
   ]
  },
  {
   "cell_type": "markdown",
   "metadata": {},
   "source": [
    "Now I can start manipulating dict to check for how many compounds are shared between all papers, how many overlap with submitted version, how many have KEGG IDs, how many have reactions, etc..."
   ]
  },
  {
   "cell_type": "code",
   "execution_count": 107,
   "metadata": {},
   "outputs": [],
   "source": [
    "sources = ['Waite 2009',\n",
    "  'Magee 2017 LPSC',\n",
    "  'Postberg 2018',\n",
    "  'Waite 2017',\n",
    "  'Postberg 2009']"
   ]
  },
  {
   "cell_type": "code",
   "execution_count": 108,
   "metadata": {},
   "outputs": [],
   "source": [
    "sources_with_reactions = list(sources+[\"Contains reactions\"])"
   ]
  },
  {
   "cell_type": "code",
   "execution_count": 109,
   "metadata": {},
   "outputs": [],
   "source": [
    "sources_with_keggids = list(sources_with_reactions+[\"Contains KEGGID\"])"
   ]
  },
  {
   "cell_type": "code",
   "execution_count": 118,
   "metadata": {},
   "outputs": [],
   "source": [
    "sources_with_appears = list(sources_with_keggids+[\"Appears with KEGGID\"])"
   ]
  },
  {
   "cell_type": "code",
   "execution_count": 119,
   "metadata": {},
   "outputs": [
    {
     "data": {
      "text/plain": [
       "<matplotlib.axes._subplots.AxesSubplot at 0x1338b0390>"
      ]
     },
     "execution_count": 119,
     "metadata": {},
     "output_type": "execute_result"
    },
    {
     "data": {
      "image/png": "[encoded data removed]",
      "text/plain": [
       "<Figure size 216x864 with 2 Axes>"
      ]
     },
     "metadata": {
      "needs_background": "light"
     },
     "output_type": "display_data"
    }
   ],
   "source": [
    "plt.figure(figsize=(3,12))\n",
    "cmap = [\"xkcd:light gray\",\"orange\"]\n",
    "sns.heatmap(df.set_index(\"Species\")[sources_with_appears],yticklabels=True,cbar=True,linewidths=.5,cmap=cmap)"
   ]
  },
  {
   "cell_type": "markdown",
   "metadata": {},
   "source": [
    "Put sources into dict so I can write to JSON"
   ]
  },
  {
   "cell_type": "code",
   "execution_count": 121,
   "metadata": {},
   "outputs": [],
   "source": [
    "d = df.set_index(\"Species\").to_dict(\"index\")"
   ]
  },
  {
   "cell_type": "code",
   "execution_count": 129,
   "metadata": {},
   "outputs": [],
   "source": [
    "sources = ['Waite 2009',\n",
    "  'Magee 2017 LPSC',\n",
    "  'Postberg 2018',\n",
    "  'Waite 2017',\n",
    "  'Postberg 2009',\n",
    "  'Contains reactions',\n",
    "  'Contains KEGGID',\n",
    "  'Appears with KEGGID']"
   ]
  },
  {
   "cell_type": "code",
   "execution_count": 154,
   "metadata": {},
   "outputs": [],
   "source": [
    "papers_dict = {}\n",
    "for s in sources:\n",
    "    papers_dict[s] = list()\n",
    "    for cpd in d:\n",
    "        if d[cpd][\"Appears with KEGGID\"] == 1:\n",
    "            if d[cpd][s] == 1:\n",
    "                papers_dict[s].append(d[cpd][\"KEGG ID\"])"
   ]
  },
  {
   "cell_type": "markdown",
   "metadata": {},
   "source": [
    "Add phosphate to all categories"
   ]
  },
  {
   "cell_type": "code",
   "execution_count": 155,
   "metadata": {},
   "outputs": [],
   "source": [
    "papers_dict_p = {}\n",
    "for k in papers_dict:\n",
    "    papers_dict_p[k] = copy.deepcopy(papers_dict[k])\n",
    "    papers_dict_p[k+\" P\"] = copy.deepcopy(papers_dict[k])\n",
    "    papers_dict_p[k+\" P\"].append(\"C00009\")"
   ]
  },
  {
   "cell_type": "code",
   "execution_count": 159,
   "metadata": {},
   "outputs": [],
   "source": [
    "for k in papers_dict_p:\n",
    "    assert(len(papers_dict_p[k])==len(set(papers_dict_p[k])))"
   ]
  },
  {
   "cell_type": "markdown",
   "metadata": {},
   "source": [
    "Write JSON"
   ]
  },
  {
   "cell_type": "code",
   "execution_count": 163,
   "metadata": {},
   "outputs": [],
   "source": [
    "# with open(\"../data/seeds/encel_papers_2019.json\", 'w') as f:\n",
    "#     parsed = json.dump(papers_dict_p,f,indent=2)"
   ]
  }
 ],
 "metadata": {
  "kernelspec": {
   "display_name": "Python 3",
   "language": "python",
   "name": "python3"
  },
  "language_info": {
   "codemirror_mode": {
    "name": "ipython",
    "version": 3
   },
   "file_extension": ".py",
   "mimetype": "text/x-python",
   "name": "python",
   "nbconvert_exporter": "python",
   "pygments_lexer": "ipython3",
   "version": "3.7.4"
  }
 },
 "nbformat": 4,
 "nbformat_minor": 4
}
