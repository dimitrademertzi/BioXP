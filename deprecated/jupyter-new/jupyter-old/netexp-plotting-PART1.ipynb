{
 "cells": [
  {
   "cell_type": "code",
   "execution_count": 1,
   "metadata": {},
   "outputs": [
    {
     "data": {
      "text/html": [
       "<script>requirejs.config({paths: { 'plotly': ['https://cdn.plot.ly/plotly-latest.min']},});if(!window.Plotly) {{require(['plotly'],function(plotly) {window.Plotly=plotly;});}}</script>"
      ],
      "text/vnd.plotly.v1+html": [
       "<script>requirejs.config({paths: { 'plotly': ['https://cdn.plot.ly/plotly-latest.min']},});if(!window.Plotly) {{require(['plotly'],function(plotly) {window.Plotly=plotly;});}}</script>"
      ]
     },
     "metadata": {},
     "output_type": "display_data"
    }
   ],
   "source": [
    "import pandas as pd\n",
    "import json\n",
    "import glob\n",
    "import os\n",
    "\n",
    "import matplotlib as mpl\n",
    "import matplotlib.pyplot as plt\n",
    "import seaborn as sns\n",
    "\n",
    "import plotly\n",
    "import plotly.plotly as py\n",
    "import plotly.graph_objs as go\n",
    "import numpy as np\n",
    "\n",
    "plotly.offline.init_notebook_mode(connected=True) \n",
    "\n",
    "%matplotlib inline"
   ]
  },
  {
   "cell_type": "code",
   "execution_count": 2,
   "metadata": {},
   "outputs": [],
   "source": [
    "def read_formatted_jsons(INDIR):\n",
    "    generation_dfs = []\n",
    "    stats_dicts = []\n",
    "    \n",
    "    for domain in os.listdir(INDIR):\n",
    "        for fname in glob.glob(INDIR+domain+\"/*.json\"):\n",
    "\n",
    "            org_id = os.path.basename(fname).strip(\".json\")\n",
    "\n",
    "            with open(fname) as f:\n",
    "                datajson = json.load(f)\n",
    "\n",
    "            datajson[\"stats\"][\"org_id\"] = org_id\n",
    "            datajson[\"stats\"][\"domain\"] = domain\n",
    "            datajson[\"stats\"][\"path\"] = fname\n",
    "\n",
    "            stats_dicts.append(datajson[\"stats\"])\n",
    "            generation_dfs.append(pd.DataFrame(datajson[\"generations\"]))\n",
    "            \n",
    "    return generation_dfs, stats_dicts"
   ]
  },
  {
   "cell_type": "code",
   "execution_count": 3,
   "metadata": {},
   "outputs": [],
   "source": [
    "def read_formatted_json_single(INDIR):\n",
    "    generation_dfs = []\n",
    "    stats_dicts = []\n",
    "    \n",
    "#     for domain in os.listdir(INDIR):\n",
    "    for fname in glob.glob(INDIR+\"*.json\"):\n",
    "\n",
    "        org_id = os.path.basename(fname).strip(\".json\")\n",
    "\n",
    "        with open(fname) as f:\n",
    "            datajson = json.load(f)\n",
    "\n",
    "        datajson[\"stats\"][\"org_id\"] = org_id\n",
    "        datajson[\"stats\"][\"domain\"] = domain\n",
    "        datajson[\"stats\"][\"path\"] = fname\n",
    "\n",
    "        stats_dicts.append(datajson[\"stats\"])\n",
    "        generation_dfs.append(pd.DataFrame(datajson[\"generations\"]))\n",
    "            \n",
    "    return generation_dfs, stats_dicts"
   ]
  },
  {
   "cell_type": "markdown",
   "metadata": {},
   "source": [
    "### Transpose etc."
   ]
  },
  {
   "cell_type": "code",
   "execution_count": 4,
   "metadata": {},
   "outputs": [],
   "source": [
    "def twist_dfs(df_list):\n",
    "    twisted_dfs = []\n",
    "    for df in df_list:\n",
    "        df = df.transpose()\n",
    "        df.index = df.index.astype(int)\n",
    "        df = df.sort_index()   \n",
    "        twisted_dfs.append(df)\n",
    "    return twisted_dfs"
   ]
  },
  {
   "cell_type": "markdown",
   "metadata": {},
   "source": [
    "### Add `n` columns"
   ]
  },
  {
   "cell_type": "code",
   "execution_count": 5,
   "metadata": {},
   "outputs": [],
   "source": [
    "def add_n_to_cols(df_list):\n",
    "    for df in df_list:\n",
    "        original_columns = df.columns\n",
    "        for col in original_columns:\n",
    "            df[\"n_\"+col] = df[col].str.len() \n",
    "    return df_list"
   ]
  },
  {
   "cell_type": "markdown",
   "metadata": {},
   "source": [
    "### Add domain and org_id"
   ]
  },
  {
   "cell_type": "code",
   "execution_count": 6,
   "metadata": {},
   "outputs": [],
   "source": [
    "def add_domain_and_orgid(df_list,stats_dicts):\n",
    "    for i,df in enumerate(df_list):\n",
    "        df['org_id'] = stats_dicts[i][\"org_id\"]\n",
    "        df['domain'] = stats_dicts[i][\"domain\"]\n",
    "    return df_list"
   ]
  },
  {
   "cell_type": "markdown",
   "metadata": {},
   "source": [
    "### Add tags if desired"
   ]
  },
  {
   "cell_type": "code",
   "execution_count": 7,
   "metadata": {},
   "outputs": [],
   "source": [
    "def add_tags(df_list,cpds_to_tag):\n",
    "    for df in df_list:\n",
    "        df['tags'] = df['compounds_new'].apply(lambda x: [cpd for cpd in cpds_to_tag if cpd in x])\n",
    "    return df_list"
   ]
  },
  {
   "cell_type": "code",
   "execution_count": 8,
   "metadata": {},
   "outputs": [],
   "source": [
    "def cool_plots_many(df,attribute):\n",
    "    traces = []\n",
    "    for i in df[\"org_id\"].unique():\n",
    "        \n",
    "        traces.append(go.Scatter(\n",
    "        x = df.loc[df[\"org_id\"]==i].index,\n",
    "        y = df.loc[df[\"org_id\"]==i][attribute],\n",
    "        mode = 'lines+markers',\n",
    "        name = attribute\n",
    "        ))\n",
    "    plotly.offline.iplot(traces)   "
   ]
  },
  {
   "cell_type": "code",
   "execution_count": 47,
   "metadata": {},
   "outputs": [],
   "source": [
    "def cool_plots(df,line1,line2):\n",
    "\n",
    "    # Create traces\n",
    "    trace0 = go.Scatter(\n",
    "        x = df.index,\n",
    "        y = df[line1],\n",
    "        mode = 'lines+markers+text',\n",
    "        name = line1,\n",
    "        textposition='top center'\n",
    "    #     text= data['state']\n",
    "    )\n",
    "    trace1 = go.Scatter(\n",
    "        x = df.index,\n",
    "        y = df[line2],\n",
    "        mode = 'lines+markers',\n",
    "        name = line2\n",
    "    )\n",
    "\n",
    "    data = [trace0,trace1]\n",
    "    plotly.offline.iplot(data)"
   ]
  },
  {
   "cell_type": "markdown",
   "metadata": {},
   "source": [
    "### Main"
   ]
  },
  {
   "cell_type": "code",
   "execution_count": 217,
   "metadata": {},
   "outputs": [],
   "source": [
    "cpds_to_tag = []\n",
    "\n",
    "INDIR = \"../results/formatted/ph_edge_jsons/\"\n",
    "\n",
    "generation_dfs, stats_dicts = read_formatted_jsons(INDIR)\n",
    "generation_dfs = twist_dfs(generation_dfs)\n",
    "generation_dfs = add_n_to_cols(generation_dfs)\n",
    "# generation_dfs = add_tags(generation_dfs,cpds_to_tag)\n",
    "generation_dfs = add_domain_and_orgid(generation_dfs,stats_dicts)\n",
    "df = pd.concat(generation_dfs)"
   ]
  },
  {
   "cell_type": "code",
   "execution_count": 235,
   "metadata": {},
   "outputs": [
    {
     "data": {
      "text/plain": [
       "294"
      ]
     },
     "execution_count": 235,
     "metadata": {},
     "output_type": "execute_result"
    }
   ],
   "source": [
    "len(df.groupby(\"org_id\").max())"
   ]
  },
  {
   "cell_type": "code",
   "execution_count": 236,
   "metadata": {},
   "outputs": [
    {
     "data": {
      "text/plain": [
       "['domain',\n",
       " u'scope_seeds',\n",
       " u'scope_targets',\n",
       " 'org_id',\n",
       " u'scope_compounds',\n",
       " 'path',\n",
       " u'scope_reactions']"
      ]
     },
     "execution_count": 236,
     "metadata": {},
     "output_type": "execute_result"
    }
   ],
   "source": [
    "stats_dicts[0].keys()"
   ]
  },
  {
   "cell_type": "markdown",
   "metadata": {},
   "source": [
    "## Use stats df and regular df to compile data into sinlge dataframe"
   ]
  },
  {
   "cell_type": "code",
   "execution_count": 240,
   "metadata": {},
   "outputs": [],
   "source": [
    "stats_df = pd.DataFrame(stats_dicts)"
   ]
  },
  {
   "cell_type": "code",
   "execution_count": 241,
   "metadata": {},
   "outputs": [],
   "source": [
    "for col in ['scope_targets','scope_compounds']:\n",
    "    stats_df[\"n_\"+col] = stats_df[col].str.len() "
   ]
  },
  {
   "cell_type": "code",
   "execution_count": 237,
   "metadata": {},
   "outputs": [],
   "source": [
    "max_df = df.groupby(\"org_id\").max()"
   ]
  },
  {
   "cell_type": "code",
   "execution_count": 254,
   "metadata": {},
   "outputs": [],
   "source": [
    "merged_df = pd.merge(max_df.reset_index()[[\"n_compounds_cumulative\",\"n_targets_cumulative\",\"org_id\",\"domain\"]],\n",
    "        stats_df[[\"org_id\",\"n_scope_targets\",\"n_scope_compounds\"]],\n",
    "        on=\"org_id\")"
   ]
  },
  {
   "cell_type": "code",
   "execution_count": 259,
   "metadata": {},
   "outputs": [],
   "source": [
    "merged_df = merged_df.sort_values([\"domain\",\"n_scope_compounds\"],ascending=False)"
   ]
  },
  {
   "cell_type": "code",
   "execution_count": 260,
   "metadata": {},
   "outputs": [
    {
     "data": {
      "text/html": [
       "<div>\n",
       "<style scoped>\n",
       "    .dataframe tbody tr th:only-of-type {\n",
       "        vertical-align: middle;\n",
       "    }\n",
       "\n",
       "    .dataframe tbody tr th {\n",
       "        vertical-align: top;\n",
       "    }\n",
       "\n",
       "    .dataframe thead th {\n",
       "        text-align: right;\n",
       "    }\n",
       "</style>\n",
       "<table border=\"1\" class=\"dataframe\">\n",
       "  <thead>\n",
       "    <tr style=\"text-align: right;\">\n",
       "      <th></th>\n",
       "      <th>n_compounds_cumulative</th>\n",
       "      <th>n_targets_cumulative</th>\n",
       "      <th>org_id</th>\n",
       "      <th>domain</th>\n",
       "      <th>n_scope_targets</th>\n",
       "      <th>n_scope_compounds</th>\n",
       "    </tr>\n",
       "  </thead>\n",
       "  <tbody>\n",
       "    <tr>\n",
       "      <th>156</th>\n",
       "      <td>19</td>\n",
       "      <td>0</td>\n",
       "      <td>2554235157</td>\n",
       "      <td>bacteria</td>\n",
       "      <td>60</td>\n",
       "      <td>1861</td>\n",
       "    </tr>\n",
       "    <tr>\n",
       "      <th>28</th>\n",
       "      <td>17</td>\n",
       "      <td>0</td>\n",
       "      <td>2517287020</td>\n",
       "      <td>bacteria</td>\n",
       "      <td>60</td>\n",
       "      <td>1809</td>\n",
       "    </tr>\n",
       "    <tr>\n",
       "      <th>21</th>\n",
       "      <td>17</td>\n",
       "      <td>0</td>\n",
       "      <td>2515154141</td>\n",
       "      <td>bacteria</td>\n",
       "      <td>60</td>\n",
       "      <td>1786</td>\n",
       "    </tr>\n",
       "    <tr>\n",
       "      <th>20</th>\n",
       "      <td>16</td>\n",
       "      <td>0</td>\n",
       "      <td>2515154140</td>\n",
       "      <td>bacteria</td>\n",
       "      <td>60</td>\n",
       "      <td>1767</td>\n",
       "    </tr>\n",
       "    <tr>\n",
       "      <th>277</th>\n",
       "      <td>25</td>\n",
       "      <td>0</td>\n",
       "      <td>640753051</td>\n",
       "      <td>bacteria</td>\n",
       "      <td>60</td>\n",
       "      <td>1701</td>\n",
       "    </tr>\n",
       "  </tbody>\n",
       "</table>\n",
       "</div>"
      ],
      "text/plain": [
       "     n_compounds_cumulative  n_targets_cumulative      org_id    domain  \\\n",
       "156                      19                     0  2554235157  bacteria   \n",
       "28                       17                     0  2517287020  bacteria   \n",
       "21                       17                     0  2515154141  bacteria   \n",
       "20                       16                     0  2515154140  bacteria   \n",
       "277                      25                     0   640753051  bacteria   \n",
       "\n",
       "     n_scope_targets  n_scope_compounds  \n",
       "156               60               1861  \n",
       "28                60               1809  \n",
       "21                60               1786  \n",
       "20                60               1767  \n",
       "277               60               1701  "
      ]
     },
     "execution_count": 260,
     "metadata": {},
     "output_type": "execute_result"
    }
   ],
   "source": [
    "merged_df.head()"
   ]
  },
  {
   "cell_type": "code",
   "execution_count": 279,
   "metadata": {},
   "outputs": [],
   "source": [
    "merged_df_nophosphorous = merged_df"
   ]
  },
  {
   "cell_type": "code",
   "execution_count": 280,
   "metadata": {},
   "outputs": [],
   "source": [
    "merged_df_nophosphorous['P'] = False"
   ]
  },
  {
   "cell_type": "code",
   "execution_count": 281,
   "metadata": {},
   "outputs": [
    {
     "data": {
      "text/html": [
       "<div>\n",
       "<style scoped>\n",
       "    .dataframe tbody tr th:only-of-type {\n",
       "        vertical-align: middle;\n",
       "    }\n",
       "\n",
       "    .dataframe tbody tr th {\n",
       "        vertical-align: top;\n",
       "    }\n",
       "\n",
       "    .dataframe thead th {\n",
       "        text-align: right;\n",
       "    }\n",
       "</style>\n",
       "<table border=\"1\" class=\"dataframe\">\n",
       "  <thead>\n",
       "    <tr style=\"text-align: right;\">\n",
       "      <th></th>\n",
       "      <th>n_compounds_cumulative</th>\n",
       "      <th>n_targets_cumulative</th>\n",
       "      <th>org_id</th>\n",
       "      <th>domain</th>\n",
       "      <th>n_scope_targets</th>\n",
       "      <th>n_scope_compounds</th>\n",
       "      <th>P</th>\n",
       "    </tr>\n",
       "  </thead>\n",
       "  <tbody>\n",
       "    <tr>\n",
       "      <th>156</th>\n",
       "      <td>19</td>\n",
       "      <td>0</td>\n",
       "      <td>2554235157</td>\n",
       "      <td>bacteria</td>\n",
       "      <td>60</td>\n",
       "      <td>1861</td>\n",
       "      <td>False</td>\n",
       "    </tr>\n",
       "    <tr>\n",
       "      <th>28</th>\n",
       "      <td>17</td>\n",
       "      <td>0</td>\n",
       "      <td>2517287020</td>\n",
       "      <td>bacteria</td>\n",
       "      <td>60</td>\n",
       "      <td>1809</td>\n",
       "      <td>False</td>\n",
       "    </tr>\n",
       "    <tr>\n",
       "      <th>21</th>\n",
       "      <td>17</td>\n",
       "      <td>0</td>\n",
       "      <td>2515154141</td>\n",
       "      <td>bacteria</td>\n",
       "      <td>60</td>\n",
       "      <td>1786</td>\n",
       "      <td>False</td>\n",
       "    </tr>\n",
       "    <tr>\n",
       "      <th>20</th>\n",
       "      <td>16</td>\n",
       "      <td>0</td>\n",
       "      <td>2515154140</td>\n",
       "      <td>bacteria</td>\n",
       "      <td>60</td>\n",
       "      <td>1767</td>\n",
       "      <td>False</td>\n",
       "    </tr>\n",
       "    <tr>\n",
       "      <th>277</th>\n",
       "      <td>25</td>\n",
       "      <td>0</td>\n",
       "      <td>640753051</td>\n",
       "      <td>bacteria</td>\n",
       "      <td>60</td>\n",
       "      <td>1701</td>\n",
       "      <td>False</td>\n",
       "    </tr>\n",
       "  </tbody>\n",
       "</table>\n",
       "</div>"
      ],
      "text/plain": [
       "     n_compounds_cumulative  n_targets_cumulative      org_id    domain  \\\n",
       "156                      19                     0  2554235157  bacteria   \n",
       "28                       17                     0  2517287020  bacteria   \n",
       "21                       17                     0  2515154141  bacteria   \n",
       "20                       16                     0  2515154140  bacteria   \n",
       "277                      25                     0   640753051  bacteria   \n",
       "\n",
       "     n_scope_targets  n_scope_compounds      P  \n",
       "156               60               1861  False  \n",
       "28                60               1809  False  \n",
       "21                60               1786  False  \n",
       "20                60               1767  False  \n",
       "277               60               1701  False  "
      ]
     },
     "execution_count": 281,
     "metadata": {},
     "output_type": "execute_result"
    }
   ],
   "source": [
    "merged_df_nophosphorous.head()"
   ]
  },
  {
   "cell_type": "markdown",
   "metadata": {},
   "source": [
    "### Barplots"
   ]
  },
  {
   "cell_type": "code",
   "execution_count": 269,
   "metadata": {},
   "outputs": [
    {
     "data": {
      "text/plain": [
       "<matplotlib.axes._subplots.AxesSubplot at 0x11dcac410>"
      ]
     },
     "execution_count": 269,
     "metadata": {},
     "output_type": "execute_result"
    },
    {
     "data": {
      "image/png": "[encoded data removed]",
      "text/plain": [
       "<Figure size 432x288 with 1 Axes>"
      ]
     },
     "metadata": {},
     "output_type": "display_data"
    }
   ],
   "source": [
    "# Plot the total crashes\n",
    "# sns.set_color_codes(\"pastel\")\n",
    "sns.barplot(x=\"org_id\", y=\"n_scope_targets\", data=merged_df[:100],\n",
    "            label=\"Total network size\", color=\"b\")\n",
    "\n",
    "# Plot the crashes where alcohol was involved\n",
    "# sns.set_color_codes(\"muted\")\n",
    "sns.barplot(x=\"org_id\", y=\"n_compounds_cumulative\", data=merged_df[:100],\n",
    "            label=\"Alcohol-involved\", color=\"r\")\n"
   ]
  },
  {
   "cell_type": "code",
   "execution_count": 270,
   "metadata": {},
   "outputs": [
    {
     "data": {
      "text/plain": [
       "<matplotlib.axes._subplots.AxesSubplot at 0x11faaa810>"
      ]
     },
     "execution_count": 270,
     "metadata": {},
     "output_type": "execute_result"
    },
    {
     "data": {
      "image/png": "[encoded data removed]",
      "text/plain": [
       "<Figure size 432x288 with 1 Axes>"
      ]
     },
     "metadata": {},
     "output_type": "display_data"
    }
   ],
   "source": [
    "sns.barplot(x=\"org_id\", y=\"n_scope_targets\", data=merged_df[:100],\n",
    "            label=\"Alcohol-involved\", color=\"r\")"
   ]
  },
  {
   "cell_type": "code",
   "execution_count": null,
   "metadata": {},
   "outputs": [],
   "source": []
  },
  {
   "cell_type": "code",
   "execution_count": null,
   "metadata": {},
   "outputs": [],
   "source": []
  },
  {
   "cell_type": "code",
   "execution_count": null,
   "metadata": {},
   "outputs": [],
   "source": []
  },
  {
   "cell_type": "code",
   "execution_count": null,
   "metadata": {},
   "outputs": [],
   "source": []
  },
  {
   "cell_type": "code",
   "execution_count": 233,
   "metadata": {},
   "outputs": [
    {
     "data": {
      "text/html": [
       "<div>\n",
       "<style scoped>\n",
       "    .dataframe tbody tr th:only-of-type {\n",
       "        vertical-align: middle;\n",
       "    }\n",
       "\n",
       "    .dataframe tbody tr th {\n",
       "        vertical-align: top;\n",
       "    }\n",
       "\n",
       "    .dataframe thead th {\n",
       "        text-align: right;\n",
       "    }\n",
       "</style>\n",
       "<table border=\"1\" class=\"dataframe\">\n",
       "  <thead>\n",
       "    <tr style=\"text-align: right;\">\n",
       "      <th></th>\n",
       "      <th>n_compounds_cumulative</th>\n",
       "      <th>n_targets_cumulative</th>\n",
       "      <th>org_id</th>\n",
       "      <th>domain</th>\n",
       "    </tr>\n",
       "  </thead>\n",
       "  <tbody>\n",
       "    <tr>\n",
       "      <th>1</th>\n",
       "      <td>10</td>\n",
       "      <td>0</td>\n",
       "      <td>2506520044</td>\n",
       "      <td>archaea</td>\n",
       "    </tr>\n",
       "    <tr>\n",
       "      <th>2</th>\n",
       "      <td>15</td>\n",
       "      <td>0</td>\n",
       "      <td>2506520044</td>\n",
       "      <td>archaea</td>\n",
       "    </tr>\n",
       "    <tr>\n",
       "      <th>3</th>\n",
       "      <td>17</td>\n",
       "      <td>0</td>\n",
       "      <td>2506520044</td>\n",
       "      <td>archaea</td>\n",
       "    </tr>\n",
       "    <tr>\n",
       "      <th>4</th>\n",
       "      <td>18</td>\n",
       "      <td>0</td>\n",
       "      <td>2506520044</td>\n",
       "      <td>archaea</td>\n",
       "    </tr>\n",
       "  </tbody>\n",
       "</table>\n",
       "</div>"
      ],
      "text/plain": [
       "   n_compounds_cumulative  n_targets_cumulative      org_id   domain\n",
       "1                      10                     0  2506520044  archaea\n",
       "2                      15                     0  2506520044  archaea\n",
       "3                      17                     0  2506520044  archaea\n",
       "4                      18                     0  2506520044  archaea"
      ]
     },
     "execution_count": 233,
     "metadata": {},
     "output_type": "execute_result"
    }
   ],
   "source": [
    "generation_dfs[0][[\"n_compounds_cumulative\",\"n_targets_cumulative\",\"org_id\",\"domain\"]]"
   ]
  },
  {
   "cell_type": "markdown",
   "metadata": {},
   "source": [
    "### Properties of the organisms I ended up analyzing"
   ]
  },
  {
   "cell_type": "code",
   "execution_count": 219,
   "metadata": {},
   "outputs": [
    {
     "data": {
      "text/plain": [
       "7"
      ]
     },
     "execution_count": 219,
     "metadata": {},
     "output_type": "execute_result"
    }
   ],
   "source": [
    "len(stats_dicts[0].keys())"
   ]
  },
  {
   "cell_type": "code",
   "execution_count": 225,
   "metadata": {},
   "outputs": [
    {
     "data": {
      "text/html": [
       "<div>\n",
       "<style scoped>\n",
       "    .dataframe tbody tr th:only-of-type {\n",
       "        vertical-align: middle;\n",
       "    }\n",
       "\n",
       "    .dataframe tbody tr th {\n",
       "        vertical-align: top;\n",
       "    }\n",
       "\n",
       "    .dataframe thead th {\n",
       "        text-align: right;\n",
       "    }\n",
       "</style>\n",
       "<table border=\"1\" class=\"dataframe\">\n",
       "  <thead>\n",
       "    <tr style=\"text-align: right;\">\n",
       "      <th></th>\n",
       "      <th>compounds_cumulative</th>\n",
       "      <th>compounds_new</th>\n",
       "      <th>reactions_cumulative</th>\n",
       "      <th>reactions_new</th>\n",
       "      <th>targets_cumulative</th>\n",
       "      <th>targets_new</th>\n",
       "      <th>n_compounds_cumulative</th>\n",
       "      <th>n_compounds_new</th>\n",
       "      <th>n_reactions_cumulative</th>\n",
       "      <th>n_reactions_new</th>\n",
       "      <th>n_targets_cumulative</th>\n",
       "      <th>n_targets_new</th>\n",
       "      <th>org_id</th>\n",
       "      <th>domain</th>\n",
       "    </tr>\n",
       "  </thead>\n",
       "  <tbody>\n",
       "    <tr>\n",
       "      <th>1</th>\n",
       "      <td>[C00001, C00014, C00011, C00697, C00067, C0046...</td>\n",
       "      <td>[C00282, C00237, C00014, C00011, C00067, C0069...</td>\n",
       "      <td>[R10092, R00131, R00602, R00132]</td>\n",
       "      <td>[R00131, R00132, R00602, R10092]</td>\n",
       "      <td>[]</td>\n",
       "      <td>[]</td>\n",
       "      <td>10</td>\n",
       "      <td>10</td>\n",
       "      <td>4</td>\n",
       "      <td>4</td>\n",
       "      <td>0</td>\n",
       "      <td>0</td>\n",
       "      <td>2506520044</td>\n",
       "      <td>archaea</td>\n",
       "    </tr>\n",
       "    <tr>\n",
       "      <th>2</th>\n",
       "      <td>[C00080, C00001, C00014, C00288, C00011, C0069...</td>\n",
       "      <td>[C00080, C00288, C00086, C00027, C01353]</td>\n",
       "      <td>[R10092, R06154, R00131, R00602, R00132, R00009]</td>\n",
       "      <td>[R06154, R00009]</td>\n",
       "      <td>[]</td>\n",
       "      <td>[]</td>\n",
       "      <td>15</td>\n",
       "      <td>5</td>\n",
       "      <td>6</td>\n",
       "      <td>2</td>\n",
       "      <td>0</td>\n",
       "      <td>0</td>\n",
       "      <td>2506520044</td>\n",
       "      <td>archaea</td>\n",
       "    </tr>\n",
       "    <tr>\n",
       "      <th>3</th>\n",
       "      <td>[C00007, C00080, C00001, C00014, C00288, C0001...</td>\n",
       "      <td>[C00007, C00218]</td>\n",
       "      <td>[R10092, R06154, R00275, R00131, R00602, R0013...</td>\n",
       "      <td>[R00275]</td>\n",
       "      <td>[]</td>\n",
       "      <td>[]</td>\n",
       "      <td>17</td>\n",
       "      <td>2</td>\n",
       "      <td>7</td>\n",
       "      <td>1</td>\n",
       "      <td>0</td>\n",
       "      <td>0</td>\n",
       "      <td>2506520044</td>\n",
       "      <td>archaea</td>\n",
       "    </tr>\n",
       "    <tr>\n",
       "      <th>4</th>\n",
       "      <td>[C00007, C00080, C00001, C00014, C00288, C0001...</td>\n",
       "      <td>[C00704]</td>\n",
       "      <td>[R10092, R06154, R00275, R00131, R00602, R0013...</td>\n",
       "      <td>[]</td>\n",
       "      <td>[]</td>\n",
       "      <td>[]</td>\n",
       "      <td>18</td>\n",
       "      <td>1</td>\n",
       "      <td>7</td>\n",
       "      <td>0</td>\n",
       "      <td>0</td>\n",
       "      <td>0</td>\n",
       "      <td>2506520044</td>\n",
       "      <td>archaea</td>\n",
       "    </tr>\n",
       "  </tbody>\n",
       "</table>\n",
       "</div>"
      ],
      "text/plain": [
       "                                compounds_cumulative  \\\n",
       "1  [C00001, C00014, C00011, C00697, C00067, C0046...   \n",
       "2  [C00080, C00001, C00014, C00288, C00011, C0069...   \n",
       "3  [C00007, C00080, C00001, C00014, C00288, C0001...   \n",
       "4  [C00007, C00080, C00001, C00014, C00288, C0001...   \n",
       "\n",
       "                                       compounds_new  \\\n",
       "1  [C00282, C00237, C00014, C00011, C00067, C0069...   \n",
       "2           [C00080, C00288, C00086, C00027, C01353]   \n",
       "3                                   [C00007, C00218]   \n",
       "4                                           [C00704]   \n",
       "\n",
       "                                reactions_cumulative  \\\n",
       "1                   [R10092, R00131, R00602, R00132]   \n",
       "2   [R10092, R06154, R00131, R00602, R00132, R00009]   \n",
       "3  [R10092, R06154, R00275, R00131, R00602, R0013...   \n",
       "4  [R10092, R06154, R00275, R00131, R00602, R0013...   \n",
       "\n",
       "                      reactions_new targets_cumulative targets_new  \\\n",
       "1  [R00131, R00132, R00602, R10092]                 []          []   \n",
       "2                  [R06154, R00009]                 []          []   \n",
       "3                          [R00275]                 []          []   \n",
       "4                                []                 []          []   \n",
       "\n",
       "   n_compounds_cumulative  n_compounds_new  n_reactions_cumulative  \\\n",
       "1                      10               10                       4   \n",
       "2                      15                5                       6   \n",
       "3                      17                2                       7   \n",
       "4                      18                1                       7   \n",
       "\n",
       "   n_reactions_new  n_targets_cumulative  n_targets_new      org_id   domain  \n",
       "1                4                     0              0  2506520044  archaea  \n",
       "2                2                     0              0  2506520044  archaea  \n",
       "3                1                     0              0  2506520044  archaea  \n",
       "4                0                     0              0  2506520044  archaea  "
      ]
     },
     "execution_count": 225,
     "metadata": {},
     "output_type": "execute_result"
    }
   ],
   "source": [
    "generation_dfs[0].head()"
   ]
  },
  {
   "cell_type": "code",
   "execution_count": 223,
   "metadata": {},
   "outputs": [
    {
     "name": "stdout",
     "output_type": "stream",
     "text": [
      "55\n",
      "1198\n"
     ]
    }
   ],
   "source": [
    "for k in ['scope_targets','scope_compounds']:\n",
    "    print len(stats_dicts[0][k])\n",
    "    print len(generation_dfs[0])"
   ]
  },
  {
   "cell_type": "code",
   "execution_count": 220,
   "metadata": {},
   "outputs": [
    {
     "data": {
      "text/plain": [
       "['domain',\n",
       " u'scope_seeds',\n",
       " u'scope_targets',\n",
       " 'org_id',\n",
       " u'scope_compounds',\n",
       " 'path',\n",
       " u'scope_reactions']"
      ]
     },
     "execution_count": 220,
     "metadata": {},
     "output_type": "execute_result"
    }
   ],
   "source": [
    "stats_dicts[0].keys()"
   ]
  },
  {
   "cell_type": "code",
   "execution_count": 190,
   "metadata": {},
   "outputs": [
    {
     "data": {
      "text/plain": [
       "266"
      ]
     },
     "execution_count": 190,
     "metadata": {},
     "output_type": "execute_result"
    }
   ],
   "source": [
    "len(stats_dicts)-28"
   ]
  },
  {
   "cell_type": "markdown",
   "metadata": {},
   "source": [
    "### Look at some properties of stats dicts"
   ]
  },
  {
   "cell_type": "code",
   "execution_count": null,
   "metadata": {},
   "outputs": [],
   "source": []
  },
  {
   "cell_type": "code",
   "execution_count": 191,
   "metadata": {},
   "outputs": [
    {
     "data": {
      "text/plain": [
       "(array([   2.,    0.,    2.,   13.,   46.,  173.,   23.,   12.,   14.,    9.]),\n",
       " array([  2. ,   3.2,   4.4,   5.6,   6.8,   8. ,   9.2,  10.4,  11.6,\n",
       "         12.8,  14. ]),\n",
       " <a list of 10 Patch objects>)"
      ]
     },
     "execution_count": 191,
     "metadata": {},
     "output_type": "execute_result"
    },
    {
     "data": {
      "image/png": "[encoded data removed]",
      "text/plain": [
       "<Figure size 432x288 with 1 Axes>"
      ]
     },
     "metadata": {},
     "output_type": "display_data"
    }
   ],
   "source": [
    "plt.hist([len(d['scope_seeds']) for d in stats_dicts])"
   ]
  },
  {
   "cell_type": "code",
   "execution_count": 192,
   "metadata": {},
   "outputs": [
    {
     "data": {
      "text/plain": [
       "(array([   1.,    0.,    0.,    1.,    2.,    4.,    8.,   19.,  107.,  152.]),\n",
       " array([ 32. ,  34.9,  37.8,  40.7,  43.6,  46.5,  49.4,  52.3,  55.2,\n",
       "         58.1,  61. ]),\n",
       " <a list of 10 Patch objects>)"
      ]
     },
     "execution_count": 192,
     "metadata": {},
     "output_type": "execute_result"
    },
    {
     "data": {
      "image/png": "[encoded data removed]",
      "text/plain": [
       "<Figure size 432x288 with 1 Axes>"
      ]
     },
     "metadata": {},
     "output_type": "display_data"
    }
   ],
   "source": [
    "plt.hist([len(d['scope_targets']) for d in stats_dicts])"
   ]
  },
  {
   "cell_type": "code",
   "execution_count": 193,
   "metadata": {},
   "outputs": [
    {
     "data": {
      "text/plain": [
       "(array([  2.,   0.,   4.,  15.,  28.,  64.,  80.,  71.,  25.,   5.]),\n",
       " array([  161.,   331.,   501.,   671.,   841.,  1011.,  1181.,  1351.,\n",
       "         1521.,  1691.,  1861.]),\n",
       " <a list of 10 Patch objects>)"
      ]
     },
     "execution_count": 193,
     "metadata": {},
     "output_type": "execute_result"
    },
    {
     "data": {
      "image/png": "[encoded data removed]",
      "text/plain": [
       "<Figure size 432x288 with 1 Axes>"
      ]
     },
     "metadata": {},
     "output_type": "display_data"
    }
   ],
   "source": [
    "plt.hist([len(d['scope_compounds']) for d in stats_dicts])"
   ]
  },
  {
   "cell_type": "code",
   "execution_count": 194,
   "metadata": {},
   "outputs": [
    {
     "data": {
      "text/plain": [
       "(array([  2.,   2.,   7.,   8.,  26.,  67.,  64.,  80.,  33.,   5.]),\n",
       " array([   85. ,   247.2,   409.4,   571.6,   733.8,   896. ,  1058.2,\n",
       "         1220.4,  1382.6,  1544.8,  1707. ]),\n",
       " <a list of 10 Patch objects>)"
      ]
     },
     "execution_count": 194,
     "metadata": {},
     "output_type": "execute_result"
    },
    {
     "data": {
      "image/png": "[encoded data removed]",
      "text/plain": [
       "<Figure size 432x288 with 1 Axes>"
      ]
     },
     "metadata": {},
     "output_type": "display_data"
    }
   ],
   "source": [
    "plt.hist([len(d['scope_reactions']) for d in stats_dicts])"
   ]
  },
  {
   "cell_type": "code",
   "execution_count": 272,
   "metadata": {},
   "outputs": [
    {
     "data": {
      "text/plain": [
       "(array([   2.,    7.,   28.,   16.,   36.,  134.,   39.,   21.,    7.,    4.]),\n",
       " array([  2. ,   4.4,   6.8,   9.2,  11.6,  14. ,  16.4,  18.8,  21.2,\n",
       "         23.6,  26. ]),\n",
       " <a list of 10 Patch objects>)"
      ]
     },
     "execution_count": 272,
     "metadata": {},
     "output_type": "execute_result"
    },
    {
     "data": {
      "image/png": "[encoded data removed]",
      "text/plain": [
       "<Figure size 432x288 with 1 Axes>"
      ]
     },
     "metadata": {},
     "output_type": "display_data"
    }
   ],
   "source": [
    "plt.hist([merged_df[\"n_compounds_cumulative\"]])"
   ]
  },
  {
   "cell_type": "code",
   "execution_count": null,
   "metadata": {},
   "outputs": [],
   "source": []
  },
  {
   "cell_type": "code",
   "execution_count": 273,
   "metadata": {},
   "outputs": [
    {
     "data": {
      "text/plain": [
       "(array([   2.,    7.,   28.,   16.,   36.,  134.,   39.,   21.,    7.,    4.]),\n",
       " array([  2. ,   4.4,   6.8,   9.2,  11.6,  14. ,  16.4,  18.8,  21.2,\n",
       "         23.6,  26. ]),\n",
       " <a list of 10 Patch objects>)"
      ]
     },
     "execution_count": 273,
     "metadata": {},
     "output_type": "execute_result"
    },
    {
     "data": {
      "image/png": "[encoded data removed]",
      "text/plain": [
       "<Figure size 432x288 with 1 Axes>"
      ]
     },
     "metadata": {},
     "output_type": "display_data"
    }
   ],
   "source": [
    "plt.hist([len(d['scope_targets']) for d in stats_dicts])\n",
    "plt.hist([len(d['scope_compounds']) for d in stats_dicts])\n",
    "plt.hist([merged_df[\"n_compounds_cumulative\"]])"
   ]
  },
  {
   "cell_type": "code",
   "execution_count": 278,
   "metadata": {},
   "outputs": [
    {
     "data": {
      "text/plain": [
       "array([[<matplotlib.axes._subplots.AxesSubplot object at 0x11f74ac90>,\n",
       "        <matplotlib.axes._subplots.AxesSubplot object at 0x11cf60e10>],\n",
       "       [<matplotlib.axes._subplots.AxesSubplot object at 0x11cf57fd0>,\n",
       "        <matplotlib.axes._subplots.AxesSubplot object at 0x11f16a1d0>]], dtype=object)"
      ]
     },
     "execution_count": 278,
     "metadata": {},
     "output_type": "execute_result"
    },
    {
     "data": {
      "image/png": "[encoded data removed]",
      "text/plain": [
       "<Figure size 432x288 with 4 Axes>"
      ]
     },
     "metadata": {},
     "output_type": "display_data"
    }
   ],
   "source": [
    "merged_df[['n_compounds_cumulative','n_scope_targets','n_scope_compounds']].hist(alpha=.5,bins=50)"
   ]
  },
  {
   "cell_type": "code",
   "execution_count": null,
   "metadata": {},
   "outputs": [],
   "source": []
  },
  {
   "cell_type": "code",
   "execution_count": 195,
   "metadata": {},
   "outputs": [],
   "source": [
    "color_order = ['blue' if domain=='bacteria' else 'orange' for domain in df[\"domain\"]]\n"
   ]
  },
  {
   "cell_type": "code",
   "execution_count": 196,
   "metadata": {},
   "outputs": [],
   "source": [
    "df[\"color\"] = color_order"
   ]
  },
  {
   "cell_type": "code",
   "execution_count": 197,
   "metadata": {},
   "outputs": [],
   "source": [
    "font = {'size'   : 16}\n",
    "# 'family' : 'normal',\n",
    "#         'weight' : 'bold',\n",
    "       \n",
    "\n",
    "mpl.rc('font', **font)"
   ]
  },
  {
   "cell_type": "code",
   "execution_count": 198,
   "metadata": {},
   "outputs": [
    {
     "data": {
      "text/plain": [
       "294"
      ]
     },
     "execution_count": 198,
     "metadata": {},
     "output_type": "execute_result"
    }
   ],
   "source": [
    "len(stats_dicts)"
   ]
  },
  {
   "cell_type": "markdown",
   "metadata": {},
   "source": [
    "stats_dicts[0]"
   ]
  },
  {
   "cell_type": "code",
   "execution_count": 199,
   "metadata": {},
   "outputs": [],
   "source": [
    "# stats_dicts[0]"
   ]
  },
  {
   "cell_type": "code",
   "execution_count": 203,
   "metadata": {},
   "outputs": [
    {
     "data": {
      "image/png": "[encoded data removed]",
      "text/plain": [
       "<Figure size 864x432 with 1 Axes>"
      ]
     },
     "metadata": {},
     "output_type": "display_data"
    }
   ],
   "source": [
    "# plt.figure(facecolor='w')\n",
    "ax = df.loc[df[\"domain\"]==\"archaea\"].reset_index().plot(kind=\"line\",x=\"index\",y=\"n_compounds_cumulative\", style='-o',color=\"orange\",figsize=(12,6),legend=False)\n",
    "df.loc[df[\"domain\"]==\"bacteria\"].reset_index().plot(kind=\"line\",x=\"index\",y=\"n_compounds_cumulative\", style='-o',color=\"blue\",ax=ax, alpha=.3,legend=False)\n",
    "\n",
    "ax.set_facecolor(\"white\")\n",
    "ax.set_title(\"Prokaryotic network expansion using Enceladus \\nseed set\")\n",
    "ax.set_xlabel(\"Generation of network expansion\")\n",
    "ax.set_ylabel(\"Number of compounds per \\ngeneration (cumulative)\")\n",
    "plt.tight_layout()\n",
    "\n",
    "# plt.legend(False)\n"
   ]
  },
  {
   "cell_type": "code",
   "execution_count": 162,
   "metadata": {},
   "outputs": [],
   "source": [
    "# cool_plots_many(df,'n_compounds_cumulative')"
   ]
  },
  {
   "cell_type": "markdown",
   "metadata": {},
   "source": [
    "## Check seeds that contain phosphorous"
   ]
  },
  {
   "cell_type": "code",
   "execution_count": 282,
   "metadata": {},
   "outputs": [],
   "source": [
    "INDIR = \"../results/formatted/ph_edge_jsons_P/\"\n",
    "\n",
    "generation_dfs, stats_dicts = read_formatted_jsons(INDIR)\n",
    "generation_dfs = twist_dfs(generation_dfs)\n",
    "generation_dfs = add_n_to_cols(generation_dfs)\n",
    "# generation_dfs = add_tags(generation_dfs,cpds_to_tag)\n",
    "generation_dfs = add_domain_and_orgid(generation_dfs,stats_dicts)\n",
    "df = pd.concat(generation_dfs)"
   ]
  },
  {
   "cell_type": "markdown",
   "metadata": {},
   "source": [
    "### Make merged df of phosphorous data"
   ]
  },
  {
   "cell_type": "code",
   "execution_count": 283,
   "metadata": {},
   "outputs": [],
   "source": [
    "stats_df = pd.DataFrame(stats_dicts)"
   ]
  },
  {
   "cell_type": "code",
   "execution_count": 284,
   "metadata": {},
   "outputs": [],
   "source": [
    "for col in ['scope_targets','scope_compounds']:\n",
    "    stats_df[\"n_\"+col] = stats_df[col].str.len() "
   ]
  },
  {
   "cell_type": "code",
   "execution_count": 285,
   "metadata": {},
   "outputs": [],
   "source": [
    "max_df = df.groupby(\"org_id\").max()"
   ]
  },
  {
   "cell_type": "code",
   "execution_count": 286,
   "metadata": {},
   "outputs": [],
   "source": [
    "merged_df = pd.merge(max_df.reset_index()[[\"n_compounds_cumulative\",\"n_targets_cumulative\",\"org_id\",\"domain\"]],\n",
    "        stats_df[[\"org_id\",\"n_scope_targets\",\"n_scope_compounds\"]],\n",
    "        on=\"org_id\")"
   ]
  },
  {
   "cell_type": "code",
   "execution_count": 287,
   "metadata": {},
   "outputs": [],
   "source": [
    "merged_df = merged_df.sort_values([\"domain\",\"n_scope_compounds\"],ascending=False)"
   ]
  },
  {
   "cell_type": "code",
   "execution_count": 288,
   "metadata": {},
   "outputs": [
    {
     "data": {
      "text/html": [
       "<div>\n",
       "<style scoped>\n",
       "    .dataframe tbody tr th:only-of-type {\n",
       "        vertical-align: middle;\n",
       "    }\n",
       "\n",
       "    .dataframe tbody tr th {\n",
       "        vertical-align: top;\n",
       "    }\n",
       "\n",
       "    .dataframe thead th {\n",
       "        text-align: right;\n",
       "    }\n",
       "</style>\n",
       "<table border=\"1\" class=\"dataframe\">\n",
       "  <thead>\n",
       "    <tr style=\"text-align: right;\">\n",
       "      <th></th>\n",
       "      <th>n_compounds_cumulative</th>\n",
       "      <th>n_targets_cumulative</th>\n",
       "      <th>org_id</th>\n",
       "      <th>domain</th>\n",
       "      <th>n_scope_targets</th>\n",
       "      <th>n_scope_compounds</th>\n",
       "    </tr>\n",
       "  </thead>\n",
       "  <tbody>\n",
       "    <tr>\n",
       "      <th>156</th>\n",
       "      <td>22</td>\n",
       "      <td>0</td>\n",
       "      <td>2554235157</td>\n",
       "      <td>bacteria</td>\n",
       "      <td>60</td>\n",
       "      <td>1861</td>\n",
       "    </tr>\n",
       "    <tr>\n",
       "      <th>28</th>\n",
       "      <td>19</td>\n",
       "      <td>0</td>\n",
       "      <td>2517287020</td>\n",
       "      <td>bacteria</td>\n",
       "      <td>60</td>\n",
       "      <td>1809</td>\n",
       "    </tr>\n",
       "    <tr>\n",
       "      <th>21</th>\n",
       "      <td>19</td>\n",
       "      <td>0</td>\n",
       "      <td>2515154141</td>\n",
       "      <td>bacteria</td>\n",
       "      <td>60</td>\n",
       "      <td>1786</td>\n",
       "    </tr>\n",
       "    <tr>\n",
       "      <th>20</th>\n",
       "      <td>18</td>\n",
       "      <td>0</td>\n",
       "      <td>2515154140</td>\n",
       "      <td>bacteria</td>\n",
       "      <td>60</td>\n",
       "      <td>1767</td>\n",
       "    </tr>\n",
       "    <tr>\n",
       "      <th>277</th>\n",
       "      <td>28</td>\n",
       "      <td>0</td>\n",
       "      <td>640753051</td>\n",
       "      <td>bacteria</td>\n",
       "      <td>60</td>\n",
       "      <td>1701</td>\n",
       "    </tr>\n",
       "  </tbody>\n",
       "</table>\n",
       "</div>"
      ],
      "text/plain": [
       "     n_compounds_cumulative  n_targets_cumulative      org_id    domain  \\\n",
       "156                      22                     0  2554235157  bacteria   \n",
       "28                       19                     0  2517287020  bacteria   \n",
       "21                       19                     0  2515154141  bacteria   \n",
       "20                       18                     0  2515154140  bacteria   \n",
       "277                      28                     0   640753051  bacteria   \n",
       "\n",
       "     n_scope_targets  n_scope_compounds  \n",
       "156               60               1861  \n",
       "28                60               1809  \n",
       "21                60               1786  \n",
       "20                60               1767  \n",
       "277               60               1701  "
      ]
     },
     "execution_count": 288,
     "metadata": {},
     "output_type": "execute_result"
    }
   ],
   "source": [
    "merged_df.head()"
   ]
  },
  {
   "cell_type": "code",
   "execution_count": 289,
   "metadata": {},
   "outputs": [],
   "source": [
    "merged_df_phosphorous = merged_df"
   ]
  },
  {
   "cell_type": "code",
   "execution_count": 290,
   "metadata": {},
   "outputs": [],
   "source": [
    "merged_df_phosphorous['P'] = True"
   ]
  },
  {
   "cell_type": "code",
   "execution_count": 291,
   "metadata": {},
   "outputs": [
    {
     "data": {
      "text/html": [
       "<div>\n",
       "<style scoped>\n",
       "    .dataframe tbody tr th:only-of-type {\n",
       "        vertical-align: middle;\n",
       "    }\n",
       "\n",
       "    .dataframe tbody tr th {\n",
       "        vertical-align: top;\n",
       "    }\n",
       "\n",
       "    .dataframe thead th {\n",
       "        text-align: right;\n",
       "    }\n",
       "</style>\n",
       "<table border=\"1\" class=\"dataframe\">\n",
       "  <thead>\n",
       "    <tr style=\"text-align: right;\">\n",
       "      <th></th>\n",
       "      <th>n_compounds_cumulative</th>\n",
       "      <th>n_targets_cumulative</th>\n",
       "      <th>org_id</th>\n",
       "      <th>domain</th>\n",
       "      <th>n_scope_targets</th>\n",
       "      <th>n_scope_compounds</th>\n",
       "      <th>P</th>\n",
       "    </tr>\n",
       "  </thead>\n",
       "  <tbody>\n",
       "    <tr>\n",
       "      <th>156</th>\n",
       "      <td>22</td>\n",
       "      <td>0</td>\n",
       "      <td>2554235157</td>\n",
       "      <td>bacteria</td>\n",
       "      <td>60</td>\n",
       "      <td>1861</td>\n",
       "      <td>True</td>\n",
       "    </tr>\n",
       "    <tr>\n",
       "      <th>28</th>\n",
       "      <td>19</td>\n",
       "      <td>0</td>\n",
       "      <td>2517287020</td>\n",
       "      <td>bacteria</td>\n",
       "      <td>60</td>\n",
       "      <td>1809</td>\n",
       "      <td>True</td>\n",
       "    </tr>\n",
       "    <tr>\n",
       "      <th>21</th>\n",
       "      <td>19</td>\n",
       "      <td>0</td>\n",
       "      <td>2515154141</td>\n",
       "      <td>bacteria</td>\n",
       "      <td>60</td>\n",
       "      <td>1786</td>\n",
       "      <td>True</td>\n",
       "    </tr>\n",
       "    <tr>\n",
       "      <th>20</th>\n",
       "      <td>18</td>\n",
       "      <td>0</td>\n",
       "      <td>2515154140</td>\n",
       "      <td>bacteria</td>\n",
       "      <td>60</td>\n",
       "      <td>1767</td>\n",
       "      <td>True</td>\n",
       "    </tr>\n",
       "    <tr>\n",
       "      <th>277</th>\n",
       "      <td>28</td>\n",
       "      <td>0</td>\n",
       "      <td>640753051</td>\n",
       "      <td>bacteria</td>\n",
       "      <td>60</td>\n",
       "      <td>1701</td>\n",
       "      <td>True</td>\n",
       "    </tr>\n",
       "  </tbody>\n",
       "</table>\n",
       "</div>"
      ],
      "text/plain": [
       "     n_compounds_cumulative  n_targets_cumulative      org_id    domain  \\\n",
       "156                      22                     0  2554235157  bacteria   \n",
       "28                       19                     0  2517287020  bacteria   \n",
       "21                       19                     0  2515154141  bacteria   \n",
       "20                       18                     0  2515154140  bacteria   \n",
       "277                      28                     0   640753051  bacteria   \n",
       "\n",
       "     n_scope_targets  n_scope_compounds     P  \n",
       "156               60               1861  True  \n",
       "28                60               1809  True  \n",
       "21                60               1786  True  \n",
       "20                60               1767  True  \n",
       "277               60               1701  True  "
      ]
     },
     "execution_count": 291,
     "metadata": {},
     "output_type": "execute_result"
    }
   ],
   "source": [
    "merged_df_phosphorous.head()"
   ]
  },
  {
   "cell_type": "markdown",
   "metadata": {},
   "source": [
    "### Put P and no P dfs together"
   ]
  },
  {
   "cell_type": "code",
   "execution_count": 296,
   "metadata": {},
   "outputs": [],
   "source": [
    "for col in merged_df_phosphorous.columns:\n",
    "    merged_df_phosphorous.rename(columns={col: col+'_P'}, inplace=True)"
   ]
  },
  {
   "cell_type": "code",
   "execution_count": 297,
   "metadata": {},
   "outputs": [
    {
     "data": {
      "text/html": [
       "<div>\n",
       "<style scoped>\n",
       "    .dataframe tbody tr th:only-of-type {\n",
       "        vertical-align: middle;\n",
       "    }\n",
       "\n",
       "    .dataframe tbody tr th {\n",
       "        vertical-align: top;\n",
       "    }\n",
       "\n",
       "    .dataframe thead th {\n",
       "        text-align: right;\n",
       "    }\n",
       "</style>\n",
       "<table border=\"1\" class=\"dataframe\">\n",
       "  <thead>\n",
       "    <tr style=\"text-align: right;\">\n",
       "      <th></th>\n",
       "      <th>n_compounds_cumulative_P</th>\n",
       "      <th>n_targets_cumulative_P</th>\n",
       "      <th>org_id_P</th>\n",
       "      <th>domain_P</th>\n",
       "      <th>n_scope_targets_P</th>\n",
       "      <th>n_scope_compounds_P</th>\n",
       "      <th>P_P</th>\n",
       "    </tr>\n",
       "  </thead>\n",
       "  <tbody>\n",
       "    <tr>\n",
       "      <th>156</th>\n",
       "      <td>22</td>\n",
       "      <td>0</td>\n",
       "      <td>2554235157</td>\n",
       "      <td>bacteria</td>\n",
       "      <td>60</td>\n",
       "      <td>1861</td>\n",
       "      <td>True</td>\n",
       "    </tr>\n",
       "    <tr>\n",
       "      <th>28</th>\n",
       "      <td>19</td>\n",
       "      <td>0</td>\n",
       "      <td>2517287020</td>\n",
       "      <td>bacteria</td>\n",
       "      <td>60</td>\n",
       "      <td>1809</td>\n",
       "      <td>True</td>\n",
       "    </tr>\n",
       "    <tr>\n",
       "      <th>21</th>\n",
       "      <td>19</td>\n",
       "      <td>0</td>\n",
       "      <td>2515154141</td>\n",
       "      <td>bacteria</td>\n",
       "      <td>60</td>\n",
       "      <td>1786</td>\n",
       "      <td>True</td>\n",
       "    </tr>\n",
       "    <tr>\n",
       "      <th>20</th>\n",
       "      <td>18</td>\n",
       "      <td>0</td>\n",
       "      <td>2515154140</td>\n",
       "      <td>bacteria</td>\n",
       "      <td>60</td>\n",
       "      <td>1767</td>\n",
       "      <td>True</td>\n",
       "    </tr>\n",
       "    <tr>\n",
       "      <th>277</th>\n",
       "      <td>28</td>\n",
       "      <td>0</td>\n",
       "      <td>640753051</td>\n",
       "      <td>bacteria</td>\n",
       "      <td>60</td>\n",
       "      <td>1701</td>\n",
       "      <td>True</td>\n",
       "    </tr>\n",
       "  </tbody>\n",
       "</table>\n",
       "</div>"
      ],
      "text/plain": [
       "     n_compounds_cumulative_P  n_targets_cumulative_P    org_id_P  domain_P  \\\n",
       "156                        22                       0  2554235157  bacteria   \n",
       "28                         19                       0  2517287020  bacteria   \n",
       "21                         19                       0  2515154141  bacteria   \n",
       "20                         18                       0  2515154140  bacteria   \n",
       "277                        28                       0   640753051  bacteria   \n",
       "\n",
       "     n_scope_targets_P  n_scope_compounds_P   P_P  \n",
       "156                 60                 1861  True  \n",
       "28                  60                 1809  True  \n",
       "21                  60                 1786  True  \n",
       "20                  60                 1767  True  \n",
       "277                 60                 1701  True  "
      ]
     },
     "execution_count": 297,
     "metadata": {},
     "output_type": "execute_result"
    }
   ],
   "source": [
    "merged_df_phosphorous.head()"
   ]
  },
  {
   "cell_type": "code",
   "execution_count": 300,
   "metadata": {},
   "outputs": [],
   "source": [
    "pnp_df = pd.merge(merged_df_nophosphorous,merged_df_phosphorous,left_on=\"org_id\",right_on=\"org_id_P\")"
   ]
  },
  {
   "cell_type": "code",
   "execution_count": 293,
   "metadata": {},
   "outputs": [],
   "source": [
    "# pnp_df = pd.concat([merged_df_nophosphorous,merged_df_phosphorous])"
   ]
  },
  {
   "cell_type": "code",
   "execution_count": 301,
   "metadata": {},
   "outputs": [
    {
     "data": {
      "text/html": [
       "<div>\n",
       "<style scoped>\n",
       "    .dataframe tbody tr th:only-of-type {\n",
       "        vertical-align: middle;\n",
       "    }\n",
       "\n",
       "    .dataframe tbody tr th {\n",
       "        vertical-align: top;\n",
       "    }\n",
       "\n",
       "    .dataframe thead th {\n",
       "        text-align: right;\n",
       "    }\n",
       "</style>\n",
       "<table border=\"1\" class=\"dataframe\">\n",
       "  <thead>\n",
       "    <tr style=\"text-align: right;\">\n",
       "      <th></th>\n",
       "      <th>n_compounds_cumulative</th>\n",
       "      <th>n_targets_cumulative</th>\n",
       "      <th>org_id</th>\n",
       "      <th>domain</th>\n",
       "      <th>n_scope_targets</th>\n",
       "      <th>n_scope_compounds</th>\n",
       "      <th>P</th>\n",
       "      <th>n_compounds_cumulative_P</th>\n",
       "      <th>n_targets_cumulative_P</th>\n",
       "      <th>org_id_P</th>\n",
       "      <th>domain_P</th>\n",
       "      <th>n_scope_targets_P</th>\n",
       "      <th>n_scope_compounds_P</th>\n",
       "      <th>P_P</th>\n",
       "    </tr>\n",
       "  </thead>\n",
       "  <tbody>\n",
       "    <tr>\n",
       "      <th>0</th>\n",
       "      <td>19</td>\n",
       "      <td>0</td>\n",
       "      <td>2554235157</td>\n",
       "      <td>bacteria</td>\n",
       "      <td>60</td>\n",
       "      <td>1861</td>\n",
       "      <td>False</td>\n",
       "      <td>22</td>\n",
       "      <td>0</td>\n",
       "      <td>2554235157</td>\n",
       "      <td>bacteria</td>\n",
       "      <td>60</td>\n",
       "      <td>1861</td>\n",
       "      <td>True</td>\n",
       "    </tr>\n",
       "    <tr>\n",
       "      <th>1</th>\n",
       "      <td>17</td>\n",
       "      <td>0</td>\n",
       "      <td>2517287020</td>\n",
       "      <td>bacteria</td>\n",
       "      <td>60</td>\n",
       "      <td>1809</td>\n",
       "      <td>False</td>\n",
       "      <td>19</td>\n",
       "      <td>0</td>\n",
       "      <td>2517287020</td>\n",
       "      <td>bacteria</td>\n",
       "      <td>60</td>\n",
       "      <td>1809</td>\n",
       "      <td>True</td>\n",
       "    </tr>\n",
       "    <tr>\n",
       "      <th>2</th>\n",
       "      <td>17</td>\n",
       "      <td>0</td>\n",
       "      <td>2515154141</td>\n",
       "      <td>bacteria</td>\n",
       "      <td>60</td>\n",
       "      <td>1786</td>\n",
       "      <td>False</td>\n",
       "      <td>19</td>\n",
       "      <td>0</td>\n",
       "      <td>2515154141</td>\n",
       "      <td>bacteria</td>\n",
       "      <td>60</td>\n",
       "      <td>1786</td>\n",
       "      <td>True</td>\n",
       "    </tr>\n",
       "    <tr>\n",
       "      <th>3</th>\n",
       "      <td>16</td>\n",
       "      <td>0</td>\n",
       "      <td>2515154140</td>\n",
       "      <td>bacteria</td>\n",
       "      <td>60</td>\n",
       "      <td>1767</td>\n",
       "      <td>False</td>\n",
       "      <td>18</td>\n",
       "      <td>0</td>\n",
       "      <td>2515154140</td>\n",
       "      <td>bacteria</td>\n",
       "      <td>60</td>\n",
       "      <td>1767</td>\n",
       "      <td>True</td>\n",
       "    </tr>\n",
       "    <tr>\n",
       "      <th>4</th>\n",
       "      <td>25</td>\n",
       "      <td>0</td>\n",
       "      <td>640753051</td>\n",
       "      <td>bacteria</td>\n",
       "      <td>60</td>\n",
       "      <td>1701</td>\n",
       "      <td>False</td>\n",
       "      <td>28</td>\n",
       "      <td>0</td>\n",
       "      <td>640753051</td>\n",
       "      <td>bacteria</td>\n",
       "      <td>60</td>\n",
       "      <td>1701</td>\n",
       "      <td>True</td>\n",
       "    </tr>\n",
       "  </tbody>\n",
       "</table>\n",
       "</div>"
      ],
      "text/plain": [
       "   n_compounds_cumulative  n_targets_cumulative      org_id    domain  \\\n",
       "0                      19                     0  2554235157  bacteria   \n",
       "1                      17                     0  2517287020  bacteria   \n",
       "2                      17                     0  2515154141  bacteria   \n",
       "3                      16                     0  2515154140  bacteria   \n",
       "4                      25                     0   640753051  bacteria   \n",
       "\n",
       "   n_scope_targets  n_scope_compounds      P  n_compounds_cumulative_P  \\\n",
       "0               60               1861  False                        22   \n",
       "1               60               1809  False                        19   \n",
       "2               60               1786  False                        19   \n",
       "3               60               1767  False                        18   \n",
       "4               60               1701  False                        28   \n",
       "\n",
       "   n_targets_cumulative_P    org_id_P  domain_P  n_scope_targets_P  \\\n",
       "0                       0  2554235157  bacteria                 60   \n",
       "1                       0  2517287020  bacteria                 60   \n",
       "2                       0  2515154141  bacteria                 60   \n",
       "3                       0  2515154140  bacteria                 60   \n",
       "4                       0   640753051  bacteria                 60   \n",
       "\n",
       "   n_scope_compounds_P   P_P  \n",
       "0                 1861  True  \n",
       "1                 1809  True  \n",
       "2                 1786  True  \n",
       "3                 1767  True  \n",
       "4                 1701  True  "
      ]
     },
     "execution_count": 301,
     "metadata": {},
     "output_type": "execute_result"
    }
   ],
   "source": [
    "pnp_df.head()"
   ]
  },
  {
   "cell_type": "code",
   "execution_count": 386,
   "metadata": {},
   "outputs": [],
   "source": [
    "pnp_df.rename(columns={'n_compounds_cumulative': 'No P', 'n_compounds_cumulative_P': 'P'}, inplace=True)"
   ]
  },
  {
   "cell_type": "code",
   "execution_count": 388,
   "metadata": {},
   "outputs": [
    {
     "data": {
      "text/plain": [
       "Text(0.5,0,'Number of compounds in scope')"
      ]
     },
     "execution_count": 388,
     "metadata": {},
     "output_type": "execute_result"
    },
    {
     "data": {
      "image/png": "[encoded data removed]",
      "text/plain": [
       "<Figure size 576x288 with 1 Axes>"
      ]
     },
     "metadata": {},
     "output_type": "display_data"
    }
   ],
   "source": [
    "ax = pnp_df[['No P','P']].plot.hist(alpha=.5,bins=30,legend=True,color=['grey','purple'],figsize=(8,4))\n",
    "ax.set_title(\"Histogram of number of compounds in scope with\\n and without phosphate\",fontsize=16)\n",
    "ax.set_xlabel(\"Number of compounds in scope\")\n",
    "# plt."
   ]
  },
  {
   "cell_type": "code",
   "execution_count": 336,
   "metadata": {},
   "outputs": [
    {
     "data": {
      "text/html": [
       "<div>\n",
       "<style scoped>\n",
       "    .dataframe tbody tr th:only-of-type {\n",
       "        vertical-align: middle;\n",
       "    }\n",
       "\n",
       "    .dataframe tbody tr th {\n",
       "        vertical-align: top;\n",
       "    }\n",
       "\n",
       "    .dataframe thead th {\n",
       "        text-align: right;\n",
       "    }\n",
       "</style>\n",
       "<table border=\"1\" class=\"dataframe\">\n",
       "  <thead>\n",
       "    <tr style=\"text-align: right;\">\n",
       "      <th>domain</th>\n",
       "      <th>archaea</th>\n",
       "      <th>bacteria</th>\n",
       "    </tr>\n",
       "  </thead>\n",
       "  <tbody>\n",
       "    <tr>\n",
       "      <th>n_scope_targets</th>\n",
       "      <td>50.785714</td>\n",
       "      <td>58.492481</td>\n",
       "    </tr>\n",
       "  </tbody>\n",
       "</table>\n",
       "</div>"
      ],
      "text/plain": [
       "domain             archaea   bacteria\n",
       "n_scope_targets  50.785714  58.492481"
      ]
     },
     "execution_count": 336,
     "metadata": {},
     "output_type": "execute_result"
    }
   ],
   "source": [
    "pd.pivot_table(merged_df_nophosphorous[['domain','n_scope_targets']],columns=[\"domain\"])"
   ]
  },
  {
   "cell_type": "code",
   "execution_count": 345,
   "metadata": {},
   "outputs": [
    {
     "data": {
      "text/html": [
       "<div>\n",
       "<style scoped>\n",
       "    .dataframe tbody tr th:only-of-type {\n",
       "        vertical-align: middle;\n",
       "    }\n",
       "\n",
       "    .dataframe tbody tr th {\n",
       "        vertical-align: top;\n",
       "    }\n",
       "\n",
       "    .dataframe thead th {\n",
       "        text-align: right;\n",
       "    }\n",
       "</style>\n",
       "<table border=\"1\" class=\"dataframe\">\n",
       "  <thead>\n",
       "    <tr style=\"text-align: right;\">\n",
       "      <th></th>\n",
       "      <th>n_compounds_cumulative</th>\n",
       "      <th>n_targets_cumulative</th>\n",
       "      <th>org_id</th>\n",
       "      <th>domain</th>\n",
       "      <th>n_scope_targets</th>\n",
       "      <th>n_scope_compounds</th>\n",
       "      <th>P</th>\n",
       "    </tr>\n",
       "  </thead>\n",
       "  <tbody>\n",
       "    <tr>\n",
       "      <th>156</th>\n",
       "      <td>19</td>\n",
       "      <td>0</td>\n",
       "      <td>2554235157</td>\n",
       "      <td>bacteria</td>\n",
       "      <td>60</td>\n",
       "      <td>1861</td>\n",
       "      <td>False</td>\n",
       "    </tr>\n",
       "    <tr>\n",
       "      <th>28</th>\n",
       "      <td>17</td>\n",
       "      <td>0</td>\n",
       "      <td>2517287020</td>\n",
       "      <td>bacteria</td>\n",
       "      <td>60</td>\n",
       "      <td>1809</td>\n",
       "      <td>False</td>\n",
       "    </tr>\n",
       "    <tr>\n",
       "      <th>21</th>\n",
       "      <td>17</td>\n",
       "      <td>0</td>\n",
       "      <td>2515154141</td>\n",
       "      <td>bacteria</td>\n",
       "      <td>60</td>\n",
       "      <td>1786</td>\n",
       "      <td>False</td>\n",
       "    </tr>\n",
       "    <tr>\n",
       "      <th>20</th>\n",
       "      <td>16</td>\n",
       "      <td>0</td>\n",
       "      <td>2515154140</td>\n",
       "      <td>bacteria</td>\n",
       "      <td>60</td>\n",
       "      <td>1767</td>\n",
       "      <td>False</td>\n",
       "    </tr>\n",
       "    <tr>\n",
       "      <th>277</th>\n",
       "      <td>25</td>\n",
       "      <td>0</td>\n",
       "      <td>640753051</td>\n",
       "      <td>bacteria</td>\n",
       "      <td>60</td>\n",
       "      <td>1701</td>\n",
       "      <td>False</td>\n",
       "    </tr>\n",
       "  </tbody>\n",
       "</table>\n",
       "</div>"
      ],
      "text/plain": [
       "     n_compounds_cumulative  n_targets_cumulative      org_id    domain  \\\n",
       "156                      19                     0  2554235157  bacteria   \n",
       "28                       17                     0  2517287020  bacteria   \n",
       "21                       17                     0  2515154141  bacteria   \n",
       "20                       16                     0  2515154140  bacteria   \n",
       "277                      25                     0   640753051  bacteria   \n",
       "\n",
       "     n_scope_targets  n_scope_compounds      P  \n",
       "156               60               1861  False  \n",
       "28                60               1809  False  \n",
       "21                60               1786  False  \n",
       "20                60               1767  False  \n",
       "277               60               1701  False  "
      ]
     },
     "execution_count": 345,
     "metadata": {},
     "output_type": "execute_result"
    }
   ],
   "source": [
    "merged_df_nophosphorous.head()"
   ]
  },
  {
   "cell_type": "code",
   "execution_count": 351,
   "metadata": {},
   "outputs": [],
   "source": [
    "scope_targets_df = pd.DataFrame()"
   ]
  },
  {
   "cell_type": "code",
   "execution_count": 354,
   "metadata": {},
   "outputs": [],
   "source": [
    "scope_targets_df[\"archaea\"] = merged_df_nophosphorous.loc[merged_df_nophosphorous[\"domain\"]==\"archaea\"][\"n_scope_targets\"]"
   ]
  },
  {
   "cell_type": "code",
   "execution_count": 352,
   "metadata": {},
   "outputs": [],
   "source": [
    "# merged_df_nophosphorous.loc[merged_df_nophosphorous[\"domain\"]==\"bacteria\"][\"n_scope_targets\"]"
   ]
  },
  {
   "cell_type": "code",
   "execution_count": 353,
   "metadata": {},
   "outputs": [],
   "source": [
    "scope_targets_df[\"bacteria\"] = merged_df_nophosphorous.loc[merged_df_nophosphorous[\"domain\"]==\"bacteria\"][\"n_scope_targets\"]"
   ]
  },
  {
   "cell_type": "code",
   "execution_count": 355,
   "metadata": {},
   "outputs": [
    {
     "data": {
      "text/plain": [
       "266"
      ]
     },
     "execution_count": 355,
     "metadata": {},
     "output_type": "execute_result"
    }
   ],
   "source": [
    "len(scope_targets_df)"
   ]
  },
  {
   "cell_type": "code",
   "execution_count": 395,
   "metadata": {},
   "outputs": [
    {
     "data": {
      "text/plain": [
       "Text(0.5,0,'Number of compounds in target set')"
      ]
     },
     "execution_count": 395,
     "metadata": {},
     "output_type": "execute_result"
    },
    {
     "data": {
      "image/png": "[encoded data removed]",
      "text/plain": [
       "<Figure size 576x288 with 1 Axes>"
      ]
     },
     "metadata": {},
     "output_type": "display_data"
    }
   ],
   "source": [
    "ax = merged_df_nophosphorous.loc[merged_df_nophosphorous[\"domain\"]==\"bacteria\"][\"n_scope_targets\"].plot.hist(alpha=.5,bins=range(1,70,2),normed=True,legend=False,figsize=(8,4))\n",
    "merged_df_nophosphorous.loc[merged_df_nophosphorous[\"domain\"]==\"archaea\"][\"n_scope_targets\"].plot.hist(alpha=.5,bins=range(1,70,2),normed=True,legend=False)\n",
    "\n",
    "ax.set_title(\"Histogram of number of target compounds in \\norganismal networks by domain\",fontsize=16)\n",
    "ax.set_xlabel(\"Number of compounds in target set\")"
   ]
  },
  {
   "cell_type": "code",
   "execution_count": 368,
   "metadata": {},
   "outputs": [
    {
     "data": {
      "text/plain": [
       "[1, 6, 11, 16, 21, 26, 31, 36, 41, 46, 51, 56, 61]"
      ]
     },
     "execution_count": 368,
     "metadata": {},
     "output_type": "execute_result"
    }
   ],
   "source": [
    "range(1,65,5)"
   ]
  },
  {
   "cell_type": "code",
   "execution_count": 396,
   "metadata": {},
   "outputs": [
    {
     "data": {
      "text/plain": [
       "Text(0.5,0,'Number of compounds')"
      ]
     },
     "execution_count": 396,
     "metadata": {},
     "output_type": "execute_result"
    },
    {
     "data": {
      "image/png": "[encoded data removed]",
      "text/plain": [
       "<Figure size 576x288 with 1 Axes>"
      ]
     },
     "metadata": {},
     "output_type": "display_data"
    }
   ],
   "source": [
    "ax = merged_df_nophosphorous.loc[merged_df_nophosphorous[\"domain\"]==\"bacteria\"][\"n_scope_compounds\"].plot.hist(alpha=.5,bins=range(1,2000,100),normed=True,figsize=(8,4),legend=False)\n",
    "merged_df_nophosphorous.loc[merged_df_nophosphorous[\"domain\"]==\"archaea\"][\"n_scope_compounds\"].plot.hist(alpha=.5,bins=range(1,2000,100),normed=True,legend=False)\n",
    "\n",
    "ax.set_title(\"Histogram of number of compounds possible in \\norganismal networks by domain\",fontsize=16)\n",
    "ax.set_xlabel(\"Number of compounds\")"
   ]
  },
  {
   "cell_type": "code",
   "execution_count": 361,
   "metadata": {},
   "outputs": [
    {
     "data": {
      "text/plain": [
       "<matplotlib.axes._subplots.AxesSubplot at 0x126bf8b90>"
      ]
     },
     "execution_count": 361,
     "metadata": {},
     "output_type": "execute_result"
    },
    {
     "data": {
      "image/png": "[encoded data removed]",
      "text/plain": [
       "<Figure size 432x288 with 1 Axes>"
      ]
     },
     "metadata": {},
     "output_type": "display_data"
    }
   ],
   "source": [
    "merged_df_nophosphorous.loc[merged_df_nophosphorous[\"domain\"]==\"bacteria\"][\"n_scope_targets\"].plot.hist(alpha=.5,bins=range(65),legend=False)\n"
   ]
  },
  {
   "cell_type": "code",
   "execution_count": 307,
   "metadata": {},
   "outputs": [
    {
     "data": {
      "text/plain": [
       "<matplotlib.axes._subplots.AxesSubplot at 0x1260dfd10>"
      ]
     },
     "execution_count": 307,
     "metadata": {},
     "output_type": "execute_result"
    },
    {
     "data": {
      "image/png": "[encoded data removed]",
      "text/plain": [
       "<Figure size 432x288 with 1 Axes>"
      ]
     },
     "metadata": {},
     "output_type": "display_data"
    }
   ],
   "source": [
    "pnp_df[['n_scope_compounds','n_scope_compounds_P']].plot.hist(alpha=.5,bins=30,legend=False)"
   ]
  },
  {
   "cell_type": "code",
   "execution_count": null,
   "metadata": {},
   "outputs": [],
   "source": [
    "pnp_df[['n_compounds_cumulative','n_scope_targets','n_scope_compounds']].hist(alpha=.5,bins=50)"
   ]
  },
  {
   "cell_type": "code",
   "execution_count": null,
   "metadata": {},
   "outputs": [],
   "source": []
  },
  {
   "cell_type": "code",
   "execution_count": null,
   "metadata": {},
   "outputs": [],
   "source": []
  },
  {
   "cell_type": "code",
   "execution_count": null,
   "metadata": {},
   "outputs": [],
   "source": []
  },
  {
   "cell_type": "code",
   "execution_count": null,
   "metadata": {},
   "outputs": [],
   "source": []
  },
  {
   "cell_type": "code",
   "execution_count": 176,
   "metadata": {},
   "outputs": [
    {
     "data": {
      "text/plain": [
       "['domain',\n",
       " u'scope_seeds',\n",
       " u'scope_targets',\n",
       " 'org_id',\n",
       " u'scope_compounds',\n",
       " 'path',\n",
       " u'scope_reactions']"
      ]
     },
     "execution_count": 176,
     "metadata": {},
     "output_type": "execute_result"
    }
   ],
   "source": [
    "stats_dicts[0].keys()"
   ]
  },
  {
   "cell_type": "code",
   "execution_count": 177,
   "metadata": {},
   "outputs": [
    {
     "data": {
      "text/plain": [
       "(array([   2.,    0.,    2.,   13.,   46.,  173.,   23.,   12.,   14.,    9.]),\n",
       " array([  3. ,   4.2,   5.4,   6.6,   7.8,   9. ,  10.2,  11.4,  12.6,\n",
       "         13.8,  15. ]),\n",
       " <a list of 10 Patch objects>)"
      ]
     },
     "execution_count": 177,
     "metadata": {},
     "output_type": "execute_result"
    },
    {
     "data": {
      "image/png": "[encoded data removed]",
      "text/plain": [
       "<Figure size 432x288 with 1 Axes>"
      ]
     },
     "metadata": {},
     "output_type": "display_data"
    }
   ],
   "source": [
    "plt.hist([len(d['scope_seeds']) for d in stats_dicts])"
   ]
  },
  {
   "cell_type": "code",
   "execution_count": 178,
   "metadata": {},
   "outputs": [
    {
     "data": {
      "text/plain": [
       "(array([   1.,    0.,    0.,    1.,    2.,    4.,    8.,   19.,  107.,  152.]),\n",
       " array([ 32. ,  34.9,  37.8,  40.7,  43.6,  46.5,  49.4,  52.3,  55.2,\n",
       "         58.1,  61. ]),\n",
       " <a list of 10 Patch objects>)"
      ]
     },
     "execution_count": 178,
     "metadata": {},
     "output_type": "execute_result"
    },
    {
     "data": {
      "image/png": "[encoded data removed]",
      "text/plain": [
       "<Figure size 432x288 with 1 Axes>"
      ]
     },
     "metadata": {},
     "output_type": "display_data"
    }
   ],
   "source": [
    "plt.hist([len(d['scope_targets']) for d in stats_dicts])"
   ]
  },
  {
   "cell_type": "code",
   "execution_count": 179,
   "metadata": {},
   "outputs": [
    {
     "data": {
      "text/plain": [
       "(array([  2.,   0.,   4.,  15.,  28.,  64.,  80.,  71.,  25.,   5.]),\n",
       " array([  161.,   331.,   501.,   671.,   841.,  1011.,  1181.,  1351.,\n",
       "         1521.,  1691.,  1861.]),\n",
       " <a list of 10 Patch objects>)"
      ]
     },
     "execution_count": 179,
     "metadata": {},
     "output_type": "execute_result"
    },
    {
     "data": {
      "image/png": "[encoded data removed]",
      "text/plain": [
       "<Figure size 432x288 with 1 Axes>"
      ]
     },
     "metadata": {},
     "output_type": "display_data"
    }
   ],
   "source": [
    "plt.hist([len(d['scope_compounds']) for d in stats_dicts])"
   ]
  },
  {
   "cell_type": "code",
   "execution_count": 180,
   "metadata": {},
   "outputs": [
    {
     "data": {
      "text/plain": [
       "(array([  2.,   2.,   7.,   8.,  26.,  67.,  64.,  80.,  33.,   5.]),\n",
       " array([   85. ,   247.2,   409.4,   571.6,   733.8,   896. ,  1058.2,\n",
       "         1220.4,  1382.6,  1544.8,  1707. ]),\n",
       " <a list of 10 Patch objects>)"
      ]
     },
     "execution_count": 180,
     "metadata": {},
     "output_type": "execute_result"
    },
    {
     "data": {
      "image/png": "[encoded data removed]",
      "text/plain": [
       "<Figure size 432x288 with 1 Axes>"
      ]
     },
     "metadata": {},
     "output_type": "display_data"
    }
   ],
   "source": [
    "plt.hist([len(d['scope_reactions']) for d in stats_dicts])"
   ]
  },
  {
   "cell_type": "code",
   "execution_count": 181,
   "metadata": {},
   "outputs": [],
   "source": [
    "# cool_plots_many(df,'n_compounds_new')"
   ]
  },
  {
   "cell_type": "code",
   "execution_count": 182,
   "metadata": {},
   "outputs": [],
   "source": [
    "# cool_plots_many(df,'n_compounds_cumulative')"
   ]
  },
  {
   "cell_type": "code",
   "execution_count": 183,
   "metadata": {},
   "outputs": [],
   "source": [
    "# cool_plots_many(df,'n_targets_cumulative')"
   ]
  },
  {
   "cell_type": "code",
   "execution_count": 186,
   "metadata": {},
   "outputs": [
    {
     "data": {
      "image/png": "[encoded data removed]",
      "text/plain": [
       "<Figure size 864x432 with 1 Axes>"
      ]
     },
     "metadata": {},
     "output_type": "display_data"
    }
   ],
   "source": [
    "ax = df.loc[df[\"domain\"]==\"archaea\"].reset_index().plot(kind=\"line\",x=\"index\",y=\"n_compounds_cumulative\", style='-o',color=\"orange\",figsize=(12,6),legend=False)\n",
    "df.loc[df[\"domain\"]==\"bacteria\"].reset_index().plot(kind=\"line\",x=\"index\",y=\"n_compounds_cumulative\", style='-o',color=\"blue\",ax=ax, alpha=.3,legend=False)\n",
    "\n",
    "ax.set_title(\"Prokaryotic network expansion using Enceladus \\nseed set (including phosphate)\")\n",
    "ax.set_xlabel(\"Generation of network expansion\")\n",
    "ax.set_ylabel(\"Number of compounds per \\ngeneration (cumulative)\")\n",
    "plt.tight_layout()"
   ]
  },
  {
   "cell_type": "markdown",
   "metadata": {},
   "source": [
    "## Using all KEGGs reactions"
   ]
  },
  {
   "cell_type": "code",
   "execution_count": 205,
   "metadata": {},
   "outputs": [],
   "source": [
    "INDIR = \"../results/formatted/kegg_edge_json_P/\"\n",
    "\n",
    "generation_dfs, stats_dicts = read_formatted_json_single(INDIR)\n",
    "# print len(generation_dfs)\n",
    "generation_dfs = twist_dfs(generation_dfs)\n",
    "generation_dfs = add_n_to_cols(generation_dfs)\n",
    "# generation_dfs = add_tags(generation_dfs,cpds_to_tag)\n",
    "generation_dfs = add_domain_and_orgid(generation_dfs,stats_dicts)\n",
    "df = generation_dfs[0]"
   ]
  },
  {
   "cell_type": "code",
   "execution_count": 206,
   "metadata": {},
   "outputs": [
    {
     "data": {
      "text/plain": [
       "7"
      ]
     },
     "execution_count": 206,
     "metadata": {},
     "output_type": "execute_result"
    }
   ],
   "source": [
    "len(stats_dicts[0])"
   ]
  },
  {
   "cell_type": "code",
   "execution_count": 207,
   "metadata": {},
   "outputs": [
    {
     "data": {
      "text/html": [
       "<div>\n",
       "<style scoped>\n",
       "    .dataframe tbody tr th:only-of-type {\n",
       "        vertical-align: middle;\n",
       "    }\n",
       "\n",
       "    .dataframe tbody tr th {\n",
       "        vertical-align: top;\n",
       "    }\n",
       "\n",
       "    .dataframe thead th {\n",
       "        text-align: right;\n",
       "    }\n",
       "</style>\n",
       "<table border=\"1\" class=\"dataframe\">\n",
       "  <thead>\n",
       "    <tr style=\"text-align: right;\">\n",
       "      <th></th>\n",
       "      <th>compounds_cumulative</th>\n",
       "      <th>compounds_new</th>\n",
       "      <th>reactions_cumulative</th>\n",
       "      <th>reactions_new</th>\n",
       "      <th>targets_cumulative</th>\n",
       "      <th>targets_new</th>\n",
       "      <th>n_compounds_cumulative</th>\n",
       "      <th>n_compounds_new</th>\n",
       "      <th>n_reactions_cumulative</th>\n",
       "      <th>n_reactions_new</th>\n",
       "      <th>n_targets_cumulative</th>\n",
       "      <th>n_targets_new</th>\n",
       "      <th>org_id</th>\n",
       "      <th>domain</th>\n",
       "    </tr>\n",
       "  </thead>\n",
       "  <tbody>\n",
       "    <tr>\n",
       "      <th>1</th>\n",
       "      <td>[C00001, C00009, C01326, C00132, C00067, C0001...</td>\n",
       "      <td>[C06547, C20783, C01548, C00014, C00011, C0006...</td>\n",
       "      <td>[R10092, R05539, R09139, R00067, R00132, R0235...</td>\n",
       "      <td>[R10535, R10079, R10092, R00131, R09139, R0000...</td>\n",
       "      <td>[]</td>\n",
       "      <td>[]</td>\n",
       "      <td>19</td>\n",
       "      <td>19</td>\n",
       "      <td>24</td>\n",
       "      <td>24</td>\n",
       "      <td>0</td>\n",
       "      <td>0</td>\n",
       "      <td>reaction_edges_P</td>\n",
       "      <td>bacteria</td>\n",
       "    </tr>\n",
       "    <tr>\n",
       "      <th>2</th>\n",
       "      <td>[C00001, C00080, C00007, C00026, C00009, C0132...</td>\n",
       "      <td>[C00080, C00007, C00026, C00013, C00288, C0535...</td>\n",
       "      <td>[R10092, R00608, R05539, R00279, R00748, R0013...</td>\n",
       "      <td>[R00608, R00279, R00748, R00138, R03546, R0914...</td>\n",
       "      <td>[]</td>\n",
       "      <td>[]</td>\n",
       "      <td>43</td>\n",
       "      <td>24</td>\n",
       "      <td>64</td>\n",
       "      <td>40</td>\n",
       "      <td>0</td>\n",
       "      <td>0</td>\n",
       "      <td>reaction_edges_P</td>\n",
       "      <td>bacteria</td>\n",
       "    </tr>\n",
       "    <tr>\n",
       "      <th>3</th>\n",
       "      <td>[C00001, C00080, C00007, C00026, C00009, C0004...</td>\n",
       "      <td>[C00048, C00025, C00704, C00022, C00346, C0022...</td>\n",
       "      <td>[R00782, R10092, R06870, R00608, R00258, R0553...</td>\n",
       "      <td>[R00782, R06870, R00258, R08886, R00475, R0000...</td>\n",
       "      <td>[C00025]</td>\n",
       "      <td>[C00025]</td>\n",
       "      <td>73</td>\n",
       "      <td>30</td>\n",
       "      <td>164</td>\n",
       "      <td>100</td>\n",
       "      <td>1</td>\n",
       "      <td>1</td>\n",
       "      <td>reaction_edges_P</td>\n",
       "      <td>bacteria</td>\n",
       "    </tr>\n",
       "    <tr>\n",
       "      <th>4</th>\n",
       "      <td>[C00001, C00080, C00007, C00026, C00009, C0004...</td>\n",
       "      <td>[C02798, C00036, C00546, C00097, C00037, C0006...</td>\n",
       "      <td>[R00340, R04051, R00363, R00782, R10092, R1017...</td>\n",
       "      <td>[R00340, R04051, R00363, R10178, R02914, R0727...</td>\n",
       "      <td>[C00025, C00097, C00037, C00065, C00064, C00041]</td>\n",
       "      <td>[C00097, C00037, C00065, C00064, C00041]</td>\n",
       "      <td>162</td>\n",
       "      <td>89</td>\n",
       "      <td>326</td>\n",
       "      <td>162</td>\n",
       "      <td>6</td>\n",
       "      <td>5</td>\n",
       "      <td>reaction_edges_P</td>\n",
       "      <td>bacteria</td>\n",
       "    </tr>\n",
       "    <tr>\n",
       "      <th>5</th>\n",
       "      <td>[C00001, C00080, C00007, C02107, C00026, C0000...</td>\n",
       "      <td>[C02107, C03826, C00383, C02091, C00108, C0095...</td>\n",
       "      <td>[R00340, R09186, R10908, R03106, R03551, R0405...</td>\n",
       "      <td>[R09186, R10908, R03106, R03551, R03694, R0696...</td>\n",
       "      <td>[C00025, C00097, C00037, C00065, C00064, C0004...</td>\n",
       "      <td>[C00049, C00188]</td>\n",
       "      <td>271</td>\n",
       "      <td>109</td>\n",
       "      <td>455</td>\n",
       "      <td>129</td>\n",
       "      <td>8</td>\n",
       "      <td>2</td>\n",
       "      <td>reaction_edges_P</td>\n",
       "      <td>bacteria</td>\n",
       "    </tr>\n",
       "  </tbody>\n",
       "</table>\n",
       "</div>"
      ],
      "text/plain": [
       "                                compounds_cumulative  \\\n",
       "1  [C00001, C00009, C01326, C00132, C00067, C0001...   \n",
       "2  [C00001, C00080, C00007, C00026, C00009, C0132...   \n",
       "3  [C00001, C00080, C00007, C00026, C00009, C0004...   \n",
       "4  [C00001, C00080, C00007, C00026, C00009, C0004...   \n",
       "5  [C00001, C00080, C00007, C02107, C00026, C0000...   \n",
       "\n",
       "                                       compounds_new  \\\n",
       "1  [C06547, C20783, C01548, C00014, C00011, C0006...   \n",
       "2  [C00080, C00007, C00026, C00013, C00288, C0535...   \n",
       "3  [C00048, C00025, C00704, C00022, C00346, C0022...   \n",
       "4  [C02798, C00036, C00546, C00097, C00037, C0006...   \n",
       "5  [C02107, C03826, C00383, C02091, C00108, C0095...   \n",
       "\n",
       "                                reactions_cumulative  \\\n",
       "1  [R10092, R05539, R09139, R00067, R00132, R0235...   \n",
       "2  [R10092, R00608, R05539, R00279, R00748, R0013...   \n",
       "3  [R00782, R10092, R06870, R00608, R00258, R0553...   \n",
       "4  [R00340, R04051, R00363, R00782, R10092, R1017...   \n",
       "5  [R00340, R09186, R10908, R03106, R03551, R0405...   \n",
       "\n",
       "                                       reactions_new  \\\n",
       "1  [R10535, R10079, R10092, R00131, R09139, R0000...   \n",
       "2  [R00608, R00279, R00748, R00138, R03546, R0914...   \n",
       "3  [R00782, R06870, R00258, R08886, R00475, R0000...   \n",
       "4  [R00340, R04051, R00363, R10178, R02914, R0727...   \n",
       "5  [R09186, R10908, R03106, R03551, R03694, R0696...   \n",
       "\n",
       "                                  targets_cumulative  \\\n",
       "1                                                 []   \n",
       "2                                                 []   \n",
       "3                                           [C00025]   \n",
       "4   [C00025, C00097, C00037, C00065, C00064, C00041]   \n",
       "5  [C00025, C00097, C00037, C00065, C00064, C0004...   \n",
       "\n",
       "                                targets_new  n_compounds_cumulative  \\\n",
       "1                                        []                      19   \n",
       "2                                        []                      43   \n",
       "3                                  [C00025]                      73   \n",
       "4  [C00097, C00037, C00065, C00064, C00041]                     162   \n",
       "5                          [C00049, C00188]                     271   \n",
       "\n",
       "   n_compounds_new  n_reactions_cumulative  n_reactions_new  \\\n",
       "1               19                      24               24   \n",
       "2               24                      64               40   \n",
       "3               30                     164              100   \n",
       "4               89                     326              162   \n",
       "5              109                     455              129   \n",
       "\n",
       "   n_targets_cumulative  n_targets_new            org_id    domain  \n",
       "1                     0              0  reaction_edges_P  bacteria  \n",
       "2                     0              0  reaction_edges_P  bacteria  \n",
       "3                     1              1  reaction_edges_P  bacteria  \n",
       "4                     6              5  reaction_edges_P  bacteria  \n",
       "5                     8              2  reaction_edges_P  bacteria  "
      ]
     },
     "execution_count": 207,
     "metadata": {},
     "output_type": "execute_result"
    }
   ],
   "source": [
    "df.head()"
   ]
  },
  {
   "cell_type": "code",
   "execution_count": 208,
   "metadata": {},
   "outputs": [
    {
     "data": {
      "text/plain": [
       "(array([ 0.,  0.,  0.,  0.,  0.,  1.,  0.,  0.,  0.,  0.]),\n",
       " array([ 18.5,  18.6,  18.7,  18.8,  18.9,  19. ,  19.1,  19.2,  19.3,\n",
       "         19.4,  19.5]),\n",
       " <a list of 10 Patch objects>)"
      ]
     },
     "execution_count": 208,
     "metadata": {},
     "output_type": "execute_result"
    },
    {
     "data": {
      "image/png": "[encoded data removed]",
      "text/plain": [
       "<Figure size 432x288 with 1 Axes>"
      ]
     },
     "metadata": {},
     "output_type": "display_data"
    }
   ],
   "source": [
    "plt.hist([len(d['scope_seeds']) for d in stats_dicts])"
   ]
  },
  {
   "cell_type": "code",
   "execution_count": 209,
   "metadata": {},
   "outputs": [
    {
     "data": {
      "text/plain": [
       "(array([ 0.,  0.,  0.,  0.,  0.,  1.,  0.,  0.,  0.,  0.]),\n",
       " array([ 62.5,  62.6,  62.7,  62.8,  62.9,  63. ,  63.1,  63.2,  63.3,\n",
       "         63.4,  63.5]),\n",
       " <a list of 10 Patch objects>)"
      ]
     },
     "execution_count": 209,
     "metadata": {},
     "output_type": "execute_result"
    },
    {
     "data": {
      "image/png": "[encoded data removed]",
      "text/plain": [
       "<Figure size 432x288 with 1 Axes>"
      ]
     },
     "metadata": {},
     "output_type": "display_data"
    }
   ],
   "source": [
    "plt.hist([len(d['scope_targets']) for d in stats_dicts])"
   ]
  },
  {
   "cell_type": "code",
   "execution_count": 210,
   "metadata": {},
   "outputs": [
    {
     "data": {
      "text/plain": [
       "(array([ 0.,  0.,  0.,  0.,  0.,  1.,  0.,  0.,  0.,  0.]),\n",
       " array([ 8278.5,  8278.6,  8278.7,  8278.8,  8278.9,  8279. ,  8279.1,\n",
       "         8279.2,  8279.3,  8279.4,  8279.5]),\n",
       " <a list of 10 Patch objects>)"
      ]
     },
     "execution_count": 210,
     "metadata": {},
     "output_type": "execute_result"
    },
    {
     "data": {
      "image/png": "[encoded data removed]",
      "text/plain": [
       "<Figure size 432x288 with 1 Axes>"
      ]
     },
     "metadata": {},
     "output_type": "display_data"
    }
   ],
   "source": [
    "plt.hist([len(d['scope_compounds']) for d in stats_dicts])"
   ]
  },
  {
   "cell_type": "code",
   "execution_count": 211,
   "metadata": {},
   "outputs": [
    {
     "data": {
      "text/plain": [
       "(array([ 0.,  0.,  0.,  0.,  0.,  1.,  0.,  0.,  0.,  0.]),\n",
       " array([ 10286.5,  10286.6,  10286.7,  10286.8,  10286.9,  10287. ,\n",
       "         10287.1,  10287.2,  10287.3,  10287.4,  10287.5]),\n",
       " <a list of 10 Patch objects>)"
      ]
     },
     "execution_count": 211,
     "metadata": {},
     "output_type": "execute_result"
    },
    {
     "data": {
      "image/png": "[encoded data removed]",
      "text/plain": [
       "<Figure size 432x288 with 1 Axes>"
      ]
     },
     "metadata": {},
     "output_type": "display_data"
    }
   ],
   "source": [
    "plt.hist([len(d['scope_reactions']) for d in stats_dicts])"
   ]
  },
  {
   "cell_type": "code",
   "execution_count": 212,
   "metadata": {},
   "outputs": [
    {
     "data": {
      "0": {
       "mode": "lines+markers",
       "name": "n_compounds_new",
       "type": "scatter",
       "uid": "69ab0b0c-cf31-11e8-b6cc-003ee1c68427",
       "x": [
        1,
        2,
        3,
        4,
        5,
        6,
        7,
        8,
        9,
        10,
        11,
        12,
        13,
        14,
        15,
        16,
        17,
        18,
        19,
        20,
        21,
        22,
        23,
        24,
        25,
        26,
        27,
        28,
        29,
        30,
        31,
        32,
        33,
        34,
        35,
        36,
        37,
        38,
        39,
        40,
        41,
        42
       ],
       "y": [
        19,
        24,
        30,
        89,
        109,
        101,
        107,
        139,
        147,
        158,
        161,
        260,
        285,
        267,
        347,
        300,
        262,
        216,
        216,
        223,
        328,
        254,
        200,
        164,
        107,
        80,
        59,
        49,
        37,
        41,
        35,
        25,
        11,
        5,
        4,
        4,
        3,
        5,
        4,
        1,
        2,
        1
       ]
      },
      "image/png": "[encoded data removed]"
     },
     "metadata": {},
     "output_type": "display_data"
    }
   ],
   "source": [
    "cool_plots_many(df,'n_compounds_new')"
   ]
  },
  {
   "cell_type": "code",
   "execution_count": 213,
   "metadata": {},
   "outputs": [
    {
     "data": {
      "0": {
       "mode": "lines+markers",
       "name": "n_compounds_cumulative",
       "type": "scatter",
       "uid": "69b4fdf8-cf31-11e8-8d7a-003ee1c68427",
       "x": [
        1,
        2,
        3,
        4,
        5,
        6,
        7,
        8,
        9,
        10,
        11,
        12,
        13,
        14,
        15,
        16,
        17,
        18,
        19,
        20,
        21,
        22,
        23,
        24,
        25,
        26,
        27,
        28,
        29,
        30,
        31,
        32,
        33,
        34,
        35,
        36,
        37,
        38,
        39,
        40,
        41,
        42
       ],
       "y": [
        19,
        43,
        73,
        162,
        271,
        372,
        479,
        618,
        765,
        923,
        1084,
        1344,
        1629,
        1896,
        2243,
        2543,
        2805,
        3021,
        3237,
        3460,
        3788,
        4042,
        4242,
        4406,
        4513,
        4593,
        4652,
        4701,
        4738,
        4779,
        4814,
        4839,
        4850,
        4855,
        4859,
        4863,
        4866,
        4871,
        4875,
        4876,
        4878,
        4879
       ]
      },
      "image/png": "[encoded data removed]"
     },
     "metadata": {},
     "output_type": "display_data"
    }
   ],
   "source": [
    "cool_plots_many(df,'n_compounds_cumulative')"
   ]
  },
  {
   "cell_type": "code",
   "execution_count": 214,
   "metadata": {},
   "outputs": [
    {
     "data": {
      "0": {
       "mode": "lines+markers",
       "name": "n_targets_cumulative",
       "type": "scatter",
       "uid": "69be3705-cf31-11e8-be6d-003ee1c68427",
       "x": [
        1,
        2,
        3,
        4,
        5,
        6,
        7,
        8,
        9,
        10,
        11,
        12,
        13,
        14,
        15,
        16,
        17,
        18,
        19,
        20,
        21,
        22,
        23,
        24,
        25,
        26,
        27,
        28,
        29,
        30,
        31,
        32,
        33,
        34,
        35,
        36,
        37,
        38,
        39,
        40,
        41,
        42
       ],
       "y": [
        0,
        0,
        1,
        6,
        8,
        10,
        15,
        16,
        21,
        26,
        32,
        38,
        41,
        45,
        46,
        46,
        47,
        49,
        50,
        51,
        54,
        56,
        58,
        58,
        60,
        60,
        60,
        61,
        61,
        61,
        61,
        61,
        61,
        61,
        61,
        61,
        61,
        61,
        61,
        61,
        61,
        61
       ]
      },
      "image/png": "[encoded data removed]"
     },
     "metadata": {},
     "output_type": "display_data"
    }
   ],
   "source": [
    "cool_plots_many(df,'n_targets_cumulative')"
   ]
  },
  {
   "cell_type": "code",
   "execution_count": 215,
   "metadata": {},
   "outputs": [
    {
     "data": {
      "0": {
       "mode": "lines+markers+text",
       "name": "n_compounds_new",
       "textposition": "top center",
       "type": "scatter",
       "uid": "69c8aa87-cf31-11e8-b48f-003ee1c68427",
       "x": [
        1,
        2,
        3,
        4,
        5,
        6,
        7,
        8,
        9,
        10,
        11,
        12,
        13,
        14,
        15,
        16,
        17,
        18,
        19,
        20,
        21,
        22,
        23,
        24,
        25,
        26,
        27,
        28,
        29,
        30,
        31,
        32,
        33,
        34,
        35,
        36,
        37,
        38,
        39,
        40,
        41,
        42
       ],
       "y": [
        19,
        24,
        30,
        89,
        109,
        101,
        107,
        139,
        147,
        158,
        161,
        260,
        285,
        267,
        347,
        300,
        262,
        216,
        216,
        223,
        328,
        254,
        200,
        164,
        107,
        80,
        59,
        49,
        37,
        41,
        35,
        25,
        11,
        5,
        4,
        4,
        3,
        5,
        4,
        1,
        2,
        1
       ]
      },
      "1": {
       "mode": "lines+markers",
       "name": "n_targets_cumulative",
       "type": "scatter",
       "uid": "69c8ad07-cf31-11e8-9286-003ee1c68427",
       "x": [
        1,
        2,
        3,
        4,
        5,
        6,
        7,
        8,
        9,
        10,
        11,
        12,
        13,
        14,
        15,
        16,
        17,
        18,
        19,
        20,
        21,
        22,
        23,
        24,
        25,
        26,
        27,
        28,
        29,
        30,
        31,
        32,
        33,
        34,
        35,
        36,
        37,
        38,
        39,
        40,
        41,
        42
       ],
       "y": [
        0,
        0,
        1,
        6,
        8,
        10,
        15,
        16,
        21,
        26,
        32,
        38,
        41,
        45,
        46,
        46,
        47,
        49,
        50,
        51,
        54,
        56,
        58,
        58,
        60,
        60,
        60,
        61,
        61,
        61,
        61,
        61,
        61,
        61,
        61,
        61,
        61,
        61,
        61,
        61,
        61,
        61
       ]
      },
      "image/png": "[encoded data removed]"
     },
     "metadata": {},
     "output_type": "display_data"
    }
   ],
   "source": [
    "cool_plots(df,'n_compounds_new','n_targets_cumulative')"
   ]
  },
  {
   "cell_type": "code",
   "execution_count": 216,
   "metadata": {},
   "outputs": [
    {
     "data": {
      "text/plain": [
       "Text(0.5,0,'Generation of network expansion')"
      ]
     },
     "execution_count": 216,
     "metadata": {},
     "output_type": "execute_result"
    },
    {
     "data": {
      "image/png": "[encoded data removed]",
      "text/plain": [
       "<Figure size 864x432 with 1 Axes>"
      ]
     },
     "metadata": {},
     "output_type": "display_data"
    }
   ],
   "source": [
    "ax = df.reset_index().plot(kind=\"line\",x=\"index\",y=\"n_targets_cumulative\",style='-o',legend=False,figsize=(12,6),c='g')\n",
    "plt.axhline(y=66,c='k',linestyle='--')\n",
    "\n",
    "ax.set_xlim(0,42)\n",
    "ax.set_title(\"Biosphere network expansion using Enceladus seed set (including phosphate)\")\n",
    "ax.set_ylabel(\"Number of target compounds \\ngenerated (cumulative)\")\n",
    "ax.set_xlabel(\"Generation of network expansion\")\n"
   ]
  },
  {
   "cell_type": "code",
   "execution_count": 118,
   "metadata": {},
   "outputs": [
    {
     "name": "stdout",
     "output_type": "stream",
     "text": [
      "1\n"
     ]
    }
   ],
   "source": [
    "print 1"
   ]
  },
  {
   "cell_type": "code",
   "execution_count": 79,
   "metadata": {},
   "outputs": [
    {
     "data": {
      "text/html": [
       "<div>\n",
       "<style scoped>\n",
       "    .dataframe tbody tr th:only-of-type {\n",
       "        vertical-align: middle;\n",
       "    }\n",
       "\n",
       "    .dataframe tbody tr th {\n",
       "        vertical-align: top;\n",
       "    }\n",
       "\n",
       "    .dataframe thead th {\n",
       "        text-align: right;\n",
       "    }\n",
       "</style>\n",
       "<table border=\"1\" class=\"dataframe\">\n",
       "  <thead>\n",
       "    <tr style=\"text-align: right;\">\n",
       "      <th></th>\n",
       "      <th>compounds_cumulative</th>\n",
       "      <th>compounds_new</th>\n",
       "      <th>reactions_cumulative</th>\n",
       "      <th>reactions_new</th>\n",
       "      <th>targets_cumulative</th>\n",
       "      <th>targets_new</th>\n",
       "      <th>n_compounds_cumulative</th>\n",
       "      <th>n_compounds_new</th>\n",
       "      <th>n_reactions_cumulative</th>\n",
       "      <th>n_reactions_new</th>\n",
       "      <th>n_targets_cumulative</th>\n",
       "      <th>n_targets_new</th>\n",
       "      <th>org_id</th>\n",
       "      <th>domain</th>\n",
       "    </tr>\n",
       "  </thead>\n",
       "  <tbody>\n",
       "    <tr>\n",
       "      <th>38</th>\n",
       "      <td>[C01832, C00016, C00422, C00001, C17224, C0002...</td>\n",
       "      <td>[C19586, C16756, C16339, C19585, C19595]</td>\n",
       "      <td>[R03857, R02250, R08640, R00340, R02433, R0108...</td>\n",
       "      <td>[R09409, R09410, R09406, R07902]</td>\n",
       "      <td>[C00016, C00024, C00005, C00003, C00035, C0000...</td>\n",
       "      <td>[]</td>\n",
       "      <td>4871</td>\n",
       "      <td>5</td>\n",
       "      <td>6853</td>\n",
       "      <td>4</td>\n",
       "      <td>61</td>\n",
       "      <td>0</td>\n",
       "      <td>reaction_edges_P</td>\n",
       "      <td>bacteria</td>\n",
       "    </tr>\n",
       "    <tr>\n",
       "      <th>39</th>\n",
       "      <td>[C01832, C00016, C00422, C00001, C17224, C0002...</td>\n",
       "      <td>[C19588, C11278, C19594, C16317]</td>\n",
       "      <td>[R03857, R02250, R08640, R00340, R02433, R0108...</td>\n",
       "      <td>[R09411]</td>\n",
       "      <td>[C00016, C00024, C00005, C00003, C00035, C0000...</td>\n",
       "      <td>[]</td>\n",
       "      <td>4875</td>\n",
       "      <td>4</td>\n",
       "      <td>6854</td>\n",
       "      <td>1</td>\n",
       "      <td>61</td>\n",
       "      <td>0</td>\n",
       "      <td>reaction_edges_P</td>\n",
       "      <td>bacteria</td>\n",
       "    </tr>\n",
       "    <tr>\n",
       "      <th>40</th>\n",
       "      <td>[C01832, C00016, C00422, C00001, C17224, C0002...</td>\n",
       "      <td>[C19589]</td>\n",
       "      <td>[R03857, R02250, R08640, R00340, R02433, R0108...</td>\n",
       "      <td>[R09413, R09412]</td>\n",
       "      <td>[C00016, C00024, C00005, C00003, C00035, C0000...</td>\n",
       "      <td>[]</td>\n",
       "      <td>4876</td>\n",
       "      <td>1</td>\n",
       "      <td>6856</td>\n",
       "      <td>2</td>\n",
       "      <td>61</td>\n",
       "      <td>0</td>\n",
       "      <td>reaction_edges_P</td>\n",
       "      <td>bacteria</td>\n",
       "    </tr>\n",
       "    <tr>\n",
       "      <th>41</th>\n",
       "      <td>[C01832, C00016, C00422, C00001, C17224, C0002...</td>\n",
       "      <td>[C19592, C19591]</td>\n",
       "      <td>[R03857, R02250, R08640, R00340, R02433, R0108...</td>\n",
       "      <td>[R09415, R09414]</td>\n",
       "      <td>[C00016, C00024, C00005, C00003, C00035, C0000...</td>\n",
       "      <td>[]</td>\n",
       "      <td>4878</td>\n",
       "      <td>2</td>\n",
       "      <td>6858</td>\n",
       "      <td>2</td>\n",
       "      <td>61</td>\n",
       "      <td>0</td>\n",
       "      <td>reaction_edges_P</td>\n",
       "      <td>bacteria</td>\n",
       "    </tr>\n",
       "    <tr>\n",
       "      <th>42</th>\n",
       "      <td>[C01832, C00016, C00422, C00001, C17224, C0002...</td>\n",
       "      <td>[C19590]</td>\n",
       "      <td>[R03857, R02250, R08640, R00340, R02433, R0108...</td>\n",
       "      <td>[]</td>\n",
       "      <td>[C00016, C00024, C00005, C00003, C00035, C0000...</td>\n",
       "      <td>[]</td>\n",
       "      <td>4879</td>\n",
       "      <td>1</td>\n",
       "      <td>6858</td>\n",
       "      <td>0</td>\n",
       "      <td>61</td>\n",
       "      <td>0</td>\n",
       "      <td>reaction_edges_P</td>\n",
       "      <td>bacteria</td>\n",
       "    </tr>\n",
       "  </tbody>\n",
       "</table>\n",
       "</div>"
      ],
      "text/plain": [
       "                                 compounds_cumulative  \\\n",
       "38  [C01832, C00016, C00422, C00001, C17224, C0002...   \n",
       "39  [C01832, C00016, C00422, C00001, C17224, C0002...   \n",
       "40  [C01832, C00016, C00422, C00001, C17224, C0002...   \n",
       "41  [C01832, C00016, C00422, C00001, C17224, C0002...   \n",
       "42  [C01832, C00016, C00422, C00001, C17224, C0002...   \n",
       "\n",
       "                               compounds_new  \\\n",
       "38  [C19586, C16756, C16339, C19585, C19595]   \n",
       "39          [C19588, C11278, C19594, C16317]   \n",
       "40                                  [C19589]   \n",
       "41                          [C19592, C19591]   \n",
       "42                                  [C19590]   \n",
       "\n",
       "                                 reactions_cumulative  \\\n",
       "38  [R03857, R02250, R08640, R00340, R02433, R0108...   \n",
       "39  [R03857, R02250, R08640, R00340, R02433, R0108...   \n",
       "40  [R03857, R02250, R08640, R00340, R02433, R0108...   \n",
       "41  [R03857, R02250, R08640, R00340, R02433, R0108...   \n",
       "42  [R03857, R02250, R08640, R00340, R02433, R0108...   \n",
       "\n",
       "                       reactions_new  \\\n",
       "38  [R09409, R09410, R09406, R07902]   \n",
       "39                          [R09411]   \n",
       "40                  [R09413, R09412]   \n",
       "41                  [R09415, R09414]   \n",
       "42                                []   \n",
       "\n",
       "                                   targets_cumulative targets_new  \\\n",
       "38  [C00016, C00024, C00005, C00003, C00035, C0000...          []   \n",
       "39  [C00016, C00024, C00005, C00003, C00035, C0000...          []   \n",
       "40  [C00016, C00024, C00005, C00003, C00035, C0000...          []   \n",
       "41  [C00016, C00024, C00005, C00003, C00035, C0000...          []   \n",
       "42  [C00016, C00024, C00005, C00003, C00035, C0000...          []   \n",
       "\n",
       "    n_compounds_cumulative  n_compounds_new  n_reactions_cumulative  \\\n",
       "38                    4871                5                    6853   \n",
       "39                    4875                4                    6854   \n",
       "40                    4876                1                    6856   \n",
       "41                    4878                2                    6858   \n",
       "42                    4879                1                    6858   \n",
       "\n",
       "    n_reactions_new  n_targets_cumulative  n_targets_new            org_id  \\\n",
       "38                4                    61              0  reaction_edges_P   \n",
       "39                1                    61              0  reaction_edges_P   \n",
       "40                2                    61              0  reaction_edges_P   \n",
       "41                2                    61              0  reaction_edges_P   \n",
       "42                0                    61              0  reaction_edges_P   \n",
       "\n",
       "      domain  \n",
       "38  bacteria  \n",
       "39  bacteria  \n",
       "40  bacteria  \n",
       "41  bacteria  \n",
       "42  bacteria  "
      ]
     },
     "execution_count": 79,
     "metadata": {},
     "output_type": "execute_result"
    }
   ],
   "source": [
    "df.tail()"
   ]
  },
  {
   "cell_type": "code",
   "execution_count": 86,
   "metadata": {},
   "outputs": [],
   "source": [
    "targets_Freilich09=[\"C00001\",\n",
    "    \"C00002\",\n",
    "    \"C00003\",\n",
    "    \"C00004\",\n",
    "    \"C00005\",\n",
    "    \"C00006\",\n",
    "    \"C00008\",\n",
    "    \"C00015\",\n",
    "    \"C00016\",\n",
    "    \"C00020\",\n",
    "    \"C00024\",\n",
    "    \"C00025\",\n",
    "    \"C00035\",\n",
    "    \"C00037\",\n",
    "    \"C00041\",\n",
    "    \"C00043\",\n",
    "    \"C00044\",\n",
    "    \"C00047\",\n",
    "    \"C00049\",\n",
    "    \"C00054\",\n",
    "    \"C00055\",\n",
    "    \"C00062\",\n",
    "    \"C00063\",\n",
    "    \"C00064\",\n",
    "    \"C00065\",\n",
    "    \"C00073\",\n",
    "    \"C00075\",\n",
    "    \"C00078\",\n",
    "    \"C00079\",\n",
    "    \"C00082\",\n",
    "    \"C00097\",\n",
    "    \"C00105\",\n",
    "    \"C00112\",\n",
    "    \"C00116\",\n",
    "    \"C00123\",\n",
    "    \"C00131\",\n",
    "    \"C00135\",\n",
    "    \"C00144\",\n",
    "    \"C00148\",\n",
    "    \"C00152\",\n",
    "    \"C00183\",\n",
    "    \"C00188\",\n",
    "    \"C00234\",\n",
    "    \"C00239\",\n",
    "    \"C00249\",\n",
    "    \"C00255\",\n",
    "    \"C00286\",\n",
    "    \"C00350\",\n",
    "    \"C00360\",\n",
    "    \"C00362\",\n",
    "    \"C00364\",\n",
    "    \"C00399\",\n",
    "    \"C00407\",\n",
    "    \"C00458\",\n",
    "    \"C00459\",\n",
    "    \"C00641\",\n",
    "    \"C00748\",\n",
    "    \"C01050\",\n",
    "    \"C05764\",\n",
    "    \"C05890\",\n",
    "    \"C05894\",\n",
    "    \"C05899\",\n",
    "    \"C05980\",\n",
    "    \"C06040\",\n",
    "    \"C15672\",\n",
    "    \"C16221\"]"
   ]
  },
  {
   "cell_type": "code",
   "execution_count": 87,
   "metadata": {},
   "outputs": [],
   "source": [
    "kegg_targets_cumulative = df.iloc[41][\"targets_cumulative\"]"
   ]
  },
  {
   "cell_type": "code",
   "execution_count": 90,
   "metadata": {},
   "outputs": [
    {
     "data": {
      "text/plain": [
       "[u'C00016',\n",
       " u'C00024',\n",
       " u'C00005',\n",
       " u'C00003',\n",
       " u'C00035',\n",
       " u'C00002',\n",
       " u'C00025',\n",
       " u'C00004',\n",
       " u'C00008',\n",
       " u'C00006',\n",
       " u'C00063',\n",
       " u'C00097',\n",
       " u'C00037',\n",
       " u'C00065',\n",
       " u'C00064',\n",
       " u'C00044',\n",
       " u'C00082',\n",
       " u'C00148',\n",
       " u'C00152',\n",
       " u'C00047',\n",
       " u'C00123',\n",
       " u'C00135',\n",
       " u'C00020',\n",
       " u'C00078',\n",
       " u'C00183',\n",
       " u'C00041',\n",
       " u'C00079',\n",
       " u'C00062',\n",
       " u'C01050',\n",
       " u'C00350',\n",
       " u'C00055',\n",
       " u'C00407',\n",
       " u'C00043',\n",
       " u'C00249',\n",
       " u'C00049',\n",
       " u'C00015',\n",
       " u'C00188',\n",
       " u'C00364',\n",
       " u'C00458',\n",
       " u'C00075',\n",
       " u'C05764',\n",
       " u'C00131',\n",
       " u'C00234',\n",
       " u'C00239',\n",
       " u'C00641',\n",
       " u'C00073',\n",
       " u'C00255',\n",
       " u'C00286',\n",
       " u'C00116',\n",
       " u'C05894',\n",
       " u'C00144',\n",
       " u'C00399',\n",
       " u'C00112',\n",
       " u'C05980',\n",
       " u'C00105',\n",
       " u'C00360',\n",
       " u'C00459',\n",
       " u'C00362',\n",
       " u'C00054',\n",
       " u'C06040',\n",
       " u'C16221']"
      ]
     },
     "execution_count": 90,
     "metadata": {},
     "output_type": "execute_result"
    }
   ],
   "source": [
    "# df.iloc[41][\"targets_cumulative\"]"
   ]
  },
  {
   "cell_type": "code",
   "execution_count": 89,
   "metadata": {},
   "outputs": [
    {
     "data": {
      "text/plain": [
       "{'C00001', 'C00748', 'C05890', 'C05899', 'C15672'}"
      ]
     },
     "execution_count": 89,
     "metadata": {},
     "output_type": "execute_result"
    }
   ],
   "source": [
    "set(targets_Freilich09) - set(kegg_targets_cumulative)"
   ]
  },
  {
   "cell_type": "markdown",
   "metadata": {},
   "source": [
    "> KEGG Doesn't even have C05890 C05899 in Current version Oct 12\n",
    "> The expansion is missing Siroheme, a large compound found in Porphyrin and chlorophyll metabolism, Metabolic pathways, Biosynthesis of secondary metabolites; Heme, a coenzyme common in metabolism. \n"
   ]
  },
  {
   "cell_type": "code",
   "execution_count": null,
   "metadata": {},
   "outputs": [],
   "source": []
  }
 ],
 "metadata": {
  "kernelspec": {
   "display_name": "Python 2",
   "language": "python",
   "name": "python2"
  },
  "language_info": {
   "codemirror_mode": {
    "name": "ipython",
    "version": 2
   },
   "file_extension": ".py",
   "mimetype": "text/x-python",
   "name": "python",
   "nbconvert_exporter": "python",
   "pygments_lexer": "ipython2",
   "version": "2.7.15"
  }
 },
 "nbformat": 4,
 "nbformat_minor": 2
}
