{
 "cells": [
  {
   "cell_type": "code",
   "execution_count": 33,
   "metadata": {},
   "outputs": [
    {
     "data": {
      "text/html": [
       "<script>requirejs.config({paths: { 'plotly': ['https://cdn.plot.ly/plotly-latest.min']},});if(!window.Plotly) {{require(['plotly'],function(plotly) {window.Plotly=plotly;});}}</script>"
      ],
      "text/vnd.plotly.v1+html": [
       "<script>requirejs.config({paths: { 'plotly': ['https://cdn.plot.ly/plotly-latest.min']},});if(!window.Plotly) {{require(['plotly'],function(plotly) {window.Plotly=plotly;});}}</script>"
      ]
     },
     "metadata": {},
     "output_type": "display_data"
    }
   ],
   "source": [
    "import networkx as nx\n",
    "import glob\n",
    "import os\n",
    "import matplotlib.pyplot as mpl\n",
    "import seaborn as sns\n",
    "import pandas as pd\n",
    "import copy\n",
    "\n",
    "import plotly\n",
    "import plotly.plotly as py\n",
    "import plotly.graph_objs as go\n",
    "import numpy as np\n",
    "\n",
    "plotly.offline.init_notebook_mode(connected=True) "
   ]
  },
  {
   "cell_type": "code",
   "execution_count": 34,
   "metadata": {},
   "outputs": [],
   "source": [
    "# %matplotlib inline"
   ]
  },
  {
   "cell_type": "code",
   "execution_count": 35,
   "metadata": {},
   "outputs": [],
   "source": [
    "G = nx.read_gpickle(\"newdata/20171201/ds-80_reaction_compound_graph_with_attributes.pkl\")"
   ]
  },
  {
   "cell_type": "markdown",
   "metadata": {},
   "source": [
    "#### Add `bipartite` attribute to the nodes (for compounds `bipartite = 0`, for reactions `bipartite = 1`)"
   ]
  },
  {
   "cell_type": "code",
   "execution_count": 36,
   "metadata": {},
   "outputs": [
    {
     "data": {
      "text/plain": [
       "1589"
      ]
     },
     "execution_count": 36,
     "metadata": {},
     "output_type": "execute_result"
    }
   ],
   "source": [
    "len(list(G.nodes()))"
   ]
  },
  {
   "cell_type": "code",
   "execution_count": 37,
   "metadata": {},
   "outputs": [],
   "source": [
    "r_nodes = [n for n in list(G.nodes()) if n.startswith(\"R\")]"
   ]
  },
  {
   "cell_type": "code",
   "execution_count": 38,
   "metadata": {},
   "outputs": [],
   "source": [
    "c_nodes = [n for n in list(G.nodes()) if n.startswith(\"C\")]"
   ]
  },
  {
   "cell_type": "code",
   "execution_count": 39,
   "metadata": {},
   "outputs": [
    {
     "data": {
      "text/plain": [
       "703"
      ]
     },
     "execution_count": 39,
     "metadata": {},
     "output_type": "execute_result"
    }
   ],
   "source": [
    "len(r_nodes)"
   ]
  },
  {
   "cell_type": "code",
   "execution_count": 40,
   "metadata": {},
   "outputs": [
    {
     "data": {
      "text/plain": [
       "886"
      ]
     },
     "execution_count": 40,
     "metadata": {},
     "output_type": "execute_result"
    }
   ],
   "source": [
    "len(c_nodes)"
   ]
  },
  {
   "cell_type": "code",
   "execution_count": 41,
   "metadata": {},
   "outputs": [],
   "source": [
    "bipartite_label = dict()\n",
    "for c in c_nodes:\n",
    "    bipartite_label[c] = {\"bipartite\":0}\n",
    "    \n",
    "for r in r_nodes:\n",
    "    bipartite_label[r] = {\"bipartite\":1}\n",
    "\n",
    "    # bipartite_0_nodes = {0: {'attr1': 20, 'attr2': 'nothing'}, 1: {'attr2': 3}}"
   ]
  },
  {
   "cell_type": "code",
   "execution_count": 42,
   "metadata": {},
   "outputs": [],
   "source": [
    "## Sets the bipartite attribute\n",
    "nx.set_node_attributes(G, bipartite_label)"
   ]
  },
  {
   "cell_type": "code",
   "execution_count": 43,
   "metadata": {},
   "outputs": [],
   "source": [
    "# nx.get_node_attributes(G,\"bipartite\")"
   ]
  },
  {
   "cell_type": "code",
   "execution_count": 44,
   "metadata": {},
   "outputs": [],
   "source": [
    "compound_nodes = {n for n, d in G.nodes(data=True) if d['bipartite']==0}\n",
    "reaction_nodes = set(G) - compound_nodes"
   ]
  },
  {
   "cell_type": "code",
   "execution_count": 45,
   "metadata": {},
   "outputs": [
    {
     "data": {
      "text/plain": [
       "886"
      ]
     },
     "execution_count": 45,
     "metadata": {},
     "output_type": "execute_result"
    }
   ],
   "source": [
    "len(compound_nodes)"
   ]
  },
  {
   "cell_type": "code",
   "execution_count": 46,
   "metadata": {},
   "outputs": [
    {
     "data": {
      "text/plain": [
       "703"
      ]
     },
     "execution_count": 46,
     "metadata": {},
     "output_type": "execute_result"
    }
   ],
   "source": [
    "len(reaction_nodes)"
   ]
  },
  {
   "cell_type": "code",
   "execution_count": 47,
   "metadata": {},
   "outputs": [
    {
     "data": {
      "text/plain": [
       "True"
      ]
     },
     "execution_count": 47,
     "metadata": {},
     "output_type": "execute_result"
    }
   ],
   "source": [
    "nx.bipartite.is_bipartite_node_set(G,compound_nodes)"
   ]
  },
  {
   "cell_type": "markdown",
   "metadata": {},
   "source": [
    "#### Find compounds ids which are not in the compound database (and thus have no compound json)"
   ]
  },
  {
   "cell_type": "code",
   "execution_count": 48,
   "metadata": {},
   "outputs": [],
   "source": [
    "def identify_compounds_which_are_not_in_compound_database(G):\n",
    "    substrates = nx.get_node_attributes(G,\"substrates\")\n",
    "    products = nx.get_node_attributes(G,\"products\")\n",
    "    reactions = nx.get_node_attributes(G,\"reactions\")\n",
    "    \n",
    "    c_ids_in_substrates_or_products = set()\n",
    "    for s in substrates:\n",
    "        c_ids_in_substrates_or_products.update(set(substrates[s]))\n",
    "    for p in products:\n",
    "        c_ids_in_substrates_or_products.update(set(products[p]))\n",
    "        \n",
    "    return c_ids_in_substrates_or_products - set(reactions)"
   ]
  },
  {
   "cell_type": "code",
   "execution_count": 49,
   "metadata": {},
   "outputs": [],
   "source": [
    "compounds_not_in_database = identify_compounds_which_are_not_in_compound_database(G)"
   ]
  },
  {
   "cell_type": "code",
   "execution_count": 50,
   "metadata": {},
   "outputs": [],
   "source": [
    "def identify_reactions_which_have_compounds_not_in_database(G,compounds_not_in_database):\n",
    "    # find all reactions which list a compound which is not present in the compound database\n",
    "    substrates = nx.get_node_attributes(G,\"substrates\")\n",
    "    products = nx.get_node_attributes(G,\"products\")\n",
    "    reactions = nx.get_node_attributes(G,\"reactions\")\n",
    "    \n",
    "    faulty_reactions = []\n",
    "    \n",
    "    for r in substrates:\n",
    "        if bool(compounds_not_in_database & set(substrates[r])):\n",
    "            faulty_reactions.append(r)\n",
    "    for r in products:\n",
    "        if bool(compounds_not_in_database & set(products[r])):\n",
    "            faulty_reactions.append(r)\n",
    "            \n",
    "    return faulty_reactions"
   ]
  },
  {
   "cell_type": "code",
   "execution_count": 51,
   "metadata": {},
   "outputs": [],
   "source": [
    "reactions_to_remove = identify_reactions_which_have_compounds_not_in_database(G,compounds_not_in_database)"
   ]
  },
  {
   "cell_type": "markdown",
   "metadata": {},
   "source": [
    "#### Find reaction ids which are not in the reaction database (and thus have no reaction json)\n",
    "#### This section doesn't do anything, but it's good to know"
   ]
  },
  {
   "cell_type": "code",
   "execution_count": 52,
   "metadata": {},
   "outputs": [],
   "source": [
    "substrates = nx.get_node_attributes(G,\"substrates\")\n",
    "products = nx.get_node_attributes(G,\"products\")\n",
    "reactions = nx.get_node_attributes(G,\"reactions\")\n",
    "\n",
    "r_ids_in_reactions = set()\n",
    "for c in reactions:\n",
    "    r_ids_in_reactions.update(set(reactions[c]))"
   ]
  },
  {
   "cell_type": "code",
   "execution_count": 53,
   "metadata": {},
   "outputs": [
    {
     "data": {
      "text/plain": [
       "9141"
      ]
     },
     "execution_count": 53,
     "metadata": {},
     "output_type": "execute_result"
    }
   ],
   "source": [
    "len(r_ids_in_reactions)"
   ]
  },
  {
   "cell_type": "code",
   "execution_count": 54,
   "metadata": {},
   "outputs": [],
   "source": [
    "r_in_sub_prod_dicts = set(substrates) & set(products)"
   ]
  },
  {
   "cell_type": "code",
   "execution_count": 55,
   "metadata": {},
   "outputs": [
    {
     "data": {
      "text/plain": [
       "703"
      ]
     },
     "execution_count": 55,
     "metadata": {},
     "output_type": "execute_result"
    }
   ],
   "source": [
    "len(r_in_sub_prod_dicts)"
   ]
  },
  {
   "cell_type": "code",
   "execution_count": 56,
   "metadata": {},
   "outputs": [
    {
     "data": {
      "text/plain": [
       "8438"
      ]
     },
     "execution_count": 56,
     "metadata": {},
     "output_type": "execute_result"
    }
   ],
   "source": [
    "len(r_ids_in_reactions - r_in_sub_prod_dicts) \n",
    "\n",
    "##This list appears to be full of reactions which have glycans. Did I get rid of them here?\n",
    "## No, they are removed in the \"advance_expansion_1_generation\" function"
   ]
  },
  {
   "cell_type": "code",
   "execution_count": 57,
   "metadata": {},
   "outputs": [],
   "source": [
    "# r_ids_in_reactions - r_in_sub_prod_dicts"
   ]
  },
  {
   "cell_type": "code",
   "execution_count": 58,
   "metadata": {},
   "outputs": [
    {
     "data": {
      "text/plain": [
       "0"
      ]
     },
     "execution_count": 58,
     "metadata": {},
     "output_type": "execute_result"
    }
   ],
   "source": [
    "len(r_in_sub_prod_dicts - r_ids_in_reactions)"
   ]
  },
  {
   "cell_type": "code",
   "execution_count": 59,
   "metadata": {},
   "outputs": [
    {
     "data": {
      "text/plain": [
       "886"
      ]
     },
     "execution_count": 59,
     "metadata": {},
     "output_type": "execute_result"
    }
   ],
   "source": [
    "len(reactions)"
   ]
  },
  {
   "cell_type": "code",
   "execution_count": 60,
   "metadata": {},
   "outputs": [
    {
     "name": "stdout",
     "output_type": "stream",
     "text": [
      "C16471\n",
      "C05528\n",
      "C06508\n",
      "C05527\n",
      "C19858\n"
     ]
    }
   ],
   "source": [
    "icount = 0\n",
    "for i in reactions:\n",
    "    print i\n",
    "    icount+=1\n",
    "    if icount ==5: break"
   ]
  },
  {
   "cell_type": "code",
   "execution_count": 73,
   "metadata": {},
   "outputs": [
    {
     "data": {
      "text/plain": [
       "False"
      ]
     },
     "execution_count": 73,
     "metadata": {},
     "output_type": "execute_result"
    }
   ],
   "source": [
    "'C14819' in list(reactions)"
   ]
  },
  {
   "cell_type": "code",
   "execution_count": 74,
   "metadata": {},
   "outputs": [
    {
     "data": {
      "text/plain": [
       "True"
      ]
     },
     "execution_count": 74,
     "metadata": {},
     "output_type": "execute_result"
    }
   ],
   "source": [
    "'C16471' in list(reactions)"
   ]
  },
  {
   "cell_type": "code",
   "execution_count": 75,
   "metadata": {},
   "outputs": [],
   "source": [
    "ds80_seeds = ['C00011',\n",
    "'C20298',\n",
    "'C14819',\n",
    "'C00087',\n",
    "'C00237',\n",
    "'C00058',\n",
    "'C00033',\n",
    "'C00031',\n",
    "'C00095',\n",
    "'C00124',\n",
    "'C00159',\n",
    "'C00243',\n",
    "'C00208',\n",
    "'C00282',\n",
    "'C00007',\n",
    "'C00001']\n"
   ]
  },
  {
   "cell_type": "code",
   "execution_count": 76,
   "metadata": {},
   "outputs": [
    {
     "name": "stdout",
     "output_type": "stream",
     "text": [
      "C20298\n",
      "C14819\n",
      "C00159\n"
     ]
    }
   ],
   "source": [
    "for c in ds80_seeds:\n",
    "    if c not in list(reactions):\n",
    "        print c"
   ]
  },
  {
   "cell_type": "markdown",
   "metadata": {},
   "source": [
    "Arsenic,\n",
    "Iron,\n",
    "Manose,\n",
    "are not in DS-80's reactions. "
   ]
  },
  {
   "cell_type": "markdown",
   "metadata": {},
   "source": [
    "#### Remove reactions which contain compounds that don't exist"
   ]
  },
  {
   "cell_type": "code",
   "execution_count": 62,
   "metadata": {},
   "outputs": [],
   "source": [
    "# G['R11803']"
   ]
  },
  {
   "cell_type": "code",
   "execution_count": 63,
   "metadata": {},
   "outputs": [],
   "source": [
    "G.remove_nodes_from(reactions_to_remove)"
   ]
  },
  {
   "cell_type": "markdown",
   "metadata": {},
   "source": [
    "### These reactions are now removed"
   ]
  },
  {
   "cell_type": "code",
   "execution_count": 64,
   "metadata": {},
   "outputs": [],
   "source": [
    "# G['R11803']"
   ]
  },
  {
   "cell_type": "markdown",
   "metadata": {},
   "source": [
    "### Create generations of networks starting from glucose"
   ]
  },
  {
   "cell_type": "code",
   "execution_count": 65,
   "metadata": {},
   "outputs": [],
   "source": [
    "def advance_expansion_1_generation(G,current_compounds,current_reactions):\n",
    "\n",
    "    reactions = nx.get_node_attributes(G,\"reactions\") # this dict has compounds only\n",
    "    substrates = nx.get_node_attributes(G,\"substrates\") # this dict has reactions only\n",
    "    products = nx.get_node_attributes(G,\"products\") # this dict has reactions only\n",
    "\n",
    "    verified_compounds = set()\n",
    "    verified_reactions = set()\n",
    "    \n",
    "    all_potential_reactions = set([r for c in current_compounds for r in reactions[c] if r in substrates]) #this gets rid of glycans\n",
    "    unverified_reactions = all_potential_reactions - current_reactions\n",
    "\n",
    "    for r in unverified_reactions:\n",
    "        if set(products[r]+substrates[r]).issubset(current_compounds):\n",
    "            verified_reactions.add(r)\n",
    "            # already have all compounds\n",
    "        elif set(substrates[r]).issubset(current_compounds):\n",
    "            verified_compounds.update(set(products[r]))\n",
    "            verified_reactions.add(r)\n",
    "        elif set(products[r]).issubset(current_compounds):\n",
    "            verified_compounds.update(set(substrates[r]))\n",
    "            verified_reactions.add(r)\n",
    "            \n",
    "    verified_new_compounds = verified_compounds - current_compounds\n",
    "    verified_new_reactions = verified_reactions - current_reactions\n",
    "                \n",
    "    return verified_new_compounds,verified_new_reactions"
   ]
  },
  {
   "cell_type": "code",
   "execution_count": 84,
   "metadata": {},
   "outputs": [],
   "source": [
    "def advance_expansion_to_complete_scope(G,seed_compounds,compounds_to_tag):\n",
    "    all_compounds = copy.copy(seed_compounds)\n",
    "    all_reactions = set()\n",
    "    \n",
    "    verified_new_compounds = copy.copy(seed_compounds) # anything not length 0\n",
    "    \n",
    "#     gen_by_gen = dict()\n",
    "#     added_per_gen = dict()\n",
    "    \n",
    "    list_of_dicts = list()\n",
    "    \n",
    "    generation = 0\n",
    "    while len(verified_new_compounds) != 0:\n",
    "        ## verified new reactions are @ t-1, verified new compounds are @ t\n",
    "        verified_old_compounds = copy.copy(verified_new_compounds)\n",
    "        verified_new_compounds,verified_new_reactions = advance_expansion_1_generation(G,all_compounds,all_reactions)\n",
    "        \n",
    "        all_reactions.update(verified_new_reactions)\n",
    "        \n",
    "#         gen_by_gen[generation] = {\"n_reactions\":len(all_reactions),\"n_compounds\":len(all_compounds)}\n",
    "#         added_per_gen[generation] = {\"n_reactions\":len(verified_new_reactions),\"n_compounds\":len(verified_old_compounds)}\n",
    "        \n",
    "        big_dict = dict()\n",
    "        ## Non network properites\n",
    "        big_dict['generation'] = generation\n",
    "        big_dict['n_compounds_new'] = len(verified_old_compounds)\n",
    "        big_dict['n_reactions_new'] = len(verified_new_reactions)\n",
    "        big_dict['n_compounds_cumulative'] = len(all_compounds)\n",
    "        big_dict['n_reactions_cumulative'] = len(all_reactions)\n",
    "        big_dict['compounds_new'] = list(verified_old_compounds)\n",
    "        big_dict['reactions_new'] = list(verified_new_reactions)\n",
    "        big_dict['seed'] = list(seed_compounds)\n",
    "        \n",
    "        ## Network properties\n",
    "        subgraph_nodes = all_compounds | all_reactions ## union of sets\n",
    "        subG = G.subgraph(subgraph_nodes)\n",
    "        \n",
    "#         big_dict['bipartite_avg_clustering'] = nx.bipartite.average_clustering(subG)\n",
    "#         big_dict['bipartite_avg_clustering_compounds'] = nx.bipartite.average_clustering(subG,all_compounds)\n",
    "#         big_dict['bipartite_avg_clustering_reactions'] = nx.bipartite.average_clustering(subG,all_reactions)\n",
    "        \n",
    "        ## Betweeness centrality        \n",
    "#         betweenness_dict = nx.bipartite.betweenness_centrality(subG, all_compounds)\n",
    "        \n",
    "#         c_betweenness_dict = dict((k, betweenness_dict[k]) for k in all_compounds if k in betweenness_dict)\n",
    "#         r_betweenness_dict = dict((k, betweenness_dict[k]) for k in all_reactions if k in betweenness_dict)\n",
    "        \n",
    "#         big_dict['bipartite_avg_betweenness_compounds'] = sum(c_betweenness_dict.values())/float(len(c_betweenness_dict))\n",
    "#         big_dict['bipartite_avg_betweenness_reactions'] = sum(r_betweenness_dict.values())/float(len(r_betweenness_dict))\n",
    "        \n",
    "        ## Degree\n",
    "        r_degs,c_degs = nx.bipartite.degrees(subG,all_compounds)\n",
    "        \n",
    "#         big_dict['bipartite_avg_deg_compounds'] = sum([i[1] for i in c_degs])/float(len(c_degs))\n",
    "#         big_dict['bipartite_avg_deg_reactions'] = sum([i[1] for i in r_degs])/float(len(r_degs))\n",
    "        \n",
    "        ## Tagged compounds\n",
    "        current_tags = list()\n",
    "        for k in compounds_to_tag:\n",
    "            if k in verified_old_compounds:\n",
    "                current_tags.append(compounds_to_tag[k])\n",
    "        if len(current_tags)==0:\n",
    "            big_dict['tags'] = None\n",
    "        else:\n",
    "            big_dict['tags'] = str(current_tags)\n",
    "        \n",
    "        print generation\n",
    "        \n",
    "        list_of_dicts.append(big_dict)\n",
    "        \n",
    "        generation+=1\n",
    "        \n",
    "        all_compounds.update(verified_new_compounds)\n",
    "        \n",
    "    return list_of_dicts\n",
    "        "
   ]
  },
  {
   "cell_type": "markdown",
   "metadata": {},
   "source": [
    "### Run through multiple seed sets"
   ]
  },
  {
   "cell_type": "code",
   "execution_count": 67,
   "metadata": {},
   "outputs": [],
   "source": [
    "# seed_compounds = set([\"C00001\",\"C00031\"]) # water and glucose (water is always a seed compound)\n",
    "# big_dict = advance_expansion_to_complete_scope(G,seed_compounds,compounds_to_tag)"
   ]
  },
  {
   "cell_type": "code",
   "execution_count": null,
   "metadata": {},
   "outputs": [],
   "source": []
  },
  {
   "cell_type": "code",
   "execution_count": 96,
   "metadata": {},
   "outputs": [],
   "source": [
    "# all_seeds = {'Glucose':set([\"C00001\",\"C00031\"]),\n",
    "#              'ATP':set([\"C00001\",\"C00002\"]),\n",
    "#              'CoA':set([\"C00001\",\"C00010\"]),\n",
    "#              'CO2,NH3,H3PO4,H2SO4':set([\"C00001\",\"C00011\",\"C00014\",\"C00009\",\"C00059\"])}\n",
    "\n",
    "# all_seeds = {'CO2_H2_S':set([\"C00001\",\"C00011\",\"C00282\",\"C00087\"]),\n",
    "#              'Maltose_O2':set([\"C00001\",\"C00208\",\"C00007\"])}\n",
    "# #             'Formate_Fe3':set([\"C00001\",\"C00058\",\"C14819\"]),\n",
    "\n",
    "all_seeds = {\"CO2 H2  S\":set([\"C00011\",\"C00282\",\"C00087\"]),\n",
    "\"CO  H2  S\":set([\"C00237\",\"C00282\",\"C00087\"]),\n",
    "\"CO  H2  S\":set([\"C00237\",\"C00282\",\"C00087\"]),\n",
    "\"Formate H2  S\":set([\"C00058\",\"C00282\",\"C00087\"]),\n",
    "\"Acetate H2  S\":set([\"C00033\",\"C00282\",\"C00087\"]),\n",
    "\"Glucose H2  S\":set([\"C00031\",\"C00282\",\"C00087\"]),\n",
    "\"Fructose    H2  S\":set([\"C00095\",\"C00282\",\"C00087\"]),\n",
    "\"Galactose   H2  S\":set([\"C00124\",\"C00282\",\"C00087\"]),\n",
    "\"Mannose H2  S\":set([\"C00159\",\"C00282\",\"C00087\"]),\n",
    "\"Lactose H2  S\":set([\"C00243\",\"C00282\",\"C00087\"]),\n",
    "\"Maltose H2  S\":set([\"C00208\",\"C00282\",\"C00087\"]),\n",
    "\"CO2 H2  Fe3+\":set([\"C00011\",\"C00282\",\"C14819\"]),\n",
    "\"CO  H2  Fe3+\":set([\"C00237\",\"C00282\",\"C14819\"]),\n",
    "\"Formate H2  Fe3+\":set([\"C00058\",\"C00282\",\"C14819\"]),\n",
    "\"Acetate H2  Fe3+\":set([\"C00033\",\"C00282\",\"C14819\"]),\n",
    "\"Glucose H2  Fe3+\":set([\"C00031\",\"C00282\",\"C14819\"]),\n",
    "\"Fructose    H2  Fe3+\":set([\"C00095\",\"C00282\",\"C14819\"]),\n",
    "\"Galactose   H2  Fe3+\":set([\"C00124\",\"C00282\",\"C14819\"]),\n",
    "\"Mannose H2  Fe3+\":set([\"C00159\",\"C00282\",\"C14819\"]),\n",
    "\"Lactose H2  Fe3+\":set([\"C00243\",\"C00282\",\"C14819\"]),\n",
    "\"Maltose H2  Fe3+\":set([\"C00208\",\"C00282\",\"C14819\"]),\n",
    "\"CO  CO  Fe3+\":set([\"C00237\",\"C00237\",\"C14819\"]),\n",
    "\"Formate Formate Fe3+\":set([\"C00058\",\"C00058\",\"C14819\"]),\n",
    "\"Acetate Acetate Fe3+\":set([\"C00033\",\"C00033\",\"C14819\"]),\n",
    "\"Glucose Glucose Fe3+\":set([\"C00031\",\"C00031\",\"C14819\"]),\n",
    "\"Fructose    Fructose    Fe3+\":set([\"C00095\",\"C00095\",\"C14819\"]),\n",
    "\"Galactose   Galactose   Fe3+\":set([\"C00124\",\"C00124\",\"C14819\"]),\n",
    "\"Mannose Mannose Fe3+\":set([\"C00159\",\"C00159\",\"C14819\"]),\n",
    "\"Lactose Lactose Fe3+\":set([\"C00243\",\"C00243\",\"C14819\"]),\n",
    "\"Maltose Maltose Fe3+\":set([\"C00208\",\"C00208\",\"C14819\"]),\n",
    "\"Formate Formate O2\":set([\"C00058\",\"C00058\",\"C00007\"]),\n",
    "\"Acetate Acetate O2\":set([\"C00033\",\"C00033\",\"C00007\"]),\n",
    "\"Glucose Glucose O2\":set([\"C00031\",\"C00031\",\"C00007\"]),\n",
    "\"Fructose    Fructose    O2\":set([\"C00095\",\"C00095\",\"C00007\"]),\n",
    "\"Galactose   Galactose   O2\":set([\"C00124\",\"C00124\",\"C00007\"]),\n",
    "\"Mannose Mannose O2\":set([\"C00159\",\"C00159\",\"C00007\"]),\n",
    "\"Lactose Lactose O2\":set([\"C00243\",\"C00243\",\"C00007\"]),\n",
    "\"Maltose Maltose O2\":set([\"C00208\",\"C00208\",\"C00007\"]),\n",
    "\"CO2 S  S\":set([\"C00011\",\"C00087\",\"C00087\"]),\n",
    "\"CO2 S  Fe3+\":set([\"C00011\",\"C00087\",\"C14819\"]),\n",
    "\"CO2 As3+    O2\":set([\"C00011\",\"C20298\",\"C00007\"]),\n",
    "\"CO2 As3+    Fe3+\":set([\"C00011\",\"C20298\",\"C14819\"])}"
   ]
  },
  {
   "cell_type": "code",
   "execution_count": 97,
   "metadata": {},
   "outputs": [],
   "source": [
    "compounds_to_tag = {\"C00003\":'NAD',\n",
    "                   \"C00006\":'NADP',\n",
    "                   \"C00002\":'ATP',\n",
    "                   \"C00031\":'Glucose',\n",
    "                   \"C00010\":'CoA'}"
   ]
  },
  {
   "cell_type": "code",
   "execution_count": 100,
   "metadata": {},
   "outputs": [
    {
     "name": "stdout",
     "output_type": "stream",
     "text": [
      "Mannose H2  S failed\n",
      "Fructose    H2  Fe3+ failed\n",
      "0\n",
      "Acetate Acetate Fe3+ failed\n",
      "0\n",
      "1\n",
      "0\n",
      "1\n",
      "2\n",
      "3\n",
      "4\n",
      "CO  CO  Fe3+ failed\n",
      "CO2 S  Fe3+ failed\n",
      "CO2 H2  Fe3+ failed\n",
      "0\n",
      "Glucose Glucose Fe3+ failed\n",
      "Mannose H2  Fe3+ failed\n",
      "0\n",
      "Fructose    Fructose    Fe3+ failed\n",
      "0\n",
      "1\n",
      "2\n",
      "3\n",
      "0\n",
      "CO2 As3+    Fe3+ failed\n",
      "Acetate H2  Fe3+ failed\n",
      "0\n",
      "0\n",
      "Glucose H2  Fe3+ failed\n",
      "Lactose Lactose Fe3+ failed\n",
      "0\n",
      "0\n",
      "1\n",
      "2\n",
      "3\n",
      "0\n",
      "Galactose   Galactose   Fe3+ failed\n",
      "Mannose Mannose O2 failed\n",
      "CO  H2  Fe3+ failed\n",
      "0\n",
      "1\n",
      "0\n",
      "Formate Formate Fe3+ failed\n",
      "Formate H2  Fe3+ failed\n",
      "0\n",
      "Galactose   H2  Fe3+ failed\n",
      "CO2 As3+    O2 failed\n",
      "Maltose Maltose Fe3+ failed\n",
      "Maltose H2  Fe3+ failed\n",
      "0\n",
      "0\n",
      "1\n",
      "2\n",
      "3\n",
      "4\n",
      "Lactose H2  Fe3+ failed\n",
      "Mannose Mannose Fe3+ failed\n"
     ]
    }
   ],
   "source": [
    "all_seed_dicts = dict()\n",
    "for k in all_seeds:\n",
    "    try:\n",
    "        result_list_of_dicts = advance_expansion_to_complete_scope(G,all_seeds[k],compounds_to_tag)\n",
    "        all_seed_dicts[k] = result_list_of_dicts\n",
    "    except:\n",
    "        print \"%s failed\"%k"
   ]
  },
  {
   "cell_type": "markdown",
   "metadata": {},
   "source": [
    "### Write dfs to file if you just ran the analysis"
   ]
  },
  {
   "cell_type": "code",
   "execution_count": 101,
   "metadata": {},
   "outputs": [],
   "source": [
    "def write_dfs_to_file(dirname,all_seed_dicts):\n",
    "    all_seed_dfs = dict()\n",
    "    \n",
    "    for seed in all_seed_dicts:\n",
    "        all_seed_dfs[seed] = pd.DataFrame(all_seed_dicts[seed])\n",
    "    \n",
    "    for seed in all_seed_dfs:\n",
    "        pathname = dirname+seed.replace(',', '_')\n",
    "        all_seed_dfs[seed].to_json(pathname)"
   ]
  },
  {
   "cell_type": "code",
   "execution_count": 102,
   "metadata": {},
   "outputs": [],
   "source": [
    "dirname = 'network_expansion_result_jsons_ds80/'\n",
    "write_dfs_to_file(dirname,all_seed_dicts)"
   ]
  },
  {
   "cell_type": "markdown",
   "metadata": {},
   "source": [
    "### Otherwise read them from file"
   ]
  },
  {
   "cell_type": "code",
   "execution_count": 103,
   "metadata": {},
   "outputs": [],
   "source": [
    "def read_dfs_from_file(dirname):\n",
    "    all_seed_dfs = dict()\n",
    "    for fname in glob.glob(dirname+'*'):\n",
    "        seed = fname.split('/')[1]\n",
    "        all_seed_dfs[seed] = pd.read_json(fname)\n",
    "    \n",
    "    return all_seed_dfs"
   ]
  },
  {
   "cell_type": "code",
   "execution_count": 104,
   "metadata": {},
   "outputs": [],
   "source": [
    "dirname = 'network_expansion_result_jsons_ds80/'\n",
    "all_seed_dfs = read_dfs_from_file(dirname)"
   ]
  },
  {
   "cell_type": "code",
   "execution_count": 107,
   "metadata": {},
   "outputs": [
    {
     "name": "stdout",
     "output_type": "stream",
     "text": [
      "Galactose   Galactose   O2\n",
      "Lactose H2  S\n",
      "Fructose    Fructose    O2\n",
      "Formate H2  S\n",
      "Lactose Lactose O2\n",
      "Glucose H2  S\n",
      "Galactose   H2  S\n",
      "Formate Formate O2\n",
      "Acetate Acetate O2\n",
      "Glucose Glucose O2\n",
      "CO2 H2  S\n",
      "Maltose Maltose O2\n",
      "CO2 S  S\n",
      "Fructose    H2  S\n",
      "Acetate H2  S\n",
      "CO  H2  S\n",
      "Maltose H2  S\n"
     ]
    }
   ],
   "source": [
    "for seed_set in all_seed_dfs:\n",
    "    print seed_set"
   ]
  },
  {
   "cell_type": "markdown",
   "metadata": {},
   "source": [
    "### Plot all seed sets on same plot (compounds)"
   ]
  },
  {
   "cell_type": "code",
   "execution_count": 119,
   "metadata": {},
   "outputs": [],
   "source": [
    "def super_plot(all_seed_dfs,y):\n",
    "    # Create traces\n",
    "    traces = list()\n",
    "    for seed_set in all_seed_dfs:\n",
    "        _df = all_seed_dfs[seed_set].sort_index()\n",
    "        _trace = go.Scatter(\n",
    "        x = _df.index,\n",
    "        y = _df[y],\n",
    "        mode = 'lines+markers',#lines+markers+text',\n",
    "        name = seed_set,\n",
    "#         text=_df['tags'],\n",
    "        textposition='top'\n",
    "    #     text= data['state']\n",
    "        )\n",
    "        traces.append(_trace)\n",
    "    \n",
    "#     trace0 = go.Scatter(\n",
    "#         x = df.index,\n",
    "#         y = df[line1],\n",
    "#         mode = 'lines+markers+text',\n",
    "#         name = line1,\n",
    "#         text=df['tags'],\n",
    "#         textposition='top'\n",
    "#     #     text= data['state']\n",
    "#     )\n",
    "#     trace1 = go.Scatter(\n",
    "#         x = df.index,\n",
    "#         y = df[line2],\n",
    "#         mode = 'lines+markers',\n",
    "#         name = line2\n",
    "#     )\n",
    "\n",
    "#     data = [trace0,trace1]\n",
    "    plotly.offline.iplot(traces)"
   ]
  },
  {
   "cell_type": "code",
   "execution_count": 120,
   "metadata": {},
   "outputs": [
    {
     "data": {
      "application/vnd.plotly.v1+json": {
       "data": [
        {
         "mode": "lines+markers",
         "name": "Galactose   Galactose   O2",
         "textposition": "top center",
         "type": "scatter",
         "x": [
          0,
          1
         ],
         "y": [
          2,
          1
         ]
        },
        {
         "mode": "lines+markers",
         "name": "Lactose H2  S",
         "textposition": "top center",
         "type": "scatter",
         "x": [
          0
         ],
         "y": [
          3
         ]
        },
        {
         "mode": "lines+markers",
         "name": "Fructose    Fructose    O2",
         "textposition": "top center",
         "type": "scatter",
         "x": [
          0
         ],
         "y": [
          2
         ]
        },
        {
         "mode": "lines+markers",
         "name": "Formate H2  S",
         "textposition": "top center",
         "type": "scatter",
         "x": [
          0
         ],
         "y": [
          3
         ]
        },
        {
         "mode": "lines+markers",
         "name": "Lactose Lactose O2",
         "textposition": "top center",
         "type": "scatter",
         "x": [
          0
         ],
         "y": [
          2
         ]
        },
        {
         "mode": "lines+markers",
         "name": "Glucose H2  S",
         "textposition": "top center",
         "type": "scatter",
         "x": [
          0,
          1,
          2,
          3,
          4
         ],
         "y": [
          3,
          2,
          1,
          1,
          1
         ]
        },
        {
         "mode": "lines+markers",
         "name": "Galactose   H2  S",
         "textposition": "top center",
         "type": "scatter",
         "x": [
          0,
          1
         ],
         "y": [
          3,
          1
         ]
        },
        {
         "mode": "lines+markers",
         "name": "Formate Formate O2",
         "textposition": "top center",
         "type": "scatter",
         "x": [
          0
         ],
         "y": [
          2
         ]
        },
        {
         "mode": "lines+markers",
         "name": "Acetate Acetate O2",
         "textposition": "top center",
         "type": "scatter",
         "x": [
          0
         ],
         "y": [
          2
         ]
        },
        {
         "mode": "lines+markers",
         "name": "Glucose Glucose O2",
         "textposition": "top center",
         "type": "scatter",
         "x": [
          0,
          1,
          2,
          3,
          4
         ],
         "y": [
          2,
          2,
          1,
          1,
          1
         ]
        },
        {
         "mode": "lines+markers",
         "name": "CO2 H2  S",
         "textposition": "top center",
         "type": "scatter",
         "x": [
          0
         ],
         "y": [
          3
         ]
        },
        {
         "mode": "lines+markers",
         "name": "Maltose Maltose O2",
         "textposition": "top center",
         "type": "scatter",
         "x": [
          0,
          1,
          2,
          3
         ],
         "y": [
          2,
          2,
          2,
          1
         ]
        },
        {
         "mode": "lines+markers",
         "name": "CO2 S  S",
         "textposition": "top center",
         "type": "scatter",
         "x": [
          0
         ],
         "y": [
          2
         ]
        },
        {
         "mode": "lines+markers",
         "name": "Fructose    H2  S",
         "textposition": "top center",
         "type": "scatter",
         "x": [
          0
         ],
         "y": [
          3
         ]
        },
        {
         "mode": "lines+markers",
         "name": "Acetate H2  S",
         "textposition": "top center",
         "type": "scatter",
         "x": [
          0
         ],
         "y": [
          3
         ]
        },
        {
         "mode": "lines+markers",
         "name": "CO  H2  S",
         "textposition": "top center",
         "type": "scatter",
         "x": [
          0
         ],
         "y": [
          3
         ]
        },
        {
         "mode": "lines+markers",
         "name": "Maltose H2  S",
         "textposition": "top center",
         "type": "scatter",
         "x": [
          0,
          1,
          2,
          3
         ],
         "y": [
          3,
          2,
          2,
          1
         ]
        }
       ],
       "layout": {
        "xaxis": {
         "autorange": true,
         "range": [
          -0.27011494252873564,
          4.2701149425287355
         ],
         "type": "linear"
        },
        "yaxis": {
         "autorange": true,
         "range": [
          0.8535031847133758,
          3.1464968152866244
         ],
         "type": "linear"
        }
       }
      },
      "text/html": [
       "<div id=\"712ed5e2-551d-4556-b953-9128ffa26f24\" style=\"height: 525px; width: 100%;\" class=\"plotly-graph-div\"></div><script type=\"text/javascript\">require([\"plotly\"], function(Plotly) { window.PLOTLYENV=window.PLOTLYENV || {};window.PLOTLYENV.BASE_URL=\"https://plot.ly\";Plotly.newPlot(\"712ed5e2-551d-4556-b953-9128ffa26f24\", [{\"textposition\": \"top\", \"name\": \"Galactose   Galactose   O2\", \"mode\": \"lines+markers\", \"y\": [2, 1], \"x\": [0, 1], \"type\": \"scatter\"}, {\"textposition\": \"top\", \"name\": \"Lactose H2  S\", \"mode\": \"lines+markers\", \"y\": [3], \"x\": [0], \"type\": \"scatter\"}, {\"textposition\": \"top\", \"name\": \"Fructose    Fructose    O2\", \"mode\": \"lines+markers\", \"y\": [2], \"x\": [0], \"type\": \"scatter\"}, {\"textposition\": \"top\", \"name\": \"Formate H2  S\", \"mode\": \"lines+markers\", \"y\": [3], \"x\": [0], \"type\": \"scatter\"}, {\"textposition\": \"top\", \"name\": \"Lactose Lactose O2\", \"mode\": \"lines+markers\", \"y\": [2], \"x\": [0], \"type\": \"scatter\"}, {\"textposition\": \"top\", \"name\": \"Glucose H2  S\", \"mode\": \"lines+markers\", \"y\": [3, 2, 1, 1, 1], \"x\": [0, 1, 2, 3, 4], \"type\": \"scatter\"}, {\"textposition\": \"top\", \"name\": \"Galactose   H2  S\", \"mode\": \"lines+markers\", \"y\": [3, 1], \"x\": [0, 1], \"type\": \"scatter\"}, {\"textposition\": \"top\", \"name\": \"Formate Formate O2\", \"mode\": \"lines+markers\", \"y\": [2], \"x\": [0], \"type\": \"scatter\"}, {\"textposition\": \"top\", \"name\": \"Acetate Acetate O2\", \"mode\": \"lines+markers\", \"y\": [2], \"x\": [0], \"type\": \"scatter\"}, {\"textposition\": \"top\", \"name\": \"Glucose Glucose O2\", \"mode\": \"lines+markers\", \"y\": [2, 2, 1, 1, 1], \"x\": [0, 1, 2, 3, 4], \"type\": \"scatter\"}, {\"textposition\": \"top\", \"name\": \"CO2 H2  S\", \"mode\": \"lines+markers\", \"y\": [3], \"x\": [0], \"type\": \"scatter\"}, {\"textposition\": \"top\", \"name\": \"Maltose Maltose O2\", \"mode\": \"lines+markers\", \"y\": [2, 2, 2, 1], \"x\": [0, 1, 2, 3], \"type\": \"scatter\"}, {\"textposition\": \"top\", \"name\": \"CO2 S  S\", \"mode\": \"lines+markers\", \"y\": [2], \"x\": [0], \"type\": \"scatter\"}, {\"textposition\": \"top\", \"name\": \"Fructose    H2  S\", \"mode\": \"lines+markers\", \"y\": [3], \"x\": [0], \"type\": \"scatter\"}, {\"textposition\": \"top\", \"name\": \"Acetate H2  S\", \"mode\": \"lines+markers\", \"y\": [3], \"x\": [0], \"type\": \"scatter\"}, {\"textposition\": \"top\", \"name\": \"CO  H2  S\", \"mode\": \"lines+markers\", \"y\": [3], \"x\": [0], \"type\": \"scatter\"}, {\"textposition\": \"top\", \"name\": \"Maltose H2  S\", \"mode\": \"lines+markers\", \"y\": [3, 2, 2, 1], \"x\": [0, 1, 2, 3], \"type\": \"scatter\"}], {}, {\"linkText\": \"Export to plot.ly\", \"showLink\": true})});</script>"
      ],
      "text/vnd.plotly.v1+html": [
       "<div id=\"712ed5e2-551d-4556-b953-9128ffa26f24\" style=\"height: 525px; width: 100%;\" class=\"plotly-graph-div\"></div><script type=\"text/javascript\">require([\"plotly\"], function(Plotly) { window.PLOTLYENV=window.PLOTLYENV || {};window.PLOTLYENV.BASE_URL=\"https://plot.ly\";Plotly.newPlot(\"712ed5e2-551d-4556-b953-9128ffa26f24\", [{\"textposition\": \"top\", \"name\": \"Galactose   Galactose   O2\", \"mode\": \"lines+markers\", \"y\": [2, 1], \"x\": [0, 1], \"type\": \"scatter\"}, {\"textposition\": \"top\", \"name\": \"Lactose H2  S\", \"mode\": \"lines+markers\", \"y\": [3], \"x\": [0], \"type\": \"scatter\"}, {\"textposition\": \"top\", \"name\": \"Fructose    Fructose    O2\", \"mode\": \"lines+markers\", \"y\": [2], \"x\": [0], \"type\": \"scatter\"}, {\"textposition\": \"top\", \"name\": \"Formate H2  S\", \"mode\": \"lines+markers\", \"y\": [3], \"x\": [0], \"type\": \"scatter\"}, {\"textposition\": \"top\", \"name\": \"Lactose Lactose O2\", \"mode\": \"lines+markers\", \"y\": [2], \"x\": [0], \"type\": \"scatter\"}, {\"textposition\": \"top\", \"name\": \"Glucose H2  S\", \"mode\": \"lines+markers\", \"y\": [3, 2, 1, 1, 1], \"x\": [0, 1, 2, 3, 4], \"type\": \"scatter\"}, {\"textposition\": \"top\", \"name\": \"Galactose   H2  S\", \"mode\": \"lines+markers\", \"y\": [3, 1], \"x\": [0, 1], \"type\": \"scatter\"}, {\"textposition\": \"top\", \"name\": \"Formate Formate O2\", \"mode\": \"lines+markers\", \"y\": [2], \"x\": [0], \"type\": \"scatter\"}, {\"textposition\": \"top\", \"name\": \"Acetate Acetate O2\", \"mode\": \"lines+markers\", \"y\": [2], \"x\": [0], \"type\": \"scatter\"}, {\"textposition\": \"top\", \"name\": \"Glucose Glucose O2\", \"mode\": \"lines+markers\", \"y\": [2, 2, 1, 1, 1], \"x\": [0, 1, 2, 3, 4], \"type\": \"scatter\"}, {\"textposition\": \"top\", \"name\": \"CO2 H2  S\", \"mode\": \"lines+markers\", \"y\": [3], \"x\": [0], \"type\": \"scatter\"}, {\"textposition\": \"top\", \"name\": \"Maltose Maltose O2\", \"mode\": \"lines+markers\", \"y\": [2, 2, 2, 1], \"x\": [0, 1, 2, 3], \"type\": \"scatter\"}, {\"textposition\": \"top\", \"name\": \"CO2 S  S\", \"mode\": \"lines+markers\", \"y\": [2], \"x\": [0], \"type\": \"scatter\"}, {\"textposition\": \"top\", \"name\": \"Fructose    H2  S\", \"mode\": \"lines+markers\", \"y\": [3], \"x\": [0], \"type\": \"scatter\"}, {\"textposition\": \"top\", \"name\": \"Acetate H2  S\", \"mode\": \"lines+markers\", \"y\": [3], \"x\": [0], \"type\": \"scatter\"}, {\"textposition\": \"top\", \"name\": \"CO  H2  S\", \"mode\": \"lines+markers\", \"y\": [3], \"x\": [0], \"type\": \"scatter\"}, {\"textposition\": \"top\", \"name\": \"Maltose H2  S\", \"mode\": \"lines+markers\", \"y\": [3, 2, 2, 1], \"x\": [0, 1, 2, 3], \"type\": \"scatter\"}], {}, {\"linkText\": \"Export to plot.ly\", \"showLink\": true})});</script>"
      ]
     },
     "metadata": {},
     "output_type": "display_data"
    }
   ],
   "source": [
    "super_plot(all_seed_dfs,'n_compounds_new')"
   ]
  },
  {
   "cell_type": "code",
   "execution_count": 121,
   "metadata": {},
   "outputs": [
    {
     "data": {
      "application/vnd.plotly.v1+json": {
       "data": [
        {
         "mode": "lines+markers",
         "name": "Galactose   Galactose   O2",
         "textposition": "top center",
         "type": "scatter",
         "x": [
          0,
          1
         ],
         "y": [
          1,
          0
         ]
        },
        {
         "mode": "lines+markers",
         "name": "Lactose H2  S",
         "textposition": "top center",
         "type": "scatter",
         "x": [
          0
         ],
         "y": [
          0
         ]
        },
        {
         "mode": "lines+markers",
         "name": "Fructose    Fructose    O2",
         "textposition": "top center",
         "type": "scatter",
         "x": [
          0
         ],
         "y": [
          0
         ]
        },
        {
         "mode": "lines+markers",
         "name": "Formate H2  S",
         "textposition": "top center",
         "type": "scatter",
         "x": [
          0
         ],
         "y": [
          0
         ]
        },
        {
         "mode": "lines+markers",
         "name": "Lactose Lactose O2",
         "textposition": "top center",
         "type": "scatter",
         "x": [
          0
         ],
         "y": [
          0
         ]
        },
        {
         "mode": "lines+markers",
         "name": "Glucose H2  S",
         "textposition": "top center",
         "type": "scatter",
         "x": [
          0,
          1,
          2,
          3,
          4
         ],
         "y": [
          1,
          1,
          1,
          1,
          0
         ]
        },
        {
         "mode": "lines+markers",
         "name": "Galactose   H2  S",
         "textposition": "top center",
         "type": "scatter",
         "x": [
          0,
          1
         ],
         "y": [
          1,
          0
         ]
        },
        {
         "mode": "lines+markers",
         "name": "Formate Formate O2",
         "textposition": "top center",
         "type": "scatter",
         "x": [
          0
         ],
         "y": [
          0
         ]
        },
        {
         "mode": "lines+markers",
         "name": "Acetate Acetate O2",
         "textposition": "top center",
         "type": "scatter",
         "x": [
          0
         ],
         "y": [
          0
         ]
        },
        {
         "mode": "lines+markers",
         "name": "Glucose Glucose O2",
         "textposition": "top center",
         "type": "scatter",
         "x": [
          0,
          1,
          2,
          3,
          4
         ],
         "y": [
          1,
          1,
          1,
          1,
          0
         ]
        },
        {
         "mode": "lines+markers",
         "name": "CO2 H2  S",
         "textposition": "top center",
         "type": "scatter",
         "x": [
          0
         ],
         "y": [
          0
         ]
        },
        {
         "mode": "lines+markers",
         "name": "Maltose Maltose O2",
         "textposition": "top center",
         "type": "scatter",
         "x": [
          0,
          1,
          2,
          3
         ],
         "y": [
          1,
          2,
          1,
          0
         ]
        },
        {
         "mode": "lines+markers",
         "name": "CO2 S  S",
         "textposition": "top center",
         "type": "scatter",
         "x": [
          0
         ],
         "y": [
          0
         ]
        },
        {
         "mode": "lines+markers",
         "name": "Fructose    H2  S",
         "textposition": "top center",
         "type": "scatter",
         "x": [
          0
         ],
         "y": [
          0
         ]
        },
        {
         "mode": "lines+markers",
         "name": "Acetate H2  S",
         "textposition": "top center",
         "type": "scatter",
         "x": [
          0
         ],
         "y": [
          0
         ]
        },
        {
         "mode": "lines+markers",
         "name": "CO  H2  S",
         "textposition": "top center",
         "type": "scatter",
         "x": [
          0
         ],
         "y": [
          0
         ]
        },
        {
         "mode": "lines+markers",
         "name": "Maltose H2  S",
         "textposition": "top center",
         "type": "scatter",
         "x": [
          0,
          1,
          2,
          3
         ],
         "y": [
          1,
          2,
          1,
          0
         ]
        }
       ],
       "layout": {
        "xaxis": {
         "autorange": true,
         "range": [
          -0.27011494252873564,
          4.2701149425287355
         ],
         "type": "linear"
        },
        "yaxis": {
         "autorange": true,
         "range": [
          -0.1464968152866242,
          2.1464968152866244
         ],
         "type": "linear"
        }
       }
      },
      "text/html": [
       "<div id=\"bab4d27c-c053-4f3c-b81c-3587f5515c32\" style=\"height: 525px; width: 100%;\" class=\"plotly-graph-div\"></div><script type=\"text/javascript\">require([\"plotly\"], function(Plotly) { window.PLOTLYENV=window.PLOTLYENV || {};window.PLOTLYENV.BASE_URL=\"https://plot.ly\";Plotly.newPlot(\"bab4d27c-c053-4f3c-b81c-3587f5515c32\", [{\"textposition\": \"top\", \"name\": \"Galactose   Galactose   O2\", \"mode\": \"lines+markers\", \"y\": [1, 0], \"x\": [0, 1], \"type\": \"scatter\"}, {\"textposition\": \"top\", \"name\": \"Lactose H2  S\", \"mode\": \"lines+markers\", \"y\": [0], \"x\": [0], \"type\": \"scatter\"}, {\"textposition\": \"top\", \"name\": \"Fructose    Fructose    O2\", \"mode\": \"lines+markers\", \"y\": [0], \"x\": [0], \"type\": \"scatter\"}, {\"textposition\": \"top\", \"name\": \"Formate H2  S\", \"mode\": \"lines+markers\", \"y\": [0], \"x\": [0], \"type\": \"scatter\"}, {\"textposition\": \"top\", \"name\": \"Lactose Lactose O2\", \"mode\": \"lines+markers\", \"y\": [0], \"x\": [0], \"type\": \"scatter\"}, {\"textposition\": \"top\", \"name\": \"Glucose H2  S\", \"mode\": \"lines+markers\", \"y\": [1, 1, 1, 1, 0], \"x\": [0, 1, 2, 3, 4], \"type\": \"scatter\"}, {\"textposition\": \"top\", \"name\": \"Galactose   H2  S\", \"mode\": \"lines+markers\", \"y\": [1, 0], \"x\": [0, 1], \"type\": \"scatter\"}, {\"textposition\": \"top\", \"name\": \"Formate Formate O2\", \"mode\": \"lines+markers\", \"y\": [0], \"x\": [0], \"type\": \"scatter\"}, {\"textposition\": \"top\", \"name\": \"Acetate Acetate O2\", \"mode\": \"lines+markers\", \"y\": [0], \"x\": [0], \"type\": \"scatter\"}, {\"textposition\": \"top\", \"name\": \"Glucose Glucose O2\", \"mode\": \"lines+markers\", \"y\": [1, 1, 1, 1, 0], \"x\": [0, 1, 2, 3, 4], \"type\": \"scatter\"}, {\"textposition\": \"top\", \"name\": \"CO2 H2  S\", \"mode\": \"lines+markers\", \"y\": [0], \"x\": [0], \"type\": \"scatter\"}, {\"textposition\": \"top\", \"name\": \"Maltose Maltose O2\", \"mode\": \"lines+markers\", \"y\": [1, 2, 1, 0], \"x\": [0, 1, 2, 3], \"type\": \"scatter\"}, {\"textposition\": \"top\", \"name\": \"CO2 S  S\", \"mode\": \"lines+markers\", \"y\": [0], \"x\": [0], \"type\": \"scatter\"}, {\"textposition\": \"top\", \"name\": \"Fructose    H2  S\", \"mode\": \"lines+markers\", \"y\": [0], \"x\": [0], \"type\": \"scatter\"}, {\"textposition\": \"top\", \"name\": \"Acetate H2  S\", \"mode\": \"lines+markers\", \"y\": [0], \"x\": [0], \"type\": \"scatter\"}, {\"textposition\": \"top\", \"name\": \"CO  H2  S\", \"mode\": \"lines+markers\", \"y\": [0], \"x\": [0], \"type\": \"scatter\"}, {\"textposition\": \"top\", \"name\": \"Maltose H2  S\", \"mode\": \"lines+markers\", \"y\": [1, 2, 1, 0], \"x\": [0, 1, 2, 3], \"type\": \"scatter\"}], {}, {\"linkText\": \"Export to plot.ly\", \"showLink\": true})});</script>"
      ],
      "text/vnd.plotly.v1+html": [
       "<div id=\"bab4d27c-c053-4f3c-b81c-3587f5515c32\" style=\"height: 525px; width: 100%;\" class=\"plotly-graph-div\"></div><script type=\"text/javascript\">require([\"plotly\"], function(Plotly) { window.PLOTLYENV=window.PLOTLYENV || {};window.PLOTLYENV.BASE_URL=\"https://plot.ly\";Plotly.newPlot(\"bab4d27c-c053-4f3c-b81c-3587f5515c32\", [{\"textposition\": \"top\", \"name\": \"Galactose   Galactose   O2\", \"mode\": \"lines+markers\", \"y\": [1, 0], \"x\": [0, 1], \"type\": \"scatter\"}, {\"textposition\": \"top\", \"name\": \"Lactose H2  S\", \"mode\": \"lines+markers\", \"y\": [0], \"x\": [0], \"type\": \"scatter\"}, {\"textposition\": \"top\", \"name\": \"Fructose    Fructose    O2\", \"mode\": \"lines+markers\", \"y\": [0], \"x\": [0], \"type\": \"scatter\"}, {\"textposition\": \"top\", \"name\": \"Formate H2  S\", \"mode\": \"lines+markers\", \"y\": [0], \"x\": [0], \"type\": \"scatter\"}, {\"textposition\": \"top\", \"name\": \"Lactose Lactose O2\", \"mode\": \"lines+markers\", \"y\": [0], \"x\": [0], \"type\": \"scatter\"}, {\"textposition\": \"top\", \"name\": \"Glucose H2  S\", \"mode\": \"lines+markers\", \"y\": [1, 1, 1, 1, 0], \"x\": [0, 1, 2, 3, 4], \"type\": \"scatter\"}, {\"textposition\": \"top\", \"name\": \"Galactose   H2  S\", \"mode\": \"lines+markers\", \"y\": [1, 0], \"x\": [0, 1], \"type\": \"scatter\"}, {\"textposition\": \"top\", \"name\": \"Formate Formate O2\", \"mode\": \"lines+markers\", \"y\": [0], \"x\": [0], \"type\": \"scatter\"}, {\"textposition\": \"top\", \"name\": \"Acetate Acetate O2\", \"mode\": \"lines+markers\", \"y\": [0], \"x\": [0], \"type\": \"scatter\"}, {\"textposition\": \"top\", \"name\": \"Glucose Glucose O2\", \"mode\": \"lines+markers\", \"y\": [1, 1, 1, 1, 0], \"x\": [0, 1, 2, 3, 4], \"type\": \"scatter\"}, {\"textposition\": \"top\", \"name\": \"CO2 H2  S\", \"mode\": \"lines+markers\", \"y\": [0], \"x\": [0], \"type\": \"scatter\"}, {\"textposition\": \"top\", \"name\": \"Maltose Maltose O2\", \"mode\": \"lines+markers\", \"y\": [1, 2, 1, 0], \"x\": [0, 1, 2, 3], \"type\": \"scatter\"}, {\"textposition\": \"top\", \"name\": \"CO2 S  S\", \"mode\": \"lines+markers\", \"y\": [0], \"x\": [0], \"type\": \"scatter\"}, {\"textposition\": \"top\", \"name\": \"Fructose    H2  S\", \"mode\": \"lines+markers\", \"y\": [0], \"x\": [0], \"type\": \"scatter\"}, {\"textposition\": \"top\", \"name\": \"Acetate H2  S\", \"mode\": \"lines+markers\", \"y\": [0], \"x\": [0], \"type\": \"scatter\"}, {\"textposition\": \"top\", \"name\": \"CO  H2  S\", \"mode\": \"lines+markers\", \"y\": [0], \"x\": [0], \"type\": \"scatter\"}, {\"textposition\": \"top\", \"name\": \"Maltose H2  S\", \"mode\": \"lines+markers\", \"y\": [1, 2, 1, 0], \"x\": [0, 1, 2, 3], \"type\": \"scatter\"}], {}, {\"linkText\": \"Export to plot.ly\", \"showLink\": true})});</script>"
      ]
     },
     "metadata": {},
     "output_type": "display_data"
    }
   ],
   "source": [
    "super_plot(all_seed_dfs,'n_reactions_new')"
   ]
  },
  {
   "cell_type": "code",
   "execution_count": 122,
   "metadata": {},
   "outputs": [
    {
     "name": "stdout",
     "output_type": "stream",
     "text": [
      "hello\n"
     ]
    }
   ],
   "source": [
    "print \"hello\""
   ]
  },
  {
   "cell_type": "code",
   "execution_count": 123,
   "metadata": {},
   "outputs": [
    {
     "data": {
      "application/vnd.plotly.v1+json": {
       "data": [
        {
         "mode": "lines+markers",
         "name": "Galactose   Galactose   O2",
         "textposition": "top center",
         "type": "scatter",
         "x": [
          0,
          1
         ],
         "y": [
          2,
          3
         ]
        },
        {
         "mode": "lines+markers",
         "name": "Lactose H2  S",
         "textposition": "top center",
         "type": "scatter",
         "x": [
          0
         ],
         "y": [
          3
         ]
        },
        {
         "mode": "lines+markers",
         "name": "Fructose    Fructose    O2",
         "textposition": "top center",
         "type": "scatter",
         "x": [
          0
         ],
         "y": [
          2
         ]
        },
        {
         "mode": "lines+markers",
         "name": "Formate H2  S",
         "textposition": "top center",
         "type": "scatter",
         "x": [
          0
         ],
         "y": [
          3
         ]
        },
        {
         "mode": "lines+markers",
         "name": "Lactose Lactose O2",
         "textposition": "top center",
         "type": "scatter",
         "x": [
          0
         ],
         "y": [
          2
         ]
        },
        {
         "mode": "lines+markers",
         "name": "Glucose H2  S",
         "textposition": "top center",
         "type": "scatter",
         "x": [
          0,
          1,
          2,
          3,
          4
         ],
         "y": [
          3,
          5,
          6,
          7,
          8
         ]
        },
        {
         "mode": "lines+markers",
         "name": "Galactose   H2  S",
         "textposition": "top center",
         "type": "scatter",
         "x": [
          0,
          1
         ],
         "y": [
          3,
          4
         ]
        },
        {
         "mode": "lines+markers",
         "name": "Formate Formate O2",
         "textposition": "top center",
         "type": "scatter",
         "x": [
          0
         ],
         "y": [
          2
         ]
        },
        {
         "mode": "lines+markers",
         "name": "Acetate Acetate O2",
         "textposition": "top center",
         "type": "scatter",
         "x": [
          0
         ],
         "y": [
          2
         ]
        },
        {
         "mode": "lines+markers",
         "name": "Glucose Glucose O2",
         "textposition": "top center",
         "type": "scatter",
         "x": [
          0,
          1,
          2,
          3,
          4
         ],
         "y": [
          2,
          4,
          5,
          6,
          7
         ]
        },
        {
         "mode": "lines+markers",
         "name": "CO2 H2  S",
         "textposition": "top center",
         "type": "scatter",
         "x": [
          0
         ],
         "y": [
          3
         ]
        },
        {
         "mode": "lines+markers",
         "name": "Maltose Maltose O2",
         "textposition": "top center",
         "type": "scatter",
         "x": [
          0,
          1,
          2,
          3
         ],
         "y": [
          2,
          4,
          6,
          7
         ]
        },
        {
         "mode": "lines+markers",
         "name": "CO2 S  S",
         "textposition": "top center",
         "type": "scatter",
         "x": [
          0
         ],
         "y": [
          2
         ]
        },
        {
         "mode": "lines+markers",
         "name": "Fructose    H2  S",
         "textposition": "top center",
         "type": "scatter",
         "x": [
          0
         ],
         "y": [
          3
         ]
        },
        {
         "mode": "lines+markers",
         "name": "Acetate H2  S",
         "textposition": "top center",
         "type": "scatter",
         "x": [
          0
         ],
         "y": [
          3
         ]
        },
        {
         "mode": "lines+markers",
         "name": "CO  H2  S",
         "textposition": "top center",
         "type": "scatter",
         "x": [
          0
         ],
         "y": [
          3
         ]
        },
        {
         "mode": "lines+markers",
         "name": "Maltose H2  S",
         "textposition": "top center",
         "type": "scatter",
         "x": [
          0,
          1,
          2,
          3
         ],
         "y": [
          3,
          5,
          7,
          8
         ]
        }
       ],
       "layout": {
        "xaxis": {
         "autorange": true,
         "range": [
          -0.27011494252873564,
          4.2701149425287355
         ],
         "type": "linear"
        },
        "yaxis": {
         "autorange": true,
         "range": [
          1.5605095541401273,
          8.439490445859873
         ],
         "type": "linear"
        }
       }
      },
      "text/html": [
       "<div id=\"bfae83a9-3bf9-4407-b546-fc7c12bcb836\" style=\"height: 525px; width: 100%;\" class=\"plotly-graph-div\"></div><script type=\"text/javascript\">require([\"plotly\"], function(Plotly) { window.PLOTLYENV=window.PLOTLYENV || {};window.PLOTLYENV.BASE_URL=\"https://plot.ly\";Plotly.newPlot(\"bfae83a9-3bf9-4407-b546-fc7c12bcb836\", [{\"textposition\": \"top\", \"name\": \"Galactose   Galactose   O2\", \"mode\": \"lines+markers\", \"y\": [2, 3], \"x\": [0, 1], \"type\": \"scatter\"}, {\"textposition\": \"top\", \"name\": \"Lactose H2  S\", \"mode\": \"lines+markers\", \"y\": [3], \"x\": [0], \"type\": \"scatter\"}, {\"textposition\": \"top\", \"name\": \"Fructose    Fructose    O2\", \"mode\": \"lines+markers\", \"y\": [2], \"x\": [0], \"type\": \"scatter\"}, {\"textposition\": \"top\", \"name\": \"Formate H2  S\", \"mode\": \"lines+markers\", \"y\": [3], \"x\": [0], \"type\": \"scatter\"}, {\"textposition\": \"top\", \"name\": \"Lactose Lactose O2\", \"mode\": \"lines+markers\", \"y\": [2], \"x\": [0], \"type\": \"scatter\"}, {\"textposition\": \"top\", \"name\": \"Glucose H2  S\", \"mode\": \"lines+markers\", \"y\": [3, 5, 6, 7, 8], \"x\": [0, 1, 2, 3, 4], \"type\": \"scatter\"}, {\"textposition\": \"top\", \"name\": \"Galactose   H2  S\", \"mode\": \"lines+markers\", \"y\": [3, 4], \"x\": [0, 1], \"type\": \"scatter\"}, {\"textposition\": \"top\", \"name\": \"Formate Formate O2\", \"mode\": \"lines+markers\", \"y\": [2], \"x\": [0], \"type\": \"scatter\"}, {\"textposition\": \"top\", \"name\": \"Acetate Acetate O2\", \"mode\": \"lines+markers\", \"y\": [2], \"x\": [0], \"type\": \"scatter\"}, {\"textposition\": \"top\", \"name\": \"Glucose Glucose O2\", \"mode\": \"lines+markers\", \"y\": [2, 4, 5, 6, 7], \"x\": [0, 1, 2, 3, 4], \"type\": \"scatter\"}, {\"textposition\": \"top\", \"name\": \"CO2 H2  S\", \"mode\": \"lines+markers\", \"y\": [3], \"x\": [0], \"type\": \"scatter\"}, {\"textposition\": \"top\", \"name\": \"Maltose Maltose O2\", \"mode\": \"lines+markers\", \"y\": [2, 4, 6, 7], \"x\": [0, 1, 2, 3], \"type\": \"scatter\"}, {\"textposition\": \"top\", \"name\": \"CO2 S  S\", \"mode\": \"lines+markers\", \"y\": [2], \"x\": [0], \"type\": \"scatter\"}, {\"textposition\": \"top\", \"name\": \"Fructose    H2  S\", \"mode\": \"lines+markers\", \"y\": [3], \"x\": [0], \"type\": \"scatter\"}, {\"textposition\": \"top\", \"name\": \"Acetate H2  S\", \"mode\": \"lines+markers\", \"y\": [3], \"x\": [0], \"type\": \"scatter\"}, {\"textposition\": \"top\", \"name\": \"CO  H2  S\", \"mode\": \"lines+markers\", \"y\": [3], \"x\": [0], \"type\": \"scatter\"}, {\"textposition\": \"top\", \"name\": \"Maltose H2  S\", \"mode\": \"lines+markers\", \"y\": [3, 5, 7, 8], \"x\": [0, 1, 2, 3], \"type\": \"scatter\"}], {}, {\"linkText\": \"Export to plot.ly\", \"showLink\": true})});</script>"
      ],
      "text/vnd.plotly.v1+html": [
       "<div id=\"bfae83a9-3bf9-4407-b546-fc7c12bcb836\" style=\"height: 525px; width: 100%;\" class=\"plotly-graph-div\"></div><script type=\"text/javascript\">require([\"plotly\"], function(Plotly) { window.PLOTLYENV=window.PLOTLYENV || {};window.PLOTLYENV.BASE_URL=\"https://plot.ly\";Plotly.newPlot(\"bfae83a9-3bf9-4407-b546-fc7c12bcb836\", [{\"textposition\": \"top\", \"name\": \"Galactose   Galactose   O2\", \"mode\": \"lines+markers\", \"y\": [2, 3], \"x\": [0, 1], \"type\": \"scatter\"}, {\"textposition\": \"top\", \"name\": \"Lactose H2  S\", \"mode\": \"lines+markers\", \"y\": [3], \"x\": [0], \"type\": \"scatter\"}, {\"textposition\": \"top\", \"name\": \"Fructose    Fructose    O2\", \"mode\": \"lines+markers\", \"y\": [2], \"x\": [0], \"type\": \"scatter\"}, {\"textposition\": \"top\", \"name\": \"Formate H2  S\", \"mode\": \"lines+markers\", \"y\": [3], \"x\": [0], \"type\": \"scatter\"}, {\"textposition\": \"top\", \"name\": \"Lactose Lactose O2\", \"mode\": \"lines+markers\", \"y\": [2], \"x\": [0], \"type\": \"scatter\"}, {\"textposition\": \"top\", \"name\": \"Glucose H2  S\", \"mode\": \"lines+markers\", \"y\": [3, 5, 6, 7, 8], \"x\": [0, 1, 2, 3, 4], \"type\": \"scatter\"}, {\"textposition\": \"top\", \"name\": \"Galactose   H2  S\", \"mode\": \"lines+markers\", \"y\": [3, 4], \"x\": [0, 1], \"type\": \"scatter\"}, {\"textposition\": \"top\", \"name\": \"Formate Formate O2\", \"mode\": \"lines+markers\", \"y\": [2], \"x\": [0], \"type\": \"scatter\"}, {\"textposition\": \"top\", \"name\": \"Acetate Acetate O2\", \"mode\": \"lines+markers\", \"y\": [2], \"x\": [0], \"type\": \"scatter\"}, {\"textposition\": \"top\", \"name\": \"Glucose Glucose O2\", \"mode\": \"lines+markers\", \"y\": [2, 4, 5, 6, 7], \"x\": [0, 1, 2, 3, 4], \"type\": \"scatter\"}, {\"textposition\": \"top\", \"name\": \"CO2 H2  S\", \"mode\": \"lines+markers\", \"y\": [3], \"x\": [0], \"type\": \"scatter\"}, {\"textposition\": \"top\", \"name\": \"Maltose Maltose O2\", \"mode\": \"lines+markers\", \"y\": [2, 4, 6, 7], \"x\": [0, 1, 2, 3], \"type\": \"scatter\"}, {\"textposition\": \"top\", \"name\": \"CO2 S  S\", \"mode\": \"lines+markers\", \"y\": [2], \"x\": [0], \"type\": \"scatter\"}, {\"textposition\": \"top\", \"name\": \"Fructose    H2  S\", \"mode\": \"lines+markers\", \"y\": [3], \"x\": [0], \"type\": \"scatter\"}, {\"textposition\": \"top\", \"name\": \"Acetate H2  S\", \"mode\": \"lines+markers\", \"y\": [3], \"x\": [0], \"type\": \"scatter\"}, {\"textposition\": \"top\", \"name\": \"CO  H2  S\", \"mode\": \"lines+markers\", \"y\": [3], \"x\": [0], \"type\": \"scatter\"}, {\"textposition\": \"top\", \"name\": \"Maltose H2  S\", \"mode\": \"lines+markers\", \"y\": [3, 5, 7, 8], \"x\": [0, 1, 2, 3], \"type\": \"scatter\"}], {}, {\"linkText\": \"Export to plot.ly\", \"showLink\": true})});</script>"
      ]
     },
     "metadata": {},
     "output_type": "display_data"
    }
   ],
   "source": [
    "super_plot(all_seed_dfs,'n_compounds_cumulative')"
   ]
  },
  {
   "cell_type": "code",
   "execution_count": 124,
   "metadata": {},
   "outputs": [
    {
     "data": {
      "application/vnd.plotly.v1+json": {
       "data": [
        {
         "mode": "lines+markers",
         "name": "Galactose   Galactose   O2",
         "textposition": "top center",
         "type": "scatter",
         "x": [
          0,
          1
         ],
         "y": [
          1,
          1
         ]
        },
        {
         "mode": "lines+markers",
         "name": "Lactose H2  S",
         "textposition": "top center",
         "type": "scatter",
         "x": [
          0
         ],
         "y": [
          0
         ]
        },
        {
         "mode": "lines+markers",
         "name": "Fructose    Fructose    O2",
         "textposition": "top center",
         "type": "scatter",
         "x": [
          0
         ],
         "y": [
          0
         ]
        },
        {
         "mode": "lines+markers",
         "name": "Formate H2  S",
         "textposition": "top center",
         "type": "scatter",
         "x": [
          0
         ],
         "y": [
          0
         ]
        },
        {
         "mode": "lines+markers",
         "name": "Lactose Lactose O2",
         "textposition": "top center",
         "type": "scatter",
         "x": [
          0
         ],
         "y": [
          0
         ]
        },
        {
         "mode": "lines+markers",
         "name": "Glucose H2  S",
         "textposition": "top center",
         "type": "scatter",
         "x": [
          0,
          1,
          2,
          3,
          4
         ],
         "y": [
          1,
          2,
          3,
          4,
          4
         ]
        },
        {
         "mode": "lines+markers",
         "name": "Galactose   H2  S",
         "textposition": "top center",
         "type": "scatter",
         "x": [
          0,
          1
         ],
         "y": [
          1,
          1
         ]
        },
        {
         "mode": "lines+markers",
         "name": "Formate Formate O2",
         "textposition": "top center",
         "type": "scatter",
         "x": [
          0
         ],
         "y": [
          0
         ]
        },
        {
         "mode": "lines+markers",
         "name": "Acetate Acetate O2",
         "textposition": "top center",
         "type": "scatter",
         "x": [
          0
         ],
         "y": [
          0
         ]
        },
        {
         "mode": "lines+markers",
         "name": "Glucose Glucose O2",
         "textposition": "top center",
         "type": "scatter",
         "x": [
          0,
          1,
          2,
          3,
          4
         ],
         "y": [
          1,
          2,
          3,
          4,
          4
         ]
        },
        {
         "mode": "lines+markers",
         "name": "CO2 H2  S",
         "textposition": "top center",
         "type": "scatter",
         "x": [
          0
         ],
         "y": [
          0
         ]
        },
        {
         "mode": "lines+markers",
         "name": "Maltose Maltose O2",
         "textposition": "top center",
         "type": "scatter",
         "x": [
          0,
          1,
          2,
          3
         ],
         "y": [
          1,
          3,
          4,
          4
         ]
        },
        {
         "mode": "lines+markers",
         "name": "CO2 S  S",
         "textposition": "top center",
         "type": "scatter",
         "x": [
          0
         ],
         "y": [
          0
         ]
        },
        {
         "mode": "lines+markers",
         "name": "Fructose    H2  S",
         "textposition": "top center",
         "type": "scatter",
         "x": [
          0
         ],
         "y": [
          0
         ]
        },
        {
         "mode": "lines+markers",
         "name": "Acetate H2  S",
         "textposition": "top center",
         "type": "scatter",
         "x": [
          0
         ],
         "y": [
          0
         ]
        },
        {
         "mode": "lines+markers",
         "name": "CO  H2  S",
         "textposition": "top center",
         "type": "scatter",
         "x": [
          0
         ],
         "y": [
          0
         ]
        },
        {
         "mode": "lines+markers",
         "name": "Maltose H2  S",
         "textposition": "top center",
         "type": "scatter",
         "x": [
          0,
          1,
          2,
          3
         ],
         "y": [
          1,
          3,
          4,
          4
         ]
        }
       ],
       "layout": {
        "xaxis": {
         "autorange": true,
         "range": [
          -0.27011494252873564,
          4.2701149425287355
         ],
         "type": "linear"
        },
        "yaxis": {
         "autorange": true,
         "range": [
          -0.2929936305732484,
          4.292993630573249
         ],
         "type": "linear"
        }
       }
      },
      "text/html": [
       "<div id=\"d11ee927-21fc-4fcf-ae3f-35992dd29814\" style=\"height: 525px; width: 100%;\" class=\"plotly-graph-div\"></div><script type=\"text/javascript\">require([\"plotly\"], function(Plotly) { window.PLOTLYENV=window.PLOTLYENV || {};window.PLOTLYENV.BASE_URL=\"https://plot.ly\";Plotly.newPlot(\"d11ee927-21fc-4fcf-ae3f-35992dd29814\", [{\"textposition\": \"top\", \"name\": \"Galactose   Galactose   O2\", \"mode\": \"lines+markers\", \"y\": [1, 1], \"x\": [0, 1], \"type\": \"scatter\"}, {\"textposition\": \"top\", \"name\": \"Lactose H2  S\", \"mode\": \"lines+markers\", \"y\": [0], \"x\": [0], \"type\": \"scatter\"}, {\"textposition\": \"top\", \"name\": \"Fructose    Fructose    O2\", \"mode\": \"lines+markers\", \"y\": [0], \"x\": [0], \"type\": \"scatter\"}, {\"textposition\": \"top\", \"name\": \"Formate H2  S\", \"mode\": \"lines+markers\", \"y\": [0], \"x\": [0], \"type\": \"scatter\"}, {\"textposition\": \"top\", \"name\": \"Lactose Lactose O2\", \"mode\": \"lines+markers\", \"y\": [0], \"x\": [0], \"type\": \"scatter\"}, {\"textposition\": \"top\", \"name\": \"Glucose H2  S\", \"mode\": \"lines+markers\", \"y\": [1, 2, 3, 4, 4], \"x\": [0, 1, 2, 3, 4], \"type\": \"scatter\"}, {\"textposition\": \"top\", \"name\": \"Galactose   H2  S\", \"mode\": \"lines+markers\", \"y\": [1, 1], \"x\": [0, 1], \"type\": \"scatter\"}, {\"textposition\": \"top\", \"name\": \"Formate Formate O2\", \"mode\": \"lines+markers\", \"y\": [0], \"x\": [0], \"type\": \"scatter\"}, {\"textposition\": \"top\", \"name\": \"Acetate Acetate O2\", \"mode\": \"lines+markers\", \"y\": [0], \"x\": [0], \"type\": \"scatter\"}, {\"textposition\": \"top\", \"name\": \"Glucose Glucose O2\", \"mode\": \"lines+markers\", \"y\": [1, 2, 3, 4, 4], \"x\": [0, 1, 2, 3, 4], \"type\": \"scatter\"}, {\"textposition\": \"top\", \"name\": \"CO2 H2  S\", \"mode\": \"lines+markers\", \"y\": [0], \"x\": [0], \"type\": \"scatter\"}, {\"textposition\": \"top\", \"name\": \"Maltose Maltose O2\", \"mode\": \"lines+markers\", \"y\": [1, 3, 4, 4], \"x\": [0, 1, 2, 3], \"type\": \"scatter\"}, {\"textposition\": \"top\", \"name\": \"CO2 S  S\", \"mode\": \"lines+markers\", \"y\": [0], \"x\": [0], \"type\": \"scatter\"}, {\"textposition\": \"top\", \"name\": \"Fructose    H2  S\", \"mode\": \"lines+markers\", \"y\": [0], \"x\": [0], \"type\": \"scatter\"}, {\"textposition\": \"top\", \"name\": \"Acetate H2  S\", \"mode\": \"lines+markers\", \"y\": [0], \"x\": [0], \"type\": \"scatter\"}, {\"textposition\": \"top\", \"name\": \"CO  H2  S\", \"mode\": \"lines+markers\", \"y\": [0], \"x\": [0], \"type\": \"scatter\"}, {\"textposition\": \"top\", \"name\": \"Maltose H2  S\", \"mode\": \"lines+markers\", \"y\": [1, 3, 4, 4], \"x\": [0, 1, 2, 3], \"type\": \"scatter\"}], {}, {\"linkText\": \"Export to plot.ly\", \"showLink\": true})});</script>"
      ],
      "text/vnd.plotly.v1+html": [
       "<div id=\"d11ee927-21fc-4fcf-ae3f-35992dd29814\" style=\"height: 525px; width: 100%;\" class=\"plotly-graph-div\"></div><script type=\"text/javascript\">require([\"plotly\"], function(Plotly) { window.PLOTLYENV=window.PLOTLYENV || {};window.PLOTLYENV.BASE_URL=\"https://plot.ly\";Plotly.newPlot(\"d11ee927-21fc-4fcf-ae3f-35992dd29814\", [{\"textposition\": \"top\", \"name\": \"Galactose   Galactose   O2\", \"mode\": \"lines+markers\", \"y\": [1, 1], \"x\": [0, 1], \"type\": \"scatter\"}, {\"textposition\": \"top\", \"name\": \"Lactose H2  S\", \"mode\": \"lines+markers\", \"y\": [0], \"x\": [0], \"type\": \"scatter\"}, {\"textposition\": \"top\", \"name\": \"Fructose    Fructose    O2\", \"mode\": \"lines+markers\", \"y\": [0], \"x\": [0], \"type\": \"scatter\"}, {\"textposition\": \"top\", \"name\": \"Formate H2  S\", \"mode\": \"lines+markers\", \"y\": [0], \"x\": [0], \"type\": \"scatter\"}, {\"textposition\": \"top\", \"name\": \"Lactose Lactose O2\", \"mode\": \"lines+markers\", \"y\": [0], \"x\": [0], \"type\": \"scatter\"}, {\"textposition\": \"top\", \"name\": \"Glucose H2  S\", \"mode\": \"lines+markers\", \"y\": [1, 2, 3, 4, 4], \"x\": [0, 1, 2, 3, 4], \"type\": \"scatter\"}, {\"textposition\": \"top\", \"name\": \"Galactose   H2  S\", \"mode\": \"lines+markers\", \"y\": [1, 1], \"x\": [0, 1], \"type\": \"scatter\"}, {\"textposition\": \"top\", \"name\": \"Formate Formate O2\", \"mode\": \"lines+markers\", \"y\": [0], \"x\": [0], \"type\": \"scatter\"}, {\"textposition\": \"top\", \"name\": \"Acetate Acetate O2\", \"mode\": \"lines+markers\", \"y\": [0], \"x\": [0], \"type\": \"scatter\"}, {\"textposition\": \"top\", \"name\": \"Glucose Glucose O2\", \"mode\": \"lines+markers\", \"y\": [1, 2, 3, 4, 4], \"x\": [0, 1, 2, 3, 4], \"type\": \"scatter\"}, {\"textposition\": \"top\", \"name\": \"CO2 H2  S\", \"mode\": \"lines+markers\", \"y\": [0], \"x\": [0], \"type\": \"scatter\"}, {\"textposition\": \"top\", \"name\": \"Maltose Maltose O2\", \"mode\": \"lines+markers\", \"y\": [1, 3, 4, 4], \"x\": [0, 1, 2, 3], \"type\": \"scatter\"}, {\"textposition\": \"top\", \"name\": \"CO2 S  S\", \"mode\": \"lines+markers\", \"y\": [0], \"x\": [0], \"type\": \"scatter\"}, {\"textposition\": \"top\", \"name\": \"Fructose    H2  S\", \"mode\": \"lines+markers\", \"y\": [0], \"x\": [0], \"type\": \"scatter\"}, {\"textposition\": \"top\", \"name\": \"Acetate H2  S\", \"mode\": \"lines+markers\", \"y\": [0], \"x\": [0], \"type\": \"scatter\"}, {\"textposition\": \"top\", \"name\": \"CO  H2  S\", \"mode\": \"lines+markers\", \"y\": [0], \"x\": [0], \"type\": \"scatter\"}, {\"textposition\": \"top\", \"name\": \"Maltose H2  S\", \"mode\": \"lines+markers\", \"y\": [1, 3, 4, 4], \"x\": [0, 1, 2, 3], \"type\": \"scatter\"}], {}, {\"linkText\": \"Export to plot.ly\", \"showLink\": true})});</script>"
      ]
     },
     "metadata": {},
     "output_type": "display_data"
    }
   ],
   "source": [
    "super_plot(all_seed_dfs,'n_reactions_cumulative')"
   ]
  },
  {
   "cell_type": "markdown",
   "metadata": {},
   "source": [
    "### Create plots of the different seed set data"
   ]
  },
  {
   "cell_type": "code",
   "execution_count": 93,
   "metadata": {},
   "outputs": [],
   "source": [
    "def cool_plots(df,line1,line2):\n",
    "\n",
    "    # Create traces\n",
    "    trace0 = go.Scatter(\n",
    "        x = df.index,\n",
    "        y = df[line1],\n",
    "        mode = 'lines+markers+text',\n",
    "        name = line1,\n",
    "        text=df['tags'],\n",
    "        textposition='top'\n",
    "    #     text= data['state']\n",
    "    )\n",
    "    trace1 = go.Scatter(\n",
    "        x = df.index,\n",
    "        y = df[line2],\n",
    "        mode = 'lines+markers',\n",
    "        name = line2\n",
    "    )\n",
    "\n",
    "    data = [trace0,trace1]\n",
    "    plotly.offline.iplot(data)"
   ]
  },
  {
   "cell_type": "code",
   "execution_count": 95,
   "metadata": {},
   "outputs": [
    {
     "data": {
      "application/vnd.plotly.v1+json": {
       "data": [
        {
         "mode": "lines+markers+text",
         "name": "n_compounds_new",
         "text": [
          null,
          "['Glucose']",
          null,
          null
         ],
         "textposition": "top center",
         "type": "scatter",
         "x": [
          0,
          1,
          2,
          3
         ],
         "y": [
          3,
          2,
          1,
          1
         ]
        },
        {
         "mode": "lines+markers",
         "name": "n_reactions_new",
         "type": "scatter",
         "x": [
          0,
          1,
          2,
          3
         ],
         "y": [
          2,
          1,
          1,
          0
         ]
        }
       ],
       "layout": {
        "xaxis": {
         "autorange": true,
         "range": [
          -0.19906687402799383,
          3.1990668740279937
         ],
         "type": "linear"
        },
        "yaxis": {
         "autorange": true,
         "range": [
          -0.2197452229299363,
          3.2197452229299364
         ],
         "type": "linear"
        }
       }
      },
      "text/html": [
       "<div id=\"00f3ef57-3ffd-49ea-8b18-1c49993b44ed\" style=\"height: 525px; width: 100%;\" class=\"plotly-graph-div\"></div><script type=\"text/javascript\">require([\"plotly\"], function(Plotly) { window.PLOTLYENV=window.PLOTLYENV || {};window.PLOTLYENV.BASE_URL=\"https://plot.ly\";Plotly.newPlot(\"00f3ef57-3ffd-49ea-8b18-1c49993b44ed\", [{\"textposition\": \"top\", \"name\": \"n_compounds_new\", \"text\": [null, \"['Glucose']\", null, null], \"mode\": \"lines+markers+text\", \"y\": [3, 2, 1, 1], \"x\": [0, 1, 2, 3], \"type\": \"scatter\"}, {\"y\": [2, 1, 1, 0], \"x\": [0, 1, 2, 3], \"type\": \"scatter\", \"name\": \"n_reactions_new\", \"mode\": \"lines+markers\"}], {}, {\"linkText\": \"Export to plot.ly\", \"showLink\": true})});</script>"
      ],
      "text/vnd.plotly.v1+html": [
       "<div id=\"00f3ef57-3ffd-49ea-8b18-1c49993b44ed\" style=\"height: 525px; width: 100%;\" class=\"plotly-graph-div\"></div><script type=\"text/javascript\">require([\"plotly\"], function(Plotly) { window.PLOTLYENV=window.PLOTLYENV || {};window.PLOTLYENV.BASE_URL=\"https://plot.ly\";Plotly.newPlot(\"00f3ef57-3ffd-49ea-8b18-1c49993b44ed\", [{\"textposition\": \"top\", \"name\": \"n_compounds_new\", \"text\": [null, \"['Glucose']\", null, null], \"mode\": \"lines+markers+text\", \"y\": [3, 2, 1, 1], \"x\": [0, 1, 2, 3], \"type\": \"scatter\"}, {\"y\": [2, 1, 1, 0], \"x\": [0, 1, 2, 3], \"type\": \"scatter\", \"name\": \"n_reactions_new\", \"mode\": \"lines+markers\"}], {}, {\"linkText\": \"Export to plot.ly\", \"showLink\": true})});</script>"
      ]
     },
     "metadata": {},
     "output_type": "display_data"
    }
   ],
   "source": [
    "cool_plots(all_seed_dfs['Maltose_O2'],'n_compounds_new','n_reactions_new')"
   ]
  },
  {
   "cell_type": "code",
   "execution_count": null,
   "metadata": {},
   "outputs": [],
   "source": []
  },
  {
   "cell_type": "code",
   "execution_count": null,
   "metadata": {},
   "outputs": [],
   "source": []
  },
  {
   "cell_type": "code",
   "execution_count": null,
   "metadata": {},
   "outputs": [],
   "source": []
  },
  {
   "cell_type": "markdown",
   "metadata": {},
   "source": [
    "#### Test run"
   ]
  },
  {
   "cell_type": "code",
   "execution_count": 46,
   "metadata": {},
   "outputs": [],
   "source": [
    "compounds_to_tag = {\"C00003\":'NAD',\n",
    "                   \"C00006\":'NADP',\n",
    "                   \"C00002\":'ATP',\n",
    "                   \"C00031\":'Glucose',\n",
    "                   \"C00010\":'CoA'}"
   ]
  },
  {
   "cell_type": "code",
   "execution_count": 48,
   "metadata": {},
   "outputs": [
    {
     "name": "stdout",
     "output_type": "stream",
     "text": [
      "0\n",
      "1\n",
      "2\n",
      "3\n",
      "4\n",
      "5\n",
      "6\n",
      "7\n",
      "8\n",
      "9\n",
      "10\n",
      "11\n",
      "12\n",
      "13\n",
      "14\n",
      "15\n",
      "16\n",
      "17\n",
      "18\n",
      "19\n",
      "20\n",
      "21\n",
      "22\n",
      "23\n",
      "24\n"
     ]
    }
   ],
   "source": [
    "seed_compounds = set([\"C00001\",\"C00031\"]) # water and glucose (water is always a seed compound)\n",
    "list_of_dicts = advance_expansion_to_complete_scope(G,seed_compounds,compounds_to_tag)"
   ]
  },
  {
   "cell_type": "code",
   "execution_count": 51,
   "metadata": {},
   "outputs": [],
   "source": [
    "glucose_df = pd.DataFrame(list_of_dicts)"
   ]
  },
  {
   "cell_type": "code",
   "execution_count": 52,
   "metadata": {},
   "outputs": [
    {
     "data": {
      "text/html": [
       "<div>\n",
       "<style>\n",
       "    .dataframe thead tr:only-child th {\n",
       "        text-align: right;\n",
       "    }\n",
       "\n",
       "    .dataframe thead th {\n",
       "        text-align: left;\n",
       "    }\n",
       "\n",
       "    .dataframe tbody tr th {\n",
       "        vertical-align: top;\n",
       "    }\n",
       "</style>\n",
       "<table border=\"1\" class=\"dataframe\">\n",
       "  <thead>\n",
       "    <tr style=\"text-align: right;\">\n",
       "      <th></th>\n",
       "      <th>bipartite_avg_betweenness_compounds</th>\n",
       "      <th>bipartite_avg_betweenness_reactions</th>\n",
       "      <th>bipartite_avg_clustering</th>\n",
       "      <th>bipartite_avg_clustering_compounds</th>\n",
       "      <th>bipartite_avg_clustering_reactions</th>\n",
       "      <th>bipartite_avg_deg_compounds</th>\n",
       "      <th>bipartite_avg_deg_reactions</th>\n",
       "      <th>compounds_new</th>\n",
       "      <th>generation</th>\n",
       "      <th>n_compounds_cumulative</th>\n",
       "      <th>n_compounds_new</th>\n",
       "      <th>n_reactions_cumulative</th>\n",
       "      <th>n_reactions_new</th>\n",
       "      <th>reactions_new</th>\n",
       "      <th>seed</th>\n",
       "      <th>tags</th>\n",
       "    </tr>\n",
       "  </thead>\n",
       "  <tbody>\n",
       "    <tr>\n",
       "      <th>0</th>\n",
       "      <td>0.388889</td>\n",
       "      <td>0.083333</td>\n",
       "      <td>0.750000</td>\n",
       "      <td>0.750000</td>\n",
       "      <td>0.750000</td>\n",
       "      <td>3.500000</td>\n",
       "      <td>1.750000</td>\n",
       "      <td>[C00001, C00031]</td>\n",
       "      <td>0</td>\n",
       "      <td>2</td>\n",
       "      <td>2</td>\n",
       "      <td>4</td>\n",
       "      <td>4</td>\n",
       "      <td>[R00307, R00306, R00028, R00010]</td>\n",
       "      <td>[C00001, C00031]</td>\n",
       "      <td>['C00031']</td>\n",
       "    </tr>\n",
       "    <tr>\n",
       "      <th>1</th>\n",
       "      <td>0.229167</td>\n",
       "      <td>0.051263</td>\n",
       "      <td>0.405139</td>\n",
       "      <td>0.219766</td>\n",
       "      <td>0.466930</td>\n",
       "      <td>6.000000</td>\n",
       "      <td>2.000000</td>\n",
       "      <td>[C00185, C01083, C00095, C00208]</td>\n",
       "      <td>1</td>\n",
       "      <td>6</td>\n",
       "      <td>4</td>\n",
       "      <td>18</td>\n",
       "      <td>14</td>\n",
       "      <td>[R00026, R02887, R09995, R00801, R10817, R0519...</td>\n",
       "      <td>[C00001, C00031]</td>\n",
       "      <td>None</td>\n",
       "    </tr>\n",
       "    <tr>\n",
       "      <th>2</th>\n",
       "      <td>0.072944</td>\n",
       "      <td>0.026941</td>\n",
       "      <td>0.241998</td>\n",
       "      <td>0.133498</td>\n",
       "      <td>0.294857</td>\n",
       "      <td>5.210526</td>\n",
       "      <td>2.538462</td>\n",
       "      <td>[C00159, C06468, C06219, C00221, C00267, C0008...</td>\n",
       "      <td>2</td>\n",
       "      <td>19</td>\n",
       "      <td>13</td>\n",
       "      <td>39</td>\n",
       "      <td>21</td>\n",
       "      <td>[R10809, R01519, R01332, R01823, R00015, R0210...</td>\n",
       "      <td>[C00001, C00031]</td>\n",
       "      <td>None</td>\n",
       "    </tr>\n",
       "    <tr>\n",
       "      <th>3</th>\n",
       "      <td>0.045824</td>\n",
       "      <td>0.025422</td>\n",
       "      <td>0.217042</td>\n",
       "      <td>0.149991</td>\n",
       "      <td>0.260770</td>\n",
       "      <td>4.300000</td>\n",
       "      <td>2.804348</td>\n",
       "      <td>[C00252, C02336, C00257, C01742, C02492, C0366...</td>\n",
       "      <td>3</td>\n",
       "      <td>30</td>\n",
       "      <td>11</td>\n",
       "      <td>46</td>\n",
       "      <td>7</td>\n",
       "      <td>[R11788, R01538, R11790, R08612, R03802, R1130...</td>\n",
       "      <td>[C00001, C00031]</td>\n",
       "      <td>None</td>\n",
       "    </tr>\n",
       "    <tr>\n",
       "      <th>4</th>\n",
       "      <td>0.038721</td>\n",
       "      <td>0.022192</td>\n",
       "      <td>0.211131</td>\n",
       "      <td>0.148474</td>\n",
       "      <td>0.252902</td>\n",
       "      <td>4.277778</td>\n",
       "      <td>2.851852</td>\n",
       "      <td>[C06218, C21655, C17207, C00372, C00204, C21659]</td>\n",
       "      <td>4</td>\n",
       "      <td>36</td>\n",
       "      <td>6</td>\n",
       "      <td>54</td>\n",
       "      <td>8</td>\n",
       "      <td>[R11789, R08614, R08570, R02120, R01540, R0212...</td>\n",
       "      <td>[C00001, C00031]</td>\n",
       "      <td>None</td>\n",
       "    </tr>\n",
       "  </tbody>\n",
       "</table>\n",
       "</div>"
      ],
      "text/plain": [
       "   bipartite_avg_betweenness_compounds  bipartite_avg_betweenness_reactions  \\\n",
       "0                             0.388889                             0.083333   \n",
       "1                             0.229167                             0.051263   \n",
       "2                             0.072944                             0.026941   \n",
       "3                             0.045824                             0.025422   \n",
       "4                             0.038721                             0.022192   \n",
       "\n",
       "   bipartite_avg_clustering  bipartite_avg_clustering_compounds  \\\n",
       "0                  0.750000                            0.750000   \n",
       "1                  0.405139                            0.219766   \n",
       "2                  0.241998                            0.133498   \n",
       "3                  0.217042                            0.149991   \n",
       "4                  0.211131                            0.148474   \n",
       "\n",
       "   bipartite_avg_clustering_reactions  bipartite_avg_deg_compounds  \\\n",
       "0                            0.750000                     3.500000   \n",
       "1                            0.466930                     6.000000   \n",
       "2                            0.294857                     5.210526   \n",
       "3                            0.260770                     4.300000   \n",
       "4                            0.252902                     4.277778   \n",
       "\n",
       "   bipartite_avg_deg_reactions  \\\n",
       "0                     1.750000   \n",
       "1                     2.000000   \n",
       "2                     2.538462   \n",
       "3                     2.804348   \n",
       "4                     2.851852   \n",
       "\n",
       "                                       compounds_new  generation  \\\n",
       "0                                   [C00001, C00031]           0   \n",
       "1                   [C00185, C01083, C00095, C00208]           1   \n",
       "2  [C00159, C06468, C06219, C00221, C00267, C0008...           2   \n",
       "3  [C00252, C02336, C00257, C01742, C02492, C0366...           3   \n",
       "4   [C06218, C21655, C17207, C00372, C00204, C21659]           4   \n",
       "\n",
       "   n_compounds_cumulative  n_compounds_new  n_reactions_cumulative  \\\n",
       "0                       2                2                       4   \n",
       "1                       6                4                      18   \n",
       "2                      19               13                      39   \n",
       "3                      30               11                      46   \n",
       "4                      36                6                      54   \n",
       "\n",
       "   n_reactions_new                                      reactions_new  \\\n",
       "0                4                   [R00307, R00306, R00028, R00010]   \n",
       "1               14  [R00026, R02887, R09995, R00801, R10817, R0519...   \n",
       "2               21  [R10809, R01519, R01332, R01823, R00015, R0210...   \n",
       "3                7  [R11788, R01538, R11790, R08612, R03802, R1130...   \n",
       "4                8  [R11789, R08614, R08570, R02120, R01540, R0212...   \n",
       "\n",
       "               seed        tags  \n",
       "0  [C00001, C00031]  ['C00031']  \n",
       "1  [C00001, C00031]        None  \n",
       "2  [C00001, C00031]        None  \n",
       "3  [C00001, C00031]        None  \n",
       "4  [C00001, C00031]        None  "
      ]
     },
     "execution_count": 52,
     "metadata": {},
     "output_type": "execute_result"
    }
   ],
   "source": [
    "glucose_df.head()"
   ]
  },
  {
   "cell_type": "code",
   "execution_count": 68,
   "metadata": {},
   "outputs": [],
   "source": [
    "def cool_plots(df,line1,line2):\n",
    "\n",
    "    # Create traces\n",
    "    trace0 = go.Scatter(\n",
    "        x = df.index,\n",
    "        y = df[line1],\n",
    "        mode = 'lines+markers+text',\n",
    "        name = line1,\n",
    "        text=df['tags'],\n",
    "        textposition='top'\n",
    "    #     text= data['state']\n",
    "    )\n",
    "    trace1 = go.Scatter(\n",
    "        x = df.index,\n",
    "        y = df[line2],\n",
    "        mode = 'lines+markers',\n",
    "        name = line2\n",
    "    )\n",
    "\n",
    "    data = [trace0,trace1]\n",
    "    plotly.offline.iplot(data)"
   ]
  },
  {
   "cell_type": "code",
   "execution_count": 69,
   "metadata": {},
   "outputs": [
    {
     "ename": "NameError",
     "evalue": "name 'glucose_df' is not defined",
     "output_type": "error",
     "traceback": [
      "\u001b[0;31m---------------------------------------------------------------------------\u001b[0m",
      "\u001b[0;31mNameError\u001b[0m                                 Traceback (most recent call last)",
      "\u001b[0;32m<ipython-input-69-b4f1c588960e>\u001b[0m in \u001b[0;36m<module>\u001b[0;34m()\u001b[0m\n\u001b[0;32m----> 1\u001b[0;31m \u001b[0mcool_plots\u001b[0m\u001b[0;34m(\u001b[0m\u001b[0mglucose_df\u001b[0m\u001b[0;34m,\u001b[0m\u001b[0;34m'n_compounds_new'\u001b[0m\u001b[0;34m,\u001b[0m\u001b[0;34m'n_reactions_new'\u001b[0m\u001b[0;34m)\u001b[0m\u001b[0;34m\u001b[0m\u001b[0m\n\u001b[0m",
      "\u001b[0;31mNameError\u001b[0m: name 'glucose_df' is not defined"
     ]
    }
   ],
   "source": [
    "cool_plots(glucose_df,'n_compounds_new','n_reactions_new')"
   ]
  },
  {
   "cell_type": "code",
   "execution_count": 70,
   "metadata": {},
   "outputs": [
    {
     "data": {
      "application/vnd.plotly.v1+json": {
       "data": [
        {
         "mode": "lines+markers+text",
         "name": "n_compounds_cumulative",
         "text": [
          "['C00031']",
          null,
          null,
          null,
          null,
          null,
          null,
          null,
          null,
          null,
          null,
          null,
          null,
          null,
          null,
          null,
          null,
          null,
          null,
          null,
          null,
          null,
          null,
          null,
          null
         ],
         "textposition": "top center",
         "type": "scatter",
         "x": [
          0,
          1,
          2,
          3,
          4,
          5,
          6,
          7,
          8,
          9,
          10,
          11,
          12,
          13,
          14,
          15,
          16,
          17,
          18,
          19,
          20,
          21,
          22,
          23,
          24
         ],
         "y": [
          2,
          6,
          19,
          30,
          36,
          41,
          48,
          66,
          86,
          118,
          150,
          176,
          203,
          219,
          230,
          240,
          246,
          255,
          264,
          271,
          275,
          281,
          285,
          286,
          288
         ]
        },
        {
         "mode": "lines+markers",
         "name": "n_reactions_cumulative",
         "type": "scatter",
         "x": [
          0,
          1,
          2,
          3,
          4,
          5,
          6,
          7,
          8,
          9,
          10,
          11,
          12,
          13,
          14,
          15,
          16,
          17,
          18,
          19,
          20,
          21,
          22,
          23,
          24
         ],
         "y": [
          4,
          18,
          39,
          46,
          54,
          60,
          78,
          100,
          138,
          183,
          213,
          247,
          266,
          278,
          289,
          297,
          308,
          317,
          326,
          330,
          337,
          342,
          343,
          345,
          345
         ]
        }
       ],
       "layout": {
        "xaxis": {
         "autorange": true,
         "range": [
          -1.619210977701544,
          25.619210977701545
         ],
         "type": "linear"
        },
        "yaxis": {
         "autorange": true,
         "range": [
          -23.12420382165605,
          370.12420382165607
         ],
         "type": "linear"
        }
       }
      },
      "text/html": [
       "<div id=\"39a76295-0f1e-450f-90c3-d0e7eb877206\" style=\"height: 525px; width: 100%;\" class=\"plotly-graph-div\"></div><script type=\"text/javascript\">require([\"plotly\"], function(Plotly) { window.PLOTLYENV=window.PLOTLYENV || {};window.PLOTLYENV.BASE_URL=\"https://plot.ly\";Plotly.newPlot(\"39a76295-0f1e-450f-90c3-d0e7eb877206\", [{\"textposition\": \"top\", \"name\": \"n_compounds_cumulative\", \"text\": [\"['C00031']\", null, null, null, null, null, null, null, null, null, null, null, null, null, null, null, null, null, null, null, null, null, null, null, null], \"mode\": \"lines+markers+text\", \"y\": [2, 6, 19, 30, 36, 41, 48, 66, 86, 118, 150, 176, 203, 219, 230, 240, 246, 255, 264, 271, 275, 281, 285, 286, 288], \"x\": [0, 1, 2, 3, 4, 5, 6, 7, 8, 9, 10, 11, 12, 13, 14, 15, 16, 17, 18, 19, 20, 21, 22, 23, 24], \"type\": \"scatter\"}, {\"y\": [4, 18, 39, 46, 54, 60, 78, 100, 138, 183, 213, 247, 266, 278, 289, 297, 308, 317, 326, 330, 337, 342, 343, 345, 345], \"x\": [0, 1, 2, 3, 4, 5, 6, 7, 8, 9, 10, 11, 12, 13, 14, 15, 16, 17, 18, 19, 20, 21, 22, 23, 24], \"type\": \"scatter\", \"name\": \"n_reactions_cumulative\", \"mode\": \"lines+markers\"}], {}, {\"linkText\": \"Export to plot.ly\", \"showLink\": true})});</script>"
      ],
      "text/vnd.plotly.v1+html": [
       "<div id=\"39a76295-0f1e-450f-90c3-d0e7eb877206\" style=\"height: 525px; width: 100%;\" class=\"plotly-graph-div\"></div><script type=\"text/javascript\">require([\"plotly\"], function(Plotly) { window.PLOTLYENV=window.PLOTLYENV || {};window.PLOTLYENV.BASE_URL=\"https://plot.ly\";Plotly.newPlot(\"39a76295-0f1e-450f-90c3-d0e7eb877206\", [{\"textposition\": \"top\", \"name\": \"n_compounds_cumulative\", \"text\": [\"['C00031']\", null, null, null, null, null, null, null, null, null, null, null, null, null, null, null, null, null, null, null, null, null, null, null, null], \"mode\": \"lines+markers+text\", \"y\": [2, 6, 19, 30, 36, 41, 48, 66, 86, 118, 150, 176, 203, 219, 230, 240, 246, 255, 264, 271, 275, 281, 285, 286, 288], \"x\": [0, 1, 2, 3, 4, 5, 6, 7, 8, 9, 10, 11, 12, 13, 14, 15, 16, 17, 18, 19, 20, 21, 22, 23, 24], \"type\": \"scatter\"}, {\"y\": [4, 18, 39, 46, 54, 60, 78, 100, 138, 183, 213, 247, 266, 278, 289, 297, 308, 317, 326, 330, 337, 342, 343, 345, 345], \"x\": [0, 1, 2, 3, 4, 5, 6, 7, 8, 9, 10, 11, 12, 13, 14, 15, 16, 17, 18, 19, 20, 21, 22, 23, 24], \"type\": \"scatter\", \"name\": \"n_reactions_cumulative\", \"mode\": \"lines+markers\"}], {}, {\"linkText\": \"Export to plot.ly\", \"showLink\": true})});</script>"
      ]
     },
     "metadata": {},
     "output_type": "display_data"
    }
   ],
   "source": [
    "cool_plots(glucose_df,'n_compounds_cumulative','n_reactions_cumulative')"
   ]
  },
  {
   "cell_type": "code",
   "execution_count": 71,
   "metadata": {},
   "outputs": [
    {
     "data": {
      "application/vnd.plotly.v1+json": {
       "data": [
        {
         "mode": "lines+markers+text",
         "name": "bipartite_avg_betweenness_compounds",
         "text": [
          "['C00031']",
          null,
          null,
          null,
          null,
          null,
          null,
          null,
          null,
          null,
          null,
          null,
          null,
          null,
          null,
          null,
          null,
          null,
          null,
          null,
          null,
          null,
          null,
          null,
          null
         ],
         "textposition": "top center",
         "type": "scatter",
         "x": [
          0,
          1,
          2,
          3,
          4,
          5,
          6,
          7,
          8,
          9,
          10,
          11,
          12,
          13,
          14,
          15,
          16,
          17,
          18,
          19,
          20,
          21,
          22,
          23,
          24
         ],
         "y": [
          0.3888888888888889,
          0.2291666666666667,
          0.07294376625975584,
          0.045824229181840245,
          0.03872140628131352,
          0.03861209080522577,
          0.03311750833008783,
          0.024523737186195386,
          0.02018574105987987,
          0.014474204195363303,
          0.011584038941383394,
          0.010047966296697354,
          0.00861314757351813,
          0.007980788098446389,
          0.007543595678259437,
          0.0071731427985925215,
          0.0070562199686295445,
          0.006866323193625893,
          0.006706488433959897,
          0.006613418918004593,
          0.006652743111382094,
          0.006697608876256898,
          0.006647449324398421,
          0.006615045303445606,
          0.006565377227771944
         ]
        },
        {
         "mode": "lines+markers",
         "name": "bipartite_avg_betweenness_reactions",
         "type": "scatter",
         "x": [
          0,
          1,
          2,
          3,
          4,
          5,
          6,
          7,
          8,
          9,
          10,
          11,
          12,
          13,
          14,
          15,
          16,
          17,
          18,
          19,
          20,
          21,
          22,
          23,
          24
         ],
         "y": [
          0.08333333333333333,
          0.051262626262626274,
          0.026940570800219915,
          0.02542237168708464,
          0.022192369176248537,
          0.02333606949859772,
          0.0173925586013498,
          0.014173010897148827,
          0.010921925562763094,
          0.008165603516163859,
          0.007350675226712857,
          0.0064858743262938764,
          0.00607205432696757,
          0.005863111022311417,
          0.0056129113308618596,
          0.005441448256841047,
          0.005274811881931278,
          0.005183641571301927,
          0.005110722739012769,
          0.005135442021222752,
          0.0051301428167804,
          0.005218645118477717,
          0.005255962004748159,
          0.0052145855885153865,
          0.005221414398832865
         ]
        }
       ],
       "layout": {
        "xaxis": {
         "autorange": true,
         "range": [
          -1.6968375136314064,
          25.696837513631408
         ],
         "type": "linear"
        },
        "yaxis": {
         "autorange": true,
         "range": [
          -0.02300041681973612,
          0.4170000284476378
         ],
         "type": "linear"
        }
       }
      },
      "text/html": [
       "<div id=\"a04cdc39-d247-4cee-8e3d-ca6d63fb76c0\" style=\"height: 525px; width: 100%;\" class=\"plotly-graph-div\"></div><script type=\"text/javascript\">require([\"plotly\"], function(Plotly) { window.PLOTLYENV=window.PLOTLYENV || {};window.PLOTLYENV.BASE_URL=\"https://plot.ly\";Plotly.newPlot(\"a04cdc39-d247-4cee-8e3d-ca6d63fb76c0\", [{\"textposition\": \"top\", \"name\": \"bipartite_avg_betweenness_compounds\", \"text\": [\"['C00031']\", null, null, null, null, null, null, null, null, null, null, null, null, null, null, null, null, null, null, null, null, null, null, null, null], \"mode\": \"lines+markers+text\", \"y\": [0.3888888888888889, 0.2291666666666667, 0.07294376625975584, 0.045824229181840245, 0.03872140628131352, 0.03861209080522577, 0.03311750833008783, 0.024523737186195386, 0.02018574105987987, 0.014474204195363303, 0.011584038941383394, 0.010047966296697354, 0.00861314757351813, 0.007980788098446389, 0.007543595678259437, 0.0071731427985925215, 0.0070562199686295445, 0.006866323193625893, 0.006706488433959897, 0.006613418918004593, 0.006652743111382094, 0.006697608876256898, 0.006647449324398421, 0.006615045303445606, 0.006565377227771944], \"x\": [0, 1, 2, 3, 4, 5, 6, 7, 8, 9, 10, 11, 12, 13, 14, 15, 16, 17, 18, 19, 20, 21, 22, 23, 24], \"type\": \"scatter\"}, {\"y\": [0.08333333333333333, 0.051262626262626274, 0.026940570800219915, 0.02542237168708464, 0.022192369176248537, 0.02333606949859772, 0.0173925586013498, 0.014173010897148827, 0.010921925562763094, 0.008165603516163859, 0.007350675226712857, 0.0064858743262938764, 0.00607205432696757, 0.005863111022311417, 0.0056129113308618596, 0.005441448256841047, 0.005274811881931278, 0.005183641571301927, 0.005110722739012769, 0.005135442021222752, 0.0051301428167804, 0.005218645118477717, 0.005255962004748159, 0.0052145855885153865, 0.005221414398832865], \"x\": [0, 1, 2, 3, 4, 5, 6, 7, 8, 9, 10, 11, 12, 13, 14, 15, 16, 17, 18, 19, 20, 21, 22, 23, 24], \"type\": \"scatter\", \"name\": \"bipartite_avg_betweenness_reactions\", \"mode\": \"lines+markers\"}], {}, {\"linkText\": \"Export to plot.ly\", \"showLink\": true})});</script>"
      ],
      "text/vnd.plotly.v1+html": [
       "<div id=\"a04cdc39-d247-4cee-8e3d-ca6d63fb76c0\" style=\"height: 525px; width: 100%;\" class=\"plotly-graph-div\"></div><script type=\"text/javascript\">require([\"plotly\"], function(Plotly) { window.PLOTLYENV=window.PLOTLYENV || {};window.PLOTLYENV.BASE_URL=\"https://plot.ly\";Plotly.newPlot(\"a04cdc39-d247-4cee-8e3d-ca6d63fb76c0\", [{\"textposition\": \"top\", \"name\": \"bipartite_avg_betweenness_compounds\", \"text\": [\"['C00031']\", null, null, null, null, null, null, null, null, null, null, null, null, null, null, null, null, null, null, null, null, null, null, null, null], \"mode\": \"lines+markers+text\", \"y\": [0.3888888888888889, 0.2291666666666667, 0.07294376625975584, 0.045824229181840245, 0.03872140628131352, 0.03861209080522577, 0.03311750833008783, 0.024523737186195386, 0.02018574105987987, 0.014474204195363303, 0.011584038941383394, 0.010047966296697354, 0.00861314757351813, 0.007980788098446389, 0.007543595678259437, 0.0071731427985925215, 0.0070562199686295445, 0.006866323193625893, 0.006706488433959897, 0.006613418918004593, 0.006652743111382094, 0.006697608876256898, 0.006647449324398421, 0.006615045303445606, 0.006565377227771944], \"x\": [0, 1, 2, 3, 4, 5, 6, 7, 8, 9, 10, 11, 12, 13, 14, 15, 16, 17, 18, 19, 20, 21, 22, 23, 24], \"type\": \"scatter\"}, {\"y\": [0.08333333333333333, 0.051262626262626274, 0.026940570800219915, 0.02542237168708464, 0.022192369176248537, 0.02333606949859772, 0.0173925586013498, 0.014173010897148827, 0.010921925562763094, 0.008165603516163859, 0.007350675226712857, 0.0064858743262938764, 0.00607205432696757, 0.005863111022311417, 0.0056129113308618596, 0.005441448256841047, 0.005274811881931278, 0.005183641571301927, 0.005110722739012769, 0.005135442021222752, 0.0051301428167804, 0.005218645118477717, 0.005255962004748159, 0.0052145855885153865, 0.005221414398832865], \"x\": [0, 1, 2, 3, 4, 5, 6, 7, 8, 9, 10, 11, 12, 13, 14, 15, 16, 17, 18, 19, 20, 21, 22, 23, 24], \"type\": \"scatter\", \"name\": \"bipartite_avg_betweenness_reactions\", \"mode\": \"lines+markers\"}], {}, {\"linkText\": \"Export to plot.ly\", \"showLink\": true})});</script>"
      ]
     },
     "metadata": {},
     "output_type": "display_data"
    }
   ],
   "source": [
    "cool_plots(glucose_df,'bipartite_avg_betweenness_compounds','bipartite_avg_betweenness_reactions')"
   ]
  },
  {
   "cell_type": "code",
   "execution_count": 72,
   "metadata": {},
   "outputs": [
    {
     "data": {
      "application/vnd.plotly.v1+json": {
       "data": [
        {
         "mode": "lines+markers+text",
         "name": "bipartite_avg_clustering_compounds",
         "text": [
          "['C00031']",
          null,
          null,
          null,
          null,
          null,
          null,
          null,
          null,
          null,
          null,
          null,
          null,
          null,
          null,
          null,
          null,
          null,
          null,
          null,
          null,
          null,
          null,
          null,
          null
         ],
         "textposition": "top center",
         "type": "scatter",
         "x": [
          0,
          1,
          2,
          3,
          4,
          5,
          6,
          7,
          8,
          9,
          10,
          11,
          12,
          13,
          14,
          15,
          16,
          17,
          18,
          19,
          20,
          21,
          22,
          23,
          24
         ],
         "y": [
          0.75,
          0.21976560476560478,
          0.13349802514381667,
          0.14999123849638799,
          0.14847390171320896,
          0.15436040634418935,
          0.14608376891273805,
          0.1438702655893557,
          0.14739527318559195,
          0.13295995862894797,
          0.13038978894977485,
          0.13367260461669395,
          0.13591947668590965,
          0.14142103794972816,
          0.14108234781262607,
          0.1422283129663058,
          0.14222759471607993,
          0.14150008175587236,
          0.1432378286157663,
          0.14620597991340517,
          0.14623332591810329,
          0.1470980864330115,
          0.14940596520902438,
          0.14914423153276218,
          0.14931395541191508
         ]
        },
        {
         "mode": "lines+markers",
         "name": "bipartite_avg_clustering_reactions",
         "type": "scatter",
         "x": [
          0,
          1,
          2,
          3,
          4,
          5,
          6,
          7,
          8,
          9,
          10,
          11,
          12,
          13,
          14,
          15,
          16,
          17,
          18,
          19,
          20,
          21,
          22,
          23,
          24
         ],
         "y": [
          0.7500000000000001,
          0.4669299835966502,
          0.2948573117990212,
          0.26077004462085845,
          0.25290169409754437,
          0.2858840717487999,
          0.27879860895841146,
          0.25951464181523254,
          0.2769840873774684,
          0.23891562362691451,
          0.23183541266367855,
          0.22598803414169455,
          0.21663509813553355,
          0.21254852147779169,
          0.21016372919166135,
          0.20898611711258103,
          0.20971235936191654,
          0.2080699466791324,
          0.20813525065927196,
          0.20769745723463665,
          0.21251870402483006,
          0.2088908294731538,
          0.20732352723984984,
          0.20709003472193213,
          0.20672339390198766
         ]
        }
       ],
       "layout": {
        "xaxis": {
         "autorange": true,
         "range": [
          -1.6755646817248455,
          25.675564681724847
         ],
         "type": "linear"
        },
        "yaxis": {
         "autorange": true,
         "range": [
          0.08500432763080931,
          0.7953854613189657
         ],
         "type": "linear"
        }
       }
      },
      "text/html": [
       "<div id=\"0a537974-02be-4225-a7e6-d653ea186539\" style=\"height: 525px; width: 100%;\" class=\"plotly-graph-div\"></div><script type=\"text/javascript\">require([\"plotly\"], function(Plotly) { window.PLOTLYENV=window.PLOTLYENV || {};window.PLOTLYENV.BASE_URL=\"https://plot.ly\";Plotly.newPlot(\"0a537974-02be-4225-a7e6-d653ea186539\", [{\"textposition\": \"top\", \"name\": \"bipartite_avg_clustering_compounds\", \"text\": [\"['C00031']\", null, null, null, null, null, null, null, null, null, null, null, null, null, null, null, null, null, null, null, null, null, null, null, null], \"mode\": \"lines+markers+text\", \"y\": [0.75, 0.21976560476560478, 0.13349802514381667, 0.14999123849638799, 0.14847390171320896, 0.15436040634418935, 0.14608376891273805, 0.1438702655893557, 0.14739527318559195, 0.13295995862894797, 0.13038978894977485, 0.13367260461669395, 0.13591947668590965, 0.14142103794972816, 0.14108234781262607, 0.1422283129663058, 0.14222759471607993, 0.14150008175587236, 0.1432378286157663, 0.14620597991340517, 0.14623332591810329, 0.1470980864330115, 0.14940596520902438, 0.14914423153276218, 0.14931395541191508], \"x\": [0, 1, 2, 3, 4, 5, 6, 7, 8, 9, 10, 11, 12, 13, 14, 15, 16, 17, 18, 19, 20, 21, 22, 23, 24], \"type\": \"scatter\"}, {\"y\": [0.7500000000000001, 0.4669299835966502, 0.2948573117990212, 0.26077004462085845, 0.25290169409754437, 0.2858840717487999, 0.27879860895841146, 0.25951464181523254, 0.2769840873774684, 0.23891562362691451, 0.23183541266367855, 0.22598803414169455, 0.21663509813553355, 0.21254852147779169, 0.21016372919166135, 0.20898611711258103, 0.20971235936191654, 0.2080699466791324, 0.20813525065927196, 0.20769745723463665, 0.21251870402483006, 0.2088908294731538, 0.20732352723984984, 0.20709003472193213, 0.20672339390198766], \"x\": [0, 1, 2, 3, 4, 5, 6, 7, 8, 9, 10, 11, 12, 13, 14, 15, 16, 17, 18, 19, 20, 21, 22, 23, 24], \"type\": \"scatter\", \"name\": \"bipartite_avg_clustering_reactions\", \"mode\": \"lines+markers\"}], {}, {\"linkText\": \"Export to plot.ly\", \"showLink\": true})});</script>"
      ],
      "text/vnd.plotly.v1+html": [
       "<div id=\"0a537974-02be-4225-a7e6-d653ea186539\" style=\"height: 525px; width: 100%;\" class=\"plotly-graph-div\"></div><script type=\"text/javascript\">require([\"plotly\"], function(Plotly) { window.PLOTLYENV=window.PLOTLYENV || {};window.PLOTLYENV.BASE_URL=\"https://plot.ly\";Plotly.newPlot(\"0a537974-02be-4225-a7e6-d653ea186539\", [{\"textposition\": \"top\", \"name\": \"bipartite_avg_clustering_compounds\", \"text\": [\"['C00031']\", null, null, null, null, null, null, null, null, null, null, null, null, null, null, null, null, null, null, null, null, null, null, null, null], \"mode\": \"lines+markers+text\", \"y\": [0.75, 0.21976560476560478, 0.13349802514381667, 0.14999123849638799, 0.14847390171320896, 0.15436040634418935, 0.14608376891273805, 0.1438702655893557, 0.14739527318559195, 0.13295995862894797, 0.13038978894977485, 0.13367260461669395, 0.13591947668590965, 0.14142103794972816, 0.14108234781262607, 0.1422283129663058, 0.14222759471607993, 0.14150008175587236, 0.1432378286157663, 0.14620597991340517, 0.14623332591810329, 0.1470980864330115, 0.14940596520902438, 0.14914423153276218, 0.14931395541191508], \"x\": [0, 1, 2, 3, 4, 5, 6, 7, 8, 9, 10, 11, 12, 13, 14, 15, 16, 17, 18, 19, 20, 21, 22, 23, 24], \"type\": \"scatter\"}, {\"y\": [0.7500000000000001, 0.4669299835966502, 0.2948573117990212, 0.26077004462085845, 0.25290169409754437, 0.2858840717487999, 0.27879860895841146, 0.25951464181523254, 0.2769840873774684, 0.23891562362691451, 0.23183541266367855, 0.22598803414169455, 0.21663509813553355, 0.21254852147779169, 0.21016372919166135, 0.20898611711258103, 0.20971235936191654, 0.2080699466791324, 0.20813525065927196, 0.20769745723463665, 0.21251870402483006, 0.2088908294731538, 0.20732352723984984, 0.20709003472193213, 0.20672339390198766], \"x\": [0, 1, 2, 3, 4, 5, 6, 7, 8, 9, 10, 11, 12, 13, 14, 15, 16, 17, 18, 19, 20, 21, 22, 23, 24], \"type\": \"scatter\", \"name\": \"bipartite_avg_clustering_reactions\", \"mode\": \"lines+markers\"}], {}, {\"linkText\": \"Export to plot.ly\", \"showLink\": true})});</script>"
      ]
     },
     "metadata": {},
     "output_type": "display_data"
    }
   ],
   "source": [
    "cool_plots(glucose_df,'bipartite_avg_clustering_compounds','bipartite_avg_clustering_reactions')"
   ]
  },
  {
   "cell_type": "code",
   "execution_count": 73,
   "metadata": {},
   "outputs": [
    {
     "data": {
      "application/vnd.plotly.v1+json": {
       "data": [
        {
         "mode": "lines+markers+text",
         "name": "bipartite_avg_deg_compounds",
         "text": [
          "['C00031']",
          null,
          null,
          null,
          null,
          null,
          null,
          null,
          null,
          null,
          null,
          null,
          null,
          null,
          null,
          null,
          null,
          null,
          null,
          null,
          null,
          null,
          null,
          null,
          null
         ],
         "textposition": "top center",
         "type": "scatter",
         "x": [
          0,
          1,
          2,
          3,
          4,
          5,
          6,
          7,
          8,
          9,
          10,
          11,
          12,
          13,
          14,
          15,
          16,
          17,
          18,
          19,
          20,
          21,
          22,
          23,
          24
         ],
         "y": [
          3.5,
          6,
          5.2105263157894735,
          4.3,
          4.277777777777778,
          4.097560975609756,
          4.354166666666667,
          4.075757575757576,
          4.232558139534884,
          4.296610169491525,
          4.153333333333333,
          4.119318181818182,
          3.9408866995073892,
          3.867579908675799,
          3.847826086956522,
          3.8041666666666667,
          3.8333333333333335,
          3.815686274509804,
          3.787878787878788,
          3.7416974169741697,
          3.7454545454545456,
          3.718861209964413,
          3.6912280701754385,
          3.702797202797203,
          3.6840277777777777
         ]
        },
        {
         "mode": "lines+markers",
         "name": "bipartite_avg_deg_reactions",
         "type": "scatter",
         "x": [
          0,
          1,
          2,
          3,
          4,
          5,
          6,
          7,
          8,
          9,
          10,
          11,
          12,
          13,
          14,
          15,
          16,
          17,
          18,
          19,
          20,
          21,
          22,
          23,
          24
         ],
         "y": [
          1.75,
          2,
          2.5384615384615383,
          2.8043478260869565,
          2.8518518518518516,
          2.8,
          2.6794871794871793,
          2.69,
          2.63768115942029,
          2.7704918032786887,
          2.924882629107981,
          2.935222672064777,
          3.007518796992481,
          3.0467625899280577,
          3.0622837370242215,
          3.074074074074074,
          3.061688311688312,
          3.0694006309148265,
          3.067484662576687,
          3.0727272727272728,
          3.056379821958457,
          3.0555555555555554,
          3.067055393586006,
          3.0695652173913044,
          3.07536231884058
         ]
        }
       ],
       "layout": {
        "xaxis": {
         "autorange": true,
         "range": [
          -1.641404805914972,
          25.641404805914974
         ],
         "type": "linear"
        },
        "yaxis": {
         "autorange": true,
         "range": [
          1.4386942675159236,
          6.311305732484076
         ],
         "type": "linear"
        }
       }
      },
      "text/html": [
       "<div id=\"ae17ad4c-0166-4e51-a97a-5b9339349c27\" style=\"height: 525px; width: 100%;\" class=\"plotly-graph-div\"></div><script type=\"text/javascript\">require([\"plotly\"], function(Plotly) { window.PLOTLYENV=window.PLOTLYENV || {};window.PLOTLYENV.BASE_URL=\"https://plot.ly\";Plotly.newPlot(\"ae17ad4c-0166-4e51-a97a-5b9339349c27\", [{\"textposition\": \"top\", \"name\": \"bipartite_avg_deg_compounds\", \"text\": [\"['C00031']\", null, null, null, null, null, null, null, null, null, null, null, null, null, null, null, null, null, null, null, null, null, null, null, null], \"mode\": \"lines+markers+text\", \"y\": [3.5, 6.0, 5.2105263157894735, 4.3, 4.277777777777778, 4.097560975609756, 4.354166666666667, 4.075757575757576, 4.232558139534884, 4.296610169491525, 4.153333333333333, 4.119318181818182, 3.9408866995073892, 3.867579908675799, 3.847826086956522, 3.8041666666666667, 3.8333333333333335, 3.815686274509804, 3.787878787878788, 3.7416974169741697, 3.7454545454545456, 3.718861209964413, 3.6912280701754385, 3.702797202797203, 3.6840277777777777], \"x\": [0, 1, 2, 3, 4, 5, 6, 7, 8, 9, 10, 11, 12, 13, 14, 15, 16, 17, 18, 19, 20, 21, 22, 23, 24], \"type\": \"scatter\"}, {\"y\": [1.75, 2.0, 2.5384615384615383, 2.8043478260869565, 2.8518518518518516, 2.8, 2.6794871794871793, 2.69, 2.63768115942029, 2.7704918032786887, 2.924882629107981, 2.935222672064777, 3.007518796992481, 3.0467625899280577, 3.0622837370242215, 3.074074074074074, 3.061688311688312, 3.0694006309148265, 3.067484662576687, 3.0727272727272728, 3.056379821958457, 3.0555555555555554, 3.067055393586006, 3.0695652173913044, 3.07536231884058], \"x\": [0, 1, 2, 3, 4, 5, 6, 7, 8, 9, 10, 11, 12, 13, 14, 15, 16, 17, 18, 19, 20, 21, 22, 23, 24], \"type\": \"scatter\", \"name\": \"bipartite_avg_deg_reactions\", \"mode\": \"lines+markers\"}], {}, {\"linkText\": \"Export to plot.ly\", \"showLink\": true})});</script>"
      ],
      "text/vnd.plotly.v1+html": [
       "<div id=\"ae17ad4c-0166-4e51-a97a-5b9339349c27\" style=\"height: 525px; width: 100%;\" class=\"plotly-graph-div\"></div><script type=\"text/javascript\">require([\"plotly\"], function(Plotly) { window.PLOTLYENV=window.PLOTLYENV || {};window.PLOTLYENV.BASE_URL=\"https://plot.ly\";Plotly.newPlot(\"ae17ad4c-0166-4e51-a97a-5b9339349c27\", [{\"textposition\": \"top\", \"name\": \"bipartite_avg_deg_compounds\", \"text\": [\"['C00031']\", null, null, null, null, null, null, null, null, null, null, null, null, null, null, null, null, null, null, null, null, null, null, null, null], \"mode\": \"lines+markers+text\", \"y\": [3.5, 6.0, 5.2105263157894735, 4.3, 4.277777777777778, 4.097560975609756, 4.354166666666667, 4.075757575757576, 4.232558139534884, 4.296610169491525, 4.153333333333333, 4.119318181818182, 3.9408866995073892, 3.867579908675799, 3.847826086956522, 3.8041666666666667, 3.8333333333333335, 3.815686274509804, 3.787878787878788, 3.7416974169741697, 3.7454545454545456, 3.718861209964413, 3.6912280701754385, 3.702797202797203, 3.6840277777777777], \"x\": [0, 1, 2, 3, 4, 5, 6, 7, 8, 9, 10, 11, 12, 13, 14, 15, 16, 17, 18, 19, 20, 21, 22, 23, 24], \"type\": \"scatter\"}, {\"y\": [1.75, 2.0, 2.5384615384615383, 2.8043478260869565, 2.8518518518518516, 2.8, 2.6794871794871793, 2.69, 2.63768115942029, 2.7704918032786887, 2.924882629107981, 2.935222672064777, 3.007518796992481, 3.0467625899280577, 3.0622837370242215, 3.074074074074074, 3.061688311688312, 3.0694006309148265, 3.067484662576687, 3.0727272727272728, 3.056379821958457, 3.0555555555555554, 3.067055393586006, 3.0695652173913044, 3.07536231884058], \"x\": [0, 1, 2, 3, 4, 5, 6, 7, 8, 9, 10, 11, 12, 13, 14, 15, 16, 17, 18, 19, 20, 21, 22, 23, 24], \"type\": \"scatter\", \"name\": \"bipartite_avg_deg_reactions\", \"mode\": \"lines+markers\"}], {}, {\"linkText\": \"Export to plot.ly\", \"showLink\": true})});</script>"
      ]
     },
     "metadata": {},
     "output_type": "display_data"
    }
   ],
   "source": [
    "cool_plots(glucose_df,'bipartite_avg_deg_compounds','bipartite_avg_deg_reactions')"
   ]
  },
  {
   "cell_type": "code",
   "execution_count": null,
   "metadata": {},
   "outputs": [],
   "source": []
  },
  {
   "cell_type": "code",
   "execution_count": null,
   "metadata": {},
   "outputs": [],
   "source": []
  },
  {
   "cell_type": "code",
   "execution_count": null,
   "metadata": {},
   "outputs": [],
   "source": []
  },
  {
   "cell_type": "code",
   "execution_count": 110,
   "metadata": {},
   "outputs": [
    {
     "name": "stdout",
     "output_type": "stream",
     "text": [
      "0\n",
      "1\n",
      "2\n",
      "3\n",
      "4\n",
      "5\n",
      "6\n",
      "7\n",
      "8\n",
      "9\n"
     ]
    },
    {
     "ename": "KeyError",
     "evalue": "u'C21593'",
     "output_type": "error",
     "traceback": [
      "\u001b[0;31m---------------------------------------------------------------------------\u001b[0m",
      "\u001b[0;31mKeyError\u001b[0m                                  Traceback (most recent call last)",
      "\u001b[0;32m<ipython-input-110-0cd8d55f9efb>\u001b[0m in \u001b[0;36m<module>\u001b[0;34m()\u001b[0m\n\u001b[1;32m      1\u001b[0m \u001b[0mall_seed_dicts\u001b[0m \u001b[0;34m=\u001b[0m \u001b[0mdict\u001b[0m\u001b[0;34m(\u001b[0m\u001b[0;34m)\u001b[0m\u001b[0;34m\u001b[0m\u001b[0m\n\u001b[1;32m      2\u001b[0m \u001b[0;32mfor\u001b[0m \u001b[0mk\u001b[0m \u001b[0;32min\u001b[0m \u001b[0mall_seeds\u001b[0m\u001b[0;34m:\u001b[0m\u001b[0;34m\u001b[0m\u001b[0m\n\u001b[0;32m----> 3\u001b[0;31m     \u001b[0msingle_dict\u001b[0m \u001b[0;34m=\u001b[0m \u001b[0madvance_expansion_to_complete_scope\u001b[0m\u001b[0;34m(\u001b[0m\u001b[0mG\u001b[0m\u001b[0;34m,\u001b[0m\u001b[0mall_seeds\u001b[0m\u001b[0;34m[\u001b[0m\u001b[0mk\u001b[0m\u001b[0;34m]\u001b[0m\u001b[0;34m,\u001b[0m\u001b[0mcompounds_to_tag\u001b[0m\u001b[0;34m)\u001b[0m\u001b[0;34m\u001b[0m\u001b[0m\n\u001b[0m\u001b[1;32m      4\u001b[0m     \u001b[0mall_seed_dicts\u001b[0m\u001b[0;34m[\u001b[0m\u001b[0mk\u001b[0m\u001b[0;34m]\u001b[0m \u001b[0;34m=\u001b[0m \u001b[0msingle_dict\u001b[0m\u001b[0;34m\u001b[0m\u001b[0m\n",
      "\u001b[0;32m<ipython-input-76-ff2c85254398>\u001b[0m in \u001b[0;36madvance_expansion_to_complete_scope\u001b[0;34m(G, seed_compounds, compounds_to_tag)\u001b[0m\n\u001b[1;32m     14\u001b[0m         \u001b[0;31m## verified new reactions are @ t-1, verified new compounds are @ t\u001b[0m\u001b[0;34m\u001b[0m\u001b[0;34m\u001b[0m\u001b[0m\n\u001b[1;32m     15\u001b[0m         \u001b[0mverified_old_compounds\u001b[0m \u001b[0;34m=\u001b[0m \u001b[0mcopy\u001b[0m\u001b[0;34m.\u001b[0m\u001b[0mcopy\u001b[0m\u001b[0;34m(\u001b[0m\u001b[0mverified_new_compounds\u001b[0m\u001b[0;34m)\u001b[0m\u001b[0;34m\u001b[0m\u001b[0m\n\u001b[0;32m---> 16\u001b[0;31m         \u001b[0mverified_new_compounds\u001b[0m\u001b[0;34m,\u001b[0m\u001b[0mverified_new_reactions\u001b[0m \u001b[0;34m=\u001b[0m \u001b[0madvance_expansion_1_generation\u001b[0m\u001b[0;34m(\u001b[0m\u001b[0mG\u001b[0m\u001b[0;34m,\u001b[0m\u001b[0mall_compounds\u001b[0m\u001b[0;34m,\u001b[0m\u001b[0mall_reactions\u001b[0m\u001b[0;34m)\u001b[0m\u001b[0;34m\u001b[0m\u001b[0m\n\u001b[0m\u001b[1;32m     17\u001b[0m \u001b[0;34m\u001b[0m\u001b[0m\n\u001b[1;32m     18\u001b[0m         \u001b[0mall_reactions\u001b[0m\u001b[0;34m.\u001b[0m\u001b[0mupdate\u001b[0m\u001b[0;34m(\u001b[0m\u001b[0mverified_new_reactions\u001b[0m\u001b[0;34m)\u001b[0m\u001b[0;34m\u001b[0m\u001b[0m\n",
      "\u001b[0;32m<ipython-input-109-0eb9187ce37f>\u001b[0m in \u001b[0;36madvance_expansion_1_generation\u001b[0;34m(G, current_compounds, current_reactions)\u001b[0m\n\u001b[1;32m     13\u001b[0m     \u001b[0mverified_reactions\u001b[0m \u001b[0;34m=\u001b[0m \u001b[0mset\u001b[0m\u001b[0;34m(\u001b[0m\u001b[0;34m)\u001b[0m\u001b[0;34m\u001b[0m\u001b[0m\n\u001b[1;32m     14\u001b[0m \u001b[0;34m\u001b[0m\u001b[0m\n\u001b[0;32m---> 15\u001b[0;31m     \u001b[0mall_potential_reactions\u001b[0m \u001b[0;34m=\u001b[0m \u001b[0mset\u001b[0m\u001b[0;34m(\u001b[0m\u001b[0;34m[\u001b[0m\u001b[0mr\u001b[0m \u001b[0;32mfor\u001b[0m \u001b[0mc\u001b[0m \u001b[0;32min\u001b[0m \u001b[0mcurrent_compounds\u001b[0m \u001b[0;32mfor\u001b[0m \u001b[0mr\u001b[0m \u001b[0;32min\u001b[0m \u001b[0mreactions\u001b[0m\u001b[0;34m[\u001b[0m\u001b[0mc\u001b[0m\u001b[0;34m]\u001b[0m \u001b[0;32mif\u001b[0m \u001b[0mr\u001b[0m \u001b[0;32min\u001b[0m \u001b[0msubstrates\u001b[0m\u001b[0;34m]\u001b[0m\u001b[0;34m)\u001b[0m \u001b[0;31m#this gets rid of glycans\u001b[0m\u001b[0;34m\u001b[0m\u001b[0m\n\u001b[0m\u001b[1;32m     16\u001b[0m     \u001b[0munverified_reactions\u001b[0m \u001b[0;34m=\u001b[0m \u001b[0mall_potential_reactions\u001b[0m \u001b[0;34m-\u001b[0m \u001b[0mcurrent_reactions\u001b[0m\u001b[0;34m\u001b[0m\u001b[0m\n\u001b[1;32m     17\u001b[0m \u001b[0;34m\u001b[0m\u001b[0m\n",
      "\u001b[0;31mKeyError\u001b[0m: u'C21593'"
     ]
    }
   ],
   "source": [
    "all_seed_dicts = dict()\n",
    "for k in all_seeds:\n",
    "    single_dict = advance_expansion_to_complete_scope(G,all_seeds[k],compounds_to_tag)\n",
    "    all_seed_dicts[k] = single_dict"
   ]
  },
  {
   "cell_type": "markdown",
   "metadata": {},
   "source": [
    "#### Test plotting"
   ]
  },
  {
   "cell_type": "code",
   "execution_count": 63,
   "metadata": {},
   "outputs": [
    {
     "ename": "NameError",
     "evalue": "name 'gen_by_gen' is not defined",
     "output_type": "error",
     "traceback": [
      "\u001b[0;31m---------------------------------------------------------------------------\u001b[0m",
      "\u001b[0;31mNameError\u001b[0m                                 Traceback (most recent call last)",
      "\u001b[0;32m<ipython-input-63-331bb4dfa5e2>\u001b[0m in \u001b[0;36m<module>\u001b[0;34m()\u001b[0m\n\u001b[0;32m----> 1\u001b[0;31m \u001b[0mdf_total\u001b[0m \u001b[0;34m=\u001b[0m \u001b[0mpd\u001b[0m\u001b[0;34m.\u001b[0m\u001b[0mDataFrame\u001b[0m\u001b[0;34m(\u001b[0m\u001b[0mgen_by_gen\u001b[0m\u001b[0;34m)\u001b[0m\u001b[0;34m\u001b[0m\u001b[0m\n\u001b[0m\u001b[1;32m      2\u001b[0m \u001b[0mdf_pergen\u001b[0m \u001b[0;34m=\u001b[0m \u001b[0mpd\u001b[0m\u001b[0;34m.\u001b[0m\u001b[0mDataFrame\u001b[0m\u001b[0;34m(\u001b[0m\u001b[0madded_per_gen\u001b[0m\u001b[0;34m)\u001b[0m\u001b[0;34m\u001b[0m\u001b[0m\n",
      "\u001b[0;31mNameError\u001b[0m: name 'gen_by_gen' is not defined"
     ]
    }
   ],
   "source": [
    "df_total = pd.DataFrame(gen_by_gen)\n",
    "df_pergen = pd.DataFrame(added_per_gen)"
   ]
  },
  {
   "cell_type": "code",
   "execution_count": 107,
   "metadata": {},
   "outputs": [
    {
     "data": {
      "text/html": [
       "<div>\n",
       "<style>\n",
       "    .dataframe thead tr:only-child th {\n",
       "        text-align: right;\n",
       "    }\n",
       "\n",
       "    .dataframe thead th {\n",
       "        text-align: left;\n",
       "    }\n",
       "\n",
       "    .dataframe tbody tr th {\n",
       "        vertical-align: top;\n",
       "    }\n",
       "</style>\n",
       "<table border=\"1\" class=\"dataframe\">\n",
       "  <thead>\n",
       "    <tr style=\"text-align: right;\">\n",
       "      <th></th>\n",
       "      <th>0</th>\n",
       "      <th>1</th>\n",
       "      <th>2</th>\n",
       "      <th>3</th>\n",
       "      <th>4</th>\n",
       "      <th>5</th>\n",
       "      <th>6</th>\n",
       "      <th>7</th>\n",
       "      <th>8</th>\n",
       "      <th>9</th>\n",
       "      <th>...</th>\n",
       "      <th>15</th>\n",
       "      <th>16</th>\n",
       "      <th>17</th>\n",
       "      <th>18</th>\n",
       "      <th>19</th>\n",
       "      <th>20</th>\n",
       "      <th>21</th>\n",
       "      <th>22</th>\n",
       "      <th>23</th>\n",
       "      <th>24</th>\n",
       "    </tr>\n",
       "  </thead>\n",
       "  <tbody>\n",
       "    <tr>\n",
       "      <th>n_compounds</th>\n",
       "      <td>2</td>\n",
       "      <td>6</td>\n",
       "      <td>19</td>\n",
       "      <td>30</td>\n",
       "      <td>36</td>\n",
       "      <td>41</td>\n",
       "      <td>48</td>\n",
       "      <td>66</td>\n",
       "      <td>86</td>\n",
       "      <td>118</td>\n",
       "      <td>...</td>\n",
       "      <td>240</td>\n",
       "      <td>246</td>\n",
       "      <td>255</td>\n",
       "      <td>264</td>\n",
       "      <td>271</td>\n",
       "      <td>275</td>\n",
       "      <td>281</td>\n",
       "      <td>285</td>\n",
       "      <td>286</td>\n",
       "      <td>288</td>\n",
       "    </tr>\n",
       "    <tr>\n",
       "      <th>n_reactions</th>\n",
       "      <td>4</td>\n",
       "      <td>18</td>\n",
       "      <td>39</td>\n",
       "      <td>46</td>\n",
       "      <td>54</td>\n",
       "      <td>60</td>\n",
       "      <td>78</td>\n",
       "      <td>100</td>\n",
       "      <td>138</td>\n",
       "      <td>183</td>\n",
       "      <td>...</td>\n",
       "      <td>297</td>\n",
       "      <td>308</td>\n",
       "      <td>317</td>\n",
       "      <td>326</td>\n",
       "      <td>330</td>\n",
       "      <td>337</td>\n",
       "      <td>342</td>\n",
       "      <td>343</td>\n",
       "      <td>345</td>\n",
       "      <td>345</td>\n",
       "    </tr>\n",
       "  </tbody>\n",
       "</table>\n",
       "<p>2 rows × 25 columns</p>\n",
       "</div>"
      ],
      "text/plain": [
       "             0   1   2   3   4   5   6    7    8    9  ...    15   16   17  \\\n",
       "n_compounds   2   6  19  30  36  41  48   66   86  118 ...   240  246  255   \n",
       "n_reactions   4  18  39  46  54  60  78  100  138  183 ...   297  308  317   \n",
       "\n",
       "              18   19   20   21   22   23   24  \n",
       "n_compounds  264  271  275  281  285  286  288  \n",
       "n_reactions  326  330  337  342  343  345  345  \n",
       "\n",
       "[2 rows x 25 columns]"
      ]
     },
     "execution_count": 107,
     "metadata": {},
     "output_type": "execute_result"
    }
   ],
   "source": [
    "df_total.head()"
   ]
  },
  {
   "cell_type": "code",
   "execution_count": 108,
   "metadata": {},
   "outputs": [
    {
     "data": {
      "text/html": [
       "<div>\n",
       "<style>\n",
       "    .dataframe thead tr:only-child th {\n",
       "        text-align: right;\n",
       "    }\n",
       "\n",
       "    .dataframe thead th {\n",
       "        text-align: left;\n",
       "    }\n",
       "\n",
       "    .dataframe tbody tr th {\n",
       "        vertical-align: top;\n",
       "    }\n",
       "</style>\n",
       "<table border=\"1\" class=\"dataframe\">\n",
       "  <thead>\n",
       "    <tr style=\"text-align: right;\">\n",
       "      <th></th>\n",
       "      <th>0</th>\n",
       "      <th>1</th>\n",
       "      <th>2</th>\n",
       "      <th>3</th>\n",
       "      <th>4</th>\n",
       "      <th>5</th>\n",
       "      <th>6</th>\n",
       "      <th>7</th>\n",
       "      <th>8</th>\n",
       "      <th>9</th>\n",
       "      <th>...</th>\n",
       "      <th>15</th>\n",
       "      <th>16</th>\n",
       "      <th>17</th>\n",
       "      <th>18</th>\n",
       "      <th>19</th>\n",
       "      <th>20</th>\n",
       "      <th>21</th>\n",
       "      <th>22</th>\n",
       "      <th>23</th>\n",
       "      <th>24</th>\n",
       "    </tr>\n",
       "  </thead>\n",
       "  <tbody>\n",
       "    <tr>\n",
       "      <th>n_compounds</th>\n",
       "      <td>2</td>\n",
       "      <td>4</td>\n",
       "      <td>13</td>\n",
       "      <td>11</td>\n",
       "      <td>6</td>\n",
       "      <td>5</td>\n",
       "      <td>7</td>\n",
       "      <td>18</td>\n",
       "      <td>20</td>\n",
       "      <td>32</td>\n",
       "      <td>...</td>\n",
       "      <td>10</td>\n",
       "      <td>6</td>\n",
       "      <td>9</td>\n",
       "      <td>9</td>\n",
       "      <td>7</td>\n",
       "      <td>4</td>\n",
       "      <td>6</td>\n",
       "      <td>4</td>\n",
       "      <td>1</td>\n",
       "      <td>2</td>\n",
       "    </tr>\n",
       "    <tr>\n",
       "      <th>n_reactions</th>\n",
       "      <td>4</td>\n",
       "      <td>14</td>\n",
       "      <td>21</td>\n",
       "      <td>7</td>\n",
       "      <td>8</td>\n",
       "      <td>6</td>\n",
       "      <td>18</td>\n",
       "      <td>22</td>\n",
       "      <td>38</td>\n",
       "      <td>45</td>\n",
       "      <td>...</td>\n",
       "      <td>8</td>\n",
       "      <td>11</td>\n",
       "      <td>9</td>\n",
       "      <td>9</td>\n",
       "      <td>4</td>\n",
       "      <td>7</td>\n",
       "      <td>5</td>\n",
       "      <td>1</td>\n",
       "      <td>2</td>\n",
       "      <td>0</td>\n",
       "    </tr>\n",
       "  </tbody>\n",
       "</table>\n",
       "<p>2 rows × 25 columns</p>\n",
       "</div>"
      ],
      "text/plain": [
       "             0   1   2   3   4   5   6   7   8   9  ...  15  16  17  18  19  \\\n",
       "n_compounds   2   4  13  11   6   5   7  18  20  32 ...  10   6   9   9   7   \n",
       "n_reactions   4  14  21   7   8   6  18  22  38  45 ...   8  11   9   9   4   \n",
       "\n",
       "             20  21  22  23  24  \n",
       "n_compounds   4   6   4   1   2  \n",
       "n_reactions   7   5   1   2   0  \n",
       "\n",
       "[2 rows x 25 columns]"
      ]
     },
     "execution_count": 108,
     "metadata": {},
     "output_type": "execute_result"
    }
   ],
   "source": [
    "df_pergen.head()"
   ]
  },
  {
   "cell_type": "code",
   "execution_count": 109,
   "metadata": {},
   "outputs": [],
   "source": [
    "df_pergen = df_pergen.transpose()"
   ]
  },
  {
   "cell_type": "code",
   "execution_count": 110,
   "metadata": {},
   "outputs": [
    {
     "data": {
      "text/plain": [
       "<matplotlib.axes._subplots.AxesSubplot at 0x111da6210>"
      ]
     },
     "execution_count": 110,
     "metadata": {},
     "output_type": "execute_result"
    },
    {
     "data": {
      "image/png": "[encoded data removed]",
      "text/plain": [
       "<matplotlib.figure.Figure at 0x1148c1210>"
      ]
     },
     "metadata": {},
     "output_type": "display_data"
    }
   ],
   "source": [
    "df_pergen.plot()"
   ]
  },
  {
   "cell_type": "code",
   "execution_count": 60,
   "metadata": {},
   "outputs": [
    {
     "data": {
      "text/html": [
       "<script>requirejs.config({paths: { 'plotly': ['https://cdn.plot.ly/plotly-latest.min']},});if(!window.Plotly) {{require(['plotly'],function(plotly) {window.Plotly=plotly;});}}</script>"
      ],
      "text/vnd.plotly.v1+html": [
       "<script>requirejs.config({paths: { 'plotly': ['https://cdn.plot.ly/plotly-latest.min']},});if(!window.Plotly) {{require(['plotly'],function(plotly) {window.Plotly=plotly;});}}</script>"
      ]
     },
     "metadata": {},
     "output_type": "display_data"
    }
   ],
   "source": [
    "import plotly\n",
    "import plotly.plotly as py\n",
    "import plotly.graph_objs as go\n",
    "import numpy as np\n",
    "plotly.offline.init_notebook_mode(connected=True) "
   ]
  },
  {
   "cell_type": "code",
   "execution_count": 61,
   "metadata": {},
   "outputs": [
    {
     "data": {
      "text/plain": [
       "'2.1.0'"
      ]
     },
     "execution_count": 61,
     "metadata": {},
     "output_type": "execute_result"
    }
   ],
   "source": [
    "plotly.__version__"
   ]
  },
  {
   "cell_type": "code",
   "execution_count": 129,
   "metadata": {},
   "outputs": [
    {
     "data": {
      "text/plain": [
       "[2,\n",
       " 4,\n",
       " 13,\n",
       " 11,\n",
       " 6,\n",
       " 5,\n",
       " 7,\n",
       " 18,\n",
       " 20,\n",
       " 32,\n",
       " 32,\n",
       " 26,\n",
       " 27,\n",
       " 16,\n",
       " 11,\n",
       " 10,\n",
       " 6,\n",
       " 9,\n",
       " 9,\n",
       " 7,\n",
       " 4,\n",
       " 6,\n",
       " 4,\n",
       " 1,\n",
       " 2]"
      ]
     },
     "execution_count": 129,
     "metadata": {},
     "output_type": "execute_result"
    }
   ],
   "source": [
    "list(df_pergen['n_compounds'])"
   ]
  },
  {
   "cell_type": "code",
   "execution_count": 62,
   "metadata": {},
   "outputs": [
    {
     "ename": "NameError",
     "evalue": "name 'df_pergen' is not defined",
     "output_type": "error",
     "traceback": [
      "\u001b[0;31m---------------------------------------------------------------------------\u001b[0m",
      "\u001b[0;31mNameError\u001b[0m                                 Traceback (most recent call last)",
      "\u001b[0;32m<ipython-input-62-db60574e626f>\u001b[0m in \u001b[0;36m<module>\u001b[0;34m()\u001b[0m\n\u001b[1;32m      1\u001b[0m \u001b[0;31m# Create traces\u001b[0m\u001b[0;34m\u001b[0m\u001b[0;34m\u001b[0m\u001b[0m\n\u001b[1;32m      2\u001b[0m trace0 = go.Scatter(\n\u001b[0;32m----> 3\u001b[0;31m     \u001b[0mx\u001b[0m \u001b[0;34m=\u001b[0m \u001b[0mdf_pergen\u001b[0m\u001b[0;34m.\u001b[0m\u001b[0mindex\u001b[0m\u001b[0;34m,\u001b[0m\u001b[0;34m\u001b[0m\u001b[0m\n\u001b[0m\u001b[1;32m      4\u001b[0m     \u001b[0my\u001b[0m \u001b[0;34m=\u001b[0m \u001b[0mlist\u001b[0m\u001b[0;34m(\u001b[0m\u001b[0mdf_pergen\u001b[0m\u001b[0;34m[\u001b[0m\u001b[0;34m'n_compounds'\u001b[0m\u001b[0;34m]\u001b[0m\u001b[0;34m)\u001b[0m\u001b[0;34m,\u001b[0m\u001b[0;34m\u001b[0m\u001b[0m\n\u001b[1;32m      5\u001b[0m     \u001b[0mmode\u001b[0m \u001b[0;34m=\u001b[0m \u001b[0;34m'lines+markers'\u001b[0m\u001b[0;34m,\u001b[0m\u001b[0;34m\u001b[0m\u001b[0m\n",
      "\u001b[0;31mNameError\u001b[0m: name 'df_pergen' is not defined"
     ]
    }
   ],
   "source": [
    "# Create traces\n",
    "trace0 = go.Scatter(\n",
    "    x = df_pergen.index,\n",
    "    y = list(df_pergen['n_compounds']),\n",
    "    mode = 'lines+markers',\n",
    "    name = 'compounds',\n",
    "    text=['Text D', 'Text E', 'Text F']\n",
    "#     text= data['state']\n",
    ")\n",
    "trace1 = go.Scatter(\n",
    "    x = list(df_pergen.index),\n",
    "    y = list(df_pergen['n_reactions']),\n",
    "    mode = 'lines+markers',\n",
    "    name = 'reactions'\n",
    ")\n",
    "\n",
    "data = [trace0,trace1]\n",
    "plotly.offline.iplot(data)"
   ]
  },
  {
   "cell_type": "code",
   "execution_count": 64,
   "metadata": {},
   "outputs": [
    {
     "data": {
      "application/vnd.plotly.v1+json": {
       "data": [
        {
         "mode": "markers+text",
         "name": "markers",
         "text": [
          null,
          null,
          null,
          null,
          null,
          null,
          "Text D",
          "Text E",
          "Text F"
         ],
         "textposition": "top center",
         "type": "scatter",
         "x": [
          0,
          0.010101010101010102,
          0.020202020202020204,
          0.030303030303030304,
          0.04040404040404041,
          0.05050505050505051,
          0.06060606060606061,
          0.07070707070707072,
          0.08080808080808081,
          0.09090909090909091,
          0.10101010101010102,
          0.11111111111111112,
          0.12121212121212122,
          0.13131313131313133,
          0.14141414141414144,
          0.15151515151515152,
          0.16161616161616163,
          0.17171717171717174,
          0.18181818181818182,
          0.19191919191919193,
          0.20202020202020204,
          0.21212121212121213,
          0.22222222222222224,
          0.23232323232323235,
          0.24242424242424243,
          0.25252525252525254,
          0.26262626262626265,
          0.27272727272727276,
          0.2828282828282829,
          0.29292929292929293,
          0.30303030303030304,
          0.31313131313131315,
          0.32323232323232326,
          0.33333333333333337,
          0.3434343434343435,
          0.3535353535353536,
          0.36363636363636365,
          0.37373737373737376,
          0.38383838383838387,
          0.393939393939394,
          0.4040404040404041,
          0.4141414141414142,
          0.42424242424242425,
          0.43434343434343436,
          0.4444444444444445,
          0.4545454545454546,
          0.4646464646464647,
          0.4747474747474748,
          0.48484848484848486,
          0.494949494949495,
          0.5050505050505051,
          0.5151515151515152,
          0.5252525252525253,
          0.5353535353535354,
          0.5454545454545455,
          0.5555555555555556,
          0.5656565656565657,
          0.5757575757575758,
          0.5858585858585859,
          0.595959595959596,
          0.6060606060606061,
          0.6161616161616162,
          0.6262626262626263,
          0.6363636363636365,
          0.6464646464646465,
          0.6565656565656566,
          0.6666666666666667,
          0.6767676767676768,
          0.686868686868687,
          0.696969696969697,
          0.7070707070707072,
          0.7171717171717172,
          0.7272727272727273,
          0.7373737373737375,
          0.7474747474747475,
          0.7575757575757577,
          0.7676767676767677,
          0.7777777777777778,
          0.787878787878788,
          0.797979797979798,
          0.8080808080808082,
          0.8181818181818182,
          0.8282828282828284,
          0.8383838383838385,
          0.8484848484848485,
          0.8585858585858587,
          0.8686868686868687,
          0.8787878787878789,
          0.888888888888889,
          0.8989898989898991,
          0.9090909090909092,
          0.9191919191919192,
          0.9292929292929294,
          0.9393939393939394,
          0.9494949494949496,
          0.9595959595959597,
          0.9696969696969697,
          0.9797979797979799,
          0.98989898989899,
          1
         ],
         "y": [
          4.299744422358077,
          6.241475115069819,
          4.749313090907282,
          4.580723409381889,
          5.821938413400278,
          5.233508924124158,
          3.5773633986337954,
          5.066036874090674,
          6.62056281835925,
          3.2956798845425963,
          4.162303388146231,
          4.34099055332233,
          8.085563186896355,
          5.069824194706954,
          3.7396980315121215,
          5.466587842545106,
          3.422469091286871,
          4.284302645099189,
          6.246776388961969,
          5.486812116011521,
          5.938333746507862,
          4.812818716106382,
          5.958008914686418,
          3.6043110237443257,
          5.439697545002839,
          5.382819095718152,
          4.4440807271846525,
          7.408443253220312,
          5.387992102564633,
          3.4442020829639093,
          4.431984429966047,
          5.434121278555933,
          6.763414990045559,
          6.212177953932662,
          4.81261684986637,
          5.471614899041897,
          4.2245334245412405,
          6.298014309977593,
          4.39809056510368,
          3.872898280130241,
          5.96127563263544,
          4.507068064791267,
          4.849849611521541,
          4.544194381821607,
          5.990722071504697,
          7.290696985324095,
          5.1610637586593455,
          5.126564472855614,
          4.76100425644878,
          5.925063624826725,
          4.549439518658473,
          4.905659270610283,
          7.622086934229388,
          2.064316455507969,
          6.7537871931988605,
          6.045815378496121,
          5.116901247020052,
          4.2909961050542105,
          5.648601820403027,
          5.012915022416409,
          5.228339165479421,
          2.8720832168357475,
          5.4160284234854785,
          3.591012584530909,
          5.3708850973759965,
          6.072151295856331,
          6.950086164828079,
          6.9193551059344145,
          5.669672652414128,
          5.136733987822722,
          5.159108264048925,
          5.444721504436671,
          5.22914557280372,
          6.531749149308977,
          4.307975181412049,
          4.542145266631161,
          5.303364623763188,
          3.268785088308527,
          6.491579449962202,
          4.825534097684395,
          3.775050176703412,
          4.865255651976519,
          5.939565028847076,
          4.58967836564828,
          3.070994763026132,
          5.098858800933711,
          3.8559233412854867,
          3.9045692920924133,
          3.6917100303429855,
          4.0000663439705,
          4.778271001172217,
          4.695599290122752,
          5.186906558180386,
          6.189673246296955,
          5.712169185785777,
          5.621249525560863,
          4.877080114613633,
          4.7530267942679645,
          3.8898915998888333,
          5.576811826984644
         ]
        },
        {
         "mode": "lines+markers",
         "name": "lines+markers",
         "type": "scatter",
         "x": [
          0,
          0.010101010101010102,
          0.020202020202020204,
          0.030303030303030304,
          0.04040404040404041,
          0.05050505050505051,
          0.06060606060606061,
          0.07070707070707072,
          0.08080808080808081,
          0.09090909090909091,
          0.10101010101010102,
          0.11111111111111112,
          0.12121212121212122,
          0.13131313131313133,
          0.14141414141414144,
          0.15151515151515152,
          0.16161616161616163,
          0.17171717171717174,
          0.18181818181818182,
          0.19191919191919193,
          0.20202020202020204,
          0.21212121212121213,
          0.22222222222222224,
          0.23232323232323235,
          0.24242424242424243,
          0.25252525252525254,
          0.26262626262626265,
          0.27272727272727276,
          0.2828282828282829,
          0.29292929292929293,
          0.30303030303030304,
          0.31313131313131315,
          0.32323232323232326,
          0.33333333333333337,
          0.3434343434343435,
          0.3535353535353536,
          0.36363636363636365,
          0.37373737373737376,
          0.38383838383838387,
          0.393939393939394,
          0.4040404040404041,
          0.4141414141414142,
          0.42424242424242425,
          0.43434343434343436,
          0.4444444444444445,
          0.4545454545454546,
          0.4646464646464647,
          0.4747474747474748,
          0.48484848484848486,
          0.494949494949495,
          0.5050505050505051,
          0.5151515151515152,
          0.5252525252525253,
          0.5353535353535354,
          0.5454545454545455,
          0.5555555555555556,
          0.5656565656565657,
          0.5757575757575758,
          0.5858585858585859,
          0.595959595959596,
          0.6060606060606061,
          0.6161616161616162,
          0.6262626262626263,
          0.6363636363636365,
          0.6464646464646465,
          0.6565656565656566,
          0.6666666666666667,
          0.6767676767676768,
          0.686868686868687,
          0.696969696969697,
          0.7070707070707072,
          0.7171717171717172,
          0.7272727272727273,
          0.7373737373737375,
          0.7474747474747475,
          0.7575757575757577,
          0.7676767676767677,
          0.7777777777777778,
          0.787878787878788,
          0.797979797979798,
          0.8080808080808082,
          0.8181818181818182,
          0.8282828282828284,
          0.8383838383838385,
          0.8484848484848485,
          0.8585858585858587,
          0.8686868686868687,
          0.8787878787878789,
          0.888888888888889,
          0.8989898989898991,
          0.9090909090909092,
          0.9191919191919192,
          0.9292929292929294,
          0.9393939393939394,
          0.9494949494949496,
          0.9595959595959597,
          0.9696969696969697,
          0.9797979797979799,
          0.98989898989899,
          1
         ],
         "y": [
          1.2394110524190567,
          -1.7488912256876827,
          1.104458436055411,
          -1.1195637618447463,
          -0.6980661523247723,
          1.4256159345854271,
          1.2972587744942712,
          -0.4115305736472412,
          -0.10308299534707055,
          0.3710232643042075,
          -1.3454919699514767,
          0.1883894027975218,
          -0.47906723557246955,
          -0.7253012600604133,
          0.037574425170305625,
          -0.261769692823776,
          1.6596398485927821,
          1.4578147741191798,
          -1.1212572702963877,
          0.8324880198835937,
          -0.06526575717106572,
          -1.74668414120942,
          0.08980583566833035,
          0.26048240236122633,
          -0.583720131033255,
          -0.7080505861524949,
          0.18045640404227983,
          0.5609782353837163,
          0.1555893078677606,
          0.19974990478956392,
          -0.6905900498211694,
          -0.4346155993046205,
          -0.3887563174192766,
          -0.05062269100598154,
          -0.11740267944390763,
          -1.2991637925464725,
          1.2007914790865133,
          -3.2013988962512574,
          -0.20248953190774152,
          1.2785654991440347,
          -0.3632270710425302,
          1.220918905854094,
          -0.30916704394488453,
          0.6020374564756329,
          -0.33641450775121207,
          -0.7055047535311757,
          0.33132600036982723,
          -0.8035915695274216,
          1.442958413295946,
          0.7728539447955259,
          0.2168904171576496,
          1.1193522441090062,
          0.7098353047966547,
          0.3263929329287307,
          -1.124694751170991,
          -0.10710707809157333,
          0.4217753060214081,
          -2.8813751309667626,
          -0.7543616563269019,
          -0.5333475569672411,
          -0.8558271045972271,
          0.808968043761667,
          0.661169783953903,
          -0.8268862177589681,
          -0.3863702458244422,
          -0.31198711877867946,
          3.294433914327683,
          -1.4251133117209993,
          0.25032784018127924,
          -0.1967063183478021,
          -1.702822153347475,
          0.07574465149364701,
          -0.734233178622273,
          -1.0164100840094241,
          -0.4079551378341205,
          1.7192342862031367,
          -0.5071102349073345,
          0.6911908721342539,
          0.7191705179442913,
          0.372088346514944,
          -1.6004950170574899,
          0.3619073748182636,
          0.9991730939049277,
          -0.4662077347577983,
          -0.9270132645059707,
          -0.01149656263014902,
          -1.2034028240309047,
          0.04715781187685602,
          1.3514912595149362,
          0.7833602149858413,
          0.27369034875106163,
          -1.028590397220592,
          0.15192479673035844,
          0.6588222818931964,
          1.0518739231507368,
          -0.9662690322489249,
          1.477421953878769,
          -0.7967729758986867,
          1.700450720399614,
          -1.6411109547728597
         ]
        },
        {
         "mode": "lines",
         "name": "lines",
         "type": "scatter",
         "x": [
          0,
          0.010101010101010102,
          0.020202020202020204,
          0.030303030303030304,
          0.04040404040404041,
          0.05050505050505051,
          0.06060606060606061,
          0.07070707070707072,
          0.08080808080808081,
          0.09090909090909091,
          0.10101010101010102,
          0.11111111111111112,
          0.12121212121212122,
          0.13131313131313133,
          0.14141414141414144,
          0.15151515151515152,
          0.16161616161616163,
          0.17171717171717174,
          0.18181818181818182,
          0.19191919191919193,
          0.20202020202020204,
          0.21212121212121213,
          0.22222222222222224,
          0.23232323232323235,
          0.24242424242424243,
          0.25252525252525254,
          0.26262626262626265,
          0.27272727272727276,
          0.2828282828282829,
          0.29292929292929293,
          0.30303030303030304,
          0.31313131313131315,
          0.32323232323232326,
          0.33333333333333337,
          0.3434343434343435,
          0.3535353535353536,
          0.36363636363636365,
          0.37373737373737376,
          0.38383838383838387,
          0.393939393939394,
          0.4040404040404041,
          0.4141414141414142,
          0.42424242424242425,
          0.43434343434343436,
          0.4444444444444445,
          0.4545454545454546,
          0.4646464646464647,
          0.4747474747474748,
          0.48484848484848486,
          0.494949494949495,
          0.5050505050505051,
          0.5151515151515152,
          0.5252525252525253,
          0.5353535353535354,
          0.5454545454545455,
          0.5555555555555556,
          0.5656565656565657,
          0.5757575757575758,
          0.5858585858585859,
          0.595959595959596,
          0.6060606060606061,
          0.6161616161616162,
          0.6262626262626263,
          0.6363636363636365,
          0.6464646464646465,
          0.6565656565656566,
          0.6666666666666667,
          0.6767676767676768,
          0.686868686868687,
          0.696969696969697,
          0.7070707070707072,
          0.7171717171717172,
          0.7272727272727273,
          0.7373737373737375,
          0.7474747474747475,
          0.7575757575757577,
          0.7676767676767677,
          0.7777777777777778,
          0.787878787878788,
          0.797979797979798,
          0.8080808080808082,
          0.8181818181818182,
          0.8282828282828284,
          0.8383838383838385,
          0.8484848484848485,
          0.8585858585858587,
          0.8686868686868687,
          0.8787878787878789,
          0.888888888888889,
          0.8989898989898991,
          0.9090909090909092,
          0.9191919191919192,
          0.9292929292929294,
          0.9393939393939394,
          0.9494949494949496,
          0.9595959595959597,
          0.9696969696969697,
          0.9797979797979799,
          0.98989898989899,
          1
         ],
         "y": [
          -5.205192701415737,
          -6.52697622757767,
          -5.738656664620442,
          -5.870925035566743,
          -4.552209790100405,
          -6.109992216621136,
          -6.3784345922376,
          -4.2238340082271355,
          -4.0251085862029345,
          -5.072545497616968,
          -4.167816396288199,
          -4.719648221289684,
          -3.5557547815752573,
          -3.980729283195408,
          -4.362585712259648,
          -5.160949893299496,
          -4.234006199495673,
          -6.040541517450553,
          -4.5017452605639665,
          -4.608016556050716,
          -4.419559272622127,
          -5.1883637431771,
          -4.862727522417609,
          -3.3799728002042504,
          -4.9056881564545005,
          -5.774576741017842,
          -6.217113249687742,
          -7.920852847522249,
          -6.435319417077862,
          -7.386250869649533,
          -5.1345851867160155,
          -5.43194327980053,
          -5.645007768116878,
          -3.6359001432220097,
          -5.363861236769072,
          -6.738824616190816,
          -6.8835962722601565,
          -3.2260775921463427,
          -4.769910546491511,
          -5.871594107196848,
          -5.667438460287445,
          -3.7310288443984936,
          -4.783954930255381,
          -5.175838378426759,
          -5.86860518579555,
          -3.9903585174931884,
          -6.495493063774804,
          -5.105205168983742,
          -4.374826760873298,
          -4.837816226472676,
          -5.464411480186291,
          -4.467944814709397,
          -4.430315574469121,
          -5.707293546614208,
          -5.390581397736,
          -5.057873033092102,
          -4.872557303232718,
          -4.210932170131861,
          -4.704988192758068,
          -5.220158456873292,
          -6.257964876841872,
          -5.180516194116138,
          -5.1384903871459535,
          -6.13756855846325,
          -3.4144063527769224,
          -5.208040848402067,
          -5.830254319832664,
          -5.074332784260163,
          -3.6855899462605315,
          -5.13386823989932,
          -4.18693765992803,
          -5.5603267356316755,
          -5.044407243943504,
          -4.915157687709355,
          -3.3450284065063913,
          -5.491273046035387,
          -4.5727933558112355,
          -5.487158923352796,
          -6.100588792582004,
          -3.2827948216693685,
          -4.77432200093394,
          -6.330861003032453,
          -6.985932979128218,
          -3.9176626363058555,
          -6.5636594615106105,
          -4.8077037215390765,
          -4.242568922636439,
          -4.725678977306097,
          -2.461566869821115,
          -3.7707654507651087,
          -5.942428164561102,
          -5.445482805239456,
          -6.4950368133980065,
          -6.85931119451202,
          -6.569831282833959,
          -6.380613919014124,
          -6.031334084939392,
          -4.681811877142435,
          -6.295562306892977,
          -3.9930158626661725
         ]
        }
       ],
       "layout": {
        "xaxis": {
         "autorange": true,
         "range": [
          -0.06567127943675649,
          1.0656712794367564
         ],
         "type": "linear"
        },
        "yaxis": {
         "autorange": true,
         "range": [
          -8.824036197426746,
          9.239630800663214
         ],
         "type": "linear"
        }
       }
      },
      "text/html": [
       "<div id=\"5e5b6aa8-4ed3-4b09-a7a6-4460374cb674\" style=\"height: 525px; width: 100%;\" class=\"plotly-graph-div\"></div><script type=\"text/javascript\">require([\"plotly\"], function(Plotly) { window.PLOTLYENV=window.PLOTLYENV || {};window.PLOTLYENV.BASE_URL=\"https://plot.ly\";Plotly.newPlot(\"5e5b6aa8-4ed3-4b09-a7a6-4460374cb674\", [{\"textposition\": \"top\", \"name\": \"markers\", \"text\": [null, null, null, null, null, null, \"Text D\", \"Text E\", \"Text F\"], \"mode\": \"markers+text\", \"y\": [4.299744422358077, 6.241475115069819, 4.749313090907282, 4.580723409381889, 5.821938413400278, 5.233508924124158, 3.5773633986337954, 5.066036874090674, 6.62056281835925, 3.2956798845425963, 4.162303388146231, 4.34099055332233, 8.085563186896355, 5.069824194706954, 3.7396980315121215, 5.466587842545106, 3.422469091286871, 4.284302645099189, 6.246776388961969, 5.486812116011521, 5.938333746507862, 4.812818716106382, 5.958008914686418, 3.6043110237443257, 5.439697545002839, 5.382819095718152, 4.4440807271846525, 7.408443253220312, 5.387992102564633, 3.4442020829639093, 4.431984429966047, 5.434121278555933, 6.763414990045559, 6.212177953932662, 4.81261684986637, 5.471614899041897, 4.2245334245412405, 6.298014309977593, 4.39809056510368, 3.872898280130241, 5.96127563263544, 4.507068064791267, 4.849849611521541, 4.544194381821607, 5.990722071504697, 7.290696985324095, 5.1610637586593455, 5.126564472855614, 4.76100425644878, 5.925063624826725, 4.549439518658473, 4.905659270610283, 7.622086934229388, 2.064316455507969, 6.7537871931988605, 6.045815378496121, 5.116901247020052, 4.2909961050542105, 5.648601820403027, 5.012915022416409, 5.228339165479421, 2.8720832168357475, 5.4160284234854785, 3.591012584530909, 5.3708850973759965, 6.072151295856331, 6.950086164828079, 6.9193551059344145, 5.669672652414128, 5.136733987822722, 5.159108264048925, 5.444721504436671, 5.22914557280372, 6.531749149308977, 4.307975181412049, 4.542145266631161, 5.303364623763188, 3.268785088308527, 6.491579449962202, 4.825534097684395, 3.775050176703412, 4.865255651976519, 5.939565028847076, 4.58967836564828, 3.070994763026132, 5.098858800933711, 3.8559233412854867, 3.9045692920924133, 3.6917100303429855, 4.0000663439705, 4.778271001172217, 4.695599290122752, 5.186906558180386, 6.189673246296955, 5.712169185785777, 5.621249525560863, 4.877080114613633, 4.7530267942679645, 3.8898915998888333, 5.576811826984644], \"x\": [0.0, 0.010101010101010102, 0.020202020202020204, 0.030303030303030304, 0.04040404040404041, 0.05050505050505051, 0.06060606060606061, 0.07070707070707072, 0.08080808080808081, 0.09090909090909091, 0.10101010101010102, 0.11111111111111112, 0.12121212121212122, 0.13131313131313133, 0.14141414141414144, 0.15151515151515152, 0.16161616161616163, 0.17171717171717174, 0.18181818181818182, 0.19191919191919193, 0.20202020202020204, 0.21212121212121213, 0.22222222222222224, 0.23232323232323235, 0.24242424242424243, 0.25252525252525254, 0.26262626262626265, 0.27272727272727276, 0.2828282828282829, 0.29292929292929293, 0.30303030303030304, 0.31313131313131315, 0.32323232323232326, 0.33333333333333337, 0.3434343434343435, 0.3535353535353536, 0.36363636363636365, 0.37373737373737376, 0.38383838383838387, 0.393939393939394, 0.4040404040404041, 0.4141414141414142, 0.42424242424242425, 0.43434343434343436, 0.4444444444444445, 0.4545454545454546, 0.4646464646464647, 0.4747474747474748, 0.48484848484848486, 0.494949494949495, 0.5050505050505051, 0.5151515151515152, 0.5252525252525253, 0.5353535353535354, 0.5454545454545455, 0.5555555555555556, 0.5656565656565657, 0.5757575757575758, 0.5858585858585859, 0.595959595959596, 0.6060606060606061, 0.6161616161616162, 0.6262626262626263, 0.6363636363636365, 0.6464646464646465, 0.6565656565656566, 0.6666666666666667, 0.6767676767676768, 0.686868686868687, 0.696969696969697, 0.7070707070707072, 0.7171717171717172, 0.7272727272727273, 0.7373737373737375, 0.7474747474747475, 0.7575757575757577, 0.7676767676767677, 0.7777777777777778, 0.787878787878788, 0.797979797979798, 0.8080808080808082, 0.8181818181818182, 0.8282828282828284, 0.8383838383838385, 0.8484848484848485, 0.8585858585858587, 0.8686868686868687, 0.8787878787878789, 0.888888888888889, 0.8989898989898991, 0.9090909090909092, 0.9191919191919192, 0.9292929292929294, 0.9393939393939394, 0.9494949494949496, 0.9595959595959597, 0.9696969696969697, 0.9797979797979799, 0.98989898989899, 1.0], \"type\": \"scatter\"}, {\"y\": [1.2394110524190567, -1.7488912256876827, 1.104458436055411, -1.1195637618447463, -0.6980661523247723, 1.4256159345854271, 1.2972587744942712, -0.4115305736472412, -0.10308299534707055, 0.3710232643042075, -1.3454919699514767, 0.1883894027975218, -0.47906723557246955, -0.7253012600604133, 0.037574425170305625, -0.261769692823776, 1.6596398485927821, 1.4578147741191798, -1.1212572702963877, 0.8324880198835937, -0.06526575717106572, -1.74668414120942, 0.08980583566833035, 0.26048240236122633, -0.583720131033255, -0.7080505861524949, 0.18045640404227983, 0.5609782353837163, 0.1555893078677606, 0.19974990478956392, -0.6905900498211694, -0.4346155993046205, -0.3887563174192766, -0.05062269100598154, -0.11740267944390763, -1.2991637925464725, 1.2007914790865133, -3.2013988962512574, -0.20248953190774152, 1.2785654991440347, -0.3632270710425302, 1.220918905854094, -0.30916704394488453, 0.6020374564756329, -0.33641450775121207, -0.7055047535311757, 0.33132600036982723, -0.8035915695274216, 1.442958413295946, 0.7728539447955259, 0.2168904171576496, 1.1193522441090062, 0.7098353047966547, 0.3263929329287307, -1.124694751170991, -0.10710707809157333, 0.4217753060214081, -2.8813751309667626, -0.7543616563269019, -0.5333475569672411, -0.8558271045972271, 0.808968043761667, 0.661169783953903, -0.8268862177589681, -0.3863702458244422, -0.31198711877867946, 3.294433914327683, -1.4251133117209993, 0.25032784018127924, -0.1967063183478021, -1.702822153347475, 0.07574465149364701, -0.734233178622273, -1.0164100840094241, -0.4079551378341205, 1.7192342862031367, -0.5071102349073345, 0.6911908721342539, 0.7191705179442913, 0.372088346514944, -1.6004950170574899, 0.3619073748182636, 0.9991730939049277, -0.4662077347577983, -0.9270132645059707, -0.01149656263014902, -1.2034028240309047, 0.04715781187685602, 1.3514912595149362, 0.7833602149858413, 0.27369034875106163, -1.028590397220592, 0.15192479673035844, 0.6588222818931964, 1.0518739231507368, -0.9662690322489249, 1.477421953878769, -0.7967729758986867, 1.700450720399614, -1.6411109547728597], \"x\": [0.0, 0.010101010101010102, 0.020202020202020204, 0.030303030303030304, 0.04040404040404041, 0.05050505050505051, 0.06060606060606061, 0.07070707070707072, 0.08080808080808081, 0.09090909090909091, 0.10101010101010102, 0.11111111111111112, 0.12121212121212122, 0.13131313131313133, 0.14141414141414144, 0.15151515151515152, 0.16161616161616163, 0.17171717171717174, 0.18181818181818182, 0.19191919191919193, 0.20202020202020204, 0.21212121212121213, 0.22222222222222224, 0.23232323232323235, 0.24242424242424243, 0.25252525252525254, 0.26262626262626265, 0.27272727272727276, 0.2828282828282829, 0.29292929292929293, 0.30303030303030304, 0.31313131313131315, 0.32323232323232326, 0.33333333333333337, 0.3434343434343435, 0.3535353535353536, 0.36363636363636365, 0.37373737373737376, 0.38383838383838387, 0.393939393939394, 0.4040404040404041, 0.4141414141414142, 0.42424242424242425, 0.43434343434343436, 0.4444444444444445, 0.4545454545454546, 0.4646464646464647, 0.4747474747474748, 0.48484848484848486, 0.494949494949495, 0.5050505050505051, 0.5151515151515152, 0.5252525252525253, 0.5353535353535354, 0.5454545454545455, 0.5555555555555556, 0.5656565656565657, 0.5757575757575758, 0.5858585858585859, 0.595959595959596, 0.6060606060606061, 0.6161616161616162, 0.6262626262626263, 0.6363636363636365, 0.6464646464646465, 0.6565656565656566, 0.6666666666666667, 0.6767676767676768, 0.686868686868687, 0.696969696969697, 0.7070707070707072, 0.7171717171717172, 0.7272727272727273, 0.7373737373737375, 0.7474747474747475, 0.7575757575757577, 0.7676767676767677, 0.7777777777777778, 0.787878787878788, 0.797979797979798, 0.8080808080808082, 0.8181818181818182, 0.8282828282828284, 0.8383838383838385, 0.8484848484848485, 0.8585858585858587, 0.8686868686868687, 0.8787878787878789, 0.888888888888889, 0.8989898989898991, 0.9090909090909092, 0.9191919191919192, 0.9292929292929294, 0.9393939393939394, 0.9494949494949496, 0.9595959595959597, 0.9696969696969697, 0.9797979797979799, 0.98989898989899, 1.0], \"type\": \"scatter\", \"name\": \"lines+markers\", \"mode\": \"lines+markers\"}, {\"y\": [-5.205192701415737, -6.52697622757767, -5.738656664620442, -5.870925035566743, -4.552209790100405, -6.109992216621136, -6.3784345922376, -4.2238340082271355, -4.0251085862029345, -5.072545497616968, -4.167816396288199, -4.719648221289684, -3.5557547815752573, -3.980729283195408, -4.362585712259648, -5.160949893299496, -4.234006199495673, -6.040541517450553, -4.5017452605639665, -4.608016556050716, -4.419559272622127, -5.1883637431771, -4.862727522417609, -3.3799728002042504, -4.9056881564545005, -5.774576741017842, -6.217113249687742, -7.920852847522249, -6.435319417077862, -7.386250869649533, -5.1345851867160155, -5.43194327980053, -5.645007768116878, -3.6359001432220097, -5.363861236769072, -6.738824616190816, -6.8835962722601565, -3.2260775921463427, -4.769910546491511, -5.871594107196848, -5.667438460287445, -3.7310288443984936, -4.783954930255381, -5.175838378426759, -5.86860518579555, -3.9903585174931884, -6.495493063774804, -5.105205168983742, -4.374826760873298, -4.837816226472676, -5.464411480186291, -4.467944814709397, -4.430315574469121, -5.707293546614208, -5.390581397736, -5.057873033092102, -4.872557303232718, -4.210932170131861, -4.704988192758068, -5.220158456873292, -6.257964876841872, -5.180516194116138, -5.1384903871459535, -6.13756855846325, -3.4144063527769224, -5.208040848402067, -5.830254319832664, -5.074332784260163, -3.6855899462605315, -5.13386823989932, -4.18693765992803, -5.5603267356316755, -5.044407243943504, -4.915157687709355, -3.3450284065063913, -5.491273046035387, -4.5727933558112355, -5.487158923352796, -6.100588792582004, -3.2827948216693685, -4.77432200093394, -6.330861003032453, -6.985932979128218, -3.9176626363058555, -6.5636594615106105, -4.8077037215390765, -4.242568922636439, -4.725678977306097, -2.461566869821115, -3.7707654507651087, -5.942428164561102, -5.445482805239456, -6.4950368133980065, -6.85931119451202, -6.569831282833959, -6.380613919014124, -6.031334084939392, -4.681811877142435, -6.295562306892977, -3.9930158626661725], \"x\": [0.0, 0.010101010101010102, 0.020202020202020204, 0.030303030303030304, 0.04040404040404041, 0.05050505050505051, 0.06060606060606061, 0.07070707070707072, 0.08080808080808081, 0.09090909090909091, 0.10101010101010102, 0.11111111111111112, 0.12121212121212122, 0.13131313131313133, 0.14141414141414144, 0.15151515151515152, 0.16161616161616163, 0.17171717171717174, 0.18181818181818182, 0.19191919191919193, 0.20202020202020204, 0.21212121212121213, 0.22222222222222224, 0.23232323232323235, 0.24242424242424243, 0.25252525252525254, 0.26262626262626265, 0.27272727272727276, 0.2828282828282829, 0.29292929292929293, 0.30303030303030304, 0.31313131313131315, 0.32323232323232326, 0.33333333333333337, 0.3434343434343435, 0.3535353535353536, 0.36363636363636365, 0.37373737373737376, 0.38383838383838387, 0.393939393939394, 0.4040404040404041, 0.4141414141414142, 0.42424242424242425, 0.43434343434343436, 0.4444444444444445, 0.4545454545454546, 0.4646464646464647, 0.4747474747474748, 0.48484848484848486, 0.494949494949495, 0.5050505050505051, 0.5151515151515152, 0.5252525252525253, 0.5353535353535354, 0.5454545454545455, 0.5555555555555556, 0.5656565656565657, 0.5757575757575758, 0.5858585858585859, 0.595959595959596, 0.6060606060606061, 0.6161616161616162, 0.6262626262626263, 0.6363636363636365, 0.6464646464646465, 0.6565656565656566, 0.6666666666666667, 0.6767676767676768, 0.686868686868687, 0.696969696969697, 0.7070707070707072, 0.7171717171717172, 0.7272727272727273, 0.7373737373737375, 0.7474747474747475, 0.7575757575757577, 0.7676767676767677, 0.7777777777777778, 0.787878787878788, 0.797979797979798, 0.8080808080808082, 0.8181818181818182, 0.8282828282828284, 0.8383838383838385, 0.8484848484848485, 0.8585858585858587, 0.8686868686868687, 0.8787878787878789, 0.888888888888889, 0.8989898989898991, 0.9090909090909092, 0.9191919191919192, 0.9292929292929294, 0.9393939393939394, 0.9494949494949496, 0.9595959595959597, 0.9696969696969697, 0.9797979797979799, 0.98989898989899, 1.0], \"type\": \"scatter\", \"name\": \"lines\", \"mode\": \"lines\"}], {}, {\"linkText\": \"Export to plot.ly\", \"showLink\": true})});</script>"
      ],
      "text/vnd.plotly.v1+html": [
       "<div id=\"5e5b6aa8-4ed3-4b09-a7a6-4460374cb674\" style=\"height: 525px; width: 100%;\" class=\"plotly-graph-div\"></div><script type=\"text/javascript\">require([\"plotly\"], function(Plotly) { window.PLOTLYENV=window.PLOTLYENV || {};window.PLOTLYENV.BASE_URL=\"https://plot.ly\";Plotly.newPlot(\"5e5b6aa8-4ed3-4b09-a7a6-4460374cb674\", [{\"textposition\": \"top\", \"name\": \"markers\", \"text\": [null, null, null, null, null, null, \"Text D\", \"Text E\", \"Text F\"], \"mode\": \"markers+text\", \"y\": [4.299744422358077, 6.241475115069819, 4.749313090907282, 4.580723409381889, 5.821938413400278, 5.233508924124158, 3.5773633986337954, 5.066036874090674, 6.62056281835925, 3.2956798845425963, 4.162303388146231, 4.34099055332233, 8.085563186896355, 5.069824194706954, 3.7396980315121215, 5.466587842545106, 3.422469091286871, 4.284302645099189, 6.246776388961969, 5.486812116011521, 5.938333746507862, 4.812818716106382, 5.958008914686418, 3.6043110237443257, 5.439697545002839, 5.382819095718152, 4.4440807271846525, 7.408443253220312, 5.387992102564633, 3.4442020829639093, 4.431984429966047, 5.434121278555933, 6.763414990045559, 6.212177953932662, 4.81261684986637, 5.471614899041897, 4.2245334245412405, 6.298014309977593, 4.39809056510368, 3.872898280130241, 5.96127563263544, 4.507068064791267, 4.849849611521541, 4.544194381821607, 5.990722071504697, 7.290696985324095, 5.1610637586593455, 5.126564472855614, 4.76100425644878, 5.925063624826725, 4.549439518658473, 4.905659270610283, 7.622086934229388, 2.064316455507969, 6.7537871931988605, 6.045815378496121, 5.116901247020052, 4.2909961050542105, 5.648601820403027, 5.012915022416409, 5.228339165479421, 2.8720832168357475, 5.4160284234854785, 3.591012584530909, 5.3708850973759965, 6.072151295856331, 6.950086164828079, 6.9193551059344145, 5.669672652414128, 5.136733987822722, 5.159108264048925, 5.444721504436671, 5.22914557280372, 6.531749149308977, 4.307975181412049, 4.542145266631161, 5.303364623763188, 3.268785088308527, 6.491579449962202, 4.825534097684395, 3.775050176703412, 4.865255651976519, 5.939565028847076, 4.58967836564828, 3.070994763026132, 5.098858800933711, 3.8559233412854867, 3.9045692920924133, 3.6917100303429855, 4.0000663439705, 4.778271001172217, 4.695599290122752, 5.186906558180386, 6.189673246296955, 5.712169185785777, 5.621249525560863, 4.877080114613633, 4.7530267942679645, 3.8898915998888333, 5.576811826984644], \"x\": [0.0, 0.010101010101010102, 0.020202020202020204, 0.030303030303030304, 0.04040404040404041, 0.05050505050505051, 0.06060606060606061, 0.07070707070707072, 0.08080808080808081, 0.09090909090909091, 0.10101010101010102, 0.11111111111111112, 0.12121212121212122, 0.13131313131313133, 0.14141414141414144, 0.15151515151515152, 0.16161616161616163, 0.17171717171717174, 0.18181818181818182, 0.19191919191919193, 0.20202020202020204, 0.21212121212121213, 0.22222222222222224, 0.23232323232323235, 0.24242424242424243, 0.25252525252525254, 0.26262626262626265, 0.27272727272727276, 0.2828282828282829, 0.29292929292929293, 0.30303030303030304, 0.31313131313131315, 0.32323232323232326, 0.33333333333333337, 0.3434343434343435, 0.3535353535353536, 0.36363636363636365, 0.37373737373737376, 0.38383838383838387, 0.393939393939394, 0.4040404040404041, 0.4141414141414142, 0.42424242424242425, 0.43434343434343436, 0.4444444444444445, 0.4545454545454546, 0.4646464646464647, 0.4747474747474748, 0.48484848484848486, 0.494949494949495, 0.5050505050505051, 0.5151515151515152, 0.5252525252525253, 0.5353535353535354, 0.5454545454545455, 0.5555555555555556, 0.5656565656565657, 0.5757575757575758, 0.5858585858585859, 0.595959595959596, 0.6060606060606061, 0.6161616161616162, 0.6262626262626263, 0.6363636363636365, 0.6464646464646465, 0.6565656565656566, 0.6666666666666667, 0.6767676767676768, 0.686868686868687, 0.696969696969697, 0.7070707070707072, 0.7171717171717172, 0.7272727272727273, 0.7373737373737375, 0.7474747474747475, 0.7575757575757577, 0.7676767676767677, 0.7777777777777778, 0.787878787878788, 0.797979797979798, 0.8080808080808082, 0.8181818181818182, 0.8282828282828284, 0.8383838383838385, 0.8484848484848485, 0.8585858585858587, 0.8686868686868687, 0.8787878787878789, 0.888888888888889, 0.8989898989898991, 0.9090909090909092, 0.9191919191919192, 0.9292929292929294, 0.9393939393939394, 0.9494949494949496, 0.9595959595959597, 0.9696969696969697, 0.9797979797979799, 0.98989898989899, 1.0], \"type\": \"scatter\"}, {\"y\": [1.2394110524190567, -1.7488912256876827, 1.104458436055411, -1.1195637618447463, -0.6980661523247723, 1.4256159345854271, 1.2972587744942712, -0.4115305736472412, -0.10308299534707055, 0.3710232643042075, -1.3454919699514767, 0.1883894027975218, -0.47906723557246955, -0.7253012600604133, 0.037574425170305625, -0.261769692823776, 1.6596398485927821, 1.4578147741191798, -1.1212572702963877, 0.8324880198835937, -0.06526575717106572, -1.74668414120942, 0.08980583566833035, 0.26048240236122633, -0.583720131033255, -0.7080505861524949, 0.18045640404227983, 0.5609782353837163, 0.1555893078677606, 0.19974990478956392, -0.6905900498211694, -0.4346155993046205, -0.3887563174192766, -0.05062269100598154, -0.11740267944390763, -1.2991637925464725, 1.2007914790865133, -3.2013988962512574, -0.20248953190774152, 1.2785654991440347, -0.3632270710425302, 1.220918905854094, -0.30916704394488453, 0.6020374564756329, -0.33641450775121207, -0.7055047535311757, 0.33132600036982723, -0.8035915695274216, 1.442958413295946, 0.7728539447955259, 0.2168904171576496, 1.1193522441090062, 0.7098353047966547, 0.3263929329287307, -1.124694751170991, -0.10710707809157333, 0.4217753060214081, -2.8813751309667626, -0.7543616563269019, -0.5333475569672411, -0.8558271045972271, 0.808968043761667, 0.661169783953903, -0.8268862177589681, -0.3863702458244422, -0.31198711877867946, 3.294433914327683, -1.4251133117209993, 0.25032784018127924, -0.1967063183478021, -1.702822153347475, 0.07574465149364701, -0.734233178622273, -1.0164100840094241, -0.4079551378341205, 1.7192342862031367, -0.5071102349073345, 0.6911908721342539, 0.7191705179442913, 0.372088346514944, -1.6004950170574899, 0.3619073748182636, 0.9991730939049277, -0.4662077347577983, -0.9270132645059707, -0.01149656263014902, -1.2034028240309047, 0.04715781187685602, 1.3514912595149362, 0.7833602149858413, 0.27369034875106163, -1.028590397220592, 0.15192479673035844, 0.6588222818931964, 1.0518739231507368, -0.9662690322489249, 1.477421953878769, -0.7967729758986867, 1.700450720399614, -1.6411109547728597], \"x\": [0.0, 0.010101010101010102, 0.020202020202020204, 0.030303030303030304, 0.04040404040404041, 0.05050505050505051, 0.06060606060606061, 0.07070707070707072, 0.08080808080808081, 0.09090909090909091, 0.10101010101010102, 0.11111111111111112, 0.12121212121212122, 0.13131313131313133, 0.14141414141414144, 0.15151515151515152, 0.16161616161616163, 0.17171717171717174, 0.18181818181818182, 0.19191919191919193, 0.20202020202020204, 0.21212121212121213, 0.22222222222222224, 0.23232323232323235, 0.24242424242424243, 0.25252525252525254, 0.26262626262626265, 0.27272727272727276, 0.2828282828282829, 0.29292929292929293, 0.30303030303030304, 0.31313131313131315, 0.32323232323232326, 0.33333333333333337, 0.3434343434343435, 0.3535353535353536, 0.36363636363636365, 0.37373737373737376, 0.38383838383838387, 0.393939393939394, 0.4040404040404041, 0.4141414141414142, 0.42424242424242425, 0.43434343434343436, 0.4444444444444445, 0.4545454545454546, 0.4646464646464647, 0.4747474747474748, 0.48484848484848486, 0.494949494949495, 0.5050505050505051, 0.5151515151515152, 0.5252525252525253, 0.5353535353535354, 0.5454545454545455, 0.5555555555555556, 0.5656565656565657, 0.5757575757575758, 0.5858585858585859, 0.595959595959596, 0.6060606060606061, 0.6161616161616162, 0.6262626262626263, 0.6363636363636365, 0.6464646464646465, 0.6565656565656566, 0.6666666666666667, 0.6767676767676768, 0.686868686868687, 0.696969696969697, 0.7070707070707072, 0.7171717171717172, 0.7272727272727273, 0.7373737373737375, 0.7474747474747475, 0.7575757575757577, 0.7676767676767677, 0.7777777777777778, 0.787878787878788, 0.797979797979798, 0.8080808080808082, 0.8181818181818182, 0.8282828282828284, 0.8383838383838385, 0.8484848484848485, 0.8585858585858587, 0.8686868686868687, 0.8787878787878789, 0.888888888888889, 0.8989898989898991, 0.9090909090909092, 0.9191919191919192, 0.9292929292929294, 0.9393939393939394, 0.9494949494949496, 0.9595959595959597, 0.9696969696969697, 0.9797979797979799, 0.98989898989899, 1.0], \"type\": \"scatter\", \"name\": \"lines+markers\", \"mode\": \"lines+markers\"}, {\"y\": [-5.205192701415737, -6.52697622757767, -5.738656664620442, -5.870925035566743, -4.552209790100405, -6.109992216621136, -6.3784345922376, -4.2238340082271355, -4.0251085862029345, -5.072545497616968, -4.167816396288199, -4.719648221289684, -3.5557547815752573, -3.980729283195408, -4.362585712259648, -5.160949893299496, -4.234006199495673, -6.040541517450553, -4.5017452605639665, -4.608016556050716, -4.419559272622127, -5.1883637431771, -4.862727522417609, -3.3799728002042504, -4.9056881564545005, -5.774576741017842, -6.217113249687742, -7.920852847522249, -6.435319417077862, -7.386250869649533, -5.1345851867160155, -5.43194327980053, -5.645007768116878, -3.6359001432220097, -5.363861236769072, -6.738824616190816, -6.8835962722601565, -3.2260775921463427, -4.769910546491511, -5.871594107196848, -5.667438460287445, -3.7310288443984936, -4.783954930255381, -5.175838378426759, -5.86860518579555, -3.9903585174931884, -6.495493063774804, -5.105205168983742, -4.374826760873298, -4.837816226472676, -5.464411480186291, -4.467944814709397, -4.430315574469121, -5.707293546614208, -5.390581397736, -5.057873033092102, -4.872557303232718, -4.210932170131861, -4.704988192758068, -5.220158456873292, -6.257964876841872, -5.180516194116138, -5.1384903871459535, -6.13756855846325, -3.4144063527769224, -5.208040848402067, -5.830254319832664, -5.074332784260163, -3.6855899462605315, -5.13386823989932, -4.18693765992803, -5.5603267356316755, -5.044407243943504, -4.915157687709355, -3.3450284065063913, -5.491273046035387, -4.5727933558112355, -5.487158923352796, -6.100588792582004, -3.2827948216693685, -4.77432200093394, -6.330861003032453, -6.985932979128218, -3.9176626363058555, -6.5636594615106105, -4.8077037215390765, -4.242568922636439, -4.725678977306097, -2.461566869821115, -3.7707654507651087, -5.942428164561102, -5.445482805239456, -6.4950368133980065, -6.85931119451202, -6.569831282833959, -6.380613919014124, -6.031334084939392, -4.681811877142435, -6.295562306892977, -3.9930158626661725], \"x\": [0.0, 0.010101010101010102, 0.020202020202020204, 0.030303030303030304, 0.04040404040404041, 0.05050505050505051, 0.06060606060606061, 0.07070707070707072, 0.08080808080808081, 0.09090909090909091, 0.10101010101010102, 0.11111111111111112, 0.12121212121212122, 0.13131313131313133, 0.14141414141414144, 0.15151515151515152, 0.16161616161616163, 0.17171717171717174, 0.18181818181818182, 0.19191919191919193, 0.20202020202020204, 0.21212121212121213, 0.22222222222222224, 0.23232323232323235, 0.24242424242424243, 0.25252525252525254, 0.26262626262626265, 0.27272727272727276, 0.2828282828282829, 0.29292929292929293, 0.30303030303030304, 0.31313131313131315, 0.32323232323232326, 0.33333333333333337, 0.3434343434343435, 0.3535353535353536, 0.36363636363636365, 0.37373737373737376, 0.38383838383838387, 0.393939393939394, 0.4040404040404041, 0.4141414141414142, 0.42424242424242425, 0.43434343434343436, 0.4444444444444445, 0.4545454545454546, 0.4646464646464647, 0.4747474747474748, 0.48484848484848486, 0.494949494949495, 0.5050505050505051, 0.5151515151515152, 0.5252525252525253, 0.5353535353535354, 0.5454545454545455, 0.5555555555555556, 0.5656565656565657, 0.5757575757575758, 0.5858585858585859, 0.595959595959596, 0.6060606060606061, 0.6161616161616162, 0.6262626262626263, 0.6363636363636365, 0.6464646464646465, 0.6565656565656566, 0.6666666666666667, 0.6767676767676768, 0.686868686868687, 0.696969696969697, 0.7070707070707072, 0.7171717171717172, 0.7272727272727273, 0.7373737373737375, 0.7474747474747475, 0.7575757575757577, 0.7676767676767677, 0.7777777777777778, 0.787878787878788, 0.797979797979798, 0.8080808080808082, 0.8181818181818182, 0.8282828282828284, 0.8383838383838385, 0.8484848484848485, 0.8585858585858587, 0.8686868686868687, 0.8787878787878789, 0.888888888888889, 0.8989898989898991, 0.9090909090909092, 0.9191919191919192, 0.9292929292929294, 0.9393939393939394, 0.9494949494949496, 0.9595959595959597, 0.9696969696969697, 0.9797979797979799, 0.98989898989899, 1.0], \"type\": \"scatter\", \"name\": \"lines\", \"mode\": \"lines\"}], {}, {\"linkText\": \"Export to plot.ly\", \"showLink\": true})});</script>"
      ]
     },
     "metadata": {},
     "output_type": "display_data"
    }
   ],
   "source": [
    "N = 100\n",
    "random_x = np.linspace(0, 1, N)\n",
    "random_y0 = np.random.randn(N)+5\n",
    "random_y1 = np.random.randn(N)\n",
    "random_y2 = np.random.randn(N)-5\n",
    "\n",
    "# Create traces\n",
    "trace0 = go.Scatter(\n",
    "    x = random_x,\n",
    "    y = random_y0,\n",
    "    mode = 'markers+text',\n",
    "    name = 'markers',\n",
    "    text=[None,None,None,None,None,None,'Text D', 'Text E', 'Text F'],\n",
    "    textposition='top'\n",
    ")\n",
    "trace1 = go.Scatter(\n",
    "    x = random_x,\n",
    "    y = random_y1,\n",
    "    mode = 'lines+markers',\n",
    "    name = 'lines+markers'\n",
    ")\n",
    "trace2 = go.Scatter(\n",
    "    x = random_x,\n",
    "    y = random_y2,\n",
    "    mode = 'lines',\n",
    "    name = 'lines'\n",
    ")\n",
    "\n",
    "data = [trace0, trace1, trace2]\n",
    "plotly.offline.iplot(data)"
   ]
  },
  {
   "cell_type": "markdown",
   "metadata": {},
   "source": [
    "Need columns for:\n",
    "- generation\n",
    "- value (either n_compounds or n_reactions)\n",
    "- seed_compound"
   ]
  },
  {
   "cell_type": "code",
   "execution_count": 80,
   "metadata": {},
   "outputs": [],
   "source": [
    "df = df.transpose()"
   ]
  },
  {
   "cell_type": "code",
   "execution_count": 90,
   "metadata": {},
   "outputs": [
    {
     "data": {
      "text/html": [
       "<div>\n",
       "<style>\n",
       "    .dataframe thead tr:only-child th {\n",
       "        text-align: right;\n",
       "    }\n",
       "\n",
       "    .dataframe thead th {\n",
       "        text-align: left;\n",
       "    }\n",
       "\n",
       "    .dataframe tbody tr th {\n",
       "        vertical-align: top;\n",
       "    }\n",
       "</style>\n",
       "<table border=\"1\" class=\"dataframe\">\n",
       "  <thead>\n",
       "    <tr style=\"text-align: right;\">\n",
       "      <th></th>\n",
       "      <th>n_compounds</th>\n",
       "      <th>n_reactions</th>\n",
       "    </tr>\n",
       "  </thead>\n",
       "  <tbody>\n",
       "    <tr>\n",
       "      <th>0</th>\n",
       "      <td>2</td>\n",
       "      <td>4</td>\n",
       "    </tr>\n",
       "    <tr>\n",
       "      <th>1</th>\n",
       "      <td>6</td>\n",
       "      <td>18</td>\n",
       "    </tr>\n",
       "    <tr>\n",
       "      <th>2</th>\n",
       "      <td>19</td>\n",
       "      <td>39</td>\n",
       "    </tr>\n",
       "    <tr>\n",
       "      <th>3</th>\n",
       "      <td>30</td>\n",
       "      <td>46</td>\n",
       "    </tr>\n",
       "    <tr>\n",
       "      <th>4</th>\n",
       "      <td>36</td>\n",
       "      <td>54</td>\n",
       "    </tr>\n",
       "  </tbody>\n",
       "</table>\n",
       "</div>"
      ],
      "text/plain": [
       "   n_compounds  n_reactions\n",
       "0            2            4\n",
       "1            6           18\n",
       "2           19           39\n",
       "3           30           46\n",
       "4           36           54"
      ]
     },
     "execution_count": 90,
     "metadata": {},
     "output_type": "execute_result"
    }
   ],
   "source": [
    "df.head()"
   ]
  },
  {
   "cell_type": "code",
   "execution_count": 97,
   "metadata": {},
   "outputs": [],
   "source": [
    "df2 = df.reset_index()"
   ]
  },
  {
   "cell_type": "code",
   "execution_count": 98,
   "metadata": {},
   "outputs": [
    {
     "data": {
      "text/html": [
       "<div>\n",
       "<style>\n",
       "    .dataframe thead tr:only-child th {\n",
       "        text-align: right;\n",
       "    }\n",
       "\n",
       "    .dataframe thead th {\n",
       "        text-align: left;\n",
       "    }\n",
       "\n",
       "    .dataframe tbody tr th {\n",
       "        vertical-align: top;\n",
       "    }\n",
       "</style>\n",
       "<table border=\"1\" class=\"dataframe\">\n",
       "  <thead>\n",
       "    <tr style=\"text-align: right;\">\n",
       "      <th></th>\n",
       "      <th>index</th>\n",
       "      <th>n_compounds</th>\n",
       "      <th>n_reactions</th>\n",
       "    </tr>\n",
       "  </thead>\n",
       "  <tbody>\n",
       "    <tr>\n",
       "      <th>0</th>\n",
       "      <td>0</td>\n",
       "      <td>2</td>\n",
       "      <td>4</td>\n",
       "    </tr>\n",
       "    <tr>\n",
       "      <th>1</th>\n",
       "      <td>1</td>\n",
       "      <td>6</td>\n",
       "      <td>18</td>\n",
       "    </tr>\n",
       "    <tr>\n",
       "      <th>2</th>\n",
       "      <td>2</td>\n",
       "      <td>19</td>\n",
       "      <td>39</td>\n",
       "    </tr>\n",
       "    <tr>\n",
       "      <th>3</th>\n",
       "      <td>3</td>\n",
       "      <td>30</td>\n",
       "      <td>46</td>\n",
       "    </tr>\n",
       "    <tr>\n",
       "      <th>4</th>\n",
       "      <td>4</td>\n",
       "      <td>36</td>\n",
       "      <td>54</td>\n",
       "    </tr>\n",
       "  </tbody>\n",
       "</table>\n",
       "</div>"
      ],
      "text/plain": [
       "   index  n_compounds  n_reactions\n",
       "0      0            2            4\n",
       "1      1            6           18\n",
       "2      2           19           39\n",
       "3      3           30           46\n",
       "4      4           36           54"
      ]
     },
     "execution_count": 98,
     "metadata": {},
     "output_type": "execute_result"
    }
   ],
   "source": [
    "df2.head()"
   ]
  },
  {
   "cell_type": "code",
   "execution_count": 103,
   "metadata": {},
   "outputs": [
    {
     "data": {
      "text/plain": [
       "<matplotlib.axes._subplots.AxesSubplot at 0x1143bcb50>"
      ]
     },
     "execution_count": 103,
     "metadata": {},
     "output_type": "execute_result"
    },
    {
     "data": {
      "image/png": "[encoded data removed]",
      "text/plain": [
       "<matplotlib.figure.Figure at 0x111db3910>"
      ]
     },
     "metadata": {},
     "output_type": "display_data"
    }
   ],
   "source": [
    "df.plot()"
   ]
  },
  {
   "cell_type": "code",
   "execution_count": 102,
   "metadata": {},
   "outputs": [],
   "source": [
    "# df.plot()\n",
    "# df2.plot(kind='scatter',x=\"index\",y='n_compounds')\n",
    "# df2.plot(kind='scatter',x=\"index\",y='n_reactions',color=\"green\")\n",
    "\n",
    "# # df.plot(kind='scatter', x='a', y='b',\n",
    "# #    ....:              color='DarkBlue', label='Group 1');"
   ]
  },
  {
   "cell_type": "code",
   "execution_count": 85,
   "metadata": {},
   "outputs": [
    {
     "data": {
      "text/plain": [
       "<matplotlib.axes._subplots.AxesSubplot at 0x111b53a10>"
      ]
     },
     "execution_count": 85,
     "metadata": {},
     "output_type": "execute_result"
    },
    {
     "data": {
      "image/png": "[encoded data removed]",
      "text/plain": [
       "<matplotlib.figure.Figure at 0x111bc1f10>"
      ]
     },
     "metadata": {},
     "output_type": "display_data"
    }
   ],
   "source": [
    "sns.tsplot(df['n_compounds'])"
   ]
  },
  {
   "cell_type": "code",
   "execution_count": null,
   "metadata": {},
   "outputs": [],
   "source": []
  },
  {
   "cell_type": "code",
   "execution_count": null,
   "metadata": {},
   "outputs": [],
   "source": []
  },
  {
   "cell_type": "code",
   "execution_count": 62,
   "metadata": {},
   "outputs": [],
   "source": [
    "seed_compounds = set([\"C00001\",\"C00031\"]) # water and glucose (water is always a seed compound)\n",
    "verified_new_compounds,verified_new_reactions = advance_expansion_1_generation(G,seed_compounds,set())"
   ]
  },
  {
   "cell_type": "code",
   "execution_count": null,
   "metadata": {},
   "outputs": [],
   "source": []
  },
  {
   "cell_type": "code",
   "execution_count": 63,
   "metadata": {},
   "outputs": [
    {
     "data": {
      "text/plain": [
       "{u'C00095', u'C00185', u'C00208', u'C01083'}"
      ]
     },
     "execution_count": 63,
     "metadata": {},
     "output_type": "execute_result"
    }
   ],
   "source": [
    "verified_new_compounds"
   ]
  },
  {
   "cell_type": "code",
   "execution_count": 64,
   "metadata": {},
   "outputs": [
    {
     "data": {
      "text/plain": [
       "{u'R00010', u'R00028', u'R00306', u'R00307'}"
      ]
     },
     "execution_count": 64,
     "metadata": {},
     "output_type": "execute_result"
    }
   ],
   "source": [
    "verified_reactions"
   ]
  },
  {
   "cell_type": "code",
   "execution_count": null,
   "metadata": {},
   "outputs": [],
   "source": []
  },
  {
   "cell_type": "code",
   "execution_count": null,
   "metadata": {},
   "outputs": [],
   "source": []
  },
  {
   "cell_type": "code",
   "execution_count": 22,
   "metadata": {},
   "outputs": [],
   "source": [
    "s = set(range(3))"
   ]
  },
  {
   "cell_type": "code",
   "execution_count": 23,
   "metadata": {},
   "outputs": [],
   "source": [
    "bigset = set(range(10))"
   ]
  },
  {
   "cell_type": "code",
   "execution_count": 29,
   "metadata": {},
   "outputs": [
    {
     "name": "stdout",
     "output_type": "stream",
     "text": [
      "it's in\n"
     ]
    }
   ],
   "source": [
    "if s.issubset(bigset):\n",
    "    print \"it's in\""
   ]
  },
  {
   "cell_type": "code",
   "execution_count": 44,
   "metadata": {},
   "outputs": [
    {
     "data": {
      "text/plain": [
       "{0, 1, 2}"
      ]
     },
     "execution_count": 44,
     "metadata": {},
     "output_type": "execute_result"
    }
   ],
   "source": [
    "s"
   ]
  },
  {
   "cell_type": "code",
   "execution_count": 43,
   "metadata": {},
   "outputs": [
    {
     "data": {
      "text/plain": [
       "{0, 1, 2, 3, 4, 5, 6, 7, 8, 9}"
      ]
     },
     "execution_count": 43,
     "metadata": {},
     "output_type": "execute_result"
    }
   ],
   "source": [
    "bigset"
   ]
  },
  {
   "cell_type": "code",
   "execution_count": null,
   "metadata": {},
   "outputs": [],
   "source": [
    "bigset.difference_update()"
   ]
  },
  {
   "cell_type": "code",
   "execution_count": 27,
   "metadata": {},
   "outputs": [
    {
     "data": {
      "text/plain": [
       "False"
      ]
     },
     "execution_count": 27,
     "metadata": {},
     "output_type": "execute_result"
    }
   ],
   "source": [
    "s in bigset"
   ]
  },
  {
   "cell_type": "code",
   "execution_count": 28,
   "metadata": {},
   "outputs": [
    {
     "data": {
      "text/plain": [
       "True"
      ]
     },
     "execution_count": 28,
     "metadata": {},
     "output_type": "execute_result"
    }
   ],
   "source": [
    "s <= bigset"
   ]
  },
  {
   "cell_type": "code",
   "execution_count": 30,
   "metadata": {},
   "outputs": [
    {
     "data": {
      "text/plain": [
       "{0, 1, 2, 3, 4}"
      ]
     },
     "execution_count": 30,
     "metadata": {},
     "output_type": "execute_result"
    }
   ],
   "source": [
    "set(range(3)+range(5))"
   ]
  },
  {
   "cell_type": "code",
   "execution_count": 31,
   "metadata": {},
   "outputs": [
    {
     "data": {
      "text/plain": [
       "[0, 1, 2, 0, 1, 2, 3, 4]"
      ]
     },
     "execution_count": 31,
     "metadata": {},
     "output_type": "execute_result"
    }
   ],
   "source": [
    "range(3)+range(5)"
   ]
  },
  {
   "cell_type": "code",
   "execution_count": null,
   "metadata": {},
   "outputs": [],
   "source": [
    "seed_compounds = ([\"C00001\",\"C00031\"]) # water and glucose (water is always a seed compound)"
   ]
  }
 ],
 "metadata": {
  "kernelspec": {
   "display_name": "Python 2",
   "language": "python",
   "name": "python2"
  },
  "language_info": {
   "codemirror_mode": {
    "name": "ipython",
    "version": 2
   },
   "file_extension": ".py",
   "mimetype": "text/x-python",
   "name": "python",
   "nbconvert_exporter": "python",
   "pygments_lexer": "ipython2",
   "version": "2.7.15"
  }
 },
 "nbformat": 4,
 "nbformat_minor": 2
}
