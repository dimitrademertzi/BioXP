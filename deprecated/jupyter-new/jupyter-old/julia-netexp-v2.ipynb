{
 "cells": [
  {
   "cell_type": "code",
   "execution_count": 1,
   "metadata": {},
   "outputs": [],
   "source": [
    "import JSON"
   ]
  },
  {
   "cell_type": "code",
   "execution_count": 2,
   "metadata": {},
   "outputs": [],
   "source": [
    "reaction_edges = JSON.parsefile(\"../kegg/2018-09-25/reaction_edges.json\");"
   ]
  },
  {
   "cell_type": "code",
   "execution_count": 3,
   "metadata": {},
   "outputs": [],
   "source": [
    "reactions = [i for i in keys(reaction_edges[\"products\"])] ## could use [\"substrates\"\"] too\n",
    "\n",
    "cpd_reactants_flat = unique(Iterators.flatten(values(reaction_edges[\"substrates\"])))\n",
    "cpd_products_flat = unique(Iterators.flatten(values(reaction_edges[\"products\"])))\n",
    "compounds = unique(Iterators.flatten([cpd_reactants_flat,cpd_products_flat]));\n"
   ]
  },
  {
   "cell_type": "markdown",
   "metadata": {},
   "source": [
    "#### R and P: Reactant and Product matrices"
   ]
  },
  {
   "cell_type": "code",
   "execution_count": 4,
   "metadata": {},
   "outputs": [],
   "source": [
    "## For R and P:\n",
    "## Reactons in columns\n",
    "## Compounds in rows\n",
    "## Rows, Columns\n",
    "## This is equivilent to R and P in segrelab's github\n",
    "# R = BitArray(undef, (length(reaction_dict),length(compound_dict)))\n",
    "R = zeros(Int, (length(compounds),length(reactions)))\n",
    "P = zeros(Int, (length(compounds),length(reactions)));"
   ]
  },
  {
   "cell_type": "markdown",
   "metadata": {},
   "source": [
    "** Below loop takes about a minute to run when using all of KEGG **"
   ]
  },
  {
   "cell_type": "code",
   "execution_count": 5,
   "metadata": {},
   "outputs": [],
   "source": [
    "for (i,r) in enumerate(reactions)\n",
    "    R[:,i] = [Int(cpd in reaction_edges[\"substrates\"][r]) for cpd in compounds]\n",
    "    P[:,i] = [Int(cpd in reaction_edges[\"products\"][r]) for cpd in compounds]\n",
    "end"
   ]
  },
  {
   "cell_type": "code",
   "execution_count": 6,
   "metadata": {},
   "outputs": [
    {
     "data": {
      "text/plain": [
       "8279×10287 Array{Int64,2}:\n",
       " 1  0  0  0  0  0  0  0  0  0  0  0  0  …  0  0  0  0  0  0  0  0  0  0  0  0\n",
       " 1  0  0  0  0  0  0  0  0  0  0  0  0     0  0  0  0  0  0  0  0  0  0  0  0\n",
       " 0  1  0  0  0  0  0  0  0  0  0  0  0     0  0  0  0  0  0  0  0  0  0  0  0\n",
       " 0  1  1  0  0  0  0  0  0  0  0  1  0     0  0  0  0  0  0  0  0  0  0  1  1\n",
       " 0  0  1  0  0  0  0  0  0  0  0  0  0     0  0  0  0  0  0  0  0  0  0  0  0\n",
       " 0  0  1  0  0  0  0  0  0  0  0  0  0  …  0  0  0  0  0  0  0  0  0  0  0  0\n",
       " 0  0  0  1  0  0  0  0  0  0  0  0  0     0  0  0  0  0  0  0  0  0  0  0  0\n",
       " 0  0  0  1  0  0  0  0  0  0  0  0  0     0  0  0  0  0  1  0  0  0  0  0  0\n",
       " 0  0  0  1  0  0  0  0  0  0  0  0  0     0  0  0  1  0  1  0  0  0  0  0  0\n",
       " 0  0  0  1  0  0  0  0  0  0  0  0  1     0  0  0  1  0  0  0  0  0  0  1  0\n",
       " 0  0  0  0  1  0  0  0  0  0  0  0  0  …  0  0  0  0  0  0  0  0  0  0  0  0\n",
       " 0  0  0  0  1  0  0  0  0  0  0  0  0     0  0  0  0  0  0  0  0  0  0  0  0\n",
       " 0  0  0  0  0  1  0  0  0  0  0  0  0     0  0  0  0  0  0  0  0  0  0  0  0\n",
       " ⋮              ⋮              ⋮        ⋱  ⋮              ⋮              ⋮   \n",
       " 0  0  0  0  0  0  0  0  0  0  0  0  0     0  0  0  0  0  0  0  0  0  0  0  0\n",
       " 0  0  0  0  0  0  0  0  0  0  0  0  0     0  0  0  0  0  0  0  0  0  0  0  0\n",
       " 0  0  0  0  0  0  0  0  0  0  0  0  0     0  0  0  0  0  0  0  0  0  0  0  0\n",
       " 0  0  0  0  0  0  0  0  0  0  0  0  0  …  0  0  0  0  0  0  0  0  0  0  0  0\n",
       " 0  0  0  0  0  0  0  0  0  0  0  0  0     0  0  0  0  0  0  0  0  0  0  0  0\n",
       " 0  0  0  0  0  0  0  0  0  0  0  0  0     0  0  0  0  0  0  0  0  0  0  0  0\n",
       " 0  0  0  0  0  0  0  0  0  0  0  0  0     0  0  0  0  0  0  0  0  0  0  0  0\n",
       " 0  0  0  0  0  0  0  0  0  0  0  0  0     0  0  0  0  0  0  0  0  0  0  0  0\n",
       " 0  0  0  0  0  0  0  0  0  0  0  0  0  …  0  0  0  0  0  0  0  0  0  0  0  0\n",
       " 0  0  0  0  0  0  0  0  0  0  0  0  0     0  0  0  0  0  0  0  0  0  0  0  0\n",
       " 0  0  0  0  0  0  0  0  0  0  0  0  0     0  0  0  0  0  0  0  0  0  0  0  0\n",
       " 0  0  0  0  0  0  0  0  0  0  0  0  0     0  0  0  0  0  0  0  0  0  0  0  0"
      ]
     },
     "execution_count": 6,
     "metadata": {},
     "output_type": "execute_result"
    }
   ],
   "source": [
    "R"
   ]
  },
  {
   "cell_type": "code",
   "execution_count": 7,
   "metadata": {},
   "outputs": [],
   "source": [
    "## Check to make sure R being populated correctly\n",
    "# length(collect(Iterators.flatten(values(reaction_edges[\"substrates\"]))))==length(findall(R))\n"
   ]
  },
  {
   "cell_type": "code",
   "execution_count": 8,
   "metadata": {},
   "outputs": [],
   "source": [
    "## Check to make sure P being populated correctly\n",
    "# length(collect(Iterators.flatten(values(reaction_edges[\"products\"]))))==length(findall(P))\n"
   ]
  },
  {
   "cell_type": "markdown",
   "metadata": {},
   "source": [
    "#### x: seed compounds vector"
   ]
  },
  {
   "cell_type": "code",
   "execution_count": 9,
   "metadata": {},
   "outputs": [],
   "source": [
    "# seed_compounds = JSON.parsefile(\"../seeds.json\");\n",
    "# x = [Int(i in seed_compounds[\"Enceladus_20-SAFR-032\"]) for i in compounds];\n",
    "\n",
    "# ds80_seeds = [\"C00011\",\n",
    "# \"C20298\",\n",
    "# \"C14819\",\n",
    "# \"C00087\",\n",
    "# \"C00237\",\n",
    "# \"C00058\",\n",
    "# \"C00033\",\n",
    "# \"C00031\",\n",
    "# \"C00095\",\n",
    "# \"C00124\",\n",
    "# \"C00159\",\n",
    "# \"C00243\",\n",
    "# \"C00208\",\n",
    "# \"C00282\",\n",
    "# \"C00007\",\n",
    "# \"C00001\"]\n",
    "\n",
    "ds80_seeds = [\"C00031\",\"C00001\"]\n",
    "\n",
    "x = [Int(i in ds80_seeds) for i in compounds];\n"
   ]
  },
  {
   "cell_type": "markdown",
   "metadata": {},
   "source": [
    "#### t: target compounds vector"
   ]
  },
  {
   "cell_type": "code",
   "execution_count": 10,
   "metadata": {},
   "outputs": [],
   "source": [
    "target_compounds = JSON.parsefile(\"../targets/Freilich09.json\");\n",
    "target_compounds_org = collect(intersect(keys(target_compounds),compounds));\n",
    "t = [Int(i in target_compounds_org) for i in compounds];"
   ]
  },
  {
   "cell_type": "markdown",
   "metadata": {},
   "source": [
    "## Make the network expansion loop!!!"
   ]
  },
  {
   "cell_type": "code",
   "execution_count": 44,
   "metadata": {},
   "outputs": [
    {
     "data": {
      "text/plain": [
       "netexp (generic function with 1 method)"
      ]
     },
     "execution_count": 44,
     "metadata": {},
     "output_type": "execute_result"
    }
   ],
   "source": [
    "function netexp(R::Array{Int,2},P::Array{Int,2},x::Array{Int,1})\n",
    "    \n",
    "    # initialize variables:\n",
    "    # find the total number of metabolites in the seed set\n",
    "    k = sum(x);\n",
    "    # initialize previous iteration count of metabolites in the network\n",
    "    k0 = 0;\n",
    "    # iteration 1 consistes of the seed set\n",
    "    X = []\n",
    "    push!(X,x)  ## Each row is 1 generation\n",
    "    # initialize reaction accumulation matrix\n",
    "    Y = [];\n",
    "    \n",
    "    # transpose R\n",
    "    RT = transpose(R)\n",
    "    PT = transpose(P)\n",
    "    \n",
    "    b = [sum(RT[i,:]) for i in 1:size(RT)[1]]\n",
    "    bp = [sum(PT[i,:]) for i in 1:size(PT)[1]]\n",
    "\n",
    "    # while the metabolite set has not converged\n",
    "    while k > k0 \n",
    "        \n",
    "        # update previous number of metabolites\n",
    "        k0 = k;\n",
    "        \n",
    "        # RT*x ==> represnts the number of present metabolites in the \n",
    "        # network within each reaction; if this isequal to the total \n",
    "        # number of metabolites in each reaction, then the reaction \n",
    "        # is added to the network\n",
    "        y = Array{Int}(RT * x .== b)  ## Forward reactions\n",
    "        yp = Array{Int}(PT * x .== bp) ## Backward reactions\n",
    "\n",
    "        # P*y > 0 ==> represents the vector of reactions that produce \n",
    "        # metabolite i. (i in 1:m).  If this is >0, \n",
    "        # then that metabolite is producable \n",
    "        xnew = Array{Int}(P * y .> 0)   ## Forward reactions\n",
    "        xnewp = Array{Int}(R * yp .> 0) ## Backward reactions\n",
    "        \n",
    "        #add to previous set of metabolites (only needed to retain seed set)\n",
    "        x = x .| xnew .| xnewp ## Add forward and backward reactions\n",
    "        \n",
    "        # find new total number of metabolites in network\n",
    "        k = sum(x);\n",
    "\n",
    "        # append accumulation matricies\n",
    "        push!(X,x)\n",
    "        push!(Y,y .| yp)\n",
    "    \n",
    "    end\n",
    "    (X,Y)\n",
    "end\n",
    "    "
   ]
  },
  {
   "cell_type": "code",
   "execution_count": 45,
   "metadata": {},
   "outputs": [
    {
     "data": {
      "text/plain": [
       "(Any[[0, 0, 0, 1, 0, 0, 0, 0, 0, 0  …  0, 0, 0, 0, 0, 0, 0, 0, 0, 0], [0, 0, 0, 1, 0, 0, 0, 0, 0, 0  …  0, 0, 0, 0, 0, 0, 0, 0, 0, 0], [0, 0, 0, 1, 0, 0, 0, 0, 0, 0  …  0, 0, 0, 0, 0, 0, 0, 0, 0, 0], [0, 0, 0, 1, 0, 0, 0, 0, 0, 0  …  0, 0, 0, 0, 0, 0, 0, 0, 0, 0], [0, 0, 0, 1, 0, 0, 0, 0, 0, 0  …  0, 0, 0, 0, 0, 0, 0, 0, 0, 0], [0, 0, 0, 1, 0, 0, 0, 0, 0, 0  …  0, 0, 0, 0, 0, 0, 0, 0, 0, 0], [0, 0, 0, 1, 0, 0, 0, 0, 0, 0  …  0, 0, 0, 0, 0, 0, 0, 0, 0, 0], [0, 0, 0, 1, 0, 0, 0, 0, 1, 0  …  0, 0, 0, 0, 0, 0, 0, 0, 0, 0], [0, 0, 0, 1, 0, 0, 0, 0, 1, 0  …  0, 0, 0, 0, 0, 0, 0, 0, 0, 0], [0, 0, 0, 1, 0, 0, 0, 0, 1, 1  …  0, 0, 0, 0, 0, 0, 0, 0, 0, 0]  …  [0, 0, 0, 1, 0, 0, 0, 0, 1, 1  …  0, 0, 0, 0, 0, 0, 0, 0, 0, 0], [0, 0, 0, 1, 0, 0, 0, 0, 1, 1  …  0, 0, 0, 0, 0, 0, 0, 0, 0, 0], [0, 0, 0, 1, 0, 0, 0, 0, 1, 1  …  0, 0, 0, 0, 0, 0, 0, 0, 0, 0], [0, 0, 0, 1, 0, 0, 0, 0, 1, 1  …  0, 0, 0, 0, 0, 0, 0, 0, 0, 0], [0, 0, 0, 1, 0, 0, 0, 0, 1, 1  …  0, 0, 0, 0, 0, 0, 0, 0, 0, 0], [0, 0, 0, 1, 0, 0, 0, 0, 1, 1  …  0, 0, 0, 0, 0, 0, 0, 0, 0, 0], [0, 0, 0, 1, 0, 0, 0, 0, 1, 1  …  0, 0, 0, 0, 0, 0, 0, 0, 0, 0], [0, 0, 0, 1, 0, 0, 0, 0, 1, 1  …  0, 0, 0, 0, 0, 0, 0, 0, 0, 0], [0, 0, 0, 1, 0, 0, 0, 0, 1, 1  …  0, 0, 0, 0, 0, 0, 0, 0, 0, 0], [0, 0, 0, 1, 0, 0, 0, 0, 1, 1  …  0, 0, 0, 0, 0, 0, 0, 0, 0, 0]], Any[[0, 0, 0, 0, 0, 0, 0, 0, 0, 0  …  0, 0, 0, 0, 0, 0, 0, 0, 0, 0], [0, 0, 0, 0, 0, 0, 0, 0, 0, 0  …  0, 0, 0, 0, 0, 0, 0, 0, 0, 0], [0, 0, 0, 0, 0, 0, 0, 0, 0, 0  …  0, 0, 0, 0, 0, 0, 0, 0, 0, 0], [0, 0, 0, 0, 0, 0, 0, 0, 0, 0  …  0, 0, 0, 0, 0, 0, 0, 0, 0, 0], [0, 0, 0, 0, 0, 0, 0, 0, 0, 0  …  0, 0, 0, 0, 0, 0, 0, 0, 0, 0], [0, 0, 0, 0, 0, 0, 0, 0, 0, 0  …  0, 0, 0, 0, 0, 0, 0, 0, 0, 0], [0, 0, 0, 0, 0, 0, 0, 0, 0, 0  …  0, 0, 0, 0, 0, 0, 0, 0, 0, 0], [0, 0, 0, 0, 0, 1, 0, 0, 0, 0  …  0, 0, 0, 0, 0, 0, 0, 0, 0, 0], [0, 0, 0, 0, 0, 1, 0, 0, 0, 0  …  0, 0, 0, 0, 0, 0, 0, 0, 0, 0], [0, 0, 0, 0, 0, 1, 0, 0, 0, 0  …  0, 0, 0, 0, 0, 0, 0, 0, 0, 0]  …  [0, 0, 0, 0, 0, 1, 0, 0, 0, 0  …  0, 0, 0, 0, 0, 0, 0, 0, 0, 0], [0, 0, 0, 0, 0, 1, 0, 0, 0, 0  …  0, 0, 0, 0, 0, 0, 0, 0, 0, 0], [0, 0, 0, 0, 0, 1, 0, 0, 0, 0  …  0, 0, 0, 0, 0, 0, 0, 0, 0, 0], [0, 0, 0, 0, 0, 1, 0, 0, 0, 0  …  0, 0, 0, 0, 0, 0, 0, 0, 0, 0], [0, 0, 0, 0, 0, 1, 0, 0, 0, 0  …  0, 0, 0, 0, 0, 0, 0, 0, 0, 0], [0, 0, 0, 0, 0, 1, 0, 0, 0, 0  …  0, 0, 0, 0, 0, 0, 0, 0, 0, 0], [0, 0, 0, 0, 0, 1, 0, 0, 0, 0  …  0, 0, 0, 0, 0, 0, 0, 0, 0, 0], [0, 0, 0, 0, 0, 1, 0, 0, 0, 0  …  0, 0, 0, 0, 0, 0, 0, 0, 0, 0], [0, 0, 0, 0, 0, 1, 0, 0, 0, 0  …  0, 0, 0, 0, 0, 0, 0, 0, 0, 0], [0, 0, 0, 0, 0, 1, 0, 0, 0, 0  …  0, 0, 0, 0, 0, 0, 0, 0, 0, 0]])"
      ]
     },
     "execution_count": 45,
     "metadata": {},
     "output_type": "execute_result"
    }
   ],
   "source": [
    "(X,Y) = netexp(R,P,x)"
   ]
  },
  {
   "cell_type": "code",
   "execution_count": 46,
   "metadata": {},
   "outputs": [
    {
     "data": {
      "text/plain": [
       "(26,)"
      ]
     },
     "execution_count": 46,
     "metadata": {},
     "output_type": "execute_result"
    }
   ],
   "source": [
    "size(X)"
   ]
  },
  {
   "cell_type": "code",
   "execution_count": 54,
   "metadata": {},
   "outputs": [
    {
     "data": {
      "text/plain": [
       "(25,)"
      ]
     },
     "execution_count": 54,
     "metadata": {},
     "output_type": "execute_result"
    }
   ],
   "source": [
    "size(Y)"
   ]
  },
  {
   "cell_type": "code",
   "execution_count": 55,
   "metadata": {},
   "outputs": [
    {
     "data": {
      "text/plain": [
       "26-element Array{Any,1}:\n",
       " [0, 0, 0, 0, 0, 0, 0, 0, 0, 0  …  0, 0, 0, 0, 0, 0, 0, 0, 0, 0]\n",
       " [0, 0, 0, 0, 0, 0, 0, 0, 0, 0  …  0, 0, 0, 0, 0, 0, 0, 0, 0, 0]\n",
       " [0, 0, 0, 0, 0, 0, 0, 0, 0, 0  …  0, 0, 0, 0, 0, 0, 0, 0, 0, 0]\n",
       " [0, 0, 0, 0, 0, 0, 0, 0, 0, 0  …  0, 0, 0, 0, 0, 0, 0, 0, 0, 0]\n",
       " [0, 0, 0, 0, 0, 0, 0, 0, 0, 0  …  0, 0, 0, 0, 0, 0, 0, 0, 0, 0]\n",
       " [0, 0, 0, 0, 0, 0, 0, 0, 0, 0  …  0, 0, 0, 0, 0, 0, 0, 0, 0, 0]\n",
       " [0, 0, 0, 0, 0, 0, 0, 0, 0, 0  …  0, 0, 0, 0, 0, 0, 0, 0, 0, 0]\n",
       " [0, 0, 0, 0, 0, 1, 0, 0, 0, 0  …  0, 0, 0, 0, 0, 0, 0, 0, 0, 0]\n",
       " [0, 0, 0, 0, 0, 1, 0, 0, 0, 0  …  0, 0, 0, 0, 0, 0, 0, 0, 0, 0]\n",
       " [0, 0, 0, 0, 0, 1, 0, 0, 0, 0  …  0, 0, 0, 0, 0, 0, 0, 0, 0, 0]\n",
       " [0, 0, 0, 0, 0, 1, 0, 0, 0, 0  …  0, 0, 0, 0, 0, 0, 0, 0, 0, 0]\n",
       " [0, 0, 0, 0, 0, 1, 0, 0, 0, 0  …  0, 0, 0, 0, 0, 0, 0, 0, 0, 0]\n",
       " [0, 0, 0, 0, 0, 1, 0, 0, 0, 0  …  0, 0, 0, 0, 0, 0, 0, 0, 0, 0]\n",
       " [0, 0, 0, 0, 0, 1, 0, 0, 0, 0  …  0, 0, 0, 0, 0, 0, 0, 0, 0, 0]\n",
       " [0, 0, 0, 0, 0, 1, 0, 0, 0, 0  …  0, 0, 0, 0, 0, 0, 0, 0, 0, 0]\n",
       " [0, 0, 0, 0, 0, 1, 0, 0, 0, 0  …  0, 0, 0, 0, 0, 0, 0, 0, 0, 0]\n",
       " [0, 0, 0, 0, 0, 1, 0, 0, 0, 0  …  0, 0, 0, 0, 0, 0, 0, 0, 0, 0]\n",
       " [0, 0, 0, 0, 0, 1, 0, 0, 0, 0  …  0, 0, 0, 0, 0, 0, 0, 0, 0, 0]\n",
       " [0, 0, 0, 0, 0, 1, 0, 0, 0, 0  …  0, 0, 0, 0, 0, 0, 0, 0, 0, 0]\n",
       " [0, 0, 0, 0, 0, 1, 0, 0, 0, 0  …  0, 0, 0, 0, 0, 0, 0, 0, 0, 0]\n",
       " [0, 0, 0, 0, 0, 1, 0, 0, 0, 0  …  0, 0, 0, 0, 0, 0, 0, 0, 0, 0]\n",
       " [0, 0, 0, 0, 0, 1, 0, 0, 0, 0  …  0, 0, 0, 0, 0, 0, 0, 0, 0, 0]\n",
       " [0, 0, 0, 0, 0, 1, 0, 0, 0, 0  …  0, 0, 0, 0, 0, 0, 0, 0, 0, 0]\n",
       " [0, 0, 0, 0, 0, 1, 0, 0, 0, 0  …  0, 0, 0, 0, 0, 0, 0, 0, 0, 0]\n",
       " [0, 0, 0, 0, 0, 1, 0, 0, 0, 0  …  0, 0, 0, 0, 0, 0, 0, 0, 0, 0]\n",
       " [0, 0, 0, 0, 0, 1, 0, 0, 0, 0  …  0, 0, 0, 0, 0, 0, 0, 0, 0, 0]"
      ]
     },
     "execution_count": 55,
     "metadata": {},
     "output_type": "execute_result"
    }
   ],
   "source": [
    "push!(Y,Y[end])"
   ]
  },
  {
   "cell_type": "code",
   "execution_count": 56,
   "metadata": {},
   "outputs": [
    {
     "data": {
      "text/plain": [
       "26-element Array{Any,1}:\n",
       " [0, 0, 0, 1, 0, 0, 0, 0, 0, 0  …  0, 0, 0, 0, 0, 0, 0, 0, 0, 0]\n",
       " [0, 0, 0, 1, 0, 0, 0, 0, 0, 0  …  0, 0, 0, 0, 0, 0, 0, 0, 0, 0]\n",
       " [0, 0, 0, 1, 0, 0, 0, 0, 0, 0  …  0, 0, 0, 0, 0, 0, 0, 0, 0, 0]\n",
       " [0, 0, 0, 1, 0, 0, 0, 0, 0, 0  …  0, 0, 0, 0, 0, 0, 0, 0, 0, 0]\n",
       " [0, 0, 0, 1, 0, 0, 0, 0, 0, 0  …  0, 0, 0, 0, 0, 0, 0, 0, 0, 0]\n",
       " [0, 0, 0, 1, 0, 0, 0, 0, 0, 0  …  0, 0, 0, 0, 0, 0, 0, 0, 0, 0]\n",
       " [0, 0, 0, 1, 0, 0, 0, 0, 0, 0  …  0, 0, 0, 0, 0, 0, 0, 0, 0, 0]\n",
       " [0, 0, 0, 1, 0, 0, 0, 0, 1, 0  …  0, 0, 0, 0, 0, 0, 0, 0, 0, 0]\n",
       " [0, 0, 0, 1, 0, 0, 0, 0, 1, 0  …  0, 0, 0, 0, 0, 0, 0, 0, 0, 0]\n",
       " [0, 0, 0, 1, 0, 0, 0, 0, 1, 1  …  0, 0, 0, 0, 0, 0, 0, 0, 0, 0]\n",
       " [0, 0, 0, 1, 0, 0, 0, 0, 1, 1  …  0, 0, 0, 0, 0, 0, 0, 0, 0, 0]\n",
       " [0, 0, 0, 1, 0, 0, 0, 0, 1, 1  …  0, 0, 0, 0, 0, 0, 0, 0, 0, 0]\n",
       " [0, 0, 0, 1, 0, 0, 0, 0, 1, 1  …  0, 0, 0, 0, 0, 0, 0, 0, 0, 0]\n",
       " [0, 0, 0, 1, 0, 0, 0, 0, 1, 1  …  0, 0, 0, 0, 0, 0, 0, 0, 0, 0]\n",
       " [0, 0, 0, 1, 0, 0, 0, 0, 1, 1  …  0, 0, 0, 0, 0, 0, 0, 0, 0, 0]\n",
       " [0, 0, 0, 1, 0, 0, 0, 0, 1, 1  …  0, 0, 0, 0, 0, 0, 0, 0, 0, 0]\n",
       " [0, 0, 0, 1, 0, 0, 0, 0, 1, 1  …  0, 0, 0, 0, 0, 0, 0, 0, 0, 0]\n",
       " [0, 0, 0, 1, 0, 0, 0, 0, 1, 1  …  0, 0, 0, 0, 0, 0, 0, 0, 0, 0]\n",
       " [0, 0, 0, 1, 0, 0, 0, 0, 1, 1  …  0, 0, 0, 0, 0, 0, 0, 0, 0, 0]\n",
       " [0, 0, 0, 1, 0, 0, 0, 0, 1, 1  …  0, 0, 0, 0, 0, 0, 0, 0, 0, 0]\n",
       " [0, 0, 0, 1, 0, 0, 0, 0, 1, 1  …  0, 0, 0, 0, 0, 0, 0, 0, 0, 0]\n",
       " [0, 0, 0, 1, 0, 0, 0, 0, 1, 1  …  0, 0, 0, 0, 0, 0, 0, 0, 0, 0]\n",
       " [0, 0, 0, 1, 0, 0, 0, 0, 1, 1  …  0, 0, 0, 0, 0, 0, 0, 0, 0, 0]\n",
       " [0, 0, 0, 1, 0, 0, 0, 0, 1, 1  …  0, 0, 0, 0, 0, 0, 0, 0, 0, 0]\n",
       " [0, 0, 0, 1, 0, 0, 0, 0, 1, 1  …  0, 0, 0, 0, 0, 0, 0, 0, 0, 0]\n",
       " [0, 0, 0, 1, 0, 0, 0, 0, 1, 1  …  0, 0, 0, 0, 0, 0, 0, 0, 0, 0]"
      ]
     },
     "execution_count": 56,
     "metadata": {},
     "output_type": "execute_result"
    }
   ],
   "source": [
    "X"
   ]
  },
  {
   "cell_type": "code",
   "execution_count": 57,
   "metadata": {},
   "outputs": [
    {
     "name": "stdout",
     "output_type": "stream",
     "text": [
      "2\n",
      "6\n",
      "19\n",
      "30\n",
      "36\n",
      "41\n",
      "48\n",
      "66\n",
      "86\n",
      "118\n",
      "150\n",
      "176\n",
      "203\n",
      "219\n",
      "230\n",
      "240\n",
      "246\n",
      "255\n",
      "264\n",
      "271\n",
      "275\n",
      "281\n",
      "285\n",
      "286\n",
      "288\n",
      "288\n"
     ]
    }
   ],
   "source": [
    "for i in 1:length(X)\n",
    "    println(sum(X[i]))\n",
    "end"
   ]
  },
  {
   "cell_type": "code",
   "execution_count": 64,
   "metadata": {},
   "outputs": [
    {
     "data": {
      "text/plain": [
       "26"
      ]
     },
     "execution_count": 64,
     "metadata": {},
     "output_type": "execute_result"
    }
   ],
   "source": [
    "length(X)"
   ]
  },
  {
   "cell_type": "code",
   "execution_count": 63,
   "metadata": {},
   "outputs": [
    {
     "data": {
      "text/plain": [
       "25-element Array{Any,1}:\n",
       " [0, 0, 0, 1, 0, 0, 0, 0, 0, 0  …  0, 0, 0, 0, 0, 0, 0, 0, 0, 0]\n",
       " [0, 0, 0, 1, 0, 0, 0, 0, 0, 0  …  0, 0, 0, 0, 0, 0, 0, 0, 0, 0]\n",
       " [0, 0, 0, 1, 0, 0, 0, 0, 0, 0  …  0, 0, 0, 0, 0, 0, 0, 0, 0, 0]\n",
       " [0, 0, 0, 1, 0, 0, 0, 0, 0, 0  …  0, 0, 0, 0, 0, 0, 0, 0, 0, 0]\n",
       " [0, 0, 0, 1, 0, 0, 0, 0, 0, 0  …  0, 0, 0, 0, 0, 0, 0, 0, 0, 0]\n",
       " [0, 0, 0, 1, 0, 0, 0, 0, 0, 0  …  0, 0, 0, 0, 0, 0, 0, 0, 0, 0]\n",
       " [0, 0, 0, 1, 0, 0, 0, 0, 0, 0  …  0, 0, 0, 0, 0, 0, 0, 0, 0, 0]\n",
       " [0, 0, 0, 1, 0, 0, 0, 0, 1, 0  …  0, 0, 0, 0, 0, 0, 0, 0, 0, 0]\n",
       " [0, 0, 0, 1, 0, 0, 0, 0, 1, 0  …  0, 0, 0, 0, 0, 0, 0, 0, 0, 0]\n",
       " [0, 0, 0, 1, 0, 0, 0, 0, 1, 1  …  0, 0, 0, 0, 0, 0, 0, 0, 0, 0]\n",
       " [0, 0, 0, 1, 0, 0, 0, 0, 1, 1  …  0, 0, 0, 0, 0, 0, 0, 0, 0, 0]\n",
       " [0, 0, 0, 1, 0, 0, 0, 0, 1, 1  …  0, 0, 0, 0, 0, 0, 0, 0, 0, 0]\n",
       " [0, 0, 0, 1, 0, 0, 0, 0, 1, 1  …  0, 0, 0, 0, 0, 0, 0, 0, 0, 0]\n",
       " [0, 0, 0, 1, 0, 0, 0, 0, 1, 1  …  0, 0, 0, 0, 0, 0, 0, 0, 0, 0]\n",
       " [0, 0, 0, 1, 0, 0, 0, 0, 1, 1  …  0, 0, 0, 0, 0, 0, 0, 0, 0, 0]\n",
       " [0, 0, 0, 1, 0, 0, 0, 0, 1, 1  …  0, 0, 0, 0, 0, 0, 0, 0, 0, 0]\n",
       " [0, 0, 0, 1, 0, 0, 0, 0, 1, 1  …  0, 0, 0, 0, 0, 0, 0, 0, 0, 0]\n",
       " [0, 0, 0, 1, 0, 0, 0, 0, 1, 1  …  0, 0, 0, 0, 0, 0, 0, 0, 0, 0]\n",
       " [0, 0, 0, 1, 0, 0, 0, 0, 1, 1  …  0, 0, 0, 0, 0, 0, 0, 0, 0, 0]\n",
       " [0, 0, 0, 1, 0, 0, 0, 0, 1, 1  …  0, 0, 0, 0, 0, 0, 0, 0, 0, 0]\n",
       " [0, 0, 0, 1, 0, 0, 0, 0, 1, 1  …  0, 0, 0, 0, 0, 0, 0, 0, 0, 0]\n",
       " [0, 0, 0, 1, 0, 0, 0, 0, 1, 1  …  0, 0, 0, 0, 0, 0, 0, 0, 0, 0]\n",
       " [0, 0, 0, 1, 0, 0, 0, 0, 1, 1  …  0, 0, 0, 0, 0, 0, 0, 0, 0, 0]\n",
       " [0, 0, 0, 1, 0, 0, 0, 0, 1, 1  …  0, 0, 0, 0, 0, 0, 0, 0, 0, 0]\n",
       " [0, 0, 0, 1, 0, 0, 0, 0, 1, 1  …  0, 0, 0, 0, 0, 0, 0, 0, 0, 0]"
      ]
     },
     "execution_count": 63,
     "metadata": {},
     "output_type": "execute_result"
    }
   ],
   "source": [
    "X[1:end-1]"
   ]
  },
  {
   "cell_type": "code",
   "execution_count": 59,
   "metadata": {},
   "outputs": [
    {
     "ename": "MethodError",
     "evalue": "MethodError: no method matching pop!(::Array{Any,1}, ::Array{Int64,1})\nClosest candidates are:\n  pop!(::Array{T,1} where T) at array.jl:1064\n  pop!(!Matched::IdDict{K,V}, ::Any) where {K, V} at abstractdict.jl:619\n  pop!(!Matched::IdDict{K,V}, ::Any, !Matched::Any) where {K, V} at abstractdict.jl:607\n  ...",
     "output_type": "error",
     "traceback": [
      "MethodError: no method matching pop!(::Array{Any,1}, ::Array{Int64,1})\nClosest candidates are:\n  pop!(::Array{T,1} where T) at array.jl:1064\n  pop!(!Matched::IdDict{K,V}, ::Any) where {K, V} at abstractdict.jl:619\n  pop!(!Matched::IdDict{K,V}, ::Any, !Matched::Any) where {K, V} at abstractdict.jl:607\n  ...",
      "",
      "Stacktrace:",
      " [1] top-level scope at In[59]:1"
     ]
    }
   ],
   "source": [
    "pop!(X,X[end])"
   ]
  },
  {
   "cell_type": "code",
   "execution_count": 58,
   "metadata": {},
   "outputs": [
    {
     "name": "stdout",
     "output_type": "stream",
     "text": [
      "4\n",
      "18\n",
      "39\n",
      "46\n",
      "54\n",
      "60\n",
      "78\n",
      "100\n",
      "138\n",
      "183\n",
      "213\n",
      "247\n",
      "266\n",
      "278\n",
      "289\n",
      "297\n",
      "308\n",
      "317\n",
      "326\n",
      "330\n",
      "337\n",
      "342\n",
      "343\n",
      "345\n",
      "345\n",
      "345\n"
     ]
    }
   ],
   "source": [
    "for i in 1:length(Y)\n",
    "    println(sum(Y[i]))\n",
    "end"
   ]
  },
  {
   "cell_type": "code",
   "execution_count": 53,
   "metadata": {},
   "outputs": [
    {
     "data": {
      "text/plain": [
       "345"
      ]
     },
     "execution_count": 53,
     "metadata": {},
     "output_type": "execute_result"
    }
   ],
   "source": [
    "sum(Y[end])"
   ]
  },
  {
   "cell_type": "code",
   "execution_count": 29,
   "metadata": {},
   "outputs": [],
   "source": [
    "# unique([Y[1][i]==1 ? reactions[i] : \"SKIP\" for (i,r) in enumerate(reactions)])\n"
   ]
  },
  {
   "cell_type": "code",
   "execution_count": 30,
   "metadata": {},
   "outputs": [
    {
     "data": {
      "text/plain": [
       "10287"
      ]
     },
     "execution_count": 30,
     "metadata": {},
     "output_type": "execute_result"
    }
   ],
   "source": [
    "length(reactions)"
   ]
  },
  {
   "cell_type": "code",
   "execution_count": 31,
   "metadata": {},
   "outputs": [
    {
     "data": {
      "text/plain": [
       "8279"
      ]
     },
     "execution_count": 31,
     "metadata": {},
     "output_type": "execute_result"
    }
   ],
   "source": [
    "length(compounds)"
   ]
  },
  {
   "cell_type": "code",
   "execution_count": 32,
   "metadata": {},
   "outputs": [],
   "source": [
    "reactions_by_generation = Dict()\n",
    "for j in 1:size(Y)[1]\n",
    "    reactions_by_generation[j] = []\n",
    "    for (i,r) in enumerate(reactions)\n",
    "        if Y[j][i]==1\n",
    "            push!(reactions_by_generation[j],reactions[i])\n",
    "        end\n",
    "    end\n",
    "end"
   ]
  },
  {
   "cell_type": "code",
   "execution_count": 33,
   "metadata": {},
   "outputs": [],
   "source": [
    "compounds_by_generation = Dict()\n",
    "for j in 1:size(X)[1]\n",
    "    compounds_by_generation[j] = []\n",
    "    for (i,c) in enumerate(compounds)\n",
    "        if X[j][i]==1\n",
    "            push!(compounds_by_generation[j],compounds[i])\n",
    "        end\n",
    "    end\n",
    "end"
   ]
  },
  {
   "cell_type": "code",
   "execution_count": 34,
   "metadata": {},
   "outputs": [
    {
     "data": {
      "text/plain": [
       "Dict{Any,Any} with 18 entries:\n",
       "  18 => Any[\"R03857\", \"R02250\", \"R08640\", \"R07506\", \"R10331\", \"R00340\", \"R02433…\n",
       "  2  => Any[\"R00340\", \"R09186\", \"R06699\", \"R09311\", \"R02782\", \"R00363\", \"R05771…\n",
       "  16 => Any[\"R03857\", \"R02250\", \"R08640\", \"R07506\", \"R10331\", \"R00340\", \"R02433…\n",
       "  11 => Any[\"R03857\", \"R02250\", \"R08640\", \"R07506\", \"R10331\", \"R00340\", \"R02433…\n",
       "  7  => Any[\"R03857\", \"R02250\", \"R08640\", \"R10331\", \"R00340\", \"R02433\", \"R02769…\n",
       "  9  => Any[\"R03857\", \"R02250\", \"R08640\", \"R07506\", \"R10331\", \"R00340\", \"R02433…\n",
       "  10 => Any[\"R03857\", \"R02250\", \"R08640\", \"R07506\", \"R10331\", \"R00340\", \"R02433…\n",
       "  17 => Any[\"R03857\", \"R02250\", \"R08640\", \"R07506\", \"R10331\", \"R00340\", \"R02433…\n",
       "  8  => Any[\"R03857\", \"R02250\", \"R08640\", \"R07506\", \"R10331\", \"R00340\", \"R02433…\n",
       "  6  => Any[\"R03857\", \"R02250\", \"R08640\", \"R10331\", \"R00340\", \"R02433\", \"R02769…\n",
       "  4  => Any[\"R03857\", \"R00340\", \"R02433\", \"R02769\", \"R09186\", \"R00743\", \"R10908…\n",
       "  3  => Any[\"R00340\", \"R02769\", \"R09186\", \"R00743\", \"R06699\", \"R07650\", \"R09627…\n",
       "  5  => Any[\"R03857\", \"R02250\", \"R08640\", \"R10331\", \"R00340\", \"R02433\", \"R02769…\n",
       "  13 => Any[\"R03857\", \"R02250\", \"R08640\", \"R07506\", \"R10331\", \"R00340\", \"R02433…\n",
       "  14 => Any[\"R03857\", \"R02250\", \"R08640\", \"R07506\", \"R10331\", \"R00340\", \"R02433…\n",
       "  15 => Any[\"R03857\", \"R02250\", \"R08640\", \"R07506\", \"R10331\", \"R00340\", \"R02433…\n",
       "  12 => Any[\"R03857\", \"R02250\", \"R08640\", \"R07506\", \"R10331\", \"R00340\", \"R02433…\n",
       "  1  => Any[\"R00340\", \"R09186\", \"R06699\", \"R09311\", \"R02782\", \"R05771\", \"R03688…"
      ]
     },
     "execution_count": 34,
     "metadata": {},
     "output_type": "execute_result"
    }
   ],
   "source": [
    "reactions_by_generation"
   ]
  },
  {
   "cell_type": "code",
   "execution_count": 35,
   "metadata": {},
   "outputs": [
    {
     "data": {
      "text/plain": [
       "Dict{Any,Any} with 19 entries:\n",
       "  18 => Any[\"C01832\", \"C00016\", \"C00422\", \"C00001\", \"C17224\", \"C00024\", \"C15778…\n",
       "  2  => Any[\"C00001\", \"C02107\", \"C03826\", \"C12366\", \"C00029\", \"C03752\", \"C18357…\n",
       "  16 => Any[\"C01832\", \"C00016\", \"C00422\", \"C00001\", \"C17224\", \"C00024\", \"C15778…\n",
       "  11 => Any[\"C01832\", \"C00016\", \"C00422\", \"C00001\", \"C17224\", \"C00024\", \"C15778…\n",
       "  7  => Any[\"C01832\", \"C00016\", \"C00422\", \"C00001\", \"C17224\", \"C00024\", \"C00005…\n",
       "  9  => Any[\"C01832\", \"C00016\", \"C00422\", \"C00001\", \"C17224\", \"C00024\", \"C15778…\n",
       "  10 => Any[\"C01832\", \"C00016\", \"C00422\", \"C00001\", \"C17224\", \"C00024\", \"C15778…\n",
       "  19 => Any[\"C01832\", \"C00016\", \"C00422\", \"C00001\", \"C17224\", \"C00024\", \"C15778…\n",
       "  17 => Any[\"C01832\", \"C00016\", \"C00422\", \"C00001\", \"C17224\", \"C00024\", \"C15778…\n",
       "  8  => Any[\"C01832\", \"C00016\", \"C00422\", \"C00001\", \"C17224\", \"C00024\", \"C15778…\n",
       "  6  => Any[\"C01832\", \"C00016\", \"C00422\", \"C00001\", \"C17224\", \"C00024\", \"C00005…\n",
       "  4  => Any[\"C01832\", \"C00016\", \"C00001\", \"C00024\", \"C00005\", \"C00080\", \"C00007…\n",
       "  3  => Any[\"C00001\", \"C00024\", \"C00080\", \"C00007\", \"C02107\", \"C00009\", \"C03826…\n",
       "  5  => Any[\"C01832\", \"C00016\", \"C00422\", \"C00001\", \"C17224\", \"C00024\", \"C00005…\n",
       "  13 => Any[\"C01832\", \"C00016\", \"C00422\", \"C00001\", \"C17224\", \"C00024\", \"C15778…\n",
       "  14 => Any[\"C01832\", \"C00016\", \"C00422\", \"C00001\", \"C17224\", \"C00024\", \"C15778…\n",
       "  15 => Any[\"C01832\", \"C00016\", \"C00422\", \"C00001\", \"C17224\", \"C00024\", \"C15778…\n",
       "  12 => Any[\"C01832\", \"C00016\", \"C00422\", \"C00001\", \"C17224\", \"C00024\", \"C15778…\n",
       "  1  => Any[\"C00001\", \"C00031\"]"
      ]
     },
     "execution_count": 35,
     "metadata": {},
     "output_type": "execute_result"
    }
   ],
   "source": [
    "compounds_by_generation"
   ]
  },
  {
   "cell_type": "code",
   "execution_count": null,
   "metadata": {},
   "outputs": [],
   "source": []
  },
  {
   "cell_type": "code",
   "execution_count": null,
   "metadata": {},
   "outputs": [],
   "source": []
  },
  {
   "cell_type": "code",
   "execution_count": null,
   "metadata": {},
   "outputs": [],
   "source": []
  }
 ],
 "metadata": {
  "kernelspec": {
   "display_name": "Julia 1.0.0",
   "language": "julia",
   "name": "julia-1.0"
  },
  "language_info": {
   "file_extension": ".jl",
   "mimetype": "application/julia",
   "name": "julia",
   "version": "1.0.0"
  }
 },
 "nbformat": 4,
 "nbformat_minor": 2
}
