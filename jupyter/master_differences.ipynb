{
 "cells": [
  {
   "cell_type": "code",
   "execution_count": 1,
   "metadata": {},
   "outputs": [],
   "source": [
    "import JSON"
   ]
  },
  {
   "cell_type": "code",
   "execution_count": 2,
   "metadata": {},
   "outputs": [
    {
     "data": {
      "text/plain": [
       "Dict{String,Any} with 2 entries:\n",
       "  \"version\"   => nothing\n",
       "  \"reactions\" => Dict{String,Any}(\"R03857\"=>Dict{String,Any}(\"left\"=>Any[\"C0183…"
      ]
     },
     "execution_count": 2,
     "metadata": {},
     "output_type": "execute_result"
    }
   ],
   "source": [
    "master = JSON.parsefile(\"../test/data/master.json\")"
   ]
  },
  {
   "cell_type": "code",
   "execution_count": 73,
   "metadata": {},
   "outputs": [
    {
     "data": {
      "text/plain": [
       "Base.KeySet for a Dict{String,Any} with 3 entries. Keys:\n",
       "  \"left\"\n",
       "  \"right\"\n",
       "  \"metadata\""
      ]
     },
     "execution_count": 73,
     "metadata": {},
     "output_type": "execute_result"
    }
   ],
   "source": [
    "keys(master[\"reactions\"][\"R03857\"])"
   ]
  },
  {
   "cell_type": "code",
   "execution_count": 74,
   "metadata": {},
   "outputs": [
    {
     "data": {
      "text/plain": [
       "Dict{String,Any} with 3 entries:\n",
       "  \"left\"     => Any[\"C01832\", \"C00016\"]\n",
       "  \"right\"    => Any[\"C03221\", \"C01352\"]\n",
       "  \"metadata\" => Dict{String,Any}(\"right_stoichiometries\"=>Any[\"1\", \"1\"],\"name\"=…"
      ]
     },
     "execution_count": 74,
     "metadata": {},
     "output_type": "execute_result"
    }
   ],
   "source": [
    "master[\"reactions\"][\"R03857\"]"
   ]
  },
  {
   "cell_type": "code",
   "execution_count": 3,
   "metadata": {},
   "outputs": [
    {
     "data": {
      "text/plain": [
       "Dict{String,Any} with 2 entries:\n",
       "  \"substrates\" => Dict{String,Any}(\"R03857\"=>Any[\"C01832\", \"C00016\"],\"R02250\"=>…\n",
       "  \"products\"   => Dict{String,Any}(\"R03857\"=>Any[\"C03221\", \"C01352\"],\"R02250\"=>…"
      ]
     },
     "execution_count": 3,
     "metadata": {},
     "output_type": "execute_result"
    }
   ],
   "source": [
    "redges = JSON.parsefile(\"../test/data/submission_results/reaction_edges.json\")"
   ]
  },
  {
   "cell_type": "markdown",
   "metadata": {},
   "source": [
    "#### Check number of reactions"
   ]
  },
  {
   "cell_type": "code",
   "execution_count": 5,
   "metadata": {},
   "outputs": [
    {
     "data": {
      "text/plain": [
       "10764"
      ]
     },
     "execution_count": 5,
     "metadata": {},
     "output_type": "execute_result"
    }
   ],
   "source": [
    "length(master[\"reactions\"])"
   ]
  },
  {
   "cell_type": "code",
   "execution_count": 6,
   "metadata": {},
   "outputs": [
    {
     "data": {
      "text/plain": [
       "9934"
      ]
     },
     "execution_count": 6,
     "metadata": {},
     "output_type": "execute_result"
    }
   ],
   "source": [
    "length(redges[\"substrates\"])"
   ]
  },
  {
   "cell_type": "code",
   "execution_count": 7,
   "metadata": {},
   "outputs": [
    {
     "data": {
      "text/plain": [
       "9934"
      ]
     },
     "execution_count": 7,
     "metadata": {},
     "output_type": "execute_result"
    }
   ],
   "source": [
    "length(redges[\"products\"])"
   ]
  },
  {
   "cell_type": "code",
   "execution_count": 33,
   "metadata": {},
   "outputs": [
    {
     "data": {
      "text/plain": [
       "true"
      ]
     },
     "execution_count": 33,
     "metadata": {},
     "output_type": "execute_result"
    }
   ],
   "source": [
    "Set(keys(redges[\"substrates\"]))==Set(keys(redges[\"products\"]))"
   ]
  },
  {
   "cell_type": "code",
   "execution_count": 18,
   "metadata": {},
   "outputs": [
    {
     "data": {
      "text/plain": [
       "Set([\"R12068\", \"R12013\", \"R09311\", \"R12027\", \"R12061\", \"R12132\", \"R02904\", \"R12054\", \"R02806\", \"R11925\"  …  \"R03142\", \"R12354\", \"R11889\", \"R12140\", \"R02418\", \"R00442\", \"R11978\", \"R12198\", \"R12309\", \"R10334\"])"
      ]
     },
     "execution_count": 18,
     "metadata": {},
     "output_type": "execute_result"
    }
   ],
   "source": [
    "diffmr = setdiff(Set(keys(master[\"reactions\"])),Set(keys(redges[\"substrates\"])))"
   ]
  },
  {
   "cell_type": "code",
   "execution_count": 19,
   "metadata": {},
   "outputs": [
    {
     "data": {
      "text/plain": [
       "Set([\"R03106\", \"R08479\", \"R02559\", \"R07223\", \"R02166\", \"R03336\", \"R06859\", \"R05561\", \"R09396\", \"R04993\"  …  \"R02161\", \"R06858\", \"R03338\", \"R07305\", \"R09547\", \"R11331\", \"R09645\", \"R09092\", \"R01971\", \"R08786\"])"
      ]
     },
     "execution_count": 19,
     "metadata": {},
     "output_type": "execute_result"
    }
   ],
   "source": [
    "diffrm = setdiff(Set(keys(redges[\"substrates\"])),Set(keys(master[\"reactions\"])))"
   ]
  },
  {
   "cell_type": "code",
   "execution_count": 20,
   "metadata": {},
   "outputs": [
    {
     "data": {
      "text/plain": [
       "857"
      ]
     },
     "execution_count": 20,
     "metadata": {},
     "output_type": "execute_result"
    }
   ],
   "source": [
    "length(diffmr)"
   ]
  },
  {
   "cell_type": "code",
   "execution_count": 21,
   "metadata": {},
   "outputs": [
    {
     "data": {
      "text/plain": [
       "27"
      ]
     },
     "execution_count": 21,
     "metadata": {},
     "output_type": "execute_result"
    }
   ],
   "source": [
    "length(diffrm)"
   ]
  },
  {
   "cell_type": "code",
   "execution_count": 23,
   "metadata": {},
   "outputs": [
    {
     "data": {
      "text/plain": [
       "884"
      ]
     },
     "execution_count": 23,
     "metadata": {},
     "output_type": "execute_result"
    }
   ],
   "source": [
    "length(symdiff(Set(keys(master[\"reactions\"])),Set(keys(redges[\"substrates\"]))))"
   ]
  },
  {
   "cell_type": "markdown",
   "metadata": {},
   "source": [
    "Reactions not shared between masters:\n",
    "- 857 in new master not in old reaction list\n",
    "- 27 in old reaction list not in new master\n",
    "- 884 reactions from symdiff"
   ]
  },
  {
   "cell_type": "markdown",
   "metadata": {},
   "source": [
    "#### What about different substrates within the reactions?"
   ]
  },
  {
   "cell_type": "markdown",
   "metadata": {},
   "source": [
    "Let's check ways to compare dictionaries:"
   ]
  },
  {
   "cell_type": "code",
   "execution_count": 25,
   "metadata": {},
   "outputs": [
    {
     "data": {
      "text/plain": [
       "Dict{Int64,Float64} with 2 entries:\n",
       "  3 => 4.0\n",
       "  1 => 0.0"
      ]
     },
     "execution_count": 25,
     "metadata": {},
     "output_type": "execute_result"
    }
   ],
   "source": [
    "d1 = Dict(1=>2., 3=>4.)\n",
    "d2 = Dict(3=>4., 1=>2.)\n",
    "d3 = Dict(1=>0., 3=>4.)"
   ]
  },
  {
   "cell_type": "code",
   "execution_count": 26,
   "metadata": {},
   "outputs": [
    {
     "data": {
      "text/plain": [
       "true"
      ]
     },
     "execution_count": 26,
     "metadata": {},
     "output_type": "execute_result"
    }
   ],
   "source": [
    "d1 == d2"
   ]
  },
  {
   "cell_type": "code",
   "execution_count": 27,
   "metadata": {},
   "outputs": [
    {
     "data": {
      "text/plain": [
       "false"
      ]
     },
     "execution_count": 27,
     "metadata": {},
     "output_type": "execute_result"
    }
   ],
   "source": [
    "d1 == d3"
   ]
  },
  {
   "cell_type": "code",
   "execution_count": 35,
   "metadata": {},
   "outputs": [
    {
     "data": {
      "text/plain": [
       "Set(Pair{Int64,Float64}[1 => 0.0, 1 => 2.0])"
      ]
     },
     "execution_count": 35,
     "metadata": {},
     "output_type": "execute_result"
    }
   ],
   "source": [
    "symdiff(Set(d1),Set(d3))"
   ]
  },
  {
   "cell_type": "markdown",
   "metadata": {},
   "source": [
    "Seems to work..."
   ]
  },
  {
   "cell_type": "markdown",
   "metadata": {},
   "source": [
    "##### First quick check across all the reactions we know are shared between the two dicts"
   ]
  },
  {
   "cell_type": "code",
   "execution_count": 38,
   "metadata": {},
   "outputs": [
    {
     "data": {
      "text/plain": [
       "Set([\"R03857\", \"R02250\", \"R08640\", \"R07506\", \"R10331\", \"R00340\", \"R06599\", \"R02433\", \"R02769\", \"R01081\"  …  \"R02393\", \"R08881\", \"R05426\", \"R00744\", \"R03509\", \"R00910\", \"R07549\", \"R10608\", \"R07942\", \"R10398\"])"
      ]
     },
     "execution_count": 38,
     "metadata": {},
     "output_type": "execute_result"
    }
   ],
   "source": [
    "sharedrxns = intersect(keys(master[\"reactions\"]),keys(redges[\"substrates\"]))"
   ]
  },
  {
   "cell_type": "code",
   "execution_count": 39,
   "metadata": {},
   "outputs": [
    {
     "data": {
      "text/plain": [
       "9907"
      ]
     },
     "execution_count": 39,
     "metadata": {},
     "output_type": "execute_result"
    }
   ],
   "source": [
    "length(sharedrxns)"
   ]
  },
  {
   "cell_type": "code",
   "execution_count": 40,
   "metadata": {},
   "outputs": [
    {
     "data": {
      "text/plain": [
       "0-element Array{Any,1}"
      ]
     },
     "execution_count": 40,
     "metadata": {},
     "output_type": "execute_result"
    }
   ],
   "source": [
    "a = []"
   ]
  },
  {
   "cell_type": "code",
   "execution_count": 54,
   "metadata": {},
   "outputs": [
    {
     "data": {
      "text/plain": [
       "5-element Array{Any,1}:\n",
       " 3     \n",
       "  's'  \n",
       "  'a'  \n",
       "  'j'  \n",
       "  \"saj\""
      ]
     },
     "execution_count": 54,
     "metadata": {},
     "output_type": "execute_result"
    }
   ],
   "source": [
    "push!(a,\"saj\")"
   ]
  },
  {
   "cell_type": "code",
   "execution_count": 45,
   "metadata": {},
   "outputs": [
    {
     "data": {
      "text/plain": [
       "1-element Array{Any,1}:\n",
       " 3"
      ]
     },
     "execution_count": 45,
     "metadata": {},
     "output_type": "execute_result"
    }
   ],
   "source": [
    "a"
   ]
  },
  {
   "cell_type": "code",
   "execution_count": 56,
   "metadata": {},
   "outputs": [],
   "source": [
    "mismatched_reaction_left = []\n",
    "mismatched_reaction_right = []\n",
    "\n",
    "for r in sharedrxns\n",
    "    if Set(master[\"reactions\"][r][\"left\"]) != Set(redges[\"substrates\"][r])\n",
    "        push!(mismatched_reaction_left,r)\n",
    "    end\n",
    "    \n",
    "    if Set(master[\"reactions\"][r][\"right\"]) != Set(redges[\"products\"][r])\n",
    "        push!(mismatched_reaction_right,r)\n",
    "    end\n",
    "end"
   ]
  },
  {
   "cell_type": "code",
   "execution_count": 57,
   "metadata": {},
   "outputs": [
    {
     "data": {
      "text/plain": [
       "278"
      ]
     },
     "execution_count": 57,
     "metadata": {},
     "output_type": "execute_result"
    }
   ],
   "source": [
    "length(mismatched_reaction_left)"
   ]
  },
  {
   "cell_type": "code",
   "execution_count": 58,
   "metadata": {},
   "outputs": [
    {
     "data": {
      "text/plain": [
       "274"
      ]
     },
     "execution_count": 58,
     "metadata": {},
     "output_type": "execute_result"
    }
   ],
   "source": [
    "length(mismatched_reaction_right)"
   ]
  },
  {
   "cell_type": "code",
   "execution_count": 62,
   "metadata": {},
   "outputs": [
    {
     "data": {
      "text/plain": [
       "263"
      ]
     },
     "execution_count": 62,
     "metadata": {},
     "output_type": "execute_result"
    }
   ],
   "source": [
    "length(intersect(Set(mismatched_reaction_left),Set(mismatched_reaction_right)))"
   ]
  },
  {
   "cell_type": "code",
   "execution_count": 66,
   "metadata": {},
   "outputs": [
    {
     "data": {
      "text/plain": [
       "Set(Any[\"R11194\", \"R10591\", \"R07205\", \"R10315\", \"R05877\", \"R07777\", \"R10320\", \"R03615\", \"R07851\", \"R04102\"  …  \"R07564\", \"R07567\", \"R11687\", \"R07563\", \"R04251\", \"R11688\", \"R10999\", \"R11054\", \"R05475\", \"R07204\"])"
      ]
     },
     "execution_count": 66,
     "metadata": {},
     "output_type": "execute_result"
    }
   ],
   "source": [
    "intersect(Set(mismatched_reaction_left),Set(mismatched_reaction_right))"
   ]
  },
  {
   "cell_type": "code",
   "execution_count": 67,
   "metadata": {},
   "outputs": [
    {
     "data": {
      "text/plain": [
       "compare_compounds (generic function with 1 method)"
      ]
     },
     "execution_count": 67,
     "metadata": {},
     "output_type": "execute_result"
    }
   ],
   "source": [
    "function compare_compounds(r)\n",
    "    println(\"left master: \",master[\"reactions\"][r][\"left\"])\n",
    "    println(\"left redges: \",redges[\"substrates\"][r])\n",
    "    println(\"right master: \",master[\"reactions\"][r][\"right\"])\n",
    "    println(\"right redges: \",redges[\"products\"][r])\n",
    "end"
   ]
  },
  {
   "cell_type": "code",
   "execution_count": 68,
   "metadata": {},
   "outputs": [
    {
     "name": "stdout",
     "output_type": "stream",
     "text": [
      "left master: Any[\"C05452\", \"C03024\", \"C00007\"]\n",
      "left redges: Any[\"C05452\", \"C00005\", \"C00080\", \"C00007\"]\n",
      "right master: Any[\"C05454\", \"C03161\", \"C00001\"]\n",
      "right redges: Any[\"C05454\", \"C00006\", \"C00001\"]\n"
     ]
    }
   ],
   "source": [
    "compare_compounds(\"R07204\")"
   ]
  },
  {
   "cell_type": "markdown",
   "metadata": {},
   "source": [
    "Seems like there are going to be a lot of differences..."
   ]
  },
  {
   "cell_type": "code",
   "execution_count": 69,
   "metadata": {},
   "outputs": [
    {
     "name": "stdout",
     "output_type": "stream",
     "text": [
      "left master: Any[\"C11807\", \"C03024\", \"C00007\"]\n",
      "left redges: Any[\"C11807\", \"C00005\", \"C00080\", \"C00007\"]\n",
      "right master: Any[\"C01761\", \"C03161\", \"C00001\"]\n",
      "right redges: Any[\"C01761\", \"C00006\", \"C00001\"]\n"
     ]
    }
   ],
   "source": [
    "compare_compounds(\"R05877\")"
   ]
  },
  {
   "cell_type": "code",
   "execution_count": 70,
   "metadata": {},
   "outputs": [
    {
     "name": "stdout",
     "output_type": "stream",
     "text": [
      "left master: Any[\"C20715\", \"C03024\", \"C00007\"]\n",
      "left redges: Any[\"C20715\", \"C00005\", \"C00080\", \"C00007\"]\n",
      "right master: Any[\"C20716\", \"C03161\", \"C00001\"]\n",
      "right redges: Any[\"C20716\", \"C00006\", \"C00001\"]\n"
     ]
    }
   ],
   "source": [
    "compare_compounds(\"R10591\")"
   ]
  },
  {
   "cell_type": "markdown",
   "metadata": {},
   "source": [
    "I should change the formatting of this original redges file to be something like the new master file in order to compare the results of the network expansion. That will be an \"okay\" test of how well the new code works (at least as good as the old code). But if I want to be more rigorous I should just write my own example of network expansion for maybe 3 or 4 steps and verify that every step looks like I expect. I should do this maybe for 3 or 4 example systems."
   ]
  },
  {
   "cell_type": "code",
   "execution_count": 75,
   "metadata": {},
   "outputs": [
    {
     "data": {
      "text/plain": [
       "Dict{Any,Any} with 0 entries"
      ]
     },
     "execution_count": 75,
     "metadata": {},
     "output_type": "execute_result"
    }
   ],
   "source": [
    "redges_reformatted = Dict()"
   ]
  },
  {
   "cell_type": "code",
   "execution_count": 78,
   "metadata": {},
   "outputs": [],
   "source": [
    "redges_reformatted[\"version\"] = nothing"
   ]
  },
  {
   "cell_type": "code",
   "execution_count": 83,
   "metadata": {},
   "outputs": [
    {
     "data": {
      "text/plain": [
       "Dict{String,Any} with 0 entries"
      ]
     },
     "execution_count": 83,
     "metadata": {},
     "output_type": "execute_result"
    }
   ],
   "source": [
    "redges_reformatted[\"reactions\"] = Dict{String,Any}()"
   ]
  },
  {
   "cell_type": "code",
   "execution_count": 84,
   "metadata": {},
   "outputs": [
    {
     "data": {
      "text/plain": [
       "Dict{Any,Any} with 2 entries:\n",
       "  \"version\"   => nothing\n",
       "  \"reactions\" => Dict{String,Any}()"
      ]
     },
     "execution_count": 84,
     "metadata": {},
     "output_type": "execute_result"
    }
   ],
   "source": [
    "redges_reformatted"
   ]
  },
  {
   "cell_type": "code",
   "execution_count": 99,
   "metadata": {},
   "outputs": [],
   "source": [
    "for r in keys(redges[\"substrates\"])\n",
    "    redges_reformatted[\"reactions\"][r] = Dict{String,Any}()\n",
    "    redges_reformatted[\"reactions\"][r][\"left\"] = redges[\"substrates\"][r]\n",
    "    redges_reformatted[\"reactions\"][r][\"right\"] = redges[\"products\"][r]\n",
    "    redges_reformatted[\"reactions\"][r][\"metadata\"] = Dict{String,Any}()\n",
    "end"
   ]
  },
  {
   "cell_type": "code",
   "execution_count": 100,
   "metadata": {},
   "outputs": [
    {
     "data": {
      "text/plain": [
       "Dict{String,Any} with 9934 entries:\n",
       "  \"R03857\" => Dict{String,Any}(\"left\"=>Any[\"C01832\", \"C00016\"],\"right\"=>Any[\"C0…\n",
       "  \"R02250\" => Dict{String,Any}(\"left\"=>Any[\"C00422\", \"C00001\"],\"right\"=>Any[\"C0…\n",
       "  \"R08640\" => Dict{String,Any}(\"left\"=>Any[\"C17224\", \"C00024\", \"C00001\"],\"right…\n",
       "  \"R07506\" => Dict{String,Any}(\"left\"=>Any[\"C15778\", \"C00005\", \"C00080\", \"C0000…\n",
       "  \"R10331\" => Dict{String,Any}(\"left\"=>Any[\"C20518\", \"C00028\"],\"right\"=>Any[\"C0…\n",
       "  \"R00340\" => Dict{String,Any}(\"left\"=>Any[\"C02107\"],\"right\"=>Any[\"C00036\", \"C0…\n",
       "  \"R06599\" => Dict{String,Any}(\"left\"=>Any[\"C12176\"],\"right\"=>Any[\"C14721\"],\"me…\n",
       "  \"R02433\" => Dict{String,Any}(\"left\"=>Any[\"C00506\", \"C00026\"],\"right\"=>Any[\"C0…\n",
       "  \"R02769\" => Dict{String,Any}(\"left\"=>Any[\"C01200\", \"C00009\"],\"right\"=>Any[\"C0…\n",
       "  \"R01081\" => Dict{String,Any}(\"left\"=>Any[\"C00121\"],\"right\"=>Any[\"C00309\"],\"me…\n",
       "  \"R07043\" => Dict{String,Any}(\"left\"=>Any[\"C05966\"],\"right\"=>Any[\"C14813\"],\"me…\n",
       "  \"R08152\" => Dict{String,Any}(\"left\"=>Any[\"C16504\", \"C00001\"],\"right\"=>Any[\"C1…\n",
       "  \"R07518\" => Dict{String,Any}(\"left\"=>Any[\"C05432\", \"C00030\", \"C00007\"],\"right…\n",
       "  \"R09186\" => Dict{String,Any}(\"left\"=>Any[\"C03826\"],\"right\"=>Any[\"C00433\", \"C0…\n",
       "  \"R05049\" => Dict{String,Any}(\"left\"=>Any[\"C05932\", \"C00003\", \"C00001\"],\"right…\n",
       "  \"R10192\" => Dict{String,Any}(\"left\"=>Any[\"C06098\", \"C00007\"],\"right\"=>Any[\"C1…\n",
       "  \"R08510\" => Dict{String,Any}(\"left\"=>Any[\"C10138\", \"C00005\", \"C00080\"],\"right…\n",
       "  \"R00743\" => Dict{String,Any}(\"left\"=>Any[\"C00024\", \"C00383\"],\"right\"=>Any[\"C0…\n",
       "  \"R10908\" => Dict{String,Any}(\"left\"=>Any[\"C02091\", \"C00048\"],\"right\"=>Any[\"C0…\n",
       "  \"R03137\" => Dict{String,Any}(\"left\"=>Any[\"C00982\", \"C00007\"],\"right\"=>Any[\"C0…\n",
       "  \"R06699\" => Dict{String,Any}(\"left\"=>Any[\"C12366\"],\"right\"=>Any[\"C12367\", \"C0…\n",
       "  \"R10320\" => Dict{String,Any}(\"left\"=>Any[\"C00005\", \"C00080\", \"C00007\", \"C0394…\n",
       "  \"R11644\" => Dict{String,Any}(\"left\"=>Any[\"C00999\", \"C00080\", \"C21529\", \"C0000…\n",
       "  \"R05792\" => Dict{String,Any}(\"left\"=>Any[\"C00001\", \"C11547\"],\"right\"=>Any[\"C0…\n",
       "  \"R04273\" => Dict{String,Any}(\"left\"=>Any[\"C03798\"],\"right\"=>Any[\"C03633\"],\"me…\n",
       "  ⋮        => ⋮"
      ]
     },
     "execution_count": 100,
     "metadata": {},
     "output_type": "execute_result"
    }
   ],
   "source": [
    "redges_reformatted[\"reactions\"]"
   ]
  },
  {
   "cell_type": "code",
   "execution_count": 102,
   "metadata": {},
   "outputs": [
    {
     "data": {
      "text/plain": [
       "Dict{String,Any} with 3 entries:\n",
       "  \"left\"     => Any[\"C01832\", \"C00016\"]\n",
       "  \"right\"    => Any[\"C03221\", \"C01352\"]\n",
       "  \"metadata\" => Dict{String,Any}()"
      ]
     },
     "execution_count": 102,
     "metadata": {},
     "output_type": "execute_result"
    }
   ],
   "source": [
    "redges_reformatted[\"reactions\"][\"R03857\"]"
   ]
  },
  {
   "cell_type": "markdown",
   "metadata": {},
   "source": [
    "### Write JSON"
   ]
  },
  {
   "cell_type": "code",
   "execution_count": 103,
   "metadata": {},
   "outputs": [],
   "source": [
    "path = \"../test/data/master_from_redges-og-submission.json\"\n",
    "open(path,\"w\") do f\n",
    "    JSON.print(f, redges_reformatted, 2) #indent=2\n",
    "end"
   ]
  },
  {
   "cell_type": "markdown",
   "metadata": {},
   "source": [
    "### Write all KEGG reactions as a seed list"
   ]
  },
  {
   "cell_type": "code",
   "execution_count": 108,
   "metadata": {},
   "outputs": [],
   "source": [
    "path = \"../test/data/seeds/kegg.json\"\n",
    "open(path,\"w\") do f\n",
    "    JSON.print(f, keys(redges_reformatted[\"reactions\"]), 2) #indent=2\n",
    "end"
   ]
  },
  {
   "cell_type": "code",
   "execution_count": 107,
   "metadata": {},
   "outputs": [],
   "source": [
    "# keys(redges_reformatted[\"reactions\"])"
   ]
  },
  {
   "cell_type": "code",
   "execution_count": null,
   "metadata": {},
   "outputs": [],
   "source": []
  }
 ],
 "metadata": {
  "kernelspec": {
   "display_name": "Julia 1.3.1",
   "language": "julia",
   "name": "julia-1.3"
  },
  "language_info": {
   "file_extension": ".jl",
   "mimetype": "application/julia",
   "name": "julia",
   "version": "1.3.1"
  }
 },
 "nbformat": 4,
 "nbformat_minor": 4
}
