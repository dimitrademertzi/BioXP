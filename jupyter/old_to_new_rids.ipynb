{
 "cells": [
  {
   "cell_type": "code",
   "execution_count": 2,
   "metadata": {},
   "outputs": [],
   "source": [
    "import JSON"
   ]
  },
  {
   "cell_type": "code",
   "execution_count": 21,
   "metadata": {},
   "outputs": [],
   "source": [
    "olddir = \"../test/data/submission_results/archaea_jgi/\";"
   ]
  },
  {
   "cell_type": "code",
   "execution_count": 23,
   "metadata": {},
   "outputs": [],
   "source": [
    "newdir = \"../test/data/submission_results/archaea_jgi_newformat/\";"
   ]
  },
  {
   "cell_type": "markdown",
   "metadata": {},
   "source": [
    "Loop through old formatted dir, reformat and print in new dir"
   ]
  },
  {
   "cell_type": "code",
   "execution_count": 27,
   "metadata": {},
   "outputs": [],
   "source": [
    "function reformat_reactions(olddir::String,newdir::String)\n",
    "    for f in readdir(olddir)\n",
    "    \n",
    "        oldjson = JSON.parsefile(joinpath(olddir,f))\n",
    "        ## Make sure keys in reactions and products are the same\n",
    "        @assert Set(keys(oldjson[\"substrates\"])) == Set(keys(oldjson[\"products\"]))\n",
    "\n",
    "        newpath = joinpath(newdir,f)\n",
    "        open(newpath,\"w\") do f\n",
    "            JSON.print(f,keys(oldjson[\"substrates\"]),2)\n",
    "        end\n",
    "\n",
    "    end\n",
    "end;"
   ]
  },
  {
   "cell_type": "code",
   "execution_count": 28,
   "metadata": {},
   "outputs": [],
   "source": [
    "reformat_reactions(olddir,newdir)"
   ]
  }
 ],
 "metadata": {
  "kernelspec": {
   "display_name": "Julia 1.3.1",
   "language": "julia",
   "name": "julia-1.3"
  },
  "language_info": {
   "file_extension": ".jl",
   "mimetype": "application/julia",
   "name": "julia",
   "version": "1.3.1"
  }
 },
 "nbformat": 4,
 "nbformat_minor": 2
}
