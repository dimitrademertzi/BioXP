{
 "cells": [
  {
   "cell_type": "code",
   "execution_count": 1,
   "metadata": {},
   "outputs": [],
   "source": [
    "import JSON"
   ]
  },
  {
   "cell_type": "code",
   "execution_count": 11,
   "metadata": {},
   "outputs": [],
   "source": [
    "olddir = \"../../seeding_life_on_enceladus/bioxp_repo_first_submission/BioXP/jgi/2019-09-09/ph_edge_jsons/bacteria/\";\n",
    "# olddir = \"../test/data/submission_results/archaea_jgi/\";"
   ]
  },
  {
   "cell_type": "code",
   "execution_count": 12,
   "metadata": {},
   "outputs": [],
   "source": [
    "newdir = \"../../BioXP-experiments/run_pandnop_jsons/data/input/bacteria_jgi_newformat/\";\n"
   ]
  },
  {
   "cell_type": "markdown",
   "metadata": {},
   "source": [
    "Loop through old formatted dir, reformat and print in new dir"
   ]
  },
  {
   "cell_type": "code",
   "execution_count": 9,
   "metadata": {},
   "outputs": [],
   "source": [
    "function reformat_reactions(olddir::String,newdir::String)\n",
    "    for f in readdir(olddir)\n",
    "    \n",
    "        oldjson = JSON.parsefile(joinpath(olddir,f))\n",
    "        ## Make sure keys in reactions and products are the same\n",
    "        @assert Set(keys(oldjson[\"substrates\"])) == Set(keys(oldjson[\"products\"]))\n",
    "\n",
    "        newpath = joinpath(newdir,f)\n",
    "        open(newpath,\"w\") do f\n",
    "            JSON.print(f,keys(oldjson[\"substrates\"]),2)\n",
    "        end\n",
    "\n",
    "    end\n",
    "end;"
   ]
  },
  {
   "cell_type": "code",
   "execution_count": 13,
   "metadata": {},
   "outputs": [],
   "source": [
    "reformat_reactions(olddir,newdir)"
   ]
  },
  {
   "cell_type": "code",
   "execution_count": null,
   "metadata": {},
   "outputs": [],
   "source": []
  }
 ],
 "metadata": {
  "kernelspec": {
   "display_name": "Julia 1.4.1",
   "language": "julia",
   "name": "julia-1.4"
  },
  "language_info": {
   "file_extension": ".jl",
   "mimetype": "application/julia",
   "name": "julia",
   "version": "1.4.1"
  }
 },
 "nbformat": 4,
 "nbformat_minor": 4
}
