{
 "cells": [
  {
   "cell_type": "code",
   "execution_count": 61,
   "metadata": {},
   "outputs": [
    {
     "data": {
      "text/html": [
       "<script>requirejs.config({paths: { 'plotly': ['https://cdn.plot.ly/plotly-latest.min']},});if(!window.Plotly) {{require(['plotly'],function(plotly) {window.Plotly=plotly;});}}</script>"
      ],
      "text/vnd.plotly.v1+html": [
       "<script>requirejs.config({paths: { 'plotly': ['https://cdn.plot.ly/plotly-latest.min']},});if(!window.Plotly) {{require(['plotly'],function(plotly) {window.Plotly=plotly;});}}</script>"
      ]
     },
     "metadata": {},
     "output_type": "display_data"
    }
   ],
   "source": [
    "import pandas as pd\n",
    "import json\n",
    "import glob\n",
    "import os\n",
    "\n",
    "import matplotlib.pyplot as plt\n",
    "import seaborn as sns\n",
    "\n",
    "import plotly\n",
    "import plotly.plotly as py\n",
    "import plotly.graph_objs as go\n",
    "import numpy as np\n",
    "\n",
    "plotly.offline.init_notebook_mode(connected=True) \n",
    "\n",
    "%matplotlib inline"
   ]
  },
  {
   "cell_type": "code",
   "execution_count": 30,
   "metadata": {},
   "outputs": [],
   "source": [
    "def read_formatted_jsons(INDIR):\n",
    "    generation_dfs = []\n",
    "    stats_dicts = []\n",
    "    \n",
    "    for domain in os.listdir(INDIR):\n",
    "        for fname in glob.glob(INDIR+domain+\"/*.json\"):\n",
    "\n",
    "            org_id = os.path.basename(fname).strip(\".json\")\n",
    "\n",
    "            with open(fname) as f:\n",
    "                datajson = json.load(f)\n",
    "\n",
    "            datajson[\"stats\"][\"org_id\"] = org_id\n",
    "            datajson[\"stats\"][\"domain\"] = domain\n",
    "            datajson[\"stats\"][\"path\"] = fname\n",
    "\n",
    "            stats_dicts.append(datajson[\"stats\"])\n",
    "            generation_dfs.append(pd.DataFrame(datajson[\"generations\"]))\n",
    "            \n",
    "    return generation_dfs, stats_dicts"
   ]
  },
  {
   "cell_type": "markdown",
   "metadata": {},
   "source": [
    "### Transpose etc."
   ]
  },
  {
   "cell_type": "code",
   "execution_count": 31,
   "metadata": {},
   "outputs": [],
   "source": [
    "def twist_dfs(df_list):\n",
    "    twisted_dfs = []\n",
    "    for df in df_list:\n",
    "        df = df.transpose()\n",
    "        df.index = df.index.astype(int)\n",
    "        df = df.sort_index()   \n",
    "        twisted_dfs.append(df)\n",
    "    return twisted_dfs"
   ]
  },
  {
   "cell_type": "markdown",
   "metadata": {},
   "source": [
    "### Add `n` columns"
   ]
  },
  {
   "cell_type": "code",
   "execution_count": 32,
   "metadata": {},
   "outputs": [],
   "source": [
    "def add_n_to_cols(df_list):\n",
    "    for df in df_list:\n",
    "        original_columns = df.columns\n",
    "        for col in original_columns:\n",
    "            df[\"n_\"+col] = df[col].str.len() \n",
    "    return df_list"
   ]
  },
  {
   "cell_type": "markdown",
   "metadata": {},
   "source": [
    "### Add domain and org_id"
   ]
  },
  {
   "cell_type": "code",
   "execution_count": 33,
   "metadata": {},
   "outputs": [],
   "source": [
    "def add_domain_and_orgid(df_list,stats_dicts):\n",
    "    for i,df in enumerate(df_list):\n",
    "        df['org_id'] = stats_dicts[i][\"org_id\"]\n",
    "        df['domain'] = stats_dicts[i][\"domain\"]\n",
    "    return df_list"
   ]
  },
  {
   "cell_type": "markdown",
   "metadata": {},
   "source": [
    "### Add tags if desired"
   ]
  },
  {
   "cell_type": "code",
   "execution_count": 34,
   "metadata": {},
   "outputs": [],
   "source": [
    "def add_tags(df_list,cpds_to_tag):\n",
    "    for df in df_list:\n",
    "        df['tags'] = df['compounds_new'].apply(lambda x: [cpd for cpd in cpds_to_tag if cpd in x])\n",
    "    return df_list"
   ]
  },
  {
   "cell_type": "markdown",
   "metadata": {},
   "source": [
    "### Main"
   ]
  },
  {
   "cell_type": "code",
   "execution_count": 37,
   "metadata": {},
   "outputs": [],
   "source": [
    "cpds_to_tag = []\n",
    "\n",
    "INDIR = \"../results/formatted/ph_edge_jsons/\"\n",
    "\n",
    "generation_dfs, stats_dicts = read_formatted_jsons(INDIR)\n",
    "generation_dfs = twist_dfs(generation_dfs)\n",
    "generation_dfs = add_n_to_cols(generation_dfs)\n",
    "# generation_dfs = add_tags(generation_dfs,cpds_to_tag)\n",
    "generation_dfs = add_domain_and_orgid(generation_dfs,stats_dicts)\n",
    "df = pd.concat(generation_dfs)"
   ]
  },
  {
   "cell_type": "code",
   "execution_count": 38,
   "metadata": {},
   "outputs": [
    {
     "data": {
      "text/html": [
       "<div>\n",
       "<style scoped>\n",
       "    .dataframe tbody tr th:only-of-type {\n",
       "        vertical-align: middle;\n",
       "    }\n",
       "\n",
       "    .dataframe tbody tr th {\n",
       "        vertical-align: top;\n",
       "    }\n",
       "\n",
       "    .dataframe thead th {\n",
       "        text-align: right;\n",
       "    }\n",
       "</style>\n",
       "<table border=\"1\" class=\"dataframe\">\n",
       "  <thead>\n",
       "    <tr style=\"text-align: right;\">\n",
       "      <th></th>\n",
       "      <th>compounds_cumulative</th>\n",
       "      <th>compounds_new</th>\n",
       "      <th>reactions_cumulative</th>\n",
       "      <th>reactions_new</th>\n",
       "      <th>targets_cumulative</th>\n",
       "      <th>targets_new</th>\n",
       "      <th>n_compounds_cumulative</th>\n",
       "      <th>n_compounds_new</th>\n",
       "      <th>n_reactions_cumulative</th>\n",
       "      <th>n_reactions_new</th>\n",
       "      <th>n_targets_cumulative</th>\n",
       "      <th>n_targets_new</th>\n",
       "      <th>org_id</th>\n",
       "      <th>domain</th>\n",
       "    </tr>\n",
       "  </thead>\n",
       "  <tbody>\n",
       "    <tr>\n",
       "      <th>1</th>\n",
       "      <td>[C00001, C00014, C00011, C00697, C00067, C0046...</td>\n",
       "      <td>[C00282, C00237, C00014, C00011, C00067, C0069...</td>\n",
       "      <td>[R10092, R00131, R00602, R00132]</td>\n",
       "      <td>[R00131, R00132, R00602, R10092]</td>\n",
       "      <td>[]</td>\n",
       "      <td>[]</td>\n",
       "      <td>10</td>\n",
       "      <td>10</td>\n",
       "      <td>4</td>\n",
       "      <td>4</td>\n",
       "      <td>0</td>\n",
       "      <td>0</td>\n",
       "      <td>2506520044</td>\n",
       "      <td>archaea</td>\n",
       "    </tr>\n",
       "    <tr>\n",
       "      <th>2</th>\n",
       "      <td>[C00080, C00001, C00014, C00288, C00011, C0069...</td>\n",
       "      <td>[C00080, C00288, C00086, C00027, C01353]</td>\n",
       "      <td>[R10092, R06154, R00131, R00602, R00132, R00009]</td>\n",
       "      <td>[R06154, R00009]</td>\n",
       "      <td>[]</td>\n",
       "      <td>[]</td>\n",
       "      <td>15</td>\n",
       "      <td>5</td>\n",
       "      <td>6</td>\n",
       "      <td>2</td>\n",
       "      <td>0</td>\n",
       "      <td>0</td>\n",
       "      <td>2506520044</td>\n",
       "      <td>archaea</td>\n",
       "    </tr>\n",
       "    <tr>\n",
       "      <th>3</th>\n",
       "      <td>[C00007, C00080, C00001, C00014, C00288, C0001...</td>\n",
       "      <td>[C00007, C00218]</td>\n",
       "      <td>[R10092, R06154, R00275, R00131, R00602, R0013...</td>\n",
       "      <td>[R00275]</td>\n",
       "      <td>[]</td>\n",
       "      <td>[]</td>\n",
       "      <td>17</td>\n",
       "      <td>2</td>\n",
       "      <td>7</td>\n",
       "      <td>1</td>\n",
       "      <td>0</td>\n",
       "      <td>0</td>\n",
       "      <td>2506520044</td>\n",
       "      <td>archaea</td>\n",
       "    </tr>\n",
       "    <tr>\n",
       "      <th>4</th>\n",
       "      <td>[C00007, C00080, C00001, C00014, C00288, C0001...</td>\n",
       "      <td>[C00704]</td>\n",
       "      <td>[R10092, R06154, R00275, R00131, R00602, R0013...</td>\n",
       "      <td>[]</td>\n",
       "      <td>[]</td>\n",
       "      <td>[]</td>\n",
       "      <td>18</td>\n",
       "      <td>1</td>\n",
       "      <td>7</td>\n",
       "      <td>0</td>\n",
       "      <td>0</td>\n",
       "      <td>0</td>\n",
       "      <td>2506520044</td>\n",
       "      <td>archaea</td>\n",
       "    </tr>\n",
       "    <tr>\n",
       "      <th>1</th>\n",
       "      <td>[C00001, C00011, C00014, C00067, C00469, C0028...</td>\n",
       "      <td>[C00237, C00014, C00011, C00067, C00132, C0028...</td>\n",
       "      <td>[R10092, R00602, R00132]</td>\n",
       "      <td>[R00132, R00602, R10092]</td>\n",
       "      <td>[]</td>\n",
       "      <td>[]</td>\n",
       "      <td>8</td>\n",
       "      <td>8</td>\n",
       "      <td>3</td>\n",
       "      <td>3</td>\n",
       "      <td>0</td>\n",
       "      <td>0</td>\n",
       "      <td>2506783009</td>\n",
       "      <td>archaea</td>\n",
       "    </tr>\n",
       "    <tr>\n",
       "      <th>2</th>\n",
       "      <td>[C00080, C00001, C00288, C00011, C00014, C0006...</td>\n",
       "      <td>[C00080, C00288, C00027, C01353]</td>\n",
       "      <td>[R10092, R00602, R00132, R00009]</td>\n",
       "      <td>[R00009]</td>\n",
       "      <td>[]</td>\n",
       "      <td>[]</td>\n",
       "      <td>12</td>\n",
       "      <td>4</td>\n",
       "      <td>4</td>\n",
       "      <td>1</td>\n",
       "      <td>0</td>\n",
       "      <td>0</td>\n",
       "      <td>2506783009</td>\n",
       "      <td>archaea</td>\n",
       "    </tr>\n",
       "    <tr>\n",
       "      <th>3</th>\n",
       "      <td>[C00007, C00080, C00001, C00288, C00011, C0001...</td>\n",
       "      <td>[C00007]</td>\n",
       "      <td>[R10092, R00275, R00602, R00132, R00009]</td>\n",
       "      <td>[R00275]</td>\n",
       "      <td>[]</td>\n",
       "      <td>[]</td>\n",
       "      <td>13</td>\n",
       "      <td>1</td>\n",
       "      <td>5</td>\n",
       "      <td>1</td>\n",
       "      <td>0</td>\n",
       "      <td>0</td>\n",
       "      <td>2506783009</td>\n",
       "      <td>archaea</td>\n",
       "    </tr>\n",
       "    <tr>\n",
       "      <th>4</th>\n",
       "      <td>[C00007, C00080, C00001, C00288, C00011, C0001...</td>\n",
       "      <td>[C00704]</td>\n",
       "      <td>[R10092, R00275, R00602, R00132, R00009]</td>\n",
       "      <td>[]</td>\n",
       "      <td>[]</td>\n",
       "      <td>[]</td>\n",
       "      <td>14</td>\n",
       "      <td>1</td>\n",
       "      <td>5</td>\n",
       "      <td>0</td>\n",
       "      <td>0</td>\n",
       "      <td>0</td>\n",
       "      <td>2506783009</td>\n",
       "      <td>archaea</td>\n",
       "    </tr>\n",
       "    <tr>\n",
       "      <th>1</th>\n",
       "      <td>[C00001, C00014, C00011, C00469, C00283, C0013...</td>\n",
       "      <td>[C00282, C00237, C00014, C00011, C00067, C0013...</td>\n",
       "      <td>[R10092, R00602, R00132]</td>\n",
       "      <td>[R00132, R00602, R10092]</td>\n",
       "      <td>[]</td>\n",
       "      <td>[]</td>\n",
       "      <td>9</td>\n",
       "      <td>9</td>\n",
       "      <td>3</td>\n",
       "      <td>3</td>\n",
       "      <td>0</td>\n",
       "      <td>0</td>\n",
       "      <td>2517287024</td>\n",
       "      <td>archaea</td>\n",
       "    </tr>\n",
       "    <tr>\n",
       "      <th>2</th>\n",
       "      <td>[C00080, C00001, C00014, C00288, C00011, C0046...</td>\n",
       "      <td>[C00080, C00288, C00027, C01353]</td>\n",
       "      <td>[R10092, R06154, R00602, R00132, R00009]</td>\n",
       "      <td>[R06154, R00009]</td>\n",
       "      <td>[]</td>\n",
       "      <td>[]</td>\n",
       "      <td>13</td>\n",
       "      <td>4</td>\n",
       "      <td>5</td>\n",
       "      <td>2</td>\n",
       "      <td>0</td>\n",
       "      <td>0</td>\n",
       "      <td>2517287024</td>\n",
       "      <td>archaea</td>\n",
       "    </tr>\n",
       "    <tr>\n",
       "      <th>3</th>\n",
       "      <td>[C00007, C00080, C00001, C00014, C00288, C0001...</td>\n",
       "      <td>[C00007, C00218]</td>\n",
       "      <td>[R10092, R06154, R00275, R00602, R00132, R00009]</td>\n",
       "      <td>[R00275]</td>\n",
       "      <td>[]</td>\n",
       "      <td>[]</td>\n",
       "      <td>15</td>\n",
       "      <td>2</td>\n",
       "      <td>6</td>\n",
       "      <td>1</td>\n",
       "      <td>0</td>\n",
       "      <td>0</td>\n",
       "      <td>2517287024</td>\n",
       "      <td>archaea</td>\n",
       "    </tr>\n",
       "    <tr>\n",
       "      <th>4</th>\n",
       "      <td>[C00007, C00080, C00001, C00014, C00288, C0001...</td>\n",
       "      <td>[C00704]</td>\n",
       "      <td>[R10092, R06154, R00275, R00602, R00132, R00009]</td>\n",
       "      <td>[]</td>\n",
       "      <td>[]</td>\n",
       "      <td>[]</td>\n",
       "      <td>16</td>\n",
       "      <td>1</td>\n",
       "      <td>6</td>\n",
       "      <td>0</td>\n",
       "      <td>0</td>\n",
       "      <td>0</td>\n",
       "      <td>2517287024</td>\n",
       "      <td>archaea</td>\n",
       "    </tr>\n",
       "    <tr>\n",
       "      <th>1</th>\n",
       "      <td>[C00001, C00014, C00011, C00469, C00283, C0013...</td>\n",
       "      <td>[C00282, C00237, C00014, C00011, C00067, C0013...</td>\n",
       "      <td>[R10092, R00005, R00602, R00132]</td>\n",
       "      <td>[R00005, R00132, R00602, R10092]</td>\n",
       "      <td>[]</td>\n",
       "      <td>[]</td>\n",
       "      <td>9</td>\n",
       "      <td>9</td>\n",
       "      <td>4</td>\n",
       "      <td>4</td>\n",
       "      <td>0</td>\n",
       "      <td>0</td>\n",
       "      <td>2529293002</td>\n",
       "      <td>archaea</td>\n",
       "    </tr>\n",
       "    <tr>\n",
       "      <th>2</th>\n",
       "      <td>[C00080, C00001, C00014, C00288, C00011, C0101...</td>\n",
       "      <td>[C00080, C00288, C01010, C00027, C01353]</td>\n",
       "      <td>[R10092, R00005, R00602, R00132, R00009]</td>\n",
       "      <td>[R00009]</td>\n",
       "      <td>[]</td>\n",
       "      <td>[]</td>\n",
       "      <td>14</td>\n",
       "      <td>5</td>\n",
       "      <td>5</td>\n",
       "      <td>1</td>\n",
       "      <td>0</td>\n",
       "      <td>0</td>\n",
       "      <td>2529293002</td>\n",
       "      <td>archaea</td>\n",
       "    </tr>\n",
       "    <tr>\n",
       "      <th>3</th>\n",
       "      <td>[C00007, C00080, C00001, C00014, C00288, C0001...</td>\n",
       "      <td>[C00007]</td>\n",
       "      <td>[R10092, R00005, R00275, R00602, R00132, R00009]</td>\n",
       "      <td>[R00275]</td>\n",
       "      <td>[]</td>\n",
       "      <td>[]</td>\n",
       "      <td>15</td>\n",
       "      <td>1</td>\n",
       "      <td>6</td>\n",
       "      <td>1</td>\n",
       "      <td>0</td>\n",
       "      <td>0</td>\n",
       "      <td>2529293002</td>\n",
       "      <td>archaea</td>\n",
       "    </tr>\n",
       "    <tr>\n",
       "      <th>4</th>\n",
       "      <td>[C00007, C00080, C00001, C00014, C00288, C0001...</td>\n",
       "      <td>[C00704]</td>\n",
       "      <td>[R10092, R00005, R00275, R00602, R00132, R00009]</td>\n",
       "      <td>[]</td>\n",
       "      <td>[]</td>\n",
       "      <td>[]</td>\n",
       "      <td>16</td>\n",
       "      <td>1</td>\n",
       "      <td>6</td>\n",
       "      <td>0</td>\n",
       "      <td>0</td>\n",
       "      <td>0</td>\n",
       "      <td>2529293002</td>\n",
       "      <td>archaea</td>\n",
       "    </tr>\n",
       "    <tr>\n",
       "      <th>1</th>\n",
       "      <td>[C00001, C00014, C00011, C00469, C00283, C0013...</td>\n",
       "      <td>[C00282, C00237, C00014, C00011, C00067, C0013...</td>\n",
       "      <td>[R10092, R00602, R00132]</td>\n",
       "      <td>[R00132, R00602, R10092]</td>\n",
       "      <td>[]</td>\n",
       "      <td>[]</td>\n",
       "      <td>9</td>\n",
       "      <td>9</td>\n",
       "      <td>3</td>\n",
       "      <td>3</td>\n",
       "      <td>0</td>\n",
       "      <td>0</td>\n",
       "      <td>2529293211</td>\n",
       "      <td>archaea</td>\n",
       "    </tr>\n",
       "    <tr>\n",
       "      <th>2</th>\n",
       "      <td>[C00080, C00001, C00288, C00014, C00011, C0046...</td>\n",
       "      <td>[C00080, C00288, C00027, C01353]</td>\n",
       "      <td>[R10092, R06154, R00602, R00132, R00009]</td>\n",
       "      <td>[R06154, R00009]</td>\n",
       "      <td>[]</td>\n",
       "      <td>[]</td>\n",
       "      <td>13</td>\n",
       "      <td>4</td>\n",
       "      <td>5</td>\n",
       "      <td>2</td>\n",
       "      <td>0</td>\n",
       "      <td>0</td>\n",
       "      <td>2529293211</td>\n",
       "      <td>archaea</td>\n",
       "    </tr>\n",
       "    <tr>\n",
       "      <th>3</th>\n",
       "      <td>[C00007, C00080, C00001, C00288, C00014, C0001...</td>\n",
       "      <td>[C00007, C00218]</td>\n",
       "      <td>[R10092, R06154, R00275, R00602, R00132, R00009]</td>\n",
       "      <td>[R00275]</td>\n",
       "      <td>[]</td>\n",
       "      <td>[]</td>\n",
       "      <td>15</td>\n",
       "      <td>2</td>\n",
       "      <td>6</td>\n",
       "      <td>1</td>\n",
       "      <td>0</td>\n",
       "      <td>0</td>\n",
       "      <td>2529293211</td>\n",
       "      <td>archaea</td>\n",
       "    </tr>\n",
       "    <tr>\n",
       "      <th>4</th>\n",
       "      <td>[C00007, C00080, C00001, C00288, C00014, C0001...</td>\n",
       "      <td>[C00704]</td>\n",
       "      <td>[R10092, R06154, R00275, R00602, R00132, R00009]</td>\n",
       "      <td>[]</td>\n",
       "      <td>[]</td>\n",
       "      <td>[]</td>\n",
       "      <td>16</td>\n",
       "      <td>1</td>\n",
       "      <td>6</td>\n",
       "      <td>0</td>\n",
       "      <td>0</td>\n",
       "      <td>0</td>\n",
       "      <td>2529293211</td>\n",
       "      <td>archaea</td>\n",
       "    </tr>\n",
       "    <tr>\n",
       "      <th>1</th>\n",
       "      <td>[C00001, C00011, C00014, C00697, C00067, C0046...</td>\n",
       "      <td>[C00237, C00014, C00011, C00067, C00697, C0013...</td>\n",
       "      <td>[R10092, R00602, R00132]</td>\n",
       "      <td>[R00132, R00602, R10092]</td>\n",
       "      <td>[]</td>\n",
       "      <td>[]</td>\n",
       "      <td>9</td>\n",
       "      <td>9</td>\n",
       "      <td>3</td>\n",
       "      <td>3</td>\n",
       "      <td>0</td>\n",
       "      <td>0</td>\n",
       "      <td>2531839260</td>\n",
       "      <td>archaea</td>\n",
       "    </tr>\n",
       "    <tr>\n",
       "      <th>2</th>\n",
       "      <td>[C00080, C00001, C00288, C00011, C00014, C0069...</td>\n",
       "      <td>[C00080, C00288, C00027, C01353]</td>\n",
       "      <td>[R10092, R00602, R00132, R00009]</td>\n",
       "      <td>[R00009]</td>\n",
       "      <td>[]</td>\n",
       "      <td>[]</td>\n",
       "      <td>13</td>\n",
       "      <td>4</td>\n",
       "      <td>4</td>\n",
       "      <td>1</td>\n",
       "      <td>0</td>\n",
       "      <td>0</td>\n",
       "      <td>2531839260</td>\n",
       "      <td>archaea</td>\n",
       "    </tr>\n",
       "    <tr>\n",
       "      <th>3</th>\n",
       "      <td>[C00007, C00080, C00001, C00288, C00011, C0001...</td>\n",
       "      <td>[C00007]</td>\n",
       "      <td>[R10092, R00275, R00602, R00132, R00009]</td>\n",
       "      <td>[R00275]</td>\n",
       "      <td>[]</td>\n",
       "      <td>[]</td>\n",
       "      <td>14</td>\n",
       "      <td>1</td>\n",
       "      <td>5</td>\n",
       "      <td>1</td>\n",
       "      <td>0</td>\n",
       "      <td>0</td>\n",
       "      <td>2531839260</td>\n",
       "      <td>archaea</td>\n",
       "    </tr>\n",
       "    <tr>\n",
       "      <th>4</th>\n",
       "      <td>[C00007, C00080, C00001, C00288, C00011, C0001...</td>\n",
       "      <td>[C00704]</td>\n",
       "      <td>[R10092, R00275, R00602, R00132, R00009]</td>\n",
       "      <td>[]</td>\n",
       "      <td>[]</td>\n",
       "      <td>[]</td>\n",
       "      <td>15</td>\n",
       "      <td>1</td>\n",
       "      <td>5</td>\n",
       "      <td>0</td>\n",
       "      <td>0</td>\n",
       "      <td>0</td>\n",
       "      <td>2531839260</td>\n",
       "      <td>archaea</td>\n",
       "    </tr>\n",
       "    <tr>\n",
       "      <th>1</th>\n",
       "      <td>[C00001, C00011, C00014, C00469, C00283, C0013...</td>\n",
       "      <td>[C00237, C00014, C00011, C00067, C00132, C0028...</td>\n",
       "      <td>[R10092, R00131, R00602, R00132]</td>\n",
       "      <td>[R00131, R00132, R00602, R10092]</td>\n",
       "      <td>[]</td>\n",
       "      <td>[]</td>\n",
       "      <td>8</td>\n",
       "      <td>8</td>\n",
       "      <td>4</td>\n",
       "      <td>4</td>\n",
       "      <td>0</td>\n",
       "      <td>0</td>\n",
       "      <td>2554235474</td>\n",
       "      <td>archaea</td>\n",
       "    </tr>\n",
       "    <tr>\n",
       "      <th>2</th>\n",
       "      <td>[C00080, C00001, C00288, C00011, C00014, C0008...</td>\n",
       "      <td>[C00080, C00288, C00086, C00027, C01353]</td>\n",
       "      <td>[R10092, R06154, R00131, R00602, R00132, R00009]</td>\n",
       "      <td>[R06154, R00009]</td>\n",
       "      <td>[]</td>\n",
       "      <td>[]</td>\n",
       "      <td>13</td>\n",
       "      <td>5</td>\n",
       "      <td>6</td>\n",
       "      <td>2</td>\n",
       "      <td>0</td>\n",
       "      <td>0</td>\n",
       "      <td>2554235474</td>\n",
       "      <td>archaea</td>\n",
       "    </tr>\n",
       "    <tr>\n",
       "      <th>3</th>\n",
       "      <td>[C00007, C00080, C00001, C00288, C00011, C0001...</td>\n",
       "      <td>[C00007, C00218]</td>\n",
       "      <td>[R10092, R06154, R00275, R00131, R00602, R0013...</td>\n",
       "      <td>[R00275]</td>\n",
       "      <td>[]</td>\n",
       "      <td>[]</td>\n",
       "      <td>15</td>\n",
       "      <td>2</td>\n",
       "      <td>7</td>\n",
       "      <td>1</td>\n",
       "      <td>0</td>\n",
       "      <td>0</td>\n",
       "      <td>2554235474</td>\n",
       "      <td>archaea</td>\n",
       "    </tr>\n",
       "    <tr>\n",
       "      <th>4</th>\n",
       "      <td>[C00007, C00080, C00001, C00288, C00011, C0001...</td>\n",
       "      <td>[C00704]</td>\n",
       "      <td>[R10092, R06154, R00275, R00131, R00602, R0013...</td>\n",
       "      <td>[]</td>\n",
       "      <td>[]</td>\n",
       "      <td>[]</td>\n",
       "      <td>16</td>\n",
       "      <td>1</td>\n",
       "      <td>7</td>\n",
       "      <td>0</td>\n",
       "      <td>0</td>\n",
       "      <td>0</td>\n",
       "      <td>2554235474</td>\n",
       "      <td>archaea</td>\n",
       "    </tr>\n",
       "    <tr>\n",
       "      <th>1</th>\n",
       "      <td>[C00001, C00014, C00011, C00469, C00283, C0013...</td>\n",
       "      <td>[C00237, C00014, C00011, C00067, C00132, C0028...</td>\n",
       "      <td>[R10092, R00602, R00132]</td>\n",
       "      <td>[R00132, R00602, R10092]</td>\n",
       "      <td>[]</td>\n",
       "      <td>[]</td>\n",
       "      <td>8</td>\n",
       "      <td>8</td>\n",
       "      <td>3</td>\n",
       "      <td>3</td>\n",
       "      <td>0</td>\n",
       "      <td>0</td>\n",
       "      <td>2554235476</td>\n",
       "      <td>archaea</td>\n",
       "    </tr>\n",
       "    <tr>\n",
       "      <th>2</th>\n",
       "      <td>[C00080, C00001, C00014, C00288, C00011, C0046...</td>\n",
       "      <td>[C00080, C00288, C00027, C01353]</td>\n",
       "      <td>[R10092, R00602, R00132, R00009]</td>\n",
       "      <td>[R00009]</td>\n",
       "      <td>[]</td>\n",
       "      <td>[]</td>\n",
       "      <td>12</td>\n",
       "      <td>4</td>\n",
       "      <td>4</td>\n",
       "      <td>1</td>\n",
       "      <td>0</td>\n",
       "      <td>0</td>\n",
       "      <td>2554235476</td>\n",
       "      <td>archaea</td>\n",
       "    </tr>\n",
       "    <tr>\n",
       "      <th>...</th>\n",
       "      <td>...</td>\n",
       "      <td>...</td>\n",
       "      <td>...</td>\n",
       "      <td>...</td>\n",
       "      <td>...</td>\n",
       "      <td>...</td>\n",
       "      <td>...</td>\n",
       "      <td>...</td>\n",
       "      <td>...</td>\n",
       "      <td>...</td>\n",
       "      <td>...</td>\n",
       "      <td>...</td>\n",
       "      <td>...</td>\n",
       "      <td>...</td>\n",
       "    </tr>\n",
       "    <tr>\n",
       "      <th>3</th>\n",
       "      <td>[C00007, C00001, C00011, C00014, C00027, C0028...</td>\n",
       "      <td>[C00007]</td>\n",
       "      <td>[R00275, R00602, R00009]</td>\n",
       "      <td>[R00275]</td>\n",
       "      <td>[]</td>\n",
       "      <td>[]</td>\n",
       "      <td>8</td>\n",
       "      <td>1</td>\n",
       "      <td>3</td>\n",
       "      <td>1</td>\n",
       "      <td>0</td>\n",
       "      <td>0</td>\n",
       "      <td>2627853722</td>\n",
       "      <td>bacteria</td>\n",
       "    </tr>\n",
       "    <tr>\n",
       "      <th>4</th>\n",
       "      <td>[C00007, C00080, C00001, C00011, C00014, C0002...</td>\n",
       "      <td>[C00080, C00704]</td>\n",
       "      <td>[R00275, R00602, R00009]</td>\n",
       "      <td>[]</td>\n",
       "      <td>[]</td>\n",
       "      <td>[]</td>\n",
       "      <td>10</td>\n",
       "      <td>2</td>\n",
       "      <td>3</td>\n",
       "      <td>0</td>\n",
       "      <td>0</td>\n",
       "      <td>0</td>\n",
       "      <td>2627853722</td>\n",
       "      <td>bacteria</td>\n",
       "    </tr>\n",
       "    <tr>\n",
       "      <th>1</th>\n",
       "      <td>[C00001, C00011, C00014, C00067, C00469, C0013...</td>\n",
       "      <td>[C00237, C00014, C00011, C00067, C00132, C0028...</td>\n",
       "      <td>[R10092, R00131, R00602, R00132]</td>\n",
       "      <td>[R00131, R00132, R00602, R10092]</td>\n",
       "      <td>[]</td>\n",
       "      <td>[]</td>\n",
       "      <td>8</td>\n",
       "      <td>8</td>\n",
       "      <td>4</td>\n",
       "      <td>4</td>\n",
       "      <td>0</td>\n",
       "      <td>0</td>\n",
       "      <td>2636415485</td>\n",
       "      <td>bacteria</td>\n",
       "    </tr>\n",
       "    <tr>\n",
       "      <th>2</th>\n",
       "      <td>[C00001, C00080, C00288, C00011, C00014, C0002...</td>\n",
       "      <td>[C00080, C00288, C00027, C00086, C01353]</td>\n",
       "      <td>[R10092, R00131, R00602, R00132, R00009]</td>\n",
       "      <td>[R00009]</td>\n",
       "      <td>[]</td>\n",
       "      <td>[]</td>\n",
       "      <td>13</td>\n",
       "      <td>5</td>\n",
       "      <td>5</td>\n",
       "      <td>1</td>\n",
       "      <td>0</td>\n",
       "      <td>0</td>\n",
       "      <td>2636415485</td>\n",
       "      <td>bacteria</td>\n",
       "    </tr>\n",
       "    <tr>\n",
       "      <th>3</th>\n",
       "      <td>[C00001, C00080, C00007, C00288, C00011, C0001...</td>\n",
       "      <td>[C00007]</td>\n",
       "      <td>[R10092, R00275, R00131, R00602, R00132, R00009]</td>\n",
       "      <td>[R00275]</td>\n",
       "      <td>[]</td>\n",
       "      <td>[]</td>\n",
       "      <td>14</td>\n",
       "      <td>1</td>\n",
       "      <td>6</td>\n",
       "      <td>1</td>\n",
       "      <td>0</td>\n",
       "      <td>0</td>\n",
       "      <td>2636415485</td>\n",
       "      <td>bacteria</td>\n",
       "    </tr>\n",
       "    <tr>\n",
       "      <th>4</th>\n",
       "      <td>[C00001, C00080, C00007, C00288, C00011, C0001...</td>\n",
       "      <td>[C00704]</td>\n",
       "      <td>[R10092, R00275, R00131, R00602, R00132, R00009]</td>\n",
       "      <td>[]</td>\n",
       "      <td>[]</td>\n",
       "      <td>[]</td>\n",
       "      <td>15</td>\n",
       "      <td>1</td>\n",
       "      <td>6</td>\n",
       "      <td>0</td>\n",
       "      <td>0</td>\n",
       "      <td>0</td>\n",
       "      <td>2636415485</td>\n",
       "      <td>bacteria</td>\n",
       "    </tr>\n",
       "    <tr>\n",
       "      <th>1</th>\n",
       "      <td>[C00001, C00014, C00011, C00469, C00283, C0013...</td>\n",
       "      <td>[C00237, C00014, C00011, C00067, C00132, C0028...</td>\n",
       "      <td>[R10092, R00602, R00132]</td>\n",
       "      <td>[R00132, R00602, R10092]</td>\n",
       "      <td>[]</td>\n",
       "      <td>[]</td>\n",
       "      <td>8</td>\n",
       "      <td>8</td>\n",
       "      <td>3</td>\n",
       "      <td>3</td>\n",
       "      <td>0</td>\n",
       "      <td>0</td>\n",
       "      <td>2675903229</td>\n",
       "      <td>bacteria</td>\n",
       "    </tr>\n",
       "    <tr>\n",
       "      <th>2</th>\n",
       "      <td>[C00001, C00080, C00014, C00011, C00288, C0046...</td>\n",
       "      <td>[C00080, C00288, C00027, C01353]</td>\n",
       "      <td>[R10092, R00602, R00132, R00009]</td>\n",
       "      <td>[R00009]</td>\n",
       "      <td>[]</td>\n",
       "      <td>[]</td>\n",
       "      <td>12</td>\n",
       "      <td>4</td>\n",
       "      <td>4</td>\n",
       "      <td>1</td>\n",
       "      <td>0</td>\n",
       "      <td>0</td>\n",
       "      <td>2675903229</td>\n",
       "      <td>bacteria</td>\n",
       "    </tr>\n",
       "    <tr>\n",
       "      <th>3</th>\n",
       "      <td>[C00001, C00080, C00014, C00011, C00288, C0000...</td>\n",
       "      <td>[C00007]</td>\n",
       "      <td>[R10092, R00275, R00602, R00132, R00009]</td>\n",
       "      <td>[R00275]</td>\n",
       "      <td>[]</td>\n",
       "      <td>[]</td>\n",
       "      <td>13</td>\n",
       "      <td>1</td>\n",
       "      <td>5</td>\n",
       "      <td>1</td>\n",
       "      <td>0</td>\n",
       "      <td>0</td>\n",
       "      <td>2675903229</td>\n",
       "      <td>bacteria</td>\n",
       "    </tr>\n",
       "    <tr>\n",
       "      <th>4</th>\n",
       "      <td>[C00001, C00080, C00014, C00011, C00288, C0000...</td>\n",
       "      <td>[C00704]</td>\n",
       "      <td>[R10092, R00275, R00602, R00132, R00009]</td>\n",
       "      <td>[]</td>\n",
       "      <td>[]</td>\n",
       "      <td>[]</td>\n",
       "      <td>14</td>\n",
       "      <td>1</td>\n",
       "      <td>5</td>\n",
       "      <td>0</td>\n",
       "      <td>0</td>\n",
       "      <td>0</td>\n",
       "      <td>2675903229</td>\n",
       "      <td>bacteria</td>\n",
       "    </tr>\n",
       "    <tr>\n",
       "      <th>1</th>\n",
       "      <td>[C00001, C00011, C00014, C00283, C00067, C0046...</td>\n",
       "      <td>[C00014, C00011, C00067, C00132, C00283, C0046...</td>\n",
       "      <td>[R10092, R00005, R00602, R00614, R00132]</td>\n",
       "      <td>[R00005, R00132, R00602, R00614, R10092]</td>\n",
       "      <td>[]</td>\n",
       "      <td>[]</td>\n",
       "      <td>7</td>\n",
       "      <td>7</td>\n",
       "      <td>5</td>\n",
       "      <td>5</td>\n",
       "      <td>0</td>\n",
       "      <td>0</td>\n",
       "      <td>2693429870</td>\n",
       "      <td>bacteria</td>\n",
       "    </tr>\n",
       "    <tr>\n",
       "      <th>2</th>\n",
       "      <td>[C00001, C00080, C00288, C00011, C00014, C0101...</td>\n",
       "      <td>[C00080, C00288, C01010, C00027, C01353, C00058]</td>\n",
       "      <td>[R10092, R00005, R00602, R00614, R00132, R00009]</td>\n",
       "      <td>[R00009]</td>\n",
       "      <td>[]</td>\n",
       "      <td>[]</td>\n",
       "      <td>13</td>\n",
       "      <td>6</td>\n",
       "      <td>6</td>\n",
       "      <td>1</td>\n",
       "      <td>0</td>\n",
       "      <td>0</td>\n",
       "      <td>2693429870</td>\n",
       "      <td>bacteria</td>\n",
       "    </tr>\n",
       "    <tr>\n",
       "      <th>3</th>\n",
       "      <td>[C00001, C00007, C00080, C00288, C00011, C0001...</td>\n",
       "      <td>[C00007]</td>\n",
       "      <td>[R10092, R00005, R00275, R00602, R00614, R0013...</td>\n",
       "      <td>[R00275]</td>\n",
       "      <td>[]</td>\n",
       "      <td>[]</td>\n",
       "      <td>14</td>\n",
       "      <td>1</td>\n",
       "      <td>7</td>\n",
       "      <td>1</td>\n",
       "      <td>0</td>\n",
       "      <td>0</td>\n",
       "      <td>2693429870</td>\n",
       "      <td>bacteria</td>\n",
       "    </tr>\n",
       "    <tr>\n",
       "      <th>4</th>\n",
       "      <td>[C00001, C00007, C00080, C00288, C00011, C0001...</td>\n",
       "      <td>[C00704]</td>\n",
       "      <td>[R10092, R00005, R00275, R00602, R00614, R0013...</td>\n",
       "      <td>[]</td>\n",
       "      <td>[]</td>\n",
       "      <td>[]</td>\n",
       "      <td>15</td>\n",
       "      <td>1</td>\n",
       "      <td>7</td>\n",
       "      <td>0</td>\n",
       "      <td>0</td>\n",
       "      <td>0</td>\n",
       "      <td>2693429870</td>\n",
       "      <td>bacteria</td>\n",
       "    </tr>\n",
       "    <tr>\n",
       "      <th>1</th>\n",
       "      <td>[C00014, C00001, C00011, C00469, C00283, C0028...</td>\n",
       "      <td>[C00282, C00014, C00011, C00067, C00132, C0028...</td>\n",
       "      <td>[]</td>\n",
       "      <td>[]</td>\n",
       "      <td>[]</td>\n",
       "      <td>[]</td>\n",
       "      <td>8</td>\n",
       "      <td>8</td>\n",
       "      <td>0</td>\n",
       "      <td>0</td>\n",
       "      <td>0</td>\n",
       "      <td>0</td>\n",
       "      <td>2703719061</td>\n",
       "      <td>bacteria</td>\n",
       "    </tr>\n",
       "    <tr>\n",
       "      <th>1</th>\n",
       "      <td>[C00001, C00014, C00011, C00469, C00283, C0013...</td>\n",
       "      <td>[C01326, C00014, C00011, C00067, C01438, C0013...</td>\n",
       "      <td>[R10092, R00005, R00131, R00602, R07316, R0013...</td>\n",
       "      <td>[R00005, R00131, R00132, R00602, R07316, R1007...</td>\n",
       "      <td>[]</td>\n",
       "      <td>[]</td>\n",
       "      <td>9</td>\n",
       "      <td>9</td>\n",
       "      <td>7</td>\n",
       "      <td>7</td>\n",
       "      <td>0</td>\n",
       "      <td>0</td>\n",
       "      <td>2703719202</td>\n",
       "      <td>bacteria</td>\n",
       "    </tr>\n",
       "    <tr>\n",
       "      <th>2</th>\n",
       "      <td>[C00080, C00001, C00288, C00014, C01010, C0156...</td>\n",
       "      <td>[C00080, C00288, C01010, C01563, C01417, C0008...</td>\n",
       "      <td>[R10092, R00005, R03546, R00131, R00602, R0731...</td>\n",
       "      <td>[R03546, R00009]</td>\n",
       "      <td>[]</td>\n",
       "      <td>[]</td>\n",
       "      <td>17</td>\n",
       "      <td>8</td>\n",
       "      <td>9</td>\n",
       "      <td>2</td>\n",
       "      <td>0</td>\n",
       "      <td>0</td>\n",
       "      <td>2703719202</td>\n",
       "      <td>bacteria</td>\n",
       "    </tr>\n",
       "    <tr>\n",
       "      <th>3</th>\n",
       "      <td>[C00007, C00080, C00001, C00288, C00014, C0101...</td>\n",
       "      <td>[C00007]</td>\n",
       "      <td>[R10092, R00005, R00275, R03546, R00131, R0060...</td>\n",
       "      <td>[R00275]</td>\n",
       "      <td>[]</td>\n",
       "      <td>[]</td>\n",
       "      <td>18</td>\n",
       "      <td>1</td>\n",
       "      <td>10</td>\n",
       "      <td>1</td>\n",
       "      <td>0</td>\n",
       "      <td>0</td>\n",
       "      <td>2703719202</td>\n",
       "      <td>bacteria</td>\n",
       "    </tr>\n",
       "    <tr>\n",
       "      <th>4</th>\n",
       "      <td>[C00007, C00080, C00001, C00288, C00014, C0101...</td>\n",
       "      <td>[C00704]</td>\n",
       "      <td>[R10092, R00005, R00275, R03546, R00131, R0060...</td>\n",
       "      <td>[]</td>\n",
       "      <td>[]</td>\n",
       "      <td>[]</td>\n",
       "      <td>19</td>\n",
       "      <td>1</td>\n",
       "      <td>10</td>\n",
       "      <td>0</td>\n",
       "      <td>0</td>\n",
       "      <td>0</td>\n",
       "      <td>2703719202</td>\n",
       "      <td>bacteria</td>\n",
       "    </tr>\n",
       "    <tr>\n",
       "      <th>1</th>\n",
       "      <td>[C00001, C00011, C00014, C00469, C00283, C0013...</td>\n",
       "      <td>[C00237, C00014, C00011, C00067, C00132, C0028...</td>\n",
       "      <td>[R10092, R00131, R00602, R00132]</td>\n",
       "      <td>[R00131, R00132, R00602, R10092]</td>\n",
       "      <td>[]</td>\n",
       "      <td>[]</td>\n",
       "      <td>8</td>\n",
       "      <td>8</td>\n",
       "      <td>4</td>\n",
       "      <td>4</td>\n",
       "      <td>0</td>\n",
       "      <td>0</td>\n",
       "      <td>637000020</td>\n",
       "      <td>bacteria</td>\n",
       "    </tr>\n",
       "    <tr>\n",
       "      <th>2</th>\n",
       "      <td>[C00001, C00080, C00288, C00011, C00014, C0002...</td>\n",
       "      <td>[C00080, C00288, C00027, C00086, C01353]</td>\n",
       "      <td>[R10092, R00131, R00602, R00132, R00009]</td>\n",
       "      <td>[R00009]</td>\n",
       "      <td>[]</td>\n",
       "      <td>[]</td>\n",
       "      <td>13</td>\n",
       "      <td>5</td>\n",
       "      <td>5</td>\n",
       "      <td>1</td>\n",
       "      <td>0</td>\n",
       "      <td>0</td>\n",
       "      <td>637000020</td>\n",
       "      <td>bacteria</td>\n",
       "    </tr>\n",
       "    <tr>\n",
       "      <th>3</th>\n",
       "      <td>[C00001, C00080, C00288, C00011, C00014, C0000...</td>\n",
       "      <td>[C00007]</td>\n",
       "      <td>[R10092, R00275, R00131, R00602, R00132, R00009]</td>\n",
       "      <td>[R00275]</td>\n",
       "      <td>[]</td>\n",
       "      <td>[]</td>\n",
       "      <td>14</td>\n",
       "      <td>1</td>\n",
       "      <td>6</td>\n",
       "      <td>1</td>\n",
       "      <td>0</td>\n",
       "      <td>0</td>\n",
       "      <td>637000020</td>\n",
       "      <td>bacteria</td>\n",
       "    </tr>\n",
       "    <tr>\n",
       "      <th>4</th>\n",
       "      <td>[C00001, C00080, C00288, C00011, C00014, C0000...</td>\n",
       "      <td>[C00704]</td>\n",
       "      <td>[R10092, R00275, R00131, R00602, R00132, R00009]</td>\n",
       "      <td>[]</td>\n",
       "      <td>[]</td>\n",
       "      <td>[]</td>\n",
       "      <td>15</td>\n",
       "      <td>1</td>\n",
       "      <td>6</td>\n",
       "      <td>0</td>\n",
       "      <td>0</td>\n",
       "      <td>0</td>\n",
       "      <td>637000020</td>\n",
       "      <td>bacteria</td>\n",
       "    </tr>\n",
       "    <tr>\n",
       "      <th>1</th>\n",
       "      <td>[C00001, C00011, C00014, C00283, C00067, C0046...</td>\n",
       "      <td>[C00014, C00011, C00067, C00132, C00283, C0046...</td>\n",
       "      <td>[R10092, R00005, R00131, R00602, R00132]</td>\n",
       "      <td>[R00005, R00131, R00132, R00602, R10092]</td>\n",
       "      <td>[]</td>\n",
       "      <td>[]</td>\n",
       "      <td>7</td>\n",
       "      <td>7</td>\n",
       "      <td>5</td>\n",
       "      <td>5</td>\n",
       "      <td>0</td>\n",
       "      <td>0</td>\n",
       "      <td>640753031</td>\n",
       "      <td>bacteria</td>\n",
       "    </tr>\n",
       "    <tr>\n",
       "      <th>2</th>\n",
       "      <td>[C00080, C00001, C00288, C00011, C00014, C0101...</td>\n",
       "      <td>[C00080, C00288, C01010, C00086, C00027, C01353]</td>\n",
       "      <td>[R10092, R00005, R00131, R00602, R00132, R00009]</td>\n",
       "      <td>[R00009]</td>\n",
       "      <td>[]</td>\n",
       "      <td>[]</td>\n",
       "      <td>13</td>\n",
       "      <td>6</td>\n",
       "      <td>6</td>\n",
       "      <td>1</td>\n",
       "      <td>0</td>\n",
       "      <td>0</td>\n",
       "      <td>640753031</td>\n",
       "      <td>bacteria</td>\n",
       "    </tr>\n",
       "    <tr>\n",
       "      <th>3</th>\n",
       "      <td>[C00007, C00080, C00001, C00288, C00011, C0001...</td>\n",
       "      <td>[C00007]</td>\n",
       "      <td>[R10092, R00005, R00275, R00131, R00602, R0013...</td>\n",
       "      <td>[R00275]</td>\n",
       "      <td>[]</td>\n",
       "      <td>[]</td>\n",
       "      <td>14</td>\n",
       "      <td>1</td>\n",
       "      <td>7</td>\n",
       "      <td>1</td>\n",
       "      <td>0</td>\n",
       "      <td>0</td>\n",
       "      <td>640753031</td>\n",
       "      <td>bacteria</td>\n",
       "    </tr>\n",
       "    <tr>\n",
       "      <th>4</th>\n",
       "      <td>[C00007, C00080, C00001, C00288, C00011, C0001...</td>\n",
       "      <td>[C00704]</td>\n",
       "      <td>[R10092, R00005, R00275, R00131, R00602, R0013...</td>\n",
       "      <td>[]</td>\n",
       "      <td>[]</td>\n",
       "      <td>[]</td>\n",
       "      <td>15</td>\n",
       "      <td>1</td>\n",
       "      <td>7</td>\n",
       "      <td>0</td>\n",
       "      <td>0</td>\n",
       "      <td>0</td>\n",
       "      <td>640753031</td>\n",
       "      <td>bacteria</td>\n",
       "    </tr>\n",
       "    <tr>\n",
       "      <th>1</th>\n",
       "      <td>[C00014, C00001, C00011, C00697, C00282, C0028...</td>\n",
       "      <td>[C00282, C00237, C00014, C00011, C00067, C0069...</td>\n",
       "      <td>[R10092, R00132]</td>\n",
       "      <td>[R00132, R10092]</td>\n",
       "      <td>[]</td>\n",
       "      <td>[]</td>\n",
       "      <td>9</td>\n",
       "      <td>9</td>\n",
       "      <td>2</td>\n",
       "      <td>2</td>\n",
       "      <td>0</td>\n",
       "      <td>0</td>\n",
       "      <td>648028058</td>\n",
       "      <td>bacteria</td>\n",
       "    </tr>\n",
       "    <tr>\n",
       "      <th>2</th>\n",
       "      <td>[C00014, C00001, C00080, C00011, C00288, C0069...</td>\n",
       "      <td>[C00080, C00288, C01353]</td>\n",
       "      <td>[R10092, R00132]</td>\n",
       "      <td>[]</td>\n",
       "      <td>[]</td>\n",
       "      <td>[]</td>\n",
       "      <td>12</td>\n",
       "      <td>3</td>\n",
       "      <td>2</td>\n",
       "      <td>0</td>\n",
       "      <td>0</td>\n",
       "      <td>0</td>\n",
       "      <td>648028058</td>\n",
       "      <td>bacteria</td>\n",
       "    </tr>\n",
       "    <tr>\n",
       "      <th>1</th>\n",
       "      <td>[C00014, C00001, C00011, C00469, C00282, C0028...</td>\n",
       "      <td>[C00282, C00237, C00014, C00011, C00067, C0013...</td>\n",
       "      <td>[]</td>\n",
       "      <td>[]</td>\n",
       "      <td>[]</td>\n",
       "      <td>[]</td>\n",
       "      <td>9</td>\n",
       "      <td>9</td>\n",
       "      <td>0</td>\n",
       "      <td>0</td>\n",
       "      <td>0</td>\n",
       "      <td>0</td>\n",
       "      <td>650716094</td>\n",
       "      <td>bacteria</td>\n",
       "    </tr>\n",
       "  </tbody>\n",
       "</table>\n",
       "<p>262 rows × 14 columns</p>\n",
       "</div>"
      ],
      "text/plain": [
       "                                 compounds_cumulative  \\\n",
       "1   [C00001, C00014, C00011, C00697, C00067, C0046...   \n",
       "2   [C00080, C00001, C00014, C00288, C00011, C0069...   \n",
       "3   [C00007, C00080, C00001, C00014, C00288, C0001...   \n",
       "4   [C00007, C00080, C00001, C00014, C00288, C0001...   \n",
       "1   [C00001, C00011, C00014, C00067, C00469, C0028...   \n",
       "2   [C00080, C00001, C00288, C00011, C00014, C0006...   \n",
       "3   [C00007, C00080, C00001, C00288, C00011, C0001...   \n",
       "4   [C00007, C00080, C00001, C00288, C00011, C0001...   \n",
       "1   [C00001, C00014, C00011, C00469, C00283, C0013...   \n",
       "2   [C00080, C00001, C00014, C00288, C00011, C0046...   \n",
       "3   [C00007, C00080, C00001, C00014, C00288, C0001...   \n",
       "4   [C00007, C00080, C00001, C00014, C00288, C0001...   \n",
       "1   [C00001, C00014, C00011, C00469, C00283, C0013...   \n",
       "2   [C00080, C00001, C00014, C00288, C00011, C0101...   \n",
       "3   [C00007, C00080, C00001, C00014, C00288, C0001...   \n",
       "4   [C00007, C00080, C00001, C00014, C00288, C0001...   \n",
       "1   [C00001, C00014, C00011, C00469, C00283, C0013...   \n",
       "2   [C00080, C00001, C00288, C00014, C00011, C0046...   \n",
       "3   [C00007, C00080, C00001, C00288, C00014, C0001...   \n",
       "4   [C00007, C00080, C00001, C00288, C00014, C0001...   \n",
       "1   [C00001, C00011, C00014, C00697, C00067, C0046...   \n",
       "2   [C00080, C00001, C00288, C00011, C00014, C0069...   \n",
       "3   [C00007, C00080, C00001, C00288, C00011, C0001...   \n",
       "4   [C00007, C00080, C00001, C00288, C00011, C0001...   \n",
       "1   [C00001, C00011, C00014, C00469, C00283, C0013...   \n",
       "2   [C00080, C00001, C00288, C00011, C00014, C0008...   \n",
       "3   [C00007, C00080, C00001, C00288, C00011, C0001...   \n",
       "4   [C00007, C00080, C00001, C00288, C00011, C0001...   \n",
       "1   [C00001, C00014, C00011, C00469, C00283, C0013...   \n",
       "2   [C00080, C00001, C00014, C00288, C00011, C0046...   \n",
       "..                                                ...   \n",
       "3   [C00007, C00001, C00011, C00014, C00027, C0028...   \n",
       "4   [C00007, C00080, C00001, C00011, C00014, C0002...   \n",
       "1   [C00001, C00011, C00014, C00067, C00469, C0013...   \n",
       "2   [C00001, C00080, C00288, C00011, C00014, C0002...   \n",
       "3   [C00001, C00080, C00007, C00288, C00011, C0001...   \n",
       "4   [C00001, C00080, C00007, C00288, C00011, C0001...   \n",
       "1   [C00001, C00014, C00011, C00469, C00283, C0013...   \n",
       "2   [C00001, C00080, C00014, C00011, C00288, C0046...   \n",
       "3   [C00001, C00080, C00014, C00011, C00288, C0000...   \n",
       "4   [C00001, C00080, C00014, C00011, C00288, C0000...   \n",
       "1   [C00001, C00011, C00014, C00283, C00067, C0046...   \n",
       "2   [C00001, C00080, C00288, C00011, C00014, C0101...   \n",
       "3   [C00001, C00007, C00080, C00288, C00011, C0001...   \n",
       "4   [C00001, C00007, C00080, C00288, C00011, C0001...   \n",
       "1   [C00014, C00001, C00011, C00469, C00283, C0028...   \n",
       "1   [C00001, C00014, C00011, C00469, C00283, C0013...   \n",
       "2   [C00080, C00001, C00288, C00014, C01010, C0156...   \n",
       "3   [C00007, C00080, C00001, C00288, C00014, C0101...   \n",
       "4   [C00007, C00080, C00001, C00288, C00014, C0101...   \n",
       "1   [C00001, C00011, C00014, C00469, C00283, C0013...   \n",
       "2   [C00001, C00080, C00288, C00011, C00014, C0002...   \n",
       "3   [C00001, C00080, C00288, C00011, C00014, C0000...   \n",
       "4   [C00001, C00080, C00288, C00011, C00014, C0000...   \n",
       "1   [C00001, C00011, C00014, C00283, C00067, C0046...   \n",
       "2   [C00080, C00001, C00288, C00011, C00014, C0101...   \n",
       "3   [C00007, C00080, C00001, C00288, C00011, C0001...   \n",
       "4   [C00007, C00080, C00001, C00288, C00011, C0001...   \n",
       "1   [C00014, C00001, C00011, C00697, C00282, C0028...   \n",
       "2   [C00014, C00001, C00080, C00011, C00288, C0069...   \n",
       "1   [C00014, C00001, C00011, C00469, C00282, C0028...   \n",
       "\n",
       "                                        compounds_new  \\\n",
       "1   [C00282, C00237, C00014, C00011, C00067, C0069...   \n",
       "2            [C00080, C00288, C00086, C00027, C01353]   \n",
       "3                                    [C00007, C00218]   \n",
       "4                                            [C00704]   \n",
       "1   [C00237, C00014, C00011, C00067, C00132, C0028...   \n",
       "2                    [C00080, C00288, C00027, C01353]   \n",
       "3                                            [C00007]   \n",
       "4                                            [C00704]   \n",
       "1   [C00282, C00237, C00014, C00011, C00067, C0013...   \n",
       "2                    [C00080, C00288, C00027, C01353]   \n",
       "3                                    [C00007, C00218]   \n",
       "4                                            [C00704]   \n",
       "1   [C00282, C00237, C00014, C00011, C00067, C0013...   \n",
       "2            [C00080, C00288, C01010, C00027, C01353]   \n",
       "3                                            [C00007]   \n",
       "4                                            [C00704]   \n",
       "1   [C00282, C00237, C00014, C00011, C00067, C0013...   \n",
       "2                    [C00080, C00288, C00027, C01353]   \n",
       "3                                    [C00007, C00218]   \n",
       "4                                            [C00704]   \n",
       "1   [C00237, C00014, C00011, C00067, C00697, C0013...   \n",
       "2                    [C00080, C00288, C00027, C01353]   \n",
       "3                                            [C00007]   \n",
       "4                                            [C00704]   \n",
       "1   [C00237, C00014, C00011, C00067, C00132, C0028...   \n",
       "2            [C00080, C00288, C00086, C00027, C01353]   \n",
       "3                                    [C00007, C00218]   \n",
       "4                                            [C00704]   \n",
       "1   [C00237, C00014, C00011, C00067, C00132, C0028...   \n",
       "2                    [C00080, C00288, C00027, C01353]   \n",
       "..                                                ...   \n",
       "3                                            [C00007]   \n",
       "4                                    [C00080, C00704]   \n",
       "1   [C00237, C00014, C00011, C00067, C00132, C0028...   \n",
       "2            [C00080, C00288, C00027, C00086, C01353]   \n",
       "3                                            [C00007]   \n",
       "4                                            [C00704]   \n",
       "1   [C00237, C00014, C00011, C00067, C00132, C0028...   \n",
       "2                    [C00080, C00288, C00027, C01353]   \n",
       "3                                            [C00007]   \n",
       "4                                            [C00704]   \n",
       "1   [C00014, C00011, C00067, C00132, C00283, C0046...   \n",
       "2    [C00080, C00288, C01010, C00027, C01353, C00058]   \n",
       "3                                            [C00007]   \n",
       "4                                            [C00704]   \n",
       "1   [C00282, C00014, C00011, C00067, C00132, C0028...   \n",
       "1   [C01326, C00014, C00011, C00067, C01438, C0013...   \n",
       "2   [C00080, C00288, C01010, C01563, C01417, C0008...   \n",
       "3                                            [C00007]   \n",
       "4                                            [C00704]   \n",
       "1   [C00237, C00014, C00011, C00067, C00132, C0028...   \n",
       "2            [C00080, C00288, C00027, C00086, C01353]   \n",
       "3                                            [C00007]   \n",
       "4                                            [C00704]   \n",
       "1   [C00014, C00011, C00067, C00132, C00283, C0046...   \n",
       "2    [C00080, C00288, C01010, C00086, C00027, C01353]   \n",
       "3                                            [C00007]   \n",
       "4                                            [C00704]   \n",
       "1   [C00282, C00237, C00014, C00011, C00067, C0069...   \n",
       "2                            [C00080, C00288, C01353]   \n",
       "1   [C00282, C00237, C00014, C00011, C00067, C0013...   \n",
       "\n",
       "                                 reactions_cumulative  \\\n",
       "1                    [R10092, R00131, R00602, R00132]   \n",
       "2    [R10092, R06154, R00131, R00602, R00132, R00009]   \n",
       "3   [R10092, R06154, R00275, R00131, R00602, R0013...   \n",
       "4   [R10092, R06154, R00275, R00131, R00602, R0013...   \n",
       "1                            [R10092, R00602, R00132]   \n",
       "2                    [R10092, R00602, R00132, R00009]   \n",
       "3            [R10092, R00275, R00602, R00132, R00009]   \n",
       "4            [R10092, R00275, R00602, R00132, R00009]   \n",
       "1                            [R10092, R00602, R00132]   \n",
       "2            [R10092, R06154, R00602, R00132, R00009]   \n",
       "3    [R10092, R06154, R00275, R00602, R00132, R00009]   \n",
       "4    [R10092, R06154, R00275, R00602, R00132, R00009]   \n",
       "1                    [R10092, R00005, R00602, R00132]   \n",
       "2            [R10092, R00005, R00602, R00132, R00009]   \n",
       "3    [R10092, R00005, R00275, R00602, R00132, R00009]   \n",
       "4    [R10092, R00005, R00275, R00602, R00132, R00009]   \n",
       "1                            [R10092, R00602, R00132]   \n",
       "2            [R10092, R06154, R00602, R00132, R00009]   \n",
       "3    [R10092, R06154, R00275, R00602, R00132, R00009]   \n",
       "4    [R10092, R06154, R00275, R00602, R00132, R00009]   \n",
       "1                            [R10092, R00602, R00132]   \n",
       "2                    [R10092, R00602, R00132, R00009]   \n",
       "3            [R10092, R00275, R00602, R00132, R00009]   \n",
       "4            [R10092, R00275, R00602, R00132, R00009]   \n",
       "1                    [R10092, R00131, R00602, R00132]   \n",
       "2    [R10092, R06154, R00131, R00602, R00132, R00009]   \n",
       "3   [R10092, R06154, R00275, R00131, R00602, R0013...   \n",
       "4   [R10092, R06154, R00275, R00131, R00602, R0013...   \n",
       "1                            [R10092, R00602, R00132]   \n",
       "2                    [R10092, R00602, R00132, R00009]   \n",
       "..                                                ...   \n",
       "3                            [R00275, R00602, R00009]   \n",
       "4                            [R00275, R00602, R00009]   \n",
       "1                    [R10092, R00131, R00602, R00132]   \n",
       "2            [R10092, R00131, R00602, R00132, R00009]   \n",
       "3    [R10092, R00275, R00131, R00602, R00132, R00009]   \n",
       "4    [R10092, R00275, R00131, R00602, R00132, R00009]   \n",
       "1                            [R10092, R00602, R00132]   \n",
       "2                    [R10092, R00602, R00132, R00009]   \n",
       "3            [R10092, R00275, R00602, R00132, R00009]   \n",
       "4            [R10092, R00275, R00602, R00132, R00009]   \n",
       "1            [R10092, R00005, R00602, R00614, R00132]   \n",
       "2    [R10092, R00005, R00602, R00614, R00132, R00009]   \n",
       "3   [R10092, R00005, R00275, R00602, R00614, R0013...   \n",
       "4   [R10092, R00005, R00275, R00602, R00614, R0013...   \n",
       "1                                                  []   \n",
       "1   [R10092, R00005, R00131, R00602, R07316, R0013...   \n",
       "2   [R10092, R00005, R03546, R00131, R00602, R0731...   \n",
       "3   [R10092, R00005, R00275, R03546, R00131, R0060...   \n",
       "4   [R10092, R00005, R00275, R03546, R00131, R0060...   \n",
       "1                    [R10092, R00131, R00602, R00132]   \n",
       "2            [R10092, R00131, R00602, R00132, R00009]   \n",
       "3    [R10092, R00275, R00131, R00602, R00132, R00009]   \n",
       "4    [R10092, R00275, R00131, R00602, R00132, R00009]   \n",
       "1            [R10092, R00005, R00131, R00602, R00132]   \n",
       "2    [R10092, R00005, R00131, R00602, R00132, R00009]   \n",
       "3   [R10092, R00005, R00275, R00131, R00602, R0013...   \n",
       "4   [R10092, R00005, R00275, R00131, R00602, R0013...   \n",
       "1                                    [R10092, R00132]   \n",
       "2                                    [R10092, R00132]   \n",
       "1                                                  []   \n",
       "\n",
       "                                        reactions_new targets_cumulative  \\\n",
       "1                    [R00131, R00132, R00602, R10092]                 []   \n",
       "2                                    [R06154, R00009]                 []   \n",
       "3                                            [R00275]                 []   \n",
       "4                                                  []                 []   \n",
       "1                            [R00132, R00602, R10092]                 []   \n",
       "2                                            [R00009]                 []   \n",
       "3                                            [R00275]                 []   \n",
       "4                                                  []                 []   \n",
       "1                            [R00132, R00602, R10092]                 []   \n",
       "2                                    [R06154, R00009]                 []   \n",
       "3                                            [R00275]                 []   \n",
       "4                                                  []                 []   \n",
       "1                    [R00005, R00132, R00602, R10092]                 []   \n",
       "2                                            [R00009]                 []   \n",
       "3                                            [R00275]                 []   \n",
       "4                                                  []                 []   \n",
       "1                            [R00132, R00602, R10092]                 []   \n",
       "2                                    [R06154, R00009]                 []   \n",
       "3                                            [R00275]                 []   \n",
       "4                                                  []                 []   \n",
       "1                            [R00132, R00602, R10092]                 []   \n",
       "2                                            [R00009]                 []   \n",
       "3                                            [R00275]                 []   \n",
       "4                                                  []                 []   \n",
       "1                    [R00131, R00132, R00602, R10092]                 []   \n",
       "2                                    [R06154, R00009]                 []   \n",
       "3                                            [R00275]                 []   \n",
       "4                                                  []                 []   \n",
       "1                            [R00132, R00602, R10092]                 []   \n",
       "2                                            [R00009]                 []   \n",
       "..                                                ...                ...   \n",
       "3                                            [R00275]                 []   \n",
       "4                                                  []                 []   \n",
       "1                    [R00131, R00132, R00602, R10092]                 []   \n",
       "2                                            [R00009]                 []   \n",
       "3                                            [R00275]                 []   \n",
       "4                                                  []                 []   \n",
       "1                            [R00132, R00602, R10092]                 []   \n",
       "2                                            [R00009]                 []   \n",
       "3                                            [R00275]                 []   \n",
       "4                                                  []                 []   \n",
       "1            [R00005, R00132, R00602, R00614, R10092]                 []   \n",
       "2                                            [R00009]                 []   \n",
       "3                                            [R00275]                 []   \n",
       "4                                                  []                 []   \n",
       "1                                                  []                 []   \n",
       "1   [R00005, R00131, R00132, R00602, R07316, R1007...                 []   \n",
       "2                                    [R03546, R00009]                 []   \n",
       "3                                            [R00275]                 []   \n",
       "4                                                  []                 []   \n",
       "1                    [R00131, R00132, R00602, R10092]                 []   \n",
       "2                                            [R00009]                 []   \n",
       "3                                            [R00275]                 []   \n",
       "4                                                  []                 []   \n",
       "1            [R00005, R00131, R00132, R00602, R10092]                 []   \n",
       "2                                            [R00009]                 []   \n",
       "3                                            [R00275]                 []   \n",
       "4                                                  []                 []   \n",
       "1                                    [R00132, R10092]                 []   \n",
       "2                                                  []                 []   \n",
       "1                                                  []                 []   \n",
       "\n",
       "   targets_new  n_compounds_cumulative  n_compounds_new  \\\n",
       "1           []                      10               10   \n",
       "2           []                      15                5   \n",
       "3           []                      17                2   \n",
       "4           []                      18                1   \n",
       "1           []                       8                8   \n",
       "2           []                      12                4   \n",
       "3           []                      13                1   \n",
       "4           []                      14                1   \n",
       "1           []                       9                9   \n",
       "2           []                      13                4   \n",
       "3           []                      15                2   \n",
       "4           []                      16                1   \n",
       "1           []                       9                9   \n",
       "2           []                      14                5   \n",
       "3           []                      15                1   \n",
       "4           []                      16                1   \n",
       "1           []                       9                9   \n",
       "2           []                      13                4   \n",
       "3           []                      15                2   \n",
       "4           []                      16                1   \n",
       "1           []                       9                9   \n",
       "2           []                      13                4   \n",
       "3           []                      14                1   \n",
       "4           []                      15                1   \n",
       "1           []                       8                8   \n",
       "2           []                      13                5   \n",
       "3           []                      15                2   \n",
       "4           []                      16                1   \n",
       "1           []                       8                8   \n",
       "2           []                      12                4   \n",
       "..         ...                     ...              ...   \n",
       "3           []                       8                1   \n",
       "4           []                      10                2   \n",
       "1           []                       8                8   \n",
       "2           []                      13                5   \n",
       "3           []                      14                1   \n",
       "4           []                      15                1   \n",
       "1           []                       8                8   \n",
       "2           []                      12                4   \n",
       "3           []                      13                1   \n",
       "4           []                      14                1   \n",
       "1           []                       7                7   \n",
       "2           []                      13                6   \n",
       "3           []                      14                1   \n",
       "4           []                      15                1   \n",
       "1           []                       8                8   \n",
       "1           []                       9                9   \n",
       "2           []                      17                8   \n",
       "3           []                      18                1   \n",
       "4           []                      19                1   \n",
       "1           []                       8                8   \n",
       "2           []                      13                5   \n",
       "3           []                      14                1   \n",
       "4           []                      15                1   \n",
       "1           []                       7                7   \n",
       "2           []                      13                6   \n",
       "3           []                      14                1   \n",
       "4           []                      15                1   \n",
       "1           []                       9                9   \n",
       "2           []                      12                3   \n",
       "1           []                       9                9   \n",
       "\n",
       "    n_reactions_cumulative  n_reactions_new  n_targets_cumulative  \\\n",
       "1                        4                4                     0   \n",
       "2                        6                2                     0   \n",
       "3                        7                1                     0   \n",
       "4                        7                0                     0   \n",
       "1                        3                3                     0   \n",
       "2                        4                1                     0   \n",
       "3                        5                1                     0   \n",
       "4                        5                0                     0   \n",
       "1                        3                3                     0   \n",
       "2                        5                2                     0   \n",
       "3                        6                1                     0   \n",
       "4                        6                0                     0   \n",
       "1                        4                4                     0   \n",
       "2                        5                1                     0   \n",
       "3                        6                1                     0   \n",
       "4                        6                0                     0   \n",
       "1                        3                3                     0   \n",
       "2                        5                2                     0   \n",
       "3                        6                1                     0   \n",
       "4                        6                0                     0   \n",
       "1                        3                3                     0   \n",
       "2                        4                1                     0   \n",
       "3                        5                1                     0   \n",
       "4                        5                0                     0   \n",
       "1                        4                4                     0   \n",
       "2                        6                2                     0   \n",
       "3                        7                1                     0   \n",
       "4                        7                0                     0   \n",
       "1                        3                3                     0   \n",
       "2                        4                1                     0   \n",
       "..                     ...              ...                   ...   \n",
       "3                        3                1                     0   \n",
       "4                        3                0                     0   \n",
       "1                        4                4                     0   \n",
       "2                        5                1                     0   \n",
       "3                        6                1                     0   \n",
       "4                        6                0                     0   \n",
       "1                        3                3                     0   \n",
       "2                        4                1                     0   \n",
       "3                        5                1                     0   \n",
       "4                        5                0                     0   \n",
       "1                        5                5                     0   \n",
       "2                        6                1                     0   \n",
       "3                        7                1                     0   \n",
       "4                        7                0                     0   \n",
       "1                        0                0                     0   \n",
       "1                        7                7                     0   \n",
       "2                        9                2                     0   \n",
       "3                       10                1                     0   \n",
       "4                       10                0                     0   \n",
       "1                        4                4                     0   \n",
       "2                        5                1                     0   \n",
       "3                        6                1                     0   \n",
       "4                        6                0                     0   \n",
       "1                        5                5                     0   \n",
       "2                        6                1                     0   \n",
       "3                        7                1                     0   \n",
       "4                        7                0                     0   \n",
       "1                        2                2                     0   \n",
       "2                        2                0                     0   \n",
       "1                        0                0                     0   \n",
       "\n",
       "    n_targets_new      org_id    domain  \n",
       "1               0  2506520044   archaea  \n",
       "2               0  2506520044   archaea  \n",
       "3               0  2506520044   archaea  \n",
       "4               0  2506520044   archaea  \n",
       "1               0  2506783009   archaea  \n",
       "2               0  2506783009   archaea  \n",
       "3               0  2506783009   archaea  \n",
       "4               0  2506783009   archaea  \n",
       "1               0  2517287024   archaea  \n",
       "2               0  2517287024   archaea  \n",
       "3               0  2517287024   archaea  \n",
       "4               0  2517287024   archaea  \n",
       "1               0  2529293002   archaea  \n",
       "2               0  2529293002   archaea  \n",
       "3               0  2529293002   archaea  \n",
       "4               0  2529293002   archaea  \n",
       "1               0  2529293211   archaea  \n",
       "2               0  2529293211   archaea  \n",
       "3               0  2529293211   archaea  \n",
       "4               0  2529293211   archaea  \n",
       "1               0  2531839260   archaea  \n",
       "2               0  2531839260   archaea  \n",
       "3               0  2531839260   archaea  \n",
       "4               0  2531839260   archaea  \n",
       "1               0  2554235474   archaea  \n",
       "2               0  2554235474   archaea  \n",
       "3               0  2554235474   archaea  \n",
       "4               0  2554235474   archaea  \n",
       "1               0  2554235476   archaea  \n",
       "2               0  2554235476   archaea  \n",
       "..            ...         ...       ...  \n",
       "3               0  2627853722  bacteria  \n",
       "4               0  2627853722  bacteria  \n",
       "1               0  2636415485  bacteria  \n",
       "2               0  2636415485  bacteria  \n",
       "3               0  2636415485  bacteria  \n",
       "4               0  2636415485  bacteria  \n",
       "1               0  2675903229  bacteria  \n",
       "2               0  2675903229  bacteria  \n",
       "3               0  2675903229  bacteria  \n",
       "4               0  2675903229  bacteria  \n",
       "1               0  2693429870  bacteria  \n",
       "2               0  2693429870  bacteria  \n",
       "3               0  2693429870  bacteria  \n",
       "4               0  2693429870  bacteria  \n",
       "1               0  2703719061  bacteria  \n",
       "1               0  2703719202  bacteria  \n",
       "2               0  2703719202  bacteria  \n",
       "3               0  2703719202  bacteria  \n",
       "4               0  2703719202  bacteria  \n",
       "1               0   637000020  bacteria  \n",
       "2               0   637000020  bacteria  \n",
       "3               0   637000020  bacteria  \n",
       "4               0   637000020  bacteria  \n",
       "1               0   640753031  bacteria  \n",
       "2               0   640753031  bacteria  \n",
       "3               0   640753031  bacteria  \n",
       "4               0   640753031  bacteria  \n",
       "1               0   648028058  bacteria  \n",
       "2               0   648028058  bacteria  \n",
       "1               0   650716094  bacteria  \n",
       "\n",
       "[262 rows x 14 columns]"
      ]
     },
     "execution_count": 38,
     "metadata": {},
     "output_type": "execute_result"
    }
   ],
   "source": [
    "df"
   ]
  },
  {
   "cell_type": "markdown",
   "metadata": {},
   "source": [
    "### Look at some properties of stats dicts"
   ]
  },
  {
   "cell_type": "code",
   "execution_count": 62,
   "metadata": {},
   "outputs": [
    {
     "data": {
      "text/plain": [
       "(array([  2.,   0.,   2.,   9.,  11.,  45.,   9.,   2.,   2.,   2.]),\n",
       " array([  2. ,   3.2,   4.4,   5.6,   6.8,   8. ,   9.2,  10.4,  11.6,\n",
       "         12.8,  14. ]),\n",
       " <a list of 10 Patch objects>)"
      ]
     },
     "execution_count": 62,
     "metadata": {},
     "output_type": "execute_result"
    },
    {
     "data": {
      "image/png": "[encoded data removed]",
      "text/plain": [
       "<Figure size 432x288 with 1 Axes>"
      ]
     },
     "metadata": {},
     "output_type": "display_data"
    }
   ],
   "source": [
    "plt.hist([len(d['scope_seeds']) for d in stats_dicts])"
   ]
  },
  {
   "cell_type": "code",
   "execution_count": 65,
   "metadata": {},
   "outputs": [
    {
     "data": {
      "text/plain": [
       "(array([  1.,   0.,   0.,   1.,   2.,   4.,   8.,  12.,  25.,  31.]),\n",
       " array([ 32. ,  34.9,  37.8,  40.7,  43.6,  46.5,  49.4,  52.3,  55.2,\n",
       "         58.1,  61. ]),\n",
       " <a list of 10 Patch objects>)"
      ]
     },
     "execution_count": 65,
     "metadata": {},
     "output_type": "execute_result"
    },
    {
     "data": {
      "image/png": "[encoded data removed]",
      "text/plain": [
       "<Figure size 432x288 with 1 Axes>"
      ]
     },
     "metadata": {},
     "output_type": "display_data"
    }
   ],
   "source": [
    "plt.hist([len(d['scope_targets']) for d in stats_dicts])"
   ]
  },
  {
   "cell_type": "code",
   "execution_count": 63,
   "metadata": {},
   "outputs": [
    {
     "data": {
      "text/plain": [
       "(array([  2.,   0.,   3.,  10.,   8.,  15.,  13.,  18.,  11.,   4.]),\n",
       " array([  161. ,   323.5,   486. ,   648.5,   811. ,   973.5,  1136. ,\n",
       "         1298.5,  1461. ,  1623.5,  1786. ]),\n",
       " <a list of 10 Patch objects>)"
      ]
     },
     "execution_count": 63,
     "metadata": {},
     "output_type": "execute_result"
    },
    {
     "data": {
      "image/png": "[encoded data removed]",
      "text/plain": [
       "<Figure size 432x288 with 1 Axes>"
      ]
     },
     "metadata": {},
     "output_type": "display_data"
    }
   ],
   "source": [
    "plt.hist([len(d['scope_compounds']) for d in stats_dicts])"
   ]
  },
  {
   "cell_type": "code",
   "execution_count": 64,
   "metadata": {},
   "outputs": [
    {
     "data": {
      "text/plain": [
       "(array([  2.,   1.,   7.,   6.,   8.,  16.,  11.,  19.,  11.,   3.]),\n",
       " array([   85. ,   241.4,   397.8,   554.2,   710.6,   867. ,  1023.4,\n",
       "         1179.8,  1336.2,  1492.6,  1649. ]),\n",
       " <a list of 10 Patch objects>)"
      ]
     },
     "execution_count": 64,
     "metadata": {},
     "output_type": "execute_result"
    },
    {
     "data": {
      "image/png": "[encoded data removed]",
      "text/plain": [
       "<Figure size 432x288 with 1 Axes>"
      ]
     },
     "metadata": {},
     "output_type": "display_data"
    }
   ],
   "source": [
    "plt.hist([len(d['scope_reactions']) for d in stats_dicts])"
   ]
  },
  {
   "cell_type": "markdown",
   "metadata": {},
   "source": [
    "## Check seeds that contain phosphorous"
   ]
  },
  {
   "cell_type": "code",
   "execution_count": 66,
   "metadata": {},
   "outputs": [],
   "source": [
    "INDIR = \"../results/formatted/ph_edge_jsons_P/\"\n",
    "\n",
    "generation_dfs, stats_dicts = read_formatted_jsons(INDIR)\n",
    "generation_dfs = twist_dfs(generation_dfs)\n",
    "generation_dfs = add_n_to_cols(generation_dfs)\n",
    "# generation_dfs = add_tags(generation_dfs,cpds_to_tag)\n",
    "generation_dfs = add_domain_and_orgid(generation_dfs,stats_dicts)\n",
    "df = pd.concat(generation_dfs)"
   ]
  },
  {
   "cell_type": "code",
   "execution_count": 71,
   "metadata": {},
   "outputs": [
    {
     "data": {
      "0": {
       "mode": "lines+markers",
       "name": "n_compounds_cumulative",
       "type": "scatter",
       "uid": "b8624487-c8c4-11e8-b3f3-003ee1c68427",
       "x": [
        1,
        2,
        3,
        4
       ],
       "y": [
        11,
        17,
        19,
        20
       ]
      },
      "1": {
       "mode": "lines+markers",
       "name": "n_compounds_cumulative",
       "type": "scatter",
       "uid": "b862471c-c8c4-11e8-bdb5-003ee1c68427",
       "x": [
        1,
        2,
        3,
        4
       ],
       "y": [
        9,
        14,
        15,
        16
       ]
      },
      "10": {
       "mode": "lines+markers",
       "name": "n_compounds_cumulative",
       "type": "scatter",
       "uid": "b86253f5-c8c4-11e8-8570-003ee1c68427",
       "x": [
        1,
        2,
        3,
        4
       ],
       "y": [
        9,
        14,
        15,
        16
       ]
      },
      "11": {
       "mode": "lines+markers",
       "name": "n_compounds_cumulative",
       "type": "scatter",
       "uid": "b8625554-c8c4-11e8-839d-003ee1c68427",
       "x": [
        1,
        2
       ],
       "y": [
        7,
        8
       ]
      },
      "12": {
       "mode": "lines+markers",
       "name": "n_compounds_cumulative",
       "type": "scatter",
       "uid": "b86256bd-c8c4-11e8-b067-003ee1c68427",
       "x": [
        1,
        2
       ],
       "y": [
        8,
        9
       ]
      },
      "13": {
       "mode": "lines+markers",
       "name": "n_compounds_cumulative",
       "type": "scatter",
       "uid": "b8625823-c8c4-11e8-9558-003ee1c68427",
       "x": [
        1,
        2
       ],
       "y": [
        9,
        10
       ]
      },
      "14": {
       "mode": "lines+markers",
       "name": "n_compounds_cumulative",
       "type": "scatter",
       "uid": "b8625980-c8c4-11e8-9df4-003ee1c68427",
       "x": [
        1,
        2
       ],
       "y": [
        9,
        10
       ]
      },
      "15": {
       "mode": "lines+markers",
       "name": "n_compounds_cumulative",
       "type": "scatter",
       "uid": "b8625ae8-c8c4-11e8-82c7-003ee1c68427",
       "x": [
        1,
        2
       ],
       "y": [
        7,
        8
       ]
      },
      "16": {
       "mode": "lines+markers",
       "name": "n_compounds_cumulative",
       "type": "scatter",
       "uid": "b8625c51-c8c4-11e8-809a-003ee1c68427",
       "x": [
        1,
        2
       ],
       "y": [
        7,
        8
       ]
      },
      "17": {
       "mode": "lines+markers",
       "name": "n_compounds_cumulative",
       "type": "scatter",
       "uid": "b8625db0-c8c4-11e8-9a68-003ee1c68427",
       "x": [
        1,
        2
       ],
       "y": [
        7,
        8
       ]
      },
      "18": {
       "mode": "lines+markers",
       "name": "n_compounds_cumulative",
       "type": "scatter",
       "uid": "b8625f17-c8c4-11e8-b3d9-003ee1c68427",
       "x": [
        1,
        2
       ],
       "y": [
        3,
        4
       ]
      },
      "19": {
       "mode": "lines+markers",
       "name": "n_compounds_cumulative",
       "type": "scatter",
       "uid": "b8626075-c8c4-11e8-9509-003ee1c68427",
       "x": [
        1,
        2
       ],
       "y": [
        4,
        5
       ]
      },
      "2": {
       "mode": "lines+markers",
       "name": "n_compounds_cumulative",
       "type": "scatter",
       "uid": "b86248a1-c8c4-11e8-b39f-003ee1c68427",
       "x": [
        1,
        2,
        3,
        4
       ],
       "y": [
        10,
        15,
        17,
        18
       ]
      },
      "20": {
       "mode": "lines+markers",
       "name": "n_compounds_cumulative",
       "type": "scatter",
       "uid": "b86261de-c8c4-11e8-8f33-003ee1c68427",
       "x": [
        1,
        2,
        3,
        4
       ],
       "y": [
        8,
        13,
        15,
        16
       ]
      },
      "21": {
       "mode": "lines+markers",
       "name": "n_compounds_cumulative",
       "type": "scatter",
       "uid": "b862633d-c8c4-11e8-8d05-003ee1c68427",
       "x": [
        1,
        2
       ],
       "y": [
        9,
        10
       ]
      },
      "22": {
       "mode": "lines+markers",
       "name": "n_compounds_cumulative",
       "type": "scatter",
       "uid": "b86264a3-c8c4-11e8-b8f9-003ee1c68427",
       "x": [
        1,
        2
       ],
       "y": [
        10,
        11
       ]
      },
      "23": {
       "mode": "lines+markers",
       "name": "n_compounds_cumulative",
       "type": "scatter",
       "uid": "b862660c-c8c4-11e8-8f24-003ee1c68427",
       "x": [
        1,
        2
       ],
       "y": [
        8,
        13
       ]
      },
      "24": {
       "mode": "lines+markers",
       "name": "n_compounds_cumulative",
       "type": "scatter",
       "uid": "b862676b-c8c4-11e8-851d-003ee1c68427",
       "x": [
        1,
        2
       ],
       "y": [
        9,
        10
       ]
      },
      "25": {
       "mode": "lines+markers",
       "name": "n_compounds_cumulative",
       "type": "scatter",
       "uid": "b86268d1-c8c4-11e8-84e3-003ee1c68427",
       "x": [
        1,
        2
       ],
       "y": [
        7,
        8
       ]
      },
      "26": {
       "mode": "lines+markers",
       "name": "n_compounds_cumulative",
       "type": "scatter",
       "uid": "b8626a2e-c8c4-11e8-b21d-003ee1c68427",
       "x": [
        1,
        2
       ],
       "y": [
        7,
        8
       ]
      },
      "27": {
       "mode": "lines+markers",
       "name": "n_compounds_cumulative",
       "type": "scatter",
       "uid": "b8626b97-c8c4-11e8-9093-003ee1c68427",
       "x": [
        1,
        2
       ],
       "y": [
        10,
        11
       ]
      },
      "28": {
       "mode": "lines+markers",
       "name": "n_compounds_cumulative",
       "type": "scatter",
       "uid": "b8626cf5-c8c4-11e8-b948-003ee1c68427",
       "x": [
        1,
        2,
        3,
        4
       ],
       "y": [
        8,
        13,
        14,
        15
       ]
      },
      "29": {
       "mode": "lines+markers",
       "name": "n_compounds_cumulative",
       "type": "scatter",
       "uid": "b8626e5e-c8c4-11e8-8b7c-003ee1c68427",
       "x": [
        1,
        2,
        3,
        4
       ],
       "y": [
        10,
        16,
        17,
        18
       ]
      },
      "3": {
       "mode": "lines+markers",
       "name": "n_compounds_cumulative",
       "type": "scatter",
       "uid": "b8624a14-c8c4-11e8-ab2f-003ee1c68427",
       "x": [
        1,
        2,
        3,
        4
       ],
       "y": [
        10,
        16,
        17,
        18
       ]
      },
      "30": {
       "mode": "lines+markers",
       "name": "n_compounds_cumulative",
       "type": "scatter",
       "uid": "b8626fba-c8c4-11e8-b628-003ee1c68427",
       "x": [
        1,
        2,
        3,
        4
       ],
       "y": [
        10,
        16,
        17,
        18
       ]
      },
      "31": {
       "mode": "lines+markers",
       "name": "n_compounds_cumulative",
       "type": "scatter",
       "uid": "b8627123-c8c4-11e8-9745-003ee1c68427",
       "x": [
        1,
        2,
        3,
        4
       ],
       "y": [
        11,
        17,
        18,
        19
       ]
      },
      "32": {
       "mode": "lines+markers",
       "name": "n_compounds_cumulative",
       "type": "scatter",
       "uid": "b862728c-c8c4-11e8-ad57-003ee1c68427",
       "x": [
        1,
        2,
        3,
        4
       ],
       "y": [
        7,
        9,
        10,
        12
       ]
      },
      "33": {
       "mode": "lines+markers",
       "name": "n_compounds_cumulative",
       "type": "scatter",
       "uid": "b86273eb-c8c4-11e8-92c8-003ee1c68427",
       "x": [
        1,
        2,
        3,
        4
       ],
       "y": [
        8,
        13,
        15,
        16
       ]
      },
      "34": {
       "mode": "lines+markers",
       "name": "n_compounds_cumulative",
       "type": "scatter",
       "uid": "b8627551-c8c4-11e8-b40c-003ee1c68427",
       "x": [
        1,
        2,
        3,
        4
       ],
       "y": [
        9,
        15,
        16,
        17
       ]
      },
      "35": {
       "mode": "lines+markers",
       "name": "n_compounds_cumulative",
       "type": "scatter",
       "uid": "b86276ba-c8c4-11e8-b8b9-003ee1c68427",
       "x": [
        1,
        2,
        3,
        4
       ],
       "y": [
        11,
        17,
        18,
        19
       ]
      },
      "36": {
       "mode": "lines+markers",
       "name": "n_compounds_cumulative",
       "type": "scatter",
       "uid": "b8627819-c8c4-11e8-9b7c-003ee1c68427",
       "x": [
        1,
        2,
        3,
        4
       ],
       "y": [
        10,
        16,
        17,
        18
       ]
      },
      "37": {
       "mode": "lines+markers",
       "name": "n_compounds_cumulative",
       "type": "scatter",
       "uid": "b8627980-c8c4-11e8-a524-003ee1c68427",
       "x": [
        1,
        2,
        3,
        4
       ],
       "y": [
        9,
        16,
        17,
        18
       ]
      },
      "38": {
       "mode": "lines+markers",
       "name": "n_compounds_cumulative",
       "type": "scatter",
       "uid": "b8627ae8-c8c4-11e8-adda-003ee1c68427",
       "x": [
        1,
        2,
        3,
        4
       ],
       "y": [
        11,
        19,
        21,
        22
       ]
      },
      "39": {
       "mode": "lines+markers",
       "name": "n_compounds_cumulative",
       "type": "scatter",
       "uid": "b8627c45-c8c4-11e8-a7f8-003ee1c68427",
       "x": [
        1,
        2,
        3,
        4
       ],
       "y": [
        10,
        16,
        17,
        18
       ]
      },
      "4": {
       "mode": "lines+markers",
       "name": "n_compounds_cumulative",
       "type": "scatter",
       "uid": "b8624b85-c8c4-11e8-969b-003ee1c68427",
       "x": [
        1,
        2,
        3,
        4
       ],
       "y": [
        10,
        15,
        17,
        18
       ]
      },
      "40": {
       "mode": "lines+markers",
       "name": "n_compounds_cumulative",
       "type": "scatter",
       "uid": "b8627dae-c8c4-11e8-83e7-003ee1c68427",
       "x": [
        1,
        2,
        3,
        4
       ],
       "y": [
        10,
        17,
        19,
        20
       ]
      },
      "41": {
       "mode": "lines+markers",
       "name": "n_compounds_cumulative",
       "type": "scatter",
       "uid": "b8627f0c-c8c4-11e8-918d-003ee1c68427",
       "x": [
        1,
        2,
        3,
        4
       ],
       "y": [
        11,
        17,
        18,
        19
       ]
      },
      "42": {
       "mode": "lines+markers",
       "name": "n_compounds_cumulative",
       "type": "scatter",
       "uid": "b862807d-c8c4-11e8-9145-003ee1c68427",
       "x": [
        1,
        2,
        3,
        4
       ],
       "y": [
        10,
        15,
        17,
        18
       ]
      },
      "43": {
       "mode": "lines+markers",
       "name": "n_compounds_cumulative",
       "type": "scatter",
       "uid": "b86281dc-c8c4-11e8-bab4-003ee1c68427",
       "x": [
        1,
        2,
        3,
        4
       ],
       "y": [
        9,
        15,
        17,
        18
       ]
      },
      "44": {
       "mode": "lines+markers",
       "name": "n_compounds_cumulative",
       "type": "scatter",
       "uid": "b862833a-c8c4-11e8-8bb9-003ee1c68427",
       "x": [
        1,
        2,
        3,
        4
       ],
       "y": [
        11,
        17,
        19,
        20
       ]
      },
      "45": {
       "mode": "lines+markers",
       "name": "n_compounds_cumulative",
       "type": "scatter",
       "uid": "b86284a1-c8c4-11e8-8824-003ee1c68427",
       "x": [
        1,
        2,
        3,
        4
       ],
       "y": [
        15,
        24,
        27,
        28
       ]
      },
      "46": {
       "mode": "lines+markers",
       "name": "n_compounds_cumulative",
       "type": "scatter",
       "uid": "b862860a-c8c4-11e8-9b99-003ee1c68427",
       "x": [
        1,
        2,
        3,
        4
       ],
       "y": [
        10,
        15,
        16,
        17
       ]
      },
      "47": {
       "mode": "lines+markers",
       "name": "n_compounds_cumulative",
       "type": "scatter",
       "uid": "b8628799-c8c4-11e8-9460-003ee1c68427",
       "x": [
        1,
        2,
        3,
        4
       ],
       "y": [
        9,
        11,
        12,
        14
       ]
      },
      "48": {
       "mode": "lines+markers",
       "name": "n_compounds_cumulative",
       "type": "scatter",
       "uid": "b86288f5-c8c4-11e8-8edc-003ee1c68427",
       "x": [
        1,
        2,
        3,
        4
       ],
       "y": [
        8,
        13,
        14,
        15
       ]
      },
      "49": {
       "mode": "lines+markers",
       "name": "n_compounds_cumulative",
       "type": "scatter",
       "uid": "b8628a54-c8c4-11e8-9993-003ee1c68427",
       "x": [
        1,
        2,
        3,
        4
       ],
       "y": [
        11,
        19,
        21,
        22
       ]
      },
      "5": {
       "mode": "lines+markers",
       "name": "n_compounds_cumulative",
       "type": "scatter",
       "uid": "b8624cee-c8c4-11e8-9088-003ee1c68427",
       "x": [
        1,
        2,
        3,
        4
       ],
       "y": [
        10,
        15,
        16,
        17
       ]
      },
      "50": {
       "mode": "lines+markers",
       "name": "n_compounds_cumulative",
       "type": "scatter",
       "uid": "b8628bb3-c8c4-11e8-9f02-003ee1c68427",
       "x": [
        1,
        2
       ],
       "y": [
        6,
        10
       ]
      },
      "51": {
       "mode": "lines+markers",
       "name": "n_compounds_cumulative",
       "type": "scatter",
       "uid": "b8628d11-c8c4-11e8-8307-003ee1c68427",
       "x": [
        1,
        2
       ],
       "y": [
        6,
        10
       ]
      },
      "52": {
       "mode": "lines+markers",
       "name": "n_compounds_cumulative",
       "type": "scatter",
       "uid": "b8628e70-c8c4-11e8-ae22-003ee1c68427",
       "x": [
        1,
        2,
        3,
        4
       ],
       "y": [
        12,
        21,
        23,
        24
       ]
      },
      "53": {
       "mode": "lines+markers",
       "name": "n_compounds_cumulative",
       "type": "scatter",
       "uid": "b8628fd9-c8c4-11e8-b0d3-003ee1c68427",
       "x": [
        1,
        2,
        3,
        4
       ],
       "y": [
        13,
        18,
        20,
        21
       ]
      },
      "54": {
       "mode": "lines+markers",
       "name": "n_compounds_cumulative",
       "type": "scatter",
       "uid": "b8629135-c8c4-11e8-8972-003ee1c68427",
       "x": [
        1,
        2,
        3,
        4
       ],
       "y": [
        10,
        15,
        17,
        18
       ]
      },
      "55": {
       "mode": "lines+markers",
       "name": "n_compounds_cumulative",
       "type": "scatter",
       "uid": "b8629294-c8c4-11e8-9882-003ee1c68427",
       "x": [
        1,
        2,
        3,
        4
       ],
       "y": [
        9,
        17,
        19,
        20
       ]
      },
      "56": {
       "mode": "lines+markers",
       "name": "n_compounds_cumulative",
       "type": "scatter",
       "uid": "b86293f0-c8c4-11e8-b1aa-003ee1c68427",
       "x": [
        1,
        2,
        3,
        4
       ],
       "y": [
        10,
        15,
        16,
        17
       ]
      },
      "57": {
       "mode": "lines+markers",
       "name": "n_compounds_cumulative",
       "type": "scatter",
       "uid": "b86295d1-c8c4-11e8-b4ed-003ee1c68427",
       "x": [
        1,
        2,
        3,
        4
       ],
       "y": [
        10,
        15,
        16,
        17
       ]
      },
      "58": {
       "mode": "lines+markers",
       "name": "n_compounds_cumulative",
       "type": "scatter",
       "uid": "b8629745-c8c4-11e8-ac52-003ee1c68427",
       "x": [
        1,
        2,
        3,
        4
       ],
       "y": [
        8,
        13,
        14,
        15
       ]
      },
      "59": {
       "mode": "lines+markers",
       "name": "n_compounds_cumulative",
       "type": "scatter",
       "uid": "b8629938-c8c4-11e8-a49a-003ee1c68427",
       "x": [
        1,
        2,
        3,
        4
       ],
       "y": [
        12,
        18,
        20,
        21
       ]
      },
      "6": {
       "mode": "lines+markers",
       "name": "n_compounds_cumulative",
       "type": "scatter",
       "uid": "b8624e5e-c8c4-11e8-940d-003ee1c68427",
       "x": [
        1,
        2,
        3,
        4
       ],
       "y": [
        9,
        15,
        17,
        18
       ]
      },
      "60": {
       "mode": "lines+markers",
       "name": "n_compounds_cumulative",
       "type": "scatter",
       "uid": "b8629aa8-c8c4-11e8-87f1-003ee1c68427",
       "x": [
        1,
        2,
        3,
        4
       ],
       "y": [
        11,
        19,
        21,
        22
       ]
      },
      "61": {
       "mode": "lines+markers",
       "name": "n_compounds_cumulative",
       "type": "scatter",
       "uid": "b8629c1c-c8c4-11e8-b4d5-003ee1c68427",
       "x": [
        1,
        2,
        3,
        4
       ],
       "y": [
        8,
        13,
        14,
        15
       ]
      },
      "62": {
       "mode": "lines+markers",
       "name": "n_compounds_cumulative",
       "type": "scatter",
       "uid": "b8629d97-c8c4-11e8-8498-003ee1c68427",
       "x": [
        1,
        2,
        3,
        4
       ],
       "y": [
        11,
        16,
        17,
        18
       ]
      },
      "63": {
       "mode": "lines+markers",
       "name": "n_compounds_cumulative",
       "type": "scatter",
       "uid": "b8629f0a-c8c4-11e8-922e-003ee1c68427",
       "x": [
        1,
        2,
        3
       ],
       "y": [
        13,
        18,
        20
       ]
      },
      "64": {
       "mode": "lines+markers",
       "name": "n_compounds_cumulative",
       "type": "scatter",
       "uid": "b862a07a-c8c4-11e8-adf8-003ee1c68427",
       "x": [
        1,
        2,
        3,
        4
       ],
       "y": [
        7,
        13,
        14,
        15
       ]
      },
      "65": {
       "mode": "lines+markers",
       "name": "n_compounds_cumulative",
       "type": "scatter",
       "uid": "b862a1f8-c8c4-11e8-817a-003ee1c68427",
       "x": [
        1,
        2,
        3,
        4
       ],
       "y": [
        9,
        17,
        19,
        20
       ]
      },
      "66": {
       "mode": "lines+markers",
       "name": "n_compounds_cumulative",
       "type": "scatter",
       "uid": "b862a3e1-c8c4-11e8-b033-003ee1c68427",
       "x": [
        1,
        2
       ],
       "y": [
        10,
        11
       ]
      },
      "67": {
       "mode": "lines+markers",
       "name": "n_compounds_cumulative",
       "type": "scatter",
       "uid": "b862a554-c8c4-11e8-933b-003ee1c68427",
       "x": [
        1,
        2
       ],
       "y": [
        9,
        13
       ]
      },
      "68": {
       "mode": "lines+markers",
       "name": "n_compounds_cumulative",
       "type": "scatter",
       "uid": "b862a733-c8c4-11e8-81fb-003ee1c68427",
       "x": [
        1,
        2
       ],
       "y": [
        9,
        10
       ]
      },
      "69": {
       "mode": "lines+markers",
       "name": "n_compounds_cumulative",
       "type": "scatter",
       "uid": "b862a891-c8c4-11e8-a161-003ee1c68427",
       "x": [
        1,
        2,
        3,
        4
       ],
       "y": [
        10,
        15,
        16,
        17
       ]
      },
      "7": {
       "mode": "lines+markers",
       "name": "n_compounds_cumulative",
       "type": "scatter",
       "uid": "b8624fbd-c8c4-11e8-a89a-003ee1c68427",
       "x": [
        1,
        2,
        3,
        4
       ],
       "y": [
        9,
        14,
        15,
        16
       ]
      },
      "70": {
       "mode": "lines+markers",
       "name": "n_compounds_cumulative",
       "type": "scatter",
       "uid": "b862a9ee-c8c4-11e8-aa67-003ee1c68427",
       "x": [
        1,
        2,
        3,
        4
       ],
       "y": [
        9,
        14,
        15,
        16
       ]
      },
      "71": {
       "mode": "lines+markers",
       "name": "n_compounds_cumulative",
       "type": "scatter",
       "uid": "b862ab42-c8c4-11e8-a57b-003ee1c68427",
       "x": [
        1,
        2,
        3,
        4
       ],
       "y": [
        14,
        22,
        24,
        25
       ]
      },
      "72": {
       "mode": "lines+markers",
       "name": "n_compounds_cumulative",
       "type": "scatter",
       "uid": "b862ac99-c8c4-11e8-a2c5-003ee1c68427",
       "x": [
        1,
        2
       ],
       "y": [
        8,
        9
       ]
      },
      "73": {
       "mode": "lines+markers",
       "name": "n_compounds_cumulative",
       "type": "scatter",
       "uid": "b862adeb-c8c4-11e8-9aaf-003ee1c68427",
       "x": [
        1,
        2
       ],
       "y": [
        9,
        10
       ]
      },
      "74": {
       "mode": "lines+markers",
       "name": "n_compounds_cumulative",
       "type": "scatter",
       "uid": "b862af40-c8c4-11e8-9c7e-003ee1c68427",
       "x": [
        1,
        2,
        3,
        4
       ],
       "y": [
        7,
        9,
        10,
        12
       ]
      },
      "75": {
       "mode": "lines+markers",
       "name": "n_compounds_cumulative",
       "type": "scatter",
       "uid": "b862b094-c8c4-11e8-afec-003ee1c68427",
       "x": [
        1,
        2,
        3,
        4
       ],
       "y": [
        9,
        15,
        16,
        17
       ]
      },
      "76": {
       "mode": "lines+markers",
       "name": "n_compounds_cumulative",
       "type": "scatter",
       "uid": "b862b1e8-c8c4-11e8-a3d8-003ee1c68427",
       "x": [
        1,
        2,
        3,
        4
       ],
       "y": [
        9,
        14,
        15,
        16
       ]
      },
      "77": {
       "mode": "lines+markers",
       "name": "n_compounds_cumulative",
       "type": "scatter",
       "uid": "b862b33d-c8c4-11e8-bd89-003ee1c68427",
       "x": [
        1,
        2,
        3,
        4
       ],
       "y": [
        8,
        15,
        16,
        17
       ]
      },
      "78": {
       "mode": "lines+markers",
       "name": "n_compounds_cumulative",
       "type": "scatter",
       "uid": "b862b485-c8c4-11e8-afc2-003ee1c68427",
       "x": [
        1,
        2
       ],
       "y": [
        9,
        10
       ]
      },
      "79": {
       "mode": "lines+markers",
       "name": "n_compounds_cumulative",
       "type": "scatter",
       "uid": "b862b5e3-c8c4-11e8-8844-003ee1c68427",
       "x": [
        1,
        2,
        3,
        4
       ],
       "y": [
        10,
        19,
        21,
        22
       ]
      },
      "8": {
       "mode": "lines+markers",
       "name": "n_compounds_cumulative",
       "type": "scatter",
       "uid": "b8625126-c8c4-11e8-b8ff-003ee1c68427",
       "x": [
        1,
        2,
        3,
        4
       ],
       "y": [
        10,
        16,
        18,
        19
       ]
      },
      "80": {
       "mode": "lines+markers",
       "name": "n_compounds_cumulative",
       "type": "scatter",
       "uid": "b862b738-c8c4-11e8-84fd-003ee1c68427",
       "x": [
        1,
        2,
        3,
        4
       ],
       "y": [
        9,
        15,
        16,
        17
       ]
      },
      "81": {
       "mode": "lines+markers",
       "name": "n_compounds_cumulative",
       "type": "scatter",
       "uid": "b862b882-c8c4-11e8-a0ad-003ee1c68427",
       "x": [
        1,
        2,
        3,
        4
       ],
       "y": [
        8,
        15,
        16,
        17
       ]
      },
      "82": {
       "mode": "lines+markers",
       "name": "n_compounds_cumulative",
       "type": "scatter",
       "uid": "b862b9d7-c8c4-11e8-91e2-003ee1c68427",
       "x": [
        1,
        2
       ],
       "y": [
        10,
        14
       ]
      },
      "83": {
       "mode": "lines+markers",
       "name": "n_compounds_cumulative",
       "type": "scatter",
       "uid": "b862bb28-c8c4-11e8-a9f0-003ee1c68427",
       "x": [
        1,
        2
       ],
       "y": [
        10,
        11
       ]
      },
      "9": {
       "mode": "lines+markers",
       "name": "n_compounds_cumulative",
       "type": "scatter",
       "uid": "b862528f-c8c4-11e8-a487-003ee1c68427",
       "x": [
        1,
        2,
        3,
        4
       ],
       "y": [
        9,
        14,
        15,
        16
       ]
      },
      "image/png": "[encoded data removed]"
     },
     "metadata": {},
     "output_type": "display_data"
    }
   ],
   "source": [
    "cool_plots_many(df,'n_compounds_cumulative')"
   ]
  },
  {
   "cell_type": "code",
   "execution_count": 72,
   "metadata": {},
   "outputs": [
    {
     "data": {
      "0": {
       "mode": "lines+markers",
       "name": "n_targets_cumulative",
       "type": "scatter",
       "uid": "c69b3d28-c8c4-11e8-bc74-003ee1c68427",
       "x": [
        1,
        2,
        3,
        4
       ],
       "y": [
        0,
        0,
        0,
        0
       ]
      },
      "1": {
       "mode": "lines+markers",
       "name": "n_targets_cumulative",
       "type": "scatter",
       "uid": "c69b3fbd-c8c4-11e8-b0e8-003ee1c68427",
       "x": [
        1,
        2,
        3,
        4
       ],
       "y": [
        0,
        0,
        0,
        0
       ]
      },
      "10": {
       "mode": "lines+markers",
       "name": "n_targets_cumulative",
       "type": "scatter",
       "uid": "c69b4c99-c8c4-11e8-9afb-003ee1c68427",
       "x": [
        1,
        2,
        3,
        4
       ],
       "y": [
        0,
        0,
        0,
        0
       ]
      },
      "11": {
       "mode": "lines+markers",
       "name": "n_targets_cumulative",
       "type": "scatter",
       "uid": "c69b4df5-c8c4-11e8-8d4f-003ee1c68427",
       "x": [
        1,
        2
       ],
       "y": [
        0,
        0
       ]
      },
      "12": {
       "mode": "lines+markers",
       "name": "n_targets_cumulative",
       "type": "scatter",
       "uid": "c69b4f54-c8c4-11e8-a1b8-003ee1c68427",
       "x": [
        1,
        2
       ],
       "y": [
        0,
        0
       ]
      },
      "13": {
       "mode": "lines+markers",
       "name": "n_targets_cumulative",
       "type": "scatter",
       "uid": "c69b50ba-c8c4-11e8-a5ed-003ee1c68427",
       "x": [
        1,
        2
       ],
       "y": [
        0,
        0
       ]
      },
      "14": {
       "mode": "lines+markers",
       "name": "n_targets_cumulative",
       "type": "scatter",
       "uid": "c69b5219-c8c4-11e8-88ef-003ee1c68427",
       "x": [
        1,
        2
       ],
       "y": [
        0,
        0
       ]
      },
      "15": {
       "mode": "lines+markers",
       "name": "n_targets_cumulative",
       "type": "scatter",
       "uid": "c69b5382-c8c4-11e8-b994-003ee1c68427",
       "x": [
        1,
        2
       ],
       "y": [
        0,
        0
       ]
      },
      "16": {
       "mode": "lines+markers",
       "name": "n_targets_cumulative",
       "type": "scatter",
       "uid": "c69b54e1-c8c4-11e8-8edc-003ee1c68427",
       "x": [
        1,
        2
       ],
       "y": [
        0,
        0
       ]
      },
      "17": {
       "mode": "lines+markers",
       "name": "n_targets_cumulative",
       "type": "scatter",
       "uid": "c69b5640-c8c4-11e8-85b7-003ee1c68427",
       "x": [
        1,
        2
       ],
       "y": [
        0,
        0
       ]
      },
      "18": {
       "mode": "lines+markers",
       "name": "n_targets_cumulative",
       "type": "scatter",
       "uid": "c69b5799-c8c4-11e8-931f-003ee1c68427",
       "x": [
        1,
        2
       ],
       "y": [
        0,
        0
       ]
      },
      "19": {
       "mode": "lines+markers",
       "name": "n_targets_cumulative",
       "type": "scatter",
       "uid": "c69b58f8-c8c4-11e8-a772-003ee1c68427",
       "x": [
        1,
        2
       ],
       "y": [
        0,
        0
       ]
      },
      "2": {
       "mode": "lines+markers",
       "name": "n_targets_cumulative",
       "type": "scatter",
       "uid": "c69b414f-c8c4-11e8-add7-003ee1c68427",
       "x": [
        1,
        2,
        3,
        4
       ],
       "y": [
        0,
        0,
        0,
        0
       ]
      },
      "20": {
       "mode": "lines+markers",
       "name": "n_targets_cumulative",
       "type": "scatter",
       "uid": "c69b5a57-c8c4-11e8-81fd-003ee1c68427",
       "x": [
        1,
        2,
        3,
        4
       ],
       "y": [
        0,
        0,
        0,
        0
       ]
      },
      "21": {
       "mode": "lines+markers",
       "name": "n_targets_cumulative",
       "type": "scatter",
       "uid": "c69b5bc0-c8c4-11e8-b640-003ee1c68427",
       "x": [
        1,
        2
       ],
       "y": [
        0,
        0
       ]
      },
      "22": {
       "mode": "lines+markers",
       "name": "n_targets_cumulative",
       "type": "scatter",
       "uid": "c69b5dab-c8c4-11e8-a6c9-003ee1c68427",
       "x": [
        1,
        2
       ],
       "y": [
        0,
        0
       ]
      },
      "23": {
       "mode": "lines+markers",
       "name": "n_targets_cumulative",
       "type": "scatter",
       "uid": "c69b5f26-c8c4-11e8-9942-003ee1c68427",
       "x": [
        1,
        2
       ],
       "y": [
        0,
        0
       ]
      },
      "24": {
       "mode": "lines+markers",
       "name": "n_targets_cumulative",
       "type": "scatter",
       "uid": "c69b6097-c8c4-11e8-b7de-003ee1c68427",
       "x": [
        1,
        2
       ],
       "y": [
        0,
        0
       ]
      },
      "25": {
       "mode": "lines+markers",
       "name": "n_targets_cumulative",
       "type": "scatter",
       "uid": "c69b620a-c8c4-11e8-a4ca-003ee1c68427",
       "x": [
        1,
        2
       ],
       "y": [
        0,
        0
       ]
      },
      "26": {
       "mode": "lines+markers",
       "name": "n_targets_cumulative",
       "type": "scatter",
       "uid": "c69b6387-c8c4-11e8-a716-003ee1c68427",
       "x": [
        1,
        2
       ],
       "y": [
        0,
        0
       ]
      },
      "27": {
       "mode": "lines+markers",
       "name": "n_targets_cumulative",
       "type": "scatter",
       "uid": "c69b64f8-c8c4-11e8-aa0a-003ee1c68427",
       "x": [
        1,
        2
       ],
       "y": [
        0,
        0
       ]
      },
      "28": {
       "mode": "lines+markers",
       "name": "n_targets_cumulative",
       "type": "scatter",
       "uid": "c69b6668-c8c4-11e8-97a0-003ee1c68427",
       "x": [
        1,
        2,
        3,
        4
       ],
       "y": [
        0,
        0,
        0,
        0
       ]
      },
      "29": {
       "mode": "lines+markers",
       "name": "n_targets_cumulative",
       "type": "scatter",
       "uid": "c69b67dc-c8c4-11e8-a524-003ee1c68427",
       "x": [
        1,
        2,
        3,
        4
       ],
       "y": [
        0,
        0,
        0,
        0
       ]
      },
      "3": {
       "mode": "lines+markers",
       "name": "n_targets_cumulative",
       "type": "scatter",
       "uid": "c69b42c0-c8c4-11e8-87bf-003ee1c68427",
       "x": [
        1,
        2,
        3,
        4
       ],
       "y": [
        0,
        0,
        0,
        0
       ]
      },
      "30": {
       "mode": "lines+markers",
       "name": "n_targets_cumulative",
       "type": "scatter",
       "uid": "c69b694c-c8c4-11e8-b1c2-003ee1c68427",
       "x": [
        1,
        2,
        3,
        4
       ],
       "y": [
        0,
        0,
        0,
        0
       ]
      },
      "31": {
       "mode": "lines+markers",
       "name": "n_targets_cumulative",
       "type": "scatter",
       "uid": "c69b6aca-c8c4-11e8-b464-003ee1c68427",
       "x": [
        1,
        2,
        3,
        4
       ],
       "y": [
        0,
        0,
        0,
        0
       ]
      },
      "32": {
       "mode": "lines+markers",
       "name": "n_targets_cumulative",
       "type": "scatter",
       "uid": "c69b6c3a-c8c4-11e8-9bea-003ee1c68427",
       "x": [
        1,
        2,
        3,
        4
       ],
       "y": [
        0,
        0,
        0,
        0
       ]
      },
      "33": {
       "mode": "lines+markers",
       "name": "n_targets_cumulative",
       "type": "scatter",
       "uid": "c69b6e26-c8c4-11e8-861b-003ee1c68427",
       "x": [
        1,
        2,
        3,
        4
       ],
       "y": [
        0,
        0,
        0,
        0
       ]
      },
      "34": {
       "mode": "lines+markers",
       "name": "n_targets_cumulative",
       "type": "scatter",
       "uid": "c69b6f8f-c8c4-11e8-9904-003ee1c68427",
       "x": [
        1,
        2,
        3,
        4
       ],
       "y": [
        0,
        0,
        0,
        0
       ]
      },
      "35": {
       "mode": "lines+markers",
       "name": "n_targets_cumulative",
       "type": "scatter",
       "uid": "c69b70eb-c8c4-11e8-bd77-003ee1c68427",
       "x": [
        1,
        2,
        3,
        4
       ],
       "y": [
        0,
        0,
        0,
        0
       ]
      },
      "36": {
       "mode": "lines+markers",
       "name": "n_targets_cumulative",
       "type": "scatter",
       "uid": "c69b724a-c8c4-11e8-ba25-003ee1c68427",
       "x": [
        1,
        2,
        3,
        4
       ],
       "y": [
        0,
        0,
        0,
        0
       ]
      },
      "37": {
       "mode": "lines+markers",
       "name": "n_targets_cumulative",
       "type": "scatter",
       "uid": "c69b73a8-c8c4-11e8-887b-003ee1c68427",
       "x": [
        1,
        2,
        3,
        4
       ],
       "y": [
        0,
        0,
        0,
        0
       ]
      },
      "38": {
       "mode": "lines+markers",
       "name": "n_targets_cumulative",
       "type": "scatter",
       "uid": "c69b750f-c8c4-11e8-96d6-003ee1c68427",
       "x": [
        1,
        2,
        3,
        4
       ],
       "y": [
        0,
        0,
        0,
        0
       ]
      },
      "39": {
       "mode": "lines+markers",
       "name": "n_targets_cumulative",
       "type": "scatter",
       "uid": "c69b7678-c8c4-11e8-ab03-003ee1c68427",
       "x": [
        1,
        2,
        3,
        4
       ],
       "y": [
        0,
        0,
        0,
        0
       ]
      },
      "4": {
       "mode": "lines+markers",
       "name": "n_targets_cumulative",
       "type": "scatter",
       "uid": "c69b4428-c8c4-11e8-8d0b-003ee1c68427",
       "x": [
        1,
        2,
        3,
        4
       ],
       "y": [
        0,
        0,
        0,
        0
       ]
      },
      "40": {
       "mode": "lines+markers",
       "name": "n_targets_cumulative",
       "type": "scatter",
       "uid": "c69b77d7-c8c4-11e8-9c30-003ee1c68427",
       "x": [
        1,
        2,
        3,
        4
       ],
       "y": [
        0,
        0,
        0,
        0
       ]
      },
      "41": {
       "mode": "lines+markers",
       "name": "n_targets_cumulative",
       "type": "scatter",
       "uid": "c69b7935-c8c4-11e8-b553-003ee1c68427",
       "x": [
        1,
        2,
        3,
        4
       ],
       "y": [
        0,
        0,
        0,
        0
       ]
      },
      "42": {
       "mode": "lines+markers",
       "name": "n_targets_cumulative",
       "type": "scatter",
       "uid": "c69b7a9c-c8c4-11e8-a508-003ee1c68427",
       "x": [
        1,
        2,
        3,
        4
       ],
       "y": [
        0,
        0,
        0,
        0
       ]
      },
      "43": {
       "mode": "lines+markers",
       "name": "n_targets_cumulative",
       "type": "scatter",
       "uid": "c69b7c05-c8c4-11e8-818d-003ee1c68427",
       "x": [
        1,
        2,
        3,
        4
       ],
       "y": [
        0,
        0,
        0,
        0
       ]
      },
      "44": {
       "mode": "lines+markers",
       "name": "n_targets_cumulative",
       "type": "scatter",
       "uid": "c69b7d61-c8c4-11e8-b69f-003ee1c68427",
       "x": [
        1,
        2,
        3,
        4
       ],
       "y": [
        0,
        0,
        0,
        0
       ]
      },
      "45": {
       "mode": "lines+markers",
       "name": "n_targets_cumulative",
       "type": "scatter",
       "uid": "c69b7ec0-c8c4-11e8-8103-003ee1c68427",
       "x": [
        1,
        2,
        3,
        4
       ],
       "y": [
        0,
        0,
        0,
        0
       ]
      },
      "46": {
       "mode": "lines+markers",
       "name": "n_targets_cumulative",
       "type": "scatter",
       "uid": "c69b8026-c8c4-11e8-9a0b-003ee1c68427",
       "x": [
        1,
        2,
        3,
        4
       ],
       "y": [
        0,
        0,
        0,
        0
       ]
      },
      "47": {
       "mode": "lines+markers",
       "name": "n_targets_cumulative",
       "type": "scatter",
       "uid": "c69b818f-c8c4-11e8-be63-003ee1c68427",
       "x": [
        1,
        2,
        3,
        4
       ],
       "y": [
        0,
        0,
        0,
        0
       ]
      },
      "48": {
       "mode": "lines+markers",
       "name": "n_targets_cumulative",
       "type": "scatter",
       "uid": "c69b82ee-c8c4-11e8-9e53-003ee1c68427",
       "x": [
        1,
        2,
        3,
        4
       ],
       "y": [
        0,
        0,
        0,
        0
       ]
      },
      "49": {
       "mode": "lines+markers",
       "name": "n_targets_cumulative",
       "type": "scatter",
       "uid": "c69b844c-c8c4-11e8-87a8-003ee1c68427",
       "x": [
        1,
        2,
        3,
        4
       ],
       "y": [
        0,
        0,
        0,
        0
       ]
      },
      "5": {
       "mode": "lines+markers",
       "name": "n_targets_cumulative",
       "type": "scatter",
       "uid": "c69b4591-c8c4-11e8-b5eb-003ee1c68427",
       "x": [
        1,
        2,
        3,
        4
       ],
       "y": [
        0,
        0,
        0,
        0
       ]
      },
      "50": {
       "mode": "lines+markers",
       "name": "n_targets_cumulative",
       "type": "scatter",
       "uid": "c69b85b5-c8c4-11e8-bf8c-003ee1c68427",
       "x": [
        1,
        2
       ],
       "y": [
        0,
        0
       ]
      },
      "51": {
       "mode": "lines+markers",
       "name": "n_targets_cumulative",
       "type": "scatter",
       "uid": "c69b871c-c8c4-11e8-87a3-003ee1c68427",
       "x": [
        1,
        2
       ],
       "y": [
        0,
        0
       ]
      },
      "52": {
       "mode": "lines+markers",
       "name": "n_targets_cumulative",
       "type": "scatter",
       "uid": "c69b8885-c8c4-11e8-ad41-003ee1c68427",
       "x": [
        1,
        2,
        3,
        4
       ],
       "y": [
        0,
        0,
        0,
        0
       ]
      },
      "53": {
       "mode": "lines+markers",
       "name": "n_targets_cumulative",
       "type": "scatter",
       "uid": "c69b89eb-c8c4-11e8-93e1-003ee1c68427",
       "x": [
        1,
        2,
        3,
        4
       ],
       "y": [
        0,
        0,
        0,
        0
       ]
      },
      "54": {
       "mode": "lines+markers",
       "name": "n_targets_cumulative",
       "type": "scatter",
       "uid": "c69b8b54-c8c4-11e8-84e1-003ee1c68427",
       "x": [
        1,
        2,
        3,
        4
       ],
       "y": [
        0,
        0,
        0,
        0
       ]
      },
      "55": {
       "mode": "lines+markers",
       "name": "n_targets_cumulative",
       "type": "scatter",
       "uid": "c69b8cb3-c8c4-11e8-918c-003ee1c68427",
       "x": [
        1,
        2,
        3,
        4
       ],
       "y": [
        0,
        0,
        0,
        0
       ]
      },
      "56": {
       "mode": "lines+markers",
       "name": "n_targets_cumulative",
       "type": "scatter",
       "uid": "c69b8e1c-c8c4-11e8-8a77-003ee1c68427",
       "x": [
        1,
        2,
        3,
        4
       ],
       "y": [
        0,
        0,
        0,
        0
       ]
      },
      "57": {
       "mode": "lines+markers",
       "name": "n_targets_cumulative",
       "type": "scatter",
       "uid": "c69b8f78-c8c4-11e8-a0dc-003ee1c68427",
       "x": [
        1,
        2,
        3,
        4
       ],
       "y": [
        0,
        0,
        0,
        0
       ]
      },
      "58": {
       "mode": "lines+markers",
       "name": "n_targets_cumulative",
       "type": "scatter",
       "uid": "c69b90de-c8c4-11e8-97cb-003ee1c68427",
       "x": [
        1,
        2,
        3,
        4
       ],
       "y": [
        0,
        0,
        0,
        0
       ]
      },
      "59": {
       "mode": "lines+markers",
       "name": "n_targets_cumulative",
       "type": "scatter",
       "uid": "c69b923d-c8c4-11e8-a967-003ee1c68427",
       "x": [
        1,
        2,
        3,
        4
       ],
       "y": [
        0,
        0,
        0,
        0
       ]
      },
      "6": {
       "mode": "lines+markers",
       "name": "n_targets_cumulative",
       "type": "scatter",
       "uid": "c69b46f8-c8c4-11e8-a465-003ee1c68427",
       "x": [
        1,
        2,
        3,
        4
       ],
       "y": [
        0,
        0,
        0,
        0
       ]
      },
      "60": {
       "mode": "lines+markers",
       "name": "n_targets_cumulative",
       "type": "scatter",
       "uid": "c69b93a6-c8c4-11e8-ae42-003ee1c68427",
       "x": [
        1,
        2,
        3,
        4
       ],
       "y": [
        0,
        0,
        0,
        0
       ]
      },
      "61": {
       "mode": "lines+markers",
       "name": "n_targets_cumulative",
       "type": "scatter",
       "uid": "c69b9505-c8c4-11e8-9a09-003ee1c68427",
       "x": [
        1,
        2,
        3,
        4
       ],
       "y": [
        0,
        0,
        0,
        0
       ]
      },
      "62": {
       "mode": "lines+markers",
       "name": "n_targets_cumulative",
       "type": "scatter",
       "uid": "c69b966b-c8c4-11e8-9945-003ee1c68427",
       "x": [
        1,
        2,
        3,
        4
       ],
       "y": [
        0,
        0,
        0,
        0
       ]
      },
      "63": {
       "mode": "lines+markers",
       "name": "n_targets_cumulative",
       "type": "scatter",
       "uid": "c69b97d4-c8c4-11e8-a4bf-003ee1c68427",
       "x": [
        1,
        2,
        3
       ],
       "y": [
        0,
        0,
        0
       ]
      },
      "64": {
       "mode": "lines+markers",
       "name": "n_targets_cumulative",
       "type": "scatter",
       "uid": "c69b9933-c8c4-11e8-9a5a-003ee1c68427",
       "x": [
        1,
        2,
        3,
        4
       ],
       "y": [
        0,
        0,
        0,
        0
       ]
      },
      "65": {
       "mode": "lines+markers",
       "name": "n_targets_cumulative",
       "type": "scatter",
       "uid": "c69b9a91-c8c4-11e8-8c6e-003ee1c68427",
       "x": [
        1,
        2,
        3,
        4
       ],
       "y": [
        0,
        0,
        0,
        0
       ]
      },
      "66": {
       "mode": "lines+markers",
       "name": "n_targets_cumulative",
       "type": "scatter",
       "uid": "c69b9be3-c8c4-11e8-8f63-003ee1c68427",
       "x": [
        1,
        2
       ],
       "y": [
        0,
        0
       ]
      },
      "67": {
       "mode": "lines+markers",
       "name": "n_targets_cumulative",
       "type": "scatter",
       "uid": "c69b9d42-c8c4-11e8-a037-003ee1c68427",
       "x": [
        1,
        2
       ],
       "y": [
        0,
        0
       ]
      },
      "68": {
       "mode": "lines+markers",
       "name": "n_targets_cumulative",
       "type": "scatter",
       "uid": "c69b9e97-c8c4-11e8-bc10-003ee1c68427",
       "x": [
        1,
        2
       ],
       "y": [
        0,
        0
       ]
      },
      "69": {
       "mode": "lines+markers",
       "name": "n_targets_cumulative",
       "type": "scatter",
       "uid": "c69ba000-c8c4-11e8-b962-003ee1c68427",
       "x": [
        1,
        2,
        3,
        4
       ],
       "y": [
        0,
        0,
        0,
        0
       ]
      },
      "7": {
       "mode": "lines+markers",
       "name": "n_targets_cumulative",
       "type": "scatter",
       "uid": "c69b4861-c8c4-11e8-b279-003ee1c68427",
       "x": [
        1,
        2,
        3,
        4
       ],
       "y": [
        0,
        0,
        0,
        0
       ]
      },
      "70": {
       "mode": "lines+markers",
       "name": "n_targets_cumulative",
       "type": "scatter",
       "uid": "c69ba151-c8c4-11e8-8841-003ee1c68427",
       "x": [
        1,
        2,
        3,
        4
       ],
       "y": [
        0,
        0,
        0,
        0
       ]
      },
      "71": {
       "mode": "lines+markers",
       "name": "n_targets_cumulative",
       "type": "scatter",
       "uid": "c69ba2b0-c8c4-11e8-b1ff-003ee1c68427",
       "x": [
        1,
        2,
        3,
        4
       ],
       "y": [
        0,
        0,
        0,
        0
       ]
      },
      "72": {
       "mode": "lines+markers",
       "name": "n_targets_cumulative",
       "type": "scatter",
       "uid": "c69ba405-c8c4-11e8-911f-003ee1c68427",
       "x": [
        1,
        2
       ],
       "y": [
        0,
        0
       ]
      },
      "73": {
       "mode": "lines+markers",
       "name": "n_targets_cumulative",
       "type": "scatter",
       "uid": "c69ba557-c8c4-11e8-84ba-003ee1c68427",
       "x": [
        1,
        2
       ],
       "y": [
        0,
        0
       ]
      },
      "74": {
       "mode": "lines+markers",
       "name": "n_targets_cumulative",
       "type": "scatter",
       "uid": "c69ba6b5-c8c4-11e8-9d6e-003ee1c68427",
       "x": [
        1,
        2,
        3,
        4
       ],
       "y": [
        0,
        0,
        0,
        0
       ]
      },
      "75": {
       "mode": "lines+markers",
       "name": "n_targets_cumulative",
       "type": "scatter",
       "uid": "c69ba814-c8c4-11e8-8d0f-003ee1c68427",
       "x": [
        1,
        2,
        3,
        4
       ],
       "y": [
        0,
        0,
        0,
        0
       ]
      },
      "76": {
       "mode": "lines+markers",
       "name": "n_targets_cumulative",
       "type": "scatter",
       "uid": "c69ba966-c8c4-11e8-b677-003ee1c68427",
       "x": [
        1,
        2,
        3,
        4
       ],
       "y": [
        0,
        0,
        0,
        0
       ]
      },
      "77": {
       "mode": "lines+markers",
       "name": "n_targets_cumulative",
       "type": "scatter",
       "uid": "c69baaba-c8c4-11e8-8020-003ee1c68427",
       "x": [
        1,
        2,
        3,
        4
       ],
       "y": [
        0,
        0,
        0,
        0
       ]
      },
      "78": {
       "mode": "lines+markers",
       "name": "n_targets_cumulative",
       "type": "scatter",
       "uid": "c69bac19-c8c4-11e8-9ebd-003ee1c68427",
       "x": [
        1,
        2
       ],
       "y": [
        0,
        0
       ]
      },
      "79": {
       "mode": "lines+markers",
       "name": "n_targets_cumulative",
       "type": "scatter",
       "uid": "c69bad6e-c8c4-11e8-9876-003ee1c68427",
       "x": [
        1,
        2,
        3,
        4
       ],
       "y": [
        0,
        0,
        0,
        0
       ]
      },
      "8": {
       "mode": "lines+markers",
       "name": "n_targets_cumulative",
       "type": "scatter",
       "uid": "c69b49c7-c8c4-11e8-b5fe-003ee1c68427",
       "x": [
        1,
        2,
        3,
        4
       ],
       "y": [
        0,
        0,
        0,
        0
       ]
      },
      "80": {
       "mode": "lines+markers",
       "name": "n_targets_cumulative",
       "type": "scatter",
       "uid": "c69baec2-c8c4-11e8-9b98-003ee1c68427",
       "x": [
        1,
        2,
        3,
        4
       ],
       "y": [
        0,
        0,
        0,
        0
       ]
      },
      "81": {
       "mode": "lines+markers",
       "name": "n_targets_cumulative",
       "type": "scatter",
       "uid": "c69bb017-c8c4-11e8-aece-003ee1c68427",
       "x": [
        1,
        2,
        3,
        4
       ],
       "y": [
        0,
        0,
        0,
        0
       ]
      },
      "82": {
       "mode": "lines+markers",
       "name": "n_targets_cumulative",
       "type": "scatter",
       "uid": "c69bb1f5-c8c4-11e8-bd6a-003ee1c68427",
       "x": [
        1,
        2
       ],
       "y": [
        0,
        0
       ]
      },
      "83": {
       "mode": "lines+markers",
       "name": "n_targets_cumulative",
       "type": "scatter",
       "uid": "c69bb35e-c8c4-11e8-a162-003ee1c68427",
       "x": [
        1,
        2
       ],
       "y": [
        0,
        0
       ]
      },
      "9": {
       "mode": "lines+markers",
       "name": "n_targets_cumulative",
       "type": "scatter",
       "uid": "c69b4b23-c8c4-11e8-bad5-003ee1c68427",
       "x": [
        1,
        2,
        3,
        4
       ],
       "y": [
        0,
        0,
        0,
        0
       ]
      },
      "image/png": "[encoded data removed]"
     },
     "metadata": {},
     "output_type": "display_data"
    }
   ],
   "source": [
    "cool_plots_many(df,'n_targets_cumulative')"
   ]
  },
  {
   "cell_type": "markdown",
   "metadata": {},
   "source": [
    "## - This lets me know that I need to start with targets and work backwards to try and figure out seeds necessary to produce those targets."
   ]
  },
  {
   "cell_type": "code",
   "execution_count": null,
   "metadata": {},
   "outputs": [],
   "source": []
  },
  {
   "cell_type": "code",
   "execution_count": null,
   "metadata": {},
   "outputs": [],
   "source": []
  },
  {
   "cell_type": "markdown",
   "metadata": {},
   "source": [
    "### Check if the targets columns were erroneous"
   ]
  },
  {
   "cell_type": "markdown",
   "metadata": {},
   "source": [
    "#### Add map pathway data too?"
   ]
  },
  {
   "cell_type": "code",
   "execution_count": null,
   "metadata": {},
   "outputs": [],
   "source": []
  },
  {
   "cell_type": "markdown",
   "metadata": {},
   "source": [
    "#### Adding target data could be done post-processing as well"
   ]
  },
  {
   "cell_type": "code",
   "execution_count": 168,
   "metadata": {},
   "outputs": [
    {
     "data": {
      "text/plain": [
       "set()"
      ]
     },
     "execution_count": 168,
     "metadata": {},
     "output_type": "execute_result"
    }
   ],
   "source": [
    "set(datajson[\"stats\"][\"scope_targets\"])&set(generations[\"compounds_cumulative\"][25])"
   ]
  },
  {
   "cell_type": "code",
   "execution_count": 169,
   "metadata": {},
   "outputs": [
    {
     "data": {
      "text/plain": [
       "1     []\n",
       "2     []\n",
       "3     []\n",
       "4     []\n",
       "5     []\n",
       "6     []\n",
       "7     []\n",
       "8     []\n",
       "9     []\n",
       "10    []\n",
       "11    []\n",
       "12    []\n",
       "13    []\n",
       "14    []\n",
       "15    []\n",
       "16    []\n",
       "17    []\n",
       "18    []\n",
       "19    []\n",
       "20    []\n",
       "21    []\n",
       "22    []\n",
       "23    []\n",
       "24    []\n",
       "25    []\n",
       "Name: compounds_cumulative, dtype: object"
      ]
     },
     "execution_count": 169,
     "metadata": {},
     "output_type": "execute_result"
    }
   ],
   "source": [
    "generations['compounds_cumulative'].apply(lambda x: [cpd for cpd in datajson[\"stats\"][\"scope_targets\"] if cpd in x])\n"
   ]
  },
  {
   "cell_type": "markdown",
   "metadata": {},
   "source": [
    "#### They don't appear to be."
   ]
  },
  {
   "cell_type": "markdown",
   "metadata": {},
   "source": [
    "## Plot"
   ]
  },
  {
   "cell_type": "code",
   "execution_count": 177,
   "metadata": {},
   "outputs": [],
   "source": [
    "def cool_plots(df,line1,line2):\n",
    "\n",
    "    # Create traces\n",
    "    trace0 = go.Scatter(\n",
    "        x = df.index,\n",
    "        y = df[line1],\n",
    "        mode = 'lines+markers+text',\n",
    "        name = line1,\n",
    "        text=df['tags'],\n",
    "        textposition='top center'\n",
    "    #     text= data['state']\n",
    "    )\n",
    "    trace1 = go.Scatter(\n",
    "        x = df.index,\n",
    "        y = df[line2],\n",
    "        mode = 'lines+markers',\n",
    "        name = line2\n",
    "    )\n",
    "\n",
    "    data = [trace0,trace1]\n",
    "    plotly.offline.iplot(data)"
   ]
  },
  {
   "cell_type": "code",
   "execution_count": 41,
   "metadata": {},
   "outputs": [
    {
     "data": {
      "text/plain": [
       "array(['2506520044', '2506783009', '2517287024', '2529293002',\n",
       "       '2529293211', '2531839260', '2554235474', '2554235476',\n",
       "       '2554235477', '2554235490', '2554235497', '2718217646',\n",
       "       '2718217664', '2718217665', '2718217666', '2718217667',\n",
       "       '2721755430', '2721755431', '2721755892', '2721755895',\n",
       "       '2724679803', '2728369738', '2739367758', '2740891997', '638154515',\n",
       "       '644736411', '644736412', '650716079', '2515154133', '2515154138',\n",
       "       '2515154140', '2515154141', '2515154152', '2517572146',\n",
       "       '2518645608', '2518645611', '2519899518', '2521172661',\n",
       "       '2523533532', '2523533546', '2523533611', '2523533612',\n",
       "       '2524614558', '2524614663', '2524614672', '2524614757',\n",
       "       '2524614857', '2524614862', '2524614884', '2540341173',\n",
       "       '2546825502', '2546825503', '2558309102', '2563366730',\n",
       "       '2565956515', '2565956590', '2571042909', '2574179701',\n",
       "       '2574179723', '2574180435', '2574180450', '2582580728',\n",
       "       '2582581268', '2582581275', '2582581872', '2585428043',\n",
       "       '2585428077', '2585428153', '2585428191', '2597489983',\n",
       "       '2597490360', '2599185147', '2599185206', '2599185225',\n",
       "       '2627853722', '2636415485', '2675903229', '2693429870',\n",
       "       '2703719061', '2703719202', '637000020', '640753031', '648028058',\n",
       "       '650716094'], dtype=object)"
      ]
     },
     "execution_count": 41,
     "metadata": {},
     "output_type": "execute_result"
    }
   ],
   "source": [
    "df[\"org_id\"].unique()"
   ]
  },
  {
   "cell_type": "code",
   "execution_count": 46,
   "metadata": {},
   "outputs": [],
   "source": [
    "def cool_plots_many(df,attribute):\n",
    "    traces = []\n",
    "    for i in df[\"org_id\"].unique():\n",
    "        \n",
    "        traces.append(go.Scatter(\n",
    "        x = df.loc[df[\"org_id\"]==i].index,\n",
    "        y = df.loc[df[\"org_id\"]==i][attribute],\n",
    "        mode = 'lines+markers',\n",
    "        name = attribute\n",
    "        ))\n",
    "    plotly.offline.iplot(traces)   "
   ]
  },
  {
   "cell_type": "code",
   "execution_count": 47,
   "metadata": {},
   "outputs": [
    {
     "data": {
      "0": {
       "mode": "lines+markers",
       "name": "n_compounds_new",
       "type": "scatter",
       "uid": "923c4e5c-c6a6-11e8-8c83-003ee1c68427",
       "x": [
        1,
        2,
        3,
        4
       ],
       "y": [
        10,
        5,
        2,
        1
       ]
      },
      "1": {
       "mode": "lines+markers",
       "name": "n_compounds_new",
       "type": "scatter",
       "uid": "923deb9c-c6a6-11e8-984d-003ee1c68427",
       "x": [
        1,
        2,
        3,
        4
       ],
       "y": [
        8,
        4,
        1,
        1
       ]
      },
      "10": {
       "mode": "lines+markers",
       "name": "n_compounds_new",
       "type": "scatter",
       "uid": "923dfaba-c6a6-11e8-856c-003ee1c68427",
       "x": [
        1,
        2,
        3,
        4
       ],
       "y": [
        8,
        4,
        1,
        1
       ]
      },
      "11": {
       "mode": "lines+markers",
       "name": "n_compounds_new",
       "type": "scatter",
       "uid": "923dfc35-c6a6-11e8-ab5e-003ee1c68427",
       "x": [
        1
       ],
       "y": [
        6
       ]
      },
      "12": {
       "mode": "lines+markers",
       "name": "n_compounds_new",
       "type": "scatter",
       "uid": "923dfda8-c6a6-11e8-b0e7-003ee1c68427",
       "x": [
        1
       ],
       "y": [
        7
       ]
      },
      "13": {
       "mode": "lines+markers",
       "name": "n_compounds_new",
       "type": "scatter",
       "uid": "923dff23-c6a6-11e8-8f4e-003ee1c68427",
       "x": [
        1
       ],
       "y": [
        8
       ]
      },
      "14": {
       "mode": "lines+markers",
       "name": "n_compounds_new",
       "type": "scatter",
       "uid": "923e0094-c6a6-11e8-b6a8-003ee1c68427",
       "x": [
        1
       ],
       "y": [
        8
       ]
      },
      "15": {
       "mode": "lines+markers",
       "name": "n_compounds_new",
       "type": "scatter",
       "uid": "923e0230-c6a6-11e8-9169-003ee1c68427",
       "x": [
        1
       ],
       "y": [
        6
       ]
      },
      "16": {
       "mode": "lines+markers",
       "name": "n_compounds_new",
       "type": "scatter",
       "uid": "923e03b5-c6a6-11e8-92ba-003ee1c68427",
       "x": [
        1
       ],
       "y": [
        6
       ]
      },
      "17": {
       "mode": "lines+markers",
       "name": "n_compounds_new",
       "type": "scatter",
       "uid": "923e0528-c6a6-11e8-b499-003ee1c68427",
       "x": [
        1
       ],
       "y": [
        6
       ]
      },
      "18": {
       "mode": "lines+markers",
       "name": "n_compounds_new",
       "type": "scatter",
       "uid": "923e0699-c6a6-11e8-9d8f-003ee1c68427",
       "x": [
        1
       ],
       "y": [
        2
       ]
      },
      "19": {
       "mode": "lines+markers",
       "name": "n_compounds_new",
       "type": "scatter",
       "uid": "923e080a-c6a6-11e8-9b5e-003ee1c68427",
       "x": [
        1
       ],
       "y": [
        3
       ]
      },
      "2": {
       "mode": "lines+markers",
       "name": "n_compounds_new",
       "type": "scatter",
       "uid": "923deda3-c6a6-11e8-996e-003ee1c68427",
       "x": [
        1,
        2,
        3,
        4
       ],
       "y": [
        9,
        4,
        2,
        1
       ]
      },
      "20": {
       "mode": "lines+markers",
       "name": "n_compounds_new",
       "type": "scatter",
       "uid": "923e09ae-c6a6-11e8-a192-003ee1c68427",
       "x": [
        1,
        2,
        3,
        4
       ],
       "y": [
        7,
        4,
        2,
        1
       ]
      },
      "21": {
       "mode": "lines+markers",
       "name": "n_compounds_new",
       "type": "scatter",
       "uid": "923e0b2b-c6a6-11e8-8ebc-003ee1c68427",
       "x": [
        1
       ],
       "y": [
        8
       ]
      },
      "22": {
       "mode": "lines+markers",
       "name": "n_compounds_new",
       "type": "scatter",
       "uid": "923e0ca6-c6a6-11e8-9235-003ee1c68427",
       "x": [
        1
       ],
       "y": [
        9
       ]
      },
      "23": {
       "mode": "lines+markers",
       "name": "n_compounds_new",
       "type": "scatter",
       "uid": "923e0e23-c6a6-11e8-8161-003ee1c68427",
       "x": [
        1,
        2
       ],
       "y": [
        7,
        4
       ]
      },
      "24": {
       "mode": "lines+markers",
       "name": "n_compounds_new",
       "type": "scatter",
       "uid": "923e0f97-c6a6-11e8-93f8-003ee1c68427",
       "x": [
        1
       ],
       "y": [
        8
       ]
      },
      "25": {
       "mode": "lines+markers",
       "name": "n_compounds_new",
       "type": "scatter",
       "uid": "923e1130-c6a6-11e8-9e42-003ee1c68427",
       "x": [
        1
       ],
       "y": [
        6
       ]
      },
      "26": {
       "mode": "lines+markers",
       "name": "n_compounds_new",
       "type": "scatter",
       "uid": "923e12b5-c6a6-11e8-a330-003ee1c68427",
       "x": [
        1
       ],
       "y": [
        6
       ]
      },
      "27": {
       "mode": "lines+markers",
       "name": "n_compounds_new",
       "type": "scatter",
       "uid": "923e1428-c6a6-11e8-b1e9-003ee1c68427",
       "x": [
        1
       ],
       "y": [
        9
       ]
      },
      "28": {
       "mode": "lines+markers",
       "name": "n_compounds_new",
       "type": "scatter",
       "uid": "923e1599-c6a6-11e8-bd4f-003ee1c68427",
       "x": [
        1,
        2,
        3,
        4
       ],
       "y": [
        7,
        4,
        1,
        1
       ]
      },
      "29": {
       "mode": "lines+markers",
       "name": "n_compounds_new",
       "type": "scatter",
       "uid": "923e170c-c6a6-11e8-9215-003ee1c68427",
       "x": [
        1,
        2,
        3,
        4
       ],
       "y": [
        9,
        5,
        1,
        1
       ]
      },
      "3": {
       "mode": "lines+markers",
       "name": "n_compounds_new",
       "type": "scatter",
       "uid": "923def3d-c6a6-11e8-b4c3-003ee1c68427",
       "x": [
        1,
        2,
        3,
        4
       ],
       "y": [
        9,
        5,
        1,
        1
       ]
      },
      "30": {
       "mode": "lines+markers",
       "name": "n_compounds_new",
       "type": "scatter",
       "uid": "923e1887-c6a6-11e8-acca-003ee1c68427",
       "x": [
        1,
        2,
        3,
        4
       ],
       "y": [
        9,
        5,
        1,
        1
       ]
      },
      "31": {
       "mode": "lines+markers",
       "name": "n_compounds_new",
       "type": "scatter",
       "uid": "923e1a21-c6a6-11e8-8e25-003ee1c68427",
       "x": [
        1,
        2,
        3,
        4
       ],
       "y": [
        10,
        5,
        1,
        1
       ]
      },
      "32": {
       "mode": "lines+markers",
       "name": "n_compounds_new",
       "type": "scatter",
       "uid": "923e1b9e-c6a6-11e8-aecc-003ee1c68427",
       "x": [
        1,
        2,
        3,
        4
       ],
       "y": [
        6,
        1,
        1,
        2
       ]
      },
      "33": {
       "mode": "lines+markers",
       "name": "n_compounds_new",
       "type": "scatter",
       "uid": "923e1d19-c6a6-11e8-827d-003ee1c68427",
       "x": [
        1,
        2,
        3,
        4
       ],
       "y": [
        7,
        4,
        2,
        1
       ]
      },
      "34": {
       "mode": "lines+markers",
       "name": "n_compounds_new",
       "type": "scatter",
       "uid": "923e1e94-c6a6-11e8-a4cc-003ee1c68427",
       "x": [
        1,
        2,
        3,
        4
       ],
       "y": [
        8,
        5,
        1,
        1
       ]
      },
      "35": {
       "mode": "lines+markers",
       "name": "n_compounds_new",
       "type": "scatter",
       "uid": "923e2080-c6a6-11e8-811b-003ee1c68427",
       "x": [
        1,
        2,
        3,
        4
       ],
       "y": [
        10,
        5,
        1,
        1
       ]
      },
      "36": {
       "mode": "lines+markers",
       "name": "n_compounds_new",
       "type": "scatter",
       "uid": "923e2207-c6a6-11e8-b30f-003ee1c68427",
       "x": [
        1,
        2,
        3,
        4
       ],
       "y": [
        9,
        5,
        1,
        1
       ]
      },
      "37": {
       "mode": "lines+markers",
       "name": "n_compounds_new",
       "type": "scatter",
       "uid": "923e2378-c6a6-11e8-9f09-003ee1c68427",
       "x": [
        1,
        2,
        3,
        4
       ],
       "y": [
        8,
        6,
        1,
        1
       ]
      },
      "38": {
       "mode": "lines+markers",
       "name": "n_compounds_new",
       "type": "scatter",
       "uid": "923e24e1-c6a6-11e8-a150-003ee1c68427",
       "x": [
        1,
        2,
        3,
        4
       ],
       "y": [
        10,
        7,
        1,
        1
       ]
      },
      "39": {
       "mode": "lines+markers",
       "name": "n_compounds_new",
       "type": "scatter",
       "uid": "923e2647-c6a6-11e8-b562-003ee1c68427",
       "x": [
        1,
        2,
        3,
        4
       ],
       "y": [
        9,
        5,
        1,
        1
       ]
      },
      "4": {
       "mode": "lines+markers",
       "name": "n_compounds_new",
       "type": "scatter",
       "uid": "923df100-c6a6-11e8-9f41-003ee1c68427",
       "x": [
        1,
        2,
        3,
        4
       ],
       "y": [
        9,
        4,
        2,
        1
       ]
      },
      "40": {
       "mode": "lines+markers",
       "name": "n_compounds_new",
       "type": "scatter",
       "uid": "923e27a6-c6a6-11e8-ab6a-003ee1c68427",
       "x": [
        1,
        2,
        3,
        4
       ],
       "y": [
        9,
        6,
        1,
        1
       ]
      },
      "41": {
       "mode": "lines+markers",
       "name": "n_compounds_new",
       "type": "scatter",
       "uid": "923e292b-c6a6-11e8-8f44-003ee1c68427",
       "x": [
        1,
        2,
        3,
        4
       ],
       "y": [
        10,
        5,
        1,
        1
       ]
      },
      "42": {
       "mode": "lines+markers",
       "name": "n_compounds_new",
       "type": "scatter",
       "uid": "923e2a94-c6a6-11e8-8124-003ee1c68427",
       "x": [
        1,
        2,
        3,
        4
       ],
       "y": [
        9,
        4,
        2,
        1
       ]
      },
      "43": {
       "mode": "lines+markers",
       "name": "n_compounds_new",
       "type": "scatter",
       "uid": "923e2c05-c6a6-11e8-9523-003ee1c68427",
       "x": [
        1,
        2,
        3,
        4
       ],
       "y": [
        8,
        5,
        2,
        1
       ]
      },
      "44": {
       "mode": "lines+markers",
       "name": "n_compounds_new",
       "type": "scatter",
       "uid": "923e2d63-c6a6-11e8-b9ad-003ee1c68427",
       "x": [
        1,
        2,
        3,
        4
       ],
       "y": [
        10,
        5,
        1,
        1
       ]
      },
      "45": {
       "mode": "lines+markers",
       "name": "n_compounds_new",
       "type": "scatter",
       "uid": "923e2ecc-c6a6-11e8-a678-003ee1c68427",
       "x": [
        1,
        2,
        3,
        4
       ],
       "y": [
        14,
        8,
        2,
        1
       ]
      },
      "46": {
       "mode": "lines+markers",
       "name": "n_compounds_new",
       "type": "scatter",
       "uid": "923e302b-c6a6-11e8-8ba7-003ee1c68427",
       "x": [
        1,
        2,
        3,
        4
       ],
       "y": [
        9,
        4,
        1,
        1
       ]
      },
      "47": {
       "mode": "lines+markers",
       "name": "n_compounds_new",
       "type": "scatter",
       "uid": "923e31ae-c6a6-11e8-8a65-003ee1c68427",
       "x": [
        1,
        2,
        3,
        4
       ],
       "y": [
        8,
        1,
        1,
        2
       ]
      },
      "48": {
       "mode": "lines+markers",
       "name": "n_compounds_new",
       "type": "scatter",
       "uid": "923e3323-c6a6-11e8-ad8b-003ee1c68427",
       "x": [
        1,
        2,
        3,
        4
       ],
       "y": [
        7,
        4,
        1,
        1
       ]
      },
      "49": {
       "mode": "lines+markers",
       "name": "n_compounds_new",
       "type": "scatter",
       "uid": "923e348a-c6a6-11e8-abf8-003ee1c68427",
       "x": [
        1,
        2,
        3,
        4
       ],
       "y": [
        10,
        7,
        1,
        1
       ]
      },
      "5": {
       "mode": "lines+markers",
       "name": "n_compounds_new",
       "type": "scatter",
       "uid": "923df31c-c6a6-11e8-8134-003ee1c68427",
       "x": [
        1,
        2,
        3,
        4
       ],
       "y": [
        9,
        4,
        1,
        1
       ]
      },
      "50": {
       "mode": "lines+markers",
       "name": "n_compounds_new",
       "type": "scatter",
       "uid": "923e35e6-c6a6-11e8-871a-003ee1c68427",
       "x": [
        1,
        2
       ],
       "y": [
        5,
        3
       ]
      },
      "51": {
       "mode": "lines+markers",
       "name": "n_compounds_new",
       "type": "scatter",
       "uid": "923e374f-c6a6-11e8-b899-003ee1c68427",
       "x": [
        1,
        2
       ],
       "y": [
        5,
        3
       ]
      },
      "52": {
       "mode": "lines+markers",
       "name": "n_compounds_new",
       "type": "scatter",
       "uid": "923e38d7-c6a6-11e8-8d78-003ee1c68427",
       "x": [
        1,
        2,
        3,
        4
       ],
       "y": [
        11,
        8,
        1,
        1
       ]
      },
      "53": {
       "mode": "lines+markers",
       "name": "n_compounds_new",
       "type": "scatter",
       "uid": "923e3a47-c6a6-11e8-850c-003ee1c68427",
       "x": [
        1,
        2,
        3,
        4
       ],
       "y": [
        12,
        4,
        2,
        1
       ]
      },
      "54": {
       "mode": "lines+markers",
       "name": "n_compounds_new",
       "type": "scatter",
       "uid": "923e3bb0-c6a6-11e8-86e0-003ee1c68427",
       "x": [
        1,
        2,
        3,
        4
       ],
       "y": [
        9,
        4,
        1,
        1
       ]
      },
      "55": {
       "mode": "lines+markers",
       "name": "n_compounds_new",
       "type": "scatter",
       "uid": "923e3d17-c6a6-11e8-92bf-003ee1c68427",
       "x": [
        1,
        2,
        3,
        4
       ],
       "y": [
        8,
        7,
        1,
        1
       ]
      },
      "56": {
       "mode": "lines+markers",
       "name": "n_compounds_new",
       "type": "scatter",
       "uid": "923e3e75-c6a6-11e8-a634-003ee1c68427",
       "x": [
        1,
        2,
        3,
        4
       ],
       "y": [
        9,
        4,
        1,
        1
       ]
      },
      "57": {
       "mode": "lines+markers",
       "name": "n_compounds_new",
       "type": "scatter",
       "uid": "923e3ffd-c6a6-11e8-8040-003ee1c68427",
       "x": [
        1,
        2,
        3,
        4
       ],
       "y": [
        9,
        4,
        1,
        1
       ]
      },
      "58": {
       "mode": "lines+markers",
       "name": "n_compounds_new",
       "type": "scatter",
       "uid": "923e416e-c6a6-11e8-b77b-003ee1c68427",
       "x": [
        1,
        2,
        3,
        4
       ],
       "y": [
        7,
        4,
        1,
        1
       ]
      },
      "59": {
       "mode": "lines+markers",
       "name": "n_compounds_new",
       "type": "scatter",
       "uid": "923e42d7-c6a6-11e8-8d24-003ee1c68427",
       "x": [
        1,
        2,
        3,
        4
       ],
       "y": [
        11,
        5,
        1,
        1
       ]
      },
      "6": {
       "mode": "lines+markers",
       "name": "n_compounds_new",
       "type": "scatter",
       "uid": "923df4a3-c6a6-11e8-bab7-003ee1c68427",
       "x": [
        1,
        2,
        3,
        4
       ],
       "y": [
        8,
        5,
        2,
        1
       ]
      },
      "60": {
       "mode": "lines+markers",
       "name": "n_compounds_new",
       "type": "scatter",
       "uid": "923e4435-c6a6-11e8-9141-003ee1c68427",
       "x": [
        1,
        2,
        3,
        4
       ],
       "y": [
        10,
        7,
        1,
        1
       ]
      },
      "61": {
       "mode": "lines+markers",
       "name": "n_compounds_new",
       "type": "scatter",
       "uid": "923e4591-c6a6-11e8-b98e-003ee1c68427",
       "x": [
        1,
        2,
        3,
        4
       ],
       "y": [
        7,
        4,
        1,
        1
       ]
      },
      "62": {
       "mode": "lines+markers",
       "name": "n_compounds_new",
       "type": "scatter",
       "uid": "923e46f0-c6a6-11e8-baf9-003ee1c68427",
       "x": [
        1,
        2,
        3,
        4
       ],
       "y": [
        10,
        4,
        1,
        1
       ]
      },
      "63": {
       "mode": "lines+markers",
       "name": "n_compounds_new",
       "type": "scatter",
       "uid": "923e4875-c6a6-11e8-9d74-003ee1c68427",
       "x": [
        1,
        2,
        3
       ],
       "y": [
        12,
        4,
        2
       ]
      },
      "64": {
       "mode": "lines+markers",
       "name": "n_compounds_new",
       "type": "scatter",
       "uid": "923e49e8-c6a6-11e8-9e27-003ee1c68427",
       "x": [
        1,
        2,
        3,
        4
       ],
       "y": [
        6,
        5,
        1,
        1
       ]
      },
      "65": {
       "mode": "lines+markers",
       "name": "n_compounds_new",
       "type": "scatter",
       "uid": "923e4b4f-c6a6-11e8-8501-003ee1c68427",
       "x": [
        1,
        2,
        3,
        4
       ],
       "y": [
        8,
        7,
        1,
        1
       ]
      },
      "66": {
       "mode": "lines+markers",
       "name": "n_compounds_new",
       "type": "scatter",
       "uid": "923e4cae-c6a6-11e8-b543-003ee1c68427",
       "x": [
        1
       ],
       "y": [
        9
       ]
      },
      "67": {
       "mode": "lines+markers",
       "name": "n_compounds_new",
       "type": "scatter",
       "uid": "923e4e17-c6a6-11e8-a831-003ee1c68427",
       "x": [
        1,
        2
       ],
       "y": [
        8,
        3
       ]
      },
      "68": {
       "mode": "lines+markers",
       "name": "n_compounds_new",
       "type": "scatter",
       "uid": "923e4f91-c6a6-11e8-a83c-003ee1c68427",
       "x": [
        1
       ],
       "y": [
        8
       ]
      },
      "69": {
       "mode": "lines+markers",
       "name": "n_compounds_new",
       "type": "scatter",
       "uid": "923e50fa-c6a6-11e8-abe6-003ee1c68427",
       "x": [
        1,
        2,
        3,
        4
       ],
       "y": [
        9,
        4,
        1,
        1
       ]
      },
      "7": {
       "mode": "lines+markers",
       "name": "n_compounds_new",
       "type": "scatter",
       "uid": "923df614-c6a6-11e8-a1e6-003ee1c68427",
       "x": [
        1,
        2,
        3,
        4
       ],
       "y": [
        8,
        4,
        1,
        1
       ]
      },
      "70": {
       "mode": "lines+markers",
       "name": "n_compounds_new",
       "type": "scatter",
       "uid": "923e5261-c6a6-11e8-8b6d-003ee1c68427",
       "x": [
        1,
        2,
        3,
        4
       ],
       "y": [
        8,
        4,
        1,
        1
       ]
      },
      "71": {
       "mode": "lines+markers",
       "name": "n_compounds_new",
       "type": "scatter",
       "uid": "923e53c0-c6a6-11e8-be74-003ee1c68427",
       "x": [
        1,
        2,
        3,
        4
       ],
       "y": [
        13,
        7,
        2,
        1
       ]
      },
      "72": {
       "mode": "lines+markers",
       "name": "n_compounds_new",
       "type": "scatter",
       "uid": "923e5528-c6a6-11e8-82ce-003ee1c68427",
       "x": [
        1
       ],
       "y": [
        7
       ]
      },
      "73": {
       "mode": "lines+markers",
       "name": "n_compounds_new",
       "type": "scatter",
       "uid": "923e56a3-c6a6-11e8-9b5e-003ee1c68427",
       "x": [
        1
       ],
       "y": [
        8
       ]
      },
      "74": {
       "mode": "lines+markers",
       "name": "n_compounds_new",
       "type": "scatter",
       "uid": "923e5814-c6a6-11e8-841d-003ee1c68427",
       "x": [
        1,
        2,
        3,
        4
       ],
       "y": [
        6,
        1,
        1,
        2
       ]
      },
      "75": {
       "mode": "lines+markers",
       "name": "n_compounds_new",
       "type": "scatter",
       "uid": "923e597d-c6a6-11e8-ab33-003ee1c68427",
       "x": [
        1,
        2,
        3,
        4
       ],
       "y": [
        8,
        5,
        1,
        1
       ]
      },
      "76": {
       "mode": "lines+markers",
       "name": "n_compounds_new",
       "type": "scatter",
       "uid": "923e5adc-c6a6-11e8-8f1e-003ee1c68427",
       "x": [
        1,
        2,
        3,
        4
       ],
       "y": [
        8,
        4,
        1,
        1
       ]
      },
      "77": {
       "mode": "lines+markers",
       "name": "n_compounds_new",
       "type": "scatter",
       "uid": "923e5c3a-c6a6-11e8-afcd-003ee1c68427",
       "x": [
        1,
        2,
        3,
        4
       ],
       "y": [
        7,
        6,
        1,
        1
       ]
      },
      "78": {
       "mode": "lines+markers",
       "name": "n_compounds_new",
       "type": "scatter",
       "uid": "923e5d99-c6a6-11e8-a1e1-003ee1c68427",
       "x": [
        1
       ],
       "y": [
        8
       ]
      },
      "79": {
       "mode": "lines+markers",
       "name": "n_compounds_new",
       "type": "scatter",
       "uid": "923e5f1c-c6a6-11e8-b492-003ee1c68427",
       "x": [
        1,
        2,
        3,
        4
       ],
       "y": [
        9,
        8,
        1,
        1
       ]
      },
      "8": {
       "mode": "lines+markers",
       "name": "n_compounds_new",
       "type": "scatter",
       "uid": "923df78f-c6a6-11e8-a922-003ee1c68427",
       "x": [
        1,
        2,
        3,
        4
       ],
       "y": [
        9,
        5,
        2,
        1
       ]
      },
      "80": {
       "mode": "lines+markers",
       "name": "n_compounds_new",
       "type": "scatter",
       "uid": "923e6085-c6a6-11e8-b28a-003ee1c68427",
       "x": [
        1,
        2,
        3,
        4
       ],
       "y": [
        8,
        5,
        1,
        1
       ]
      },
      "81": {
       "mode": "lines+markers",
       "name": "n_compounds_new",
       "type": "scatter",
       "uid": "923e61e3-c6a6-11e8-bfe1-003ee1c68427",
       "x": [
        1,
        2,
        3,
        4
       ],
       "y": [
        7,
        6,
        1,
        1
       ]
      },
      "82": {
       "mode": "lines+markers",
       "name": "n_compounds_new",
       "type": "scatter",
       "uid": "923e6342-c6a6-11e8-9415-003ee1c68427",
       "x": [
        1,
        2
       ],
       "y": [
        9,
        3
       ]
      },
      "83": {
       "mode": "lines+markers",
       "name": "n_compounds_new",
       "type": "scatter",
       "uid": "923e64a8-c6a6-11e8-8fc5-003ee1c68427",
       "x": [
        1
       ],
       "y": [
        9
       ]
      },
      "9": {
       "mode": "lines+markers",
       "name": "n_compounds_new",
       "type": "scatter",
       "uid": "923df928-c6a6-11e8-9bf6-003ee1c68427",
       "x": [
        1,
        2,
        3,
        4
       ],
       "y": [
        8,
        4,
        1,
        1
       ]
      },
      "image/png": "[encoded data removed]"
     },
     "metadata": {},
     "output_type": "display_data"
    }
   ],
   "source": [
    "cool_plots_many(df,'n_compounds_new')"
   ]
  },
  {
   "cell_type": "code",
   "execution_count": 178,
   "metadata": {},
   "outputs": [
    {
     "data": {
      "0": {
       "mode": "lines+markers+text",
       "name": "n_compounds_new",
       "text": [
        [],
        [],
        [],
        [],
        [],
        [],
        [],
        [],
        [],
        [],
        [],
        [],
        [],
        [],
        [],
        [],
        [],
        [],
        [],
        [],
        [],
        [],
        [],
        [],
        []
       ],
       "textposition": "top center",
       "type": "scatter",
       "uid": "53d9b321-c685-11e8-9b8e-003ee1c68427",
       "x": [
        1,
        2,
        3,
        4,
        5,
        6,
        7,
        8,
        9,
        10,
        11,
        12,
        13,
        14,
        15,
        16,
        17,
        18,
        19,
        20,
        21,
        22,
        23,
        24,
        25
       ],
       "y": [
        2,
        4,
        13,
        11,
        6,
        5,
        7,
        18,
        20,
        32,
        32,
        26,
        27,
        16,
        11,
        10,
        6,
        9,
        9,
        7,
        4,
        6,
        4,
        1,
        2
       ]
      },
      "1": {
       "mode": "lines+markers",
       "name": "n_reactions_new",
       "type": "scatter",
       "uid": "53dad6d9-c685-11e8-b109-003ee1c68427",
       "x": [
        1,
        2,
        3,
        4,
        5,
        6,
        7,
        8,
        9,
        10,
        11,
        12,
        13,
        14,
        15,
        16,
        17,
        18,
        19,
        20,
        21,
        22,
        23,
        24,
        25
       ],
       "y": [
        4,
        14,
        21,
        7,
        8,
        6,
        18,
        22,
        38,
        45,
        30,
        34,
        19,
        12,
        11,
        8,
        11,
        9,
        9,
        4,
        7,
        5,
        1,
        2,
        0
       ]
      },
      "image/png": "[encoded data removed]"
     },
     "metadata": {},
     "output_type": "display_data"
    }
   ],
   "source": [
    "cool_plots(generations,'n_compounds_new','n_reactions_new')"
   ]
  },
  {
   "cell_type": "code",
   "execution_count": 179,
   "metadata": {},
   "outputs": [
    {
     "data": {
      "0": {
       "mode": "lines+markers+text",
       "name": "n_compounds_cumulative",
       "text": [
        [],
        [],
        [],
        [],
        [],
        [],
        [],
        [],
        [],
        [],
        [],
        [],
        [],
        [],
        [],
        [],
        [],
        [],
        [],
        [],
        [],
        [],
        [],
        [],
        []
       ],
       "textposition": "top center",
       "type": "scatter",
       "uid": "28106987-c686-11e8-b20c-003ee1c68427",
       "visible": true,
       "x": [
        1,
        2,
        3,
        4,
        5,
        6,
        7,
        8,
        9,
        10,
        11,
        12,
        13,
        14,
        15,
        16,
        17,
        18,
        19,
        20,
        21,
        22,
        23,
        24,
        25
       ],
       "y": [
        2,
        6,
        19,
        30,
        36,
        41,
        48,
        66,
        86,
        118,
        150,
        176,
        203,
        219,
        230,
        240,
        246,
        255,
        264,
        271,
        275,
        281,
        285,
        286,
        288
       ]
      },
      "1": {
       "mode": "lines+markers",
       "name": "n_reactions_cumulative",
       "type": "scatter",
       "uid": "28106c68-c686-11e8-b269-003ee1c68427",
       "visible": true,
       "x": [
        1,
        2,
        3,
        4,
        5,
        6,
        7,
        8,
        9,
        10,
        11,
        12,
        13,
        14,
        15,
        16,
        17,
        18,
        19,
        20,
        21,
        22,
        23,
        24,
        25
       ],
       "y": [
        4,
        18,
        39,
        46,
        54,
        60,
        78,
        100,
        138,
        183,
        213,
        247,
        266,
        278,
        289,
        297,
        308,
        317,
        326,
        330,
        337,
        342,
        343,
        345,
        345
       ]
      },
      "image/png": "[encoded data removed]"
     },
     "metadata": {},
     "output_type": "display_data"
    }
   ],
   "source": [
    "cool_plots(generations,'n_compounds_cumulative','n_reactions_cumulative')"
   ]
  },
  {
   "cell_type": "code",
   "execution_count": null,
   "metadata": {},
   "outputs": [],
   "source": []
  }
 ],
 "metadata": {
  "kernelspec": {
   "display_name": "Python 2",
   "language": "python",
   "name": "python2"
  },
  "language_info": {
   "codemirror_mode": {
    "name": "ipython",
    "version": 2
   },
   "file_extension": ".py",
   "mimetype": "text/x-python",
   "name": "python",
   "nbconvert_exporter": "python",
   "pygments_lexer": "ipython2",
   "version": "2.7.15"
  }
 },
 "nbformat": 4,
 "nbformat_minor": 2
}
