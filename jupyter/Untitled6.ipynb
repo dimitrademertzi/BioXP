{
 "cells": [
  {
   "cell_type": "code",
   "execution_count": 8,
   "metadata": {},
   "outputs": [],
   "source": [
    "import JSON\n",
    "import Glob"
   ]
  },
  {
   "cell_type": "code",
   "execution_count": 59,
   "metadata": {},
   "outputs": [
    {
     "data": {
      "text/plain": [
       "\"../test/data/submission_results/archaea_simpleresults_P/2721755431.json\""
      ]
     },
     "execution_count": 59,
     "metadata": {},
     "output_type": "execute_result"
    }
   ],
   "source": [
    "fname = \"../test/data/submission_results/archaea_simpleresults_P/2721755431.json\""
   ]
  },
  {
   "cell_type": "code",
   "execution_count": 13,
   "metadata": {},
   "outputs": [
    {
     "data": {
      "text/plain": [
       "Dict{String,Any} with 6 entries:\n",
       "  \"Y\"         => Any[Any[0, 0, 0, 0, 0, 0, 0, 0, 0, 0  …  0, 0, 0, 0, 0, 0, 0, …\n",
       "  \"X\"         => Any[Any[0, 0, 0, 0, 1, 0, 1, 0, 0, 0  …  0, 0, 0, 0, 0, 0, 0, …\n",
       "  \"t\"         => Any[0, 1, 0, 0, 0, 0, 0, 0, 1, 1  …  0, 0, 0, 0, 0, 0, 0, 0, 0…\n",
       "  \"x\"         => Any[0, 0, 0, 0, 1, 0, 1, 0, 0, 0  …  0, 0, 0, 0, 0, 0, 0, 0, 0…\n",
       "  \"compounds\" => Any[\"C01271\", \"C00006\", \"C00118\", \"C00299\", \"C00009\", \"C00021\"…\n",
       "  \"reactions\" => Any[\"R02767\", \"R01015\", \"R01876\", \"R00192\", \"R00623\", \"R08966\"…"
      ]
     },
     "execution_count": 13,
     "metadata": {},
     "output_type": "execute_result"
    }
   ],
   "source": [
    "d = JSON.parsefile(fname)"
   ]
  },
  {
   "cell_type": "code",
   "execution_count": 32,
   "metadata": {},
   "outputs": [
    {
     "data": {
      "text/plain": [
       "Set(Tuple{Any,Any}[(\"C00035\", 0), (\"C00242\", 0), (\"C05756\", 0), (\"C16396\", 0), (\"C05921\", 0), (\"C00073\", 0), (\"C04377\", 0), (\"C00045\", 0), (\"C00327\", 0), (\"C01260\", 0)  …  (\"C00020\", 0), (\"C18059\", 0), (\"C16219\", 0), (\"C01137\", 0), (\"C00353\", 0), (\"C00986\", 0), (\"C00756\", 0), (\"C01107\", 0), (\"C00100\", 0), (\"C03800\", 0)])"
      ]
     },
     "execution_count": 32,
     "metadata": {},
     "output_type": "execute_result"
    }
   ],
   "source": [
    "gen1_cpds = Set(zip(d[\"compounds\"],d[\"X\"][1]))"
   ]
  },
  {
   "cell_type": "code",
   "execution_count": 58,
   "metadata": {},
   "outputs": [],
   "source": [
    "submission_results_fnames = Glob.glob(\"../test/data/submission_results/archaea_simpleresults_P/*.json\");\n"
   ]
  },
  {
   "cell_type": "code",
   "execution_count": 34,
   "metadata": {},
   "outputs": [],
   "source": [
    "submission_results =  Vector{Any}(undef,length(submission_results_fnames))\n",
    "for (i,fname) in enumerate(submission_results_fnames)\n",
    "    submission_results[i] = JSON.parsefile(fname)\n",
    "end"
   ]
  },
  {
   "cell_type": "code",
   "execution_count": 50,
   "metadata": {},
   "outputs": [
    {
     "data": {
      "text/plain": [
       "3"
      ]
     },
     "execution_count": 50,
     "metadata": {},
     "output_type": "execute_result"
    }
   ],
   "source": [
    "length(submission_results[12][\"X\"])"
   ]
  },
  {
   "cell_type": "code",
   "execution_count": 51,
   "metadata": {},
   "outputs": [
    {
     "data": {
      "text/plain": [
       "2"
      ]
     },
     "execution_count": 51,
     "metadata": {},
     "output_type": "execute_result"
    }
   ],
   "source": [
    "length(submission_results[12][\"Y\"])"
   ]
  },
  {
   "cell_type": "code",
   "execution_count": 57,
   "metadata": {},
   "outputs": [],
   "source": [
    "for s in submission_results\n",
    "    for gen in 1:length(s[\"X\"])\n",
    "        gen_cpds = Set(zip(s[\"compounds\"],s[\"X\"][gen]))\n",
    "        # @test\n",
    "        if gen != length(s[\"X\"])\n",
    "            gen_rxns = Set(zip(s[\"reactions\"],s[\"Y\"][gen]))\n",
    "            # @test\n",
    "        end\n",
    "    end\n",
    "end"
   ]
  },
  {
   "cell_type": "code",
   "execution_count": 60,
   "metadata": {},
   "outputs": [
    {
     "data": {
      "text/plain": [
       "\"../test/data/submission_results/archaea_simpleresults_P/\""
      ]
     },
     "execution_count": 60,
     "metadata": {},
     "output_type": "execute_result"
    }
   ],
   "source": [
    "newformat_dir = \"../test/data/submission_results/archaea_jgi_newformat/\"\n",
    "archaea_simpleresults_P_dir = \"../test/data/submission_results/archaea_simpleresults_P/\"\n"
   ]
  },
  {
   "cell_type": "code",
   "execution_count": null,
   "metadata": {},
   "outputs": [],
   "source": [
    "seeds_and_targets = readkeyedids(\"../test/data/seeds/seeds.json\")\n",
    "\n",
    "sids = seeds_and_targets[\"Enceladus_20-SAFR-032_P\"]\n",
    "tids = seeds_and_targets[\"targets_Freilich09\"]\n",
    "rstructs = readmaster(\"../test/data/master.json\")\n",
    "\n",
    "for fname in readdir(newformat_dir)\n",
    "    rids = readids(newformat_dir*fname)\n",
    "    x, t, cids, X, Y = expand(rstructs,rids,sids,tids) ## new results\n",
    "    \n",
    "    e = JSON.parsefile(archaea_simpleresults_P_dir*fname) ## expected results\n",
    "    \n",
    "    ## Some surface level tests of the number of generations,\n",
    "    ##   and length of cid/rid lists and more\n",
    "    @test length(x) == e[\"x\"]\n",
    "    @test length(t) == e[\"t\"]\n",
    "    @test length(cids) == e[\"compounds\"]\n",
    "    @test length(X) == e[\"X\"]\n",
    "    @test length(Y) == e[\"Y\"]\n",
    "    \n",
    "    ## Compare calculated against expected results\n",
    "    for gen in 1:length(e[\"X\"])\n",
    "        \n",
    "        expected_cpds = Set(zip(e[\"compounds\"],e[\"X\"][gen]))\n",
    "        calcualted_cpds = Set(zip(cids,X[gen]))\n",
    "        \n",
    "        @test expected_cpds == calcualted_cpds\n",
    "        \n",
    "        if gen != length(s[\"X\"])\n",
    "            expected_rxns = Set(zip(e[\"reactions\"],e[\"Y\"][gen]))\n",
    "            calculated_rxns = Set(zip(rids,Y[gen]))\n",
    "            \n",
    "            @test expected_rxns == calculated_rxns\n",
    "        end\n",
    "    end\n",
    "    \n",
    "end"
   ]
  }
 ],
 "metadata": {
  "kernelspec": {
   "display_name": "Julia 1.3.1",
   "language": "julia",
   "name": "julia-1.3"
  },
  "language_info": {
   "file_extension": ".jl",
   "mimetype": "application/julia",
   "name": "julia",
   "version": "1.3.1"
  }
 },
 "nbformat": 4,
 "nbformat_minor": 2
}
