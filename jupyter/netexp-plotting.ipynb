{
 "cells": [
  {
   "cell_type": "code",
   "execution_count": 159,
   "metadata": {},
   "outputs": [
    {
     "data": {
      "text/html": [
       "<script>requirejs.config({paths: { 'plotly': ['https://cdn.plot.ly/plotly-latest.min']},});if(!window.Plotly) {{require(['plotly'],function(plotly) {window.Plotly=plotly;});}}</script>"
      ],
      "text/vnd.plotly.v1+html": [
       "<script>requirejs.config({paths: { 'plotly': ['https://cdn.plot.ly/plotly-latest.min']},});if(!window.Plotly) {{require(['plotly'],function(plotly) {window.Plotly=plotly;});}}</script>"
      ]
     },
     "metadata": {},
     "output_type": "display_data"
    }
   ],
   "source": [
    "import pandas as pd\n",
    "import json\n",
    "\n",
    "import matplotlib.pyplot as mpl\n",
    "import seaborn as sns\n",
    "\n",
    "import plotly\n",
    "import plotly.plotly as py\n",
    "import plotly.graph_objs as go\n",
    "import numpy as np\n",
    "\n",
    "plotly.offline.init_notebook_mode(connected=True) "
   ]
  },
  {
   "cell_type": "code",
   "execution_count": 160,
   "metadata": {},
   "outputs": [],
   "source": [
    "fpath = \"../results_formatted/data_glucose_test/kegg/2018-09-25data_glucose_test.json\"\n"
   ]
  },
  {
   "cell_type": "code",
   "execution_count": 161,
   "metadata": {},
   "outputs": [],
   "source": [
    "with open(fpath) as f:\n",
    "    datajson = json.load(f)"
   ]
  },
  {
   "cell_type": "code",
   "execution_count": 162,
   "metadata": {},
   "outputs": [
    {
     "data": {
      "text/plain": [
       "[u'scope_seeds', u'scope_targets', u'scope_compounds', u'scope_reactions']"
      ]
     },
     "execution_count": 162,
     "metadata": {},
     "output_type": "execute_result"
    }
   ],
   "source": [
    "datajson[\"stats\"].keys()"
   ]
  },
  {
   "cell_type": "code",
   "execution_count": 163,
   "metadata": {},
   "outputs": [],
   "source": [
    "generations = pd.DataFrame(datajson[\"generations\"])"
   ]
  },
  {
   "cell_type": "code",
   "execution_count": 164,
   "metadata": {},
   "outputs": [],
   "source": [
    "generations = generations.transpose()"
   ]
  },
  {
   "cell_type": "code",
   "execution_count": 165,
   "metadata": {},
   "outputs": [],
   "source": [
    "generations.index = generations.index.astype(int)"
   ]
  },
  {
   "cell_type": "code",
   "execution_count": 166,
   "metadata": {},
   "outputs": [],
   "source": [
    "generations = generations.sort_index()"
   ]
  },
  {
   "cell_type": "code",
   "execution_count": 167,
   "metadata": {},
   "outputs": [
    {
     "data": {
      "text/html": [
       "<div>\n",
       "<style scoped>\n",
       "    .dataframe tbody tr th:only-of-type {\n",
       "        vertical-align: middle;\n",
       "    }\n",
       "\n",
       "    .dataframe tbody tr th {\n",
       "        vertical-align: top;\n",
       "    }\n",
       "\n",
       "    .dataframe thead th {\n",
       "        text-align: right;\n",
       "    }\n",
       "</style>\n",
       "<table border=\"1\" class=\"dataframe\">\n",
       "  <thead>\n",
       "    <tr style=\"text-align: right;\">\n",
       "      <th></th>\n",
       "      <th>compounds_cumulative</th>\n",
       "      <th>compounds_new</th>\n",
       "      <th>reactions_cumulative</th>\n",
       "      <th>reactions_new</th>\n",
       "      <th>targets_cumulative</th>\n",
       "      <th>targets_new</th>\n",
       "    </tr>\n",
       "  </thead>\n",
       "  <tbody>\n",
       "    <tr>\n",
       "      <th>1</th>\n",
       "      <td>[C00001, C00031]</td>\n",
       "      <td>[C00031, C00001]</td>\n",
       "      <td>[R00307, R00028, R00306, R00010]</td>\n",
       "      <td>[R00010, R00028, R00306, R00307]</td>\n",
       "      <td>[]</td>\n",
       "      <td>[]</td>\n",
       "    </tr>\n",
       "    <tr>\n",
       "      <th>2</th>\n",
       "      <td>[C00001, C00031, C00095, C00185, C00208, C01083]</td>\n",
       "      <td>[C00095, C00185, C00208, C01083]</td>\n",
       "      <td>[R00307, R01444, R01445, R02887, R00874, R1130...</td>\n",
       "      <td>[R01444, R01445, R02887, R00874, R11308, R1126...</td>\n",
       "      <td>[]</td>\n",
       "      <td>[]</td>\n",
       "    </tr>\n",
       "    <tr>\n",
       "      <th>3</th>\n",
       "      <td>[C00001, C00089, C00794, C00031, C00095, C0071...</td>\n",
       "      <td>[C00089, C00794, C00718, C00369, C06219, C0019...</td>\n",
       "      <td>[R01823, R11261, R00307, R11791, R01444, R1126...</td>\n",
       "      <td>[R01823, R11261, R11791, R11260, R03801, R0312...</td>\n",
       "      <td>[]</td>\n",
       "      <td>[]</td>\n",
       "    </tr>\n",
       "    <tr>\n",
       "      <th>4</th>\n",
       "      <td>[C00001, C00089, C00794, C00031, C00095, C0071...</td>\n",
       "      <td>[C00252, C02336, C02013, C00973, C02492, C0025...</td>\n",
       "      <td>[R01823, R11261, R00307, R11791, R01444, R1126...</td>\n",
       "      <td>[R11788, R08612, R01791, R03802, R11790, R0153...</td>\n",
       "      <td>[]</td>\n",
       "      <td>[]</td>\n",
       "    </tr>\n",
       "    <tr>\n",
       "      <th>5</th>\n",
       "      <td>[C00001, C00089, C00204, C00794, C00031, C1720...</td>\n",
       "      <td>[C00204, C17207, C00372, C21655, C06218, C21659]</td>\n",
       "      <td>[R08570, R08614, R01823, R11261, R00307, R1179...</td>\n",
       "      <td>[R08570, R08614, R02121, R11789, R05606, R0514...</td>\n",
       "      <td>[]</td>\n",
       "      <td>[]</td>\n",
       "    </tr>\n",
       "  </tbody>\n",
       "</table>\n",
       "</div>"
      ],
      "text/plain": [
       "                                compounds_cumulative  \\\n",
       "1                                   [C00001, C00031]   \n",
       "2   [C00001, C00031, C00095, C00185, C00208, C01083]   \n",
       "3  [C00001, C00089, C00794, C00031, C00095, C0071...   \n",
       "4  [C00001, C00089, C00794, C00031, C00095, C0071...   \n",
       "5  [C00001, C00089, C00204, C00794, C00031, C1720...   \n",
       "\n",
       "                                       compounds_new  \\\n",
       "1                                   [C00031, C00001]   \n",
       "2                   [C00095, C00185, C00208, C01083]   \n",
       "3  [C00089, C00794, C00718, C00369, C06219, C0019...   \n",
       "4  [C00252, C02336, C02013, C00973, C02492, C0025...   \n",
       "5   [C00204, C17207, C00372, C21655, C06218, C21659]   \n",
       "\n",
       "                                reactions_cumulative  \\\n",
       "1                   [R00307, R00028, R00306, R00010]   \n",
       "2  [R00307, R01444, R01445, R02887, R00874, R1130...   \n",
       "3  [R01823, R11261, R00307, R11791, R01444, R1126...   \n",
       "4  [R01823, R11261, R00307, R11791, R01444, R1126...   \n",
       "5  [R08570, R08614, R01823, R11261, R00307, R1179...   \n",
       "\n",
       "                                       reactions_new targets_cumulative  \\\n",
       "1                   [R00010, R00028, R00306, R00307]                 []   \n",
       "2  [R01444, R01445, R02887, R00874, R11308, R1126...                 []   \n",
       "3  [R01823, R11261, R11791, R11260, R03801, R0312...                 []   \n",
       "4  [R11788, R08612, R01791, R03802, R11790, R0153...                 []   \n",
       "5  [R08570, R08614, R02121, R11789, R05606, R0514...                 []   \n",
       "\n",
       "  targets_new  \n",
       "1          []  \n",
       "2          []  \n",
       "3          []  \n",
       "4          []  \n",
       "5          []  "
      ]
     },
     "execution_count": 167,
     "metadata": {},
     "output_type": "execute_result"
    }
   ],
   "source": [
    "generations.head()"
   ]
  },
  {
   "cell_type": "markdown",
   "metadata": {},
   "source": [
    "### Check if the targets columns were erroneous"
   ]
  },
  {
   "cell_type": "markdown",
   "metadata": {},
   "source": [
    "#### Add map pathway data too?"
   ]
  },
  {
   "cell_type": "code",
   "execution_count": null,
   "metadata": {},
   "outputs": [],
   "source": []
  },
  {
   "cell_type": "markdown",
   "metadata": {},
   "source": [
    "#### Adding target data could be done post-processing as well"
   ]
  },
  {
   "cell_type": "code",
   "execution_count": 168,
   "metadata": {},
   "outputs": [
    {
     "data": {
      "text/plain": [
       "set()"
      ]
     },
     "execution_count": 168,
     "metadata": {},
     "output_type": "execute_result"
    }
   ],
   "source": [
    "set(datajson[\"stats\"][\"scope_targets\"])&set(generations[\"compounds_cumulative\"][25])"
   ]
  },
  {
   "cell_type": "code",
   "execution_count": 169,
   "metadata": {},
   "outputs": [
    {
     "data": {
      "text/plain": [
       "1     []\n",
       "2     []\n",
       "3     []\n",
       "4     []\n",
       "5     []\n",
       "6     []\n",
       "7     []\n",
       "8     []\n",
       "9     []\n",
       "10    []\n",
       "11    []\n",
       "12    []\n",
       "13    []\n",
       "14    []\n",
       "15    []\n",
       "16    []\n",
       "17    []\n",
       "18    []\n",
       "19    []\n",
       "20    []\n",
       "21    []\n",
       "22    []\n",
       "23    []\n",
       "24    []\n",
       "25    []\n",
       "Name: compounds_cumulative, dtype: object"
      ]
     },
     "execution_count": 169,
     "metadata": {},
     "output_type": "execute_result"
    }
   ],
   "source": [
    "generations['compounds_cumulative'].apply(lambda x: [cpd for cpd in datajson[\"stats\"][\"scope_targets\"] if cpd in x])\n"
   ]
  },
  {
   "cell_type": "markdown",
   "metadata": {},
   "source": [
    "#### They don't appear to be."
   ]
  },
  {
   "cell_type": "markdown",
   "metadata": {},
   "source": [
    "### Add `n` columns"
   ]
  },
  {
   "cell_type": "code",
   "execution_count": 170,
   "metadata": {},
   "outputs": [],
   "source": [
    "original_columns = generations.columns\n",
    "for col in original_columns:\n",
    "    generations[\"n_\"+col] = generations[col].str.len() "
   ]
  },
  {
   "cell_type": "code",
   "execution_count": 171,
   "metadata": {},
   "outputs": [
    {
     "data": {
      "text/html": [
       "<div>\n",
       "<style scoped>\n",
       "    .dataframe tbody tr th:only-of-type {\n",
       "        vertical-align: middle;\n",
       "    }\n",
       "\n",
       "    .dataframe tbody tr th {\n",
       "        vertical-align: top;\n",
       "    }\n",
       "\n",
       "    .dataframe thead th {\n",
       "        text-align: right;\n",
       "    }\n",
       "</style>\n",
       "<table border=\"1\" class=\"dataframe\">\n",
       "  <thead>\n",
       "    <tr style=\"text-align: right;\">\n",
       "      <th></th>\n",
       "      <th>compounds_cumulative</th>\n",
       "      <th>compounds_new</th>\n",
       "      <th>reactions_cumulative</th>\n",
       "      <th>reactions_new</th>\n",
       "      <th>targets_cumulative</th>\n",
       "      <th>targets_new</th>\n",
       "      <th>n_compounds_cumulative</th>\n",
       "      <th>n_compounds_new</th>\n",
       "      <th>n_reactions_cumulative</th>\n",
       "      <th>n_reactions_new</th>\n",
       "      <th>n_targets_cumulative</th>\n",
       "      <th>n_targets_new</th>\n",
       "    </tr>\n",
       "  </thead>\n",
       "  <tbody>\n",
       "    <tr>\n",
       "      <th>1</th>\n",
       "      <td>[C00001, C00031]</td>\n",
       "      <td>[C00031, C00001]</td>\n",
       "      <td>[R00307, R00028, R00306, R00010]</td>\n",
       "      <td>[R00010, R00028, R00306, R00307]</td>\n",
       "      <td>[]</td>\n",
       "      <td>[]</td>\n",
       "      <td>2</td>\n",
       "      <td>2</td>\n",
       "      <td>4</td>\n",
       "      <td>4</td>\n",
       "      <td>0</td>\n",
       "      <td>0</td>\n",
       "    </tr>\n",
       "    <tr>\n",
       "      <th>2</th>\n",
       "      <td>[C00001, C00031, C00095, C00185, C00208, C01083]</td>\n",
       "      <td>[C00095, C00185, C00208, C01083]</td>\n",
       "      <td>[R00307, R01444, R01445, R02887, R00874, R1130...</td>\n",
       "      <td>[R01444, R01445, R02887, R00874, R11308, R1126...</td>\n",
       "      <td>[]</td>\n",
       "      <td>[]</td>\n",
       "      <td>6</td>\n",
       "      <td>4</td>\n",
       "      <td>18</td>\n",
       "      <td>14</td>\n",
       "      <td>0</td>\n",
       "      <td>0</td>\n",
       "    </tr>\n",
       "    <tr>\n",
       "      <th>3</th>\n",
       "      <td>[C00001, C00089, C00794, C00031, C00095, C0071...</td>\n",
       "      <td>[C00089, C00794, C00718, C00369, C06219, C0019...</td>\n",
       "      <td>[R01823, R11261, R00307, R11791, R01444, R1126...</td>\n",
       "      <td>[R01823, R11261, R11791, R11260, R03801, R0312...</td>\n",
       "      <td>[]</td>\n",
       "      <td>[]</td>\n",
       "      <td>19</td>\n",
       "      <td>13</td>\n",
       "      <td>39</td>\n",
       "      <td>21</td>\n",
       "      <td>0</td>\n",
       "      <td>0</td>\n",
       "    </tr>\n",
       "    <tr>\n",
       "      <th>4</th>\n",
       "      <td>[C00001, C00089, C00794, C00031, C00095, C0071...</td>\n",
       "      <td>[C00252, C02336, C02013, C00973, C02492, C0025...</td>\n",
       "      <td>[R01823, R11261, R00307, R11791, R01444, R1126...</td>\n",
       "      <td>[R11788, R08612, R01791, R03802, R11790, R0153...</td>\n",
       "      <td>[]</td>\n",
       "      <td>[]</td>\n",
       "      <td>30</td>\n",
       "      <td>11</td>\n",
       "      <td>46</td>\n",
       "      <td>7</td>\n",
       "      <td>0</td>\n",
       "      <td>0</td>\n",
       "    </tr>\n",
       "    <tr>\n",
       "      <th>5</th>\n",
       "      <td>[C00001, C00089, C00204, C00794, C00031, C1720...</td>\n",
       "      <td>[C00204, C17207, C00372, C21655, C06218, C21659]</td>\n",
       "      <td>[R08570, R08614, R01823, R11261, R00307, R1179...</td>\n",
       "      <td>[R08570, R08614, R02121, R11789, R05606, R0514...</td>\n",
       "      <td>[]</td>\n",
       "      <td>[]</td>\n",
       "      <td>36</td>\n",
       "      <td>6</td>\n",
       "      <td>54</td>\n",
       "      <td>8</td>\n",
       "      <td>0</td>\n",
       "      <td>0</td>\n",
       "    </tr>\n",
       "  </tbody>\n",
       "</table>\n",
       "</div>"
      ],
      "text/plain": [
       "                                compounds_cumulative  \\\n",
       "1                                   [C00001, C00031]   \n",
       "2   [C00001, C00031, C00095, C00185, C00208, C01083]   \n",
       "3  [C00001, C00089, C00794, C00031, C00095, C0071...   \n",
       "4  [C00001, C00089, C00794, C00031, C00095, C0071...   \n",
       "5  [C00001, C00089, C00204, C00794, C00031, C1720...   \n",
       "\n",
       "                                       compounds_new  \\\n",
       "1                                   [C00031, C00001]   \n",
       "2                   [C00095, C00185, C00208, C01083]   \n",
       "3  [C00089, C00794, C00718, C00369, C06219, C0019...   \n",
       "4  [C00252, C02336, C02013, C00973, C02492, C0025...   \n",
       "5   [C00204, C17207, C00372, C21655, C06218, C21659]   \n",
       "\n",
       "                                reactions_cumulative  \\\n",
       "1                   [R00307, R00028, R00306, R00010]   \n",
       "2  [R00307, R01444, R01445, R02887, R00874, R1130...   \n",
       "3  [R01823, R11261, R00307, R11791, R01444, R1126...   \n",
       "4  [R01823, R11261, R00307, R11791, R01444, R1126...   \n",
       "5  [R08570, R08614, R01823, R11261, R00307, R1179...   \n",
       "\n",
       "                                       reactions_new targets_cumulative  \\\n",
       "1                   [R00010, R00028, R00306, R00307]                 []   \n",
       "2  [R01444, R01445, R02887, R00874, R11308, R1126...                 []   \n",
       "3  [R01823, R11261, R11791, R11260, R03801, R0312...                 []   \n",
       "4  [R11788, R08612, R01791, R03802, R11790, R0153...                 []   \n",
       "5  [R08570, R08614, R02121, R11789, R05606, R0514...                 []   \n",
       "\n",
       "  targets_new  n_compounds_cumulative  n_compounds_new  \\\n",
       "1          []                       2                2   \n",
       "2          []                       6                4   \n",
       "3          []                      19               13   \n",
       "4          []                      30               11   \n",
       "5          []                      36                6   \n",
       "\n",
       "   n_reactions_cumulative  n_reactions_new  n_targets_cumulative  \\\n",
       "1                       4                4                     0   \n",
       "2                      18               14                     0   \n",
       "3                      39               21                     0   \n",
       "4                      46                7                     0   \n",
       "5                      54                8                     0   \n",
       "\n",
       "   n_targets_new  \n",
       "1              0  \n",
       "2              0  \n",
       "3              0  \n",
       "4              0  \n",
       "5              0  "
      ]
     },
     "execution_count": 171,
     "metadata": {},
     "output_type": "execute_result"
    }
   ],
   "source": [
    "generations.head()"
   ]
  },
  {
   "cell_type": "markdown",
   "metadata": {},
   "source": [
    "### Add tags if desired"
   ]
  },
  {
   "cell_type": "code",
   "execution_count": 174,
   "metadata": {},
   "outputs": [],
   "source": [
    "cpds_to_tag = []\n",
    "generations['tags'] = generations['compounds_new'].apply(lambda x: [cpd for cpd in cpds_to_tag if cpd in x])\n"
   ]
  },
  {
   "cell_type": "markdown",
   "metadata": {},
   "source": [
    "## Plot"
   ]
  },
  {
   "cell_type": "code",
   "execution_count": 177,
   "metadata": {},
   "outputs": [],
   "source": [
    "def cool_plots(df,line1,line2):\n",
    "\n",
    "    # Create traces\n",
    "    trace0 = go.Scatter(\n",
    "        x = df.index,\n",
    "        y = df[line1],\n",
    "        mode = 'lines+markers+text',\n",
    "        name = line1,\n",
    "        text=df['tags'],\n",
    "        textposition='top center'\n",
    "    #     text= data['state']\n",
    "    )\n",
    "    trace1 = go.Scatter(\n",
    "        x = df.index,\n",
    "        y = df[line2],\n",
    "        mode = 'lines+markers',\n",
    "        name = line2\n",
    "    )\n",
    "\n",
    "    data = [trace0,trace1]\n",
    "    plotly.offline.iplot(data)"
   ]
  },
  {
   "cell_type": "code",
   "execution_count": 178,
   "metadata": {},
   "outputs": [
    {
     "data": {
      "0": {
       "mode": "lines+markers+text",
       "name": "n_compounds_new",
       "text": [
        [],
        [],
        [],
        [],
        [],
        [],
        [],
        [],
        [],
        [],
        [],
        [],
        [],
        [],
        [],
        [],
        [],
        [],
        [],
        [],
        [],
        [],
        [],
        [],
        []
       ],
       "textposition": "top center",
       "type": "scatter",
       "uid": "53d9b321-c685-11e8-9b8e-003ee1c68427",
       "x": [
        1,
        2,
        3,
        4,
        5,
        6,
        7,
        8,
        9,
        10,
        11,
        12,
        13,
        14,
        15,
        16,
        17,
        18,
        19,
        20,
        21,
        22,
        23,
        24,
        25
       ],
       "y": [
        2,
        4,
        13,
        11,
        6,
        5,
        7,
        18,
        20,
        32,
        32,
        26,
        27,
        16,
        11,
        10,
        6,
        9,
        9,
        7,
        4,
        6,
        4,
        1,
        2
       ]
      },
      "1": {
       "mode": "lines+markers",
       "name": "n_reactions_new",
       "type": "scatter",
       "uid": "53dad6d9-c685-11e8-b109-003ee1c68427",
       "x": [
        1,
        2,
        3,
        4,
        5,
        6,
        7,
        8,
        9,
        10,
        11,
        12,
        13,
        14,
        15,
        16,
        17,
        18,
        19,
        20,
        21,
        22,
        23,
        24,
        25
       ],
       "y": [
        4,
        14,
        21,
        7,
        8,
        6,
        18,
        22,
        38,
        45,
        30,
        34,
        19,
        12,
        11,
        8,
        11,
        9,
        9,
        4,
        7,
        5,
        1,
        2,
        0
       ]
      },
      "image/png": "[encoded data removed]"
     },
     "metadata": {},
     "output_type": "display_data"
    }
   ],
   "source": [
    "cool_plots(generations,'n_compounds_new','n_reactions_new')"
   ]
  },
  {
   "cell_type": "code",
   "execution_count": 179,
   "metadata": {},
   "outputs": [
    {
     "data": {
      "0": {
       "mode": "lines+markers+text",
       "name": "n_compounds_cumulative",
       "text": [
        [],
        [],
        [],
        [],
        [],
        [],
        [],
        [],
        [],
        [],
        [],
        [],
        [],
        [],
        [],
        [],
        [],
        [],
        [],
        [],
        [],
        [],
        [],
        [],
        []
       ],
       "textposition": "top center",
       "type": "scatter",
       "uid": "28106987-c686-11e8-b20c-003ee1c68427",
       "visible": true,
       "x": [
        1,
        2,
        3,
        4,
        5,
        6,
        7,
        8,
        9,
        10,
        11,
        12,
        13,
        14,
        15,
        16,
        17,
        18,
        19,
        20,
        21,
        22,
        23,
        24,
        25
       ],
       "y": [
        2,
        6,
        19,
        30,
        36,
        41,
        48,
        66,
        86,
        118,
        150,
        176,
        203,
        219,
        230,
        240,
        246,
        255,
        264,
        271,
        275,
        281,
        285,
        286,
        288
       ]
      },
      "1": {
       "mode": "lines+markers",
       "name": "n_reactions_cumulative",
       "type": "scatter",
       "uid": "28106c68-c686-11e8-b269-003ee1c68427",
       "visible": true,
       "x": [
        1,
        2,
        3,
        4,
        5,
        6,
        7,
        8,
        9,
        10,
        11,
        12,
        13,
        14,
        15,
        16,
        17,
        18,
        19,
        20,
        21,
        22,
        23,
        24,
        25
       ],
       "y": [
        4,
        18,
        39,
        46,
        54,
        60,
        78,
        100,
        138,
        183,
        213,
        247,
        266,
        278,
        289,
        297,
        308,
        317,
        326,
        330,
        337,
        342,
        343,
        345,
        345
       ]
      },
      "image/png": "[encoded data removed]"
     },
     "metadata": {},
     "output_type": "display_data"
    }
   ],
   "source": [
    "cool_plots(generations,'n_compounds_cumulative','n_reactions_cumulative')"
   ]
  },
  {
   "cell_type": "code",
   "execution_count": null,
   "metadata": {},
   "outputs": [],
   "source": []
  }
 ],
 "metadata": {
  "kernelspec": {
   "display_name": "Python 2",
   "language": "python",
   "name": "python2"
  },
  "language_info": {
   "codemirror_mode": {
    "name": "ipython",
    "version": 2
   },
   "file_extension": ".py",
   "mimetype": "text/x-python",
   "name": "python",
   "nbconvert_exporter": "python",
   "pygments_lexer": "ipython2",
   "version": "2.7.15"
  }
 },
 "nbformat": 4,
 "nbformat_minor": 2
}
