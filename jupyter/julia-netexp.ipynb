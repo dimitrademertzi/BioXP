{
 "cells": [
  {
   "cell_type": "code",
   "execution_count": 13,
   "metadata": {},
   "outputs": [],
   "source": [
    "# using JSON"
   ]
  },
  {
   "cell_type": "code",
   "execution_count": 14,
   "metadata": {},
   "outputs": [],
   "source": [
    "import JSON"
   ]
  },
  {
   "cell_type": "code",
   "execution_count": 21,
   "metadata": {},
   "outputs": [
    {
     "data": {
      "text/markdown": [
       "No documentation found.\n",
       "\n",
       "`JSON.Parser.parse` is a `Function`.\n",
       "\n",
       "```\n",
       "# 2 methods for generic function \"parse\":\n",
       "[1] parse(str::AbstractString; dicttype, inttype) in JSON.Parser at /Users/Harrison/.julia/packages/JSON/Hs3Dj/src/Parser.jl:390\n",
       "[2] parse(io::IO; dicttype, inttype) in JSON.Parser at /Users/Harrison/.julia/packages/JSON/Hs3Dj/src/Parser.jl:403\n",
       "```\n"
      ],
      "text/plain": [
       "  No documentation found.\n",
       "\n",
       "  \u001b[36mJSON.Parser.parse\u001b[39m is a \u001b[36mFunction\u001b[39m.\n",
       "\n",
       "\u001b[36m  # 2 methods for generic function \"parse\":\u001b[39m\n",
       "\u001b[36m  [1] parse(str::AbstractString; dicttype, inttype) in JSON.Parser at /Users/Harrison/.julia/packages/JSON/Hs3Dj/src/Parser.jl:390\u001b[39m\n",
       "\u001b[36m  [2] parse(io::IO; dicttype, inttype) in JSON.Parser at /Users/Harrison/.julia/packages/JSON/Hs3Dj/src/Parser.jl:403\u001b[39m"
      ]
     },
     "execution_count": 21,
     "metadata": {},
     "output_type": "execute_result"
    }
   ],
   "source": [
    "? JSON.parse"
   ]
  },
  {
   "cell_type": "code",
   "execution_count": 15,
   "metadata": {},
   "outputs": [
    {
     "data": {
      "text/markdown": [
       "No documentation found.\n",
       "\n",
       "`JSON.Parser.parsefile` is a `Function`.\n",
       "\n",
       "```\n",
       "# 1 method for generic function \"parsefile\":\n",
       "[1] parsefile(filename::AbstractString; dicttype, inttype, use_mmap) in JSON.Parser at /Users/Harrison/.julia/packages/JSON/Hs3Dj/src/Parser.jl:412\n",
       "```\n"
      ],
      "text/plain": [
       "  No documentation found.\n",
       "\n",
       "  \u001b[36mJSON.Parser.parsefile\u001b[39m is a \u001b[36mFunction\u001b[39m.\n",
       "\n",
       "\u001b[36m  # 1 method for generic function \"parsefile\":\u001b[39m\n",
       "\u001b[36m  [1] parsefile(filename::AbstractString; dicttype, inttype, use_mmap) in JSON.Parser at /Users/Harrison/.julia/packages/JSON/Hs3Dj/src/Parser.jl:412\u001b[39m"
      ]
     },
     "execution_count": 15,
     "metadata": {},
     "output_type": "execute_result"
    }
   ],
   "source": [
    "? JSON.Parser.parsefile"
   ]
  },
  {
   "cell_type": "code",
   "execution_count": 23,
   "metadata": {},
   "outputs": [
    {
     "ename": "UndefVarError",
     "evalue": "UndefVarError: ls not defined",
     "output_type": "error",
     "traceback": [
      "UndefVarError: ls not defined",
      "",
      "Stacktrace:",
      " [1] top-level scope at In[23]:1"
     ]
    }
   ],
   "source": []
  },
  {
   "cell_type": "code",
   "execution_count": 35,
   "metadata": {},
   "outputs": [
    {
     "data": {
      "text/plain": [
       "Dict{String,Any} with 2 entries:\n",
       "  \"substrates\" => Dict{String,Any}(\"R02250\"=>Any[\"C00422\", \"C00001\"],\"R09932\"=>…\n",
       "  \"products\"   => Dict{String,Any}(\"R02250\"=>Any[\"C00641\", \"C00162\"],\"R09932\"=>…"
      ]
     },
     "execution_count": 35,
     "metadata": {},
     "output_type": "execute_result"
    }
   ],
   "source": [
    "reaction_edges = JSON.parsefile(\"../jgi/reaction_edges_SAFR-032.json\")\n"
   ]
  },
  {
   "cell_type": "code",
   "execution_count": 36,
   "metadata": {},
   "outputs": [
    {
     "name": "stdout",
     "output_type": "stream",
     "text": [
      "Pair{String,Any}\n",
      "Pair{String,Any}\n"
     ]
    }
   ],
   "source": [
    "for k in reaction_edges\n",
    "    println(typeof(k))\n",
    "end"
   ]
  },
  {
   "cell_type": "code",
   "execution_count": 37,
   "metadata": {},
   "outputs": [
    {
     "data": {
      "text/plain": [
       "Dict{String,Any}"
      ]
     },
     "execution_count": 37,
     "metadata": {},
     "output_type": "execute_result"
    }
   ],
   "source": [
    "typeof(reaction_edges[\"products\"])"
   ]
  },
  {
   "cell_type": "code",
   "execution_count": 38,
   "metadata": {},
   "outputs": [
    {
     "ename": "KeyError",
     "evalue": "KeyError: key \"R03857\" not found",
     "output_type": "error",
     "traceback": [
      "KeyError: key \"R03857\" not found",
      "",
      "Stacktrace:",
      " [1] getindex(::Dict{String,Any}, ::String) at ./dict.jl:478",
      " [2] top-level scope at In[38]:1"
     ]
    }
   ],
   "source": [
    "typeof(reaction_edges[\"products\"][\"R03857\"])"
   ]
  },
  {
   "cell_type": "code",
   "execution_count": 39,
   "metadata": {},
   "outputs": [
    {
     "data": {
      "text/plain": [
       "Dict{String,Any} with 2 entries:\n",
       "  \"substrates\" => Dict{String,Any}(\"R02250\"=>Any[\"C00422\", \"C00001\"],\"R09932\"=>…\n",
       "  \"products\"   => Dict{String,Any}(\"R02250\"=>Any[\"C00641\", \"C00162\"],\"R09932\"=>…"
      ]
     },
     "execution_count": 39,
     "metadata": {},
     "output_type": "execute_result"
    }
   ],
   "source": [
    "reaction_edges"
   ]
  },
  {
   "cell_type": "code",
   "execution_count": 56,
   "metadata": {},
   "outputs": [
    {
     "data": {
      "text/plain": [
       "1325"
      ]
     },
     "execution_count": 56,
     "metadata": {},
     "output_type": "execute_result"
    }
   ],
   "source": [
    "length(reaction_edges[\"products\"])"
   ]
  },
  {
   "cell_type": "code",
   "execution_count": 62,
   "metadata": {},
   "outputs": [
    {
     "data": {
      "text/plain": [
       "2-element Array{Any,1}:\n",
       " \"C00641\"\n",
       " \"C00162\""
      ]
     },
     "execution_count": 62,
     "metadata": {},
     "output_type": "execute_result"
    }
   ],
   "source": [
    "reaction_edges[\"products\"][\"R02250\"]"
   ]
  },
  {
   "cell_type": "markdown",
   "metadata": {},
   "source": [
    "## Cleaned up code"
   ]
  },
  {
   "cell_type": "code",
   "execution_count": 215,
   "metadata": {},
   "outputs": [],
   "source": [
    "reaction_edges = JSON.parsefile(\"../jgi/reaction_edges_SAFR-032.json\")\n",
    "seed_compounds = JSON.parsefile(\"../seeds/Freilich09.json\");"
   ]
  },
  {
   "cell_type": "code",
   "execution_count": 219,
   "metadata": {},
   "outputs": [],
   "source": [
    "reactions = [i for i in keys(reaction_edges[\"products\"])] ## could use [\"substates\"\"] too\n",
    "\n",
    "cpd_reactants_flat = unique(Iterators.flatten(values(reaction_edges[\"substrates\"])))\n",
    "cpd_products_flat = unique(Iterators.flatten(values(reaction_edges[\"products\"])))\n",
    "compounds = unique(Iterators.flatten([cpd_reactants_flat,cpd_products_flat]));\n"
   ]
  },
  {
   "cell_type": "code",
   "execution_count": 185,
   "metadata": {},
   "outputs": [],
   "source": [
    "## For R and P:\n",
    "## Reactons in columns\n",
    "## Compounds in rows\n",
    "## Rows, Columns\n",
    "## This is equivilent to R and P in segrelab's github\n",
    "# R = BitArray(undef, (length(reaction_dict),length(compound_dict)))\n",
    "R = zeros(Int, (length(compounds),length(reactions)))\n",
    "P = zeros(Int, (length(compounds),length(reactions)));"
   ]
  },
  {
   "cell_type": "code",
   "execution_count": null,
   "metadata": {},
   "outputs": [],
   "source": [
    "for (i,r) in enumerate(reactions):\n",
    "    R[:,i] = [Int(cpd in reaction_edges[\"substrates\"][r]) for cpd in compounds]\n",
    "    P[:,i] = [Int(cpd in reaction_edges[\"products\"][r]) for cpd in compounds]\n",
    "    "
   ]
  },
  {
   "cell_type": "code",
   "execution_count": 186,
   "metadata": {},
   "outputs": [],
   "source": [
    "# for (r,col) in reaction_dict\n",
    "#     for cpd_reactant in reaction_edges[\"substrates\"][r]\n",
    "#         R_row = compound_dict[cpd_reactant] # get row of compound\n",
    "#         R[R_row,col] = 1 # compound is present\n",
    "#     end\n",
    "    \n",
    "#     for cpd_product in reaction_edges[\"products\"][r]\n",
    "#         P_row = compound_dict[cpd_product] # get row of compound\n",
    "#         P[P_row,col] = 1 # compound is present\n",
    "        \n",
    "#     end\n",
    "# end"
   ]
  },
  {
   "cell_type": "code",
   "execution_count": 187,
   "metadata": {},
   "outputs": [
    {
     "data": {
      "text/plain": [
       "true"
      ]
     },
     "execution_count": 187,
     "metadata": {},
     "output_type": "execute_result"
    }
   ],
   "source": [
    "## Check to make sure R being populated correctly\n",
    "length(collect(Iterators.flatten(cpd_reactants_nested)))==length(findall(R))\n"
   ]
  },
  {
   "cell_type": "code",
   "execution_count": 188,
   "metadata": {},
   "outputs": [
    {
     "data": {
      "text/plain": [
       "true"
      ]
     },
     "execution_count": 188,
     "metadata": {},
     "output_type": "execute_result"
    }
   ],
   "source": [
    "## Check to make sure P being populated correctly\n",
    "length(collect(Iterators.flatten(cpd_products_nested)))==length(findall(P))\n"
   ]
  },
  {
   "cell_type": "markdown",
   "metadata": {},
   "source": [
    "### Organism specific seeds"
   ]
  },
  {
   "cell_type": "code",
   "execution_count": 192,
   "metadata": {},
   "outputs": [
    {
     "data": {
      "text/plain": [
       "59"
      ]
     },
     "execution_count": 192,
     "metadata": {},
     "output_type": "execute_result"
    }
   ],
   "source": [
    "length(intersect(keys(seed_compounds),compounds))"
   ]
  },
  {
   "cell_type": "code",
   "execution_count": 193,
   "metadata": {},
   "outputs": [
    {
     "data": {
      "text/plain": [
       "65"
      ]
     },
     "execution_count": 193,
     "metadata": {},
     "output_type": "execute_result"
    }
   ],
   "source": [
    "length(keys(seed_compounds))"
   ]
  },
  {
   "cell_type": "code",
   "execution_count": 198,
   "metadata": {},
   "outputs": [],
   "source": [
    "org_seed = collect(intersect(keys(seed_compounds),compounds));"
   ]
  },
  {
   "cell_type": "code",
   "execution_count": 210,
   "metadata": {},
   "outputs": [],
   "source": [
    "binary_org_seed = [Int(i in org_seed) for i in compounds];"
   ]
  },
  {
   "cell_type": "markdown",
   "metadata": {},
   "source": [
    "## Even better code"
   ]
  },
  {
   "cell_type": "code",
   "execution_count": 407,
   "metadata": {},
   "outputs": [],
   "source": [
    "reaction_edges = JSON.parsefile(\"../kegg/2018-09-25/reaction_edges.json\");"
   ]
  },
  {
   "cell_type": "code",
   "execution_count": 408,
   "metadata": {},
   "outputs": [],
   "source": [
    "reactions = [i for i in keys(reaction_edges[\"products\"])] ## could use [\"substrates\"\"] too\n",
    "\n",
    "cpd_reactants_flat = unique(Iterators.flatten(values(reaction_edges[\"substrates\"])))\n",
    "cpd_products_flat = unique(Iterators.flatten(values(reaction_edges[\"products\"])))\n",
    "compounds = unique(Iterators.flatten([cpd_reactants_flat,cpd_products_flat]));\n"
   ]
  },
  {
   "cell_type": "markdown",
   "metadata": {},
   "source": [
    "#### R and P: Reactant and Product matrices"
   ]
  },
  {
   "cell_type": "code",
   "execution_count": 409,
   "metadata": {},
   "outputs": [],
   "source": [
    "## For R and P:\n",
    "## Reactons in columns\n",
    "## Compounds in rows\n",
    "## Rows, Columns\n",
    "## This is equivilent to R and P in segrelab's github\n",
    "# R = BitArray(undef, (length(reaction_dict),length(compound_dict)))\n",
    "R = zeros(Int, (length(compounds),length(reactions)))\n",
    "P = zeros(Int, (length(compounds),length(reactions)));"
   ]
  },
  {
   "cell_type": "markdown",
   "metadata": {},
   "source": [
    "** Below loop takes about a minute to run when using all of KEGG **"
   ]
  },
  {
   "cell_type": "code",
   "execution_count": 410,
   "metadata": {},
   "outputs": [],
   "source": [
    "for (i,r) in enumerate(reactions)\n",
    "    R[:,i] = [Int(cpd in reaction_edges[\"substrates\"][r]) for cpd in compounds]\n",
    "    P[:,i] = [Int(cpd in reaction_edges[\"products\"][r]) for cpd in compounds]\n",
    "end"
   ]
  },
  {
   "cell_type": "code",
   "execution_count": 411,
   "metadata": {},
   "outputs": [
    {
     "data": {
      "text/plain": [
       "8279×10287 Array{Int64,2}:\n",
       " 1  0  0  0  0  0  0  0  0  0  0  0  0  …  0  0  0  0  0  0  0  0  0  0  0  0\n",
       " 1  0  0  0  0  0  0  0  0  0  0  0  0     0  0  0  0  0  0  0  0  0  0  0  0\n",
       " 0  1  0  0  0  0  0  0  0  0  0  0  0     0  0  0  0  0  0  0  0  0  0  0  0\n",
       " 0  1  1  0  0  0  0  0  0  0  0  1  0     0  0  0  0  0  0  0  0  0  0  1  1\n",
       " 0  0  1  0  0  0  0  0  0  0  0  0  0     0  0  0  0  0  0  0  0  0  0  0  0\n",
       " 0  0  1  0  0  0  0  0  0  0  0  0  0  …  0  0  0  0  0  0  0  0  0  0  0  0\n",
       " 0  0  0  1  0  0  0  0  0  0  0  0  0     0  0  0  0  0  0  0  0  0  0  0  0\n",
       " 0  0  0  1  0  0  0  0  0  0  0  0  0     0  0  0  0  0  1  0  0  0  0  0  0\n",
       " 0  0  0  1  0  0  0  0  0  0  0  0  0     0  0  0  1  0  1  0  0  0  0  0  0\n",
       " 0  0  0  1  0  0  0  0  0  0  0  0  1     0  0  0  1  0  0  0  0  0  0  1  0\n",
       " 0  0  0  0  1  0  0  0  0  0  0  0  0  …  0  0  0  0  0  0  0  0  0  0  0  0\n",
       " 0  0  0  0  1  0  0  0  0  0  0  0  0     0  0  0  0  0  0  0  0  0  0  0  0\n",
       " 0  0  0  0  0  1  0  0  0  0  0  0  0     0  0  0  0  0  0  0  0  0  0  0  0\n",
       " ⋮              ⋮              ⋮        ⋱  ⋮              ⋮              ⋮   \n",
       " 0  0  0  0  0  0  0  0  0  0  0  0  0     0  0  0  0  0  0  0  0  0  0  0  0\n",
       " 0  0  0  0  0  0  0  0  0  0  0  0  0     0  0  0  0  0  0  0  0  0  0  0  0\n",
       " 0  0  0  0  0  0  0  0  0  0  0  0  0     0  0  0  0  0  0  0  0  0  0  0  0\n",
       " 0  0  0  0  0  0  0  0  0  0  0  0  0  …  0  0  0  0  0  0  0  0  0  0  0  0\n",
       " 0  0  0  0  0  0  0  0  0  0  0  0  0     0  0  0  0  0  0  0  0  0  0  0  0\n",
       " 0  0  0  0  0  0  0  0  0  0  0  0  0     0  0  0  0  0  0  0  0  0  0  0  0\n",
       " 0  0  0  0  0  0  0  0  0  0  0  0  0     0  0  0  0  0  0  0  0  0  0  0  0\n",
       " 0  0  0  0  0  0  0  0  0  0  0  0  0     0  0  0  0  0  0  0  0  0  0  0  0\n",
       " 0  0  0  0  0  0  0  0  0  0  0  0  0  …  0  0  0  0  0  0  0  0  0  0  0  0\n",
       " 0  0  0  0  0  0  0  0  0  0  0  0  0     0  0  0  0  0  0  0  0  0  0  0  0\n",
       " 0  0  0  0  0  0  0  0  0  0  0  0  0     0  0  0  0  0  0  0  0  0  0  0  0\n",
       " 0  0  0  0  0  0  0  0  0  0  0  0  0     0  0  0  0  0  0  0  0  0  0  0  0"
      ]
     },
     "execution_count": 411,
     "metadata": {},
     "output_type": "execute_result"
    }
   ],
   "source": [
    "R"
   ]
  },
  {
   "cell_type": "code",
   "execution_count": 412,
   "metadata": {},
   "outputs": [],
   "source": [
    "## Check to make sure R being populated correctly\n",
    "# length(collect(Iterators.flatten(values(reaction_edges[\"substrates\"]))))==length(findall(R))\n"
   ]
  },
  {
   "cell_type": "code",
   "execution_count": 413,
   "metadata": {},
   "outputs": [],
   "source": [
    "## Check to make sure P being populated correctly\n",
    "# length(collect(Iterators.flatten(values(reaction_edges[\"products\"]))))==length(findall(P))\n"
   ]
  },
  {
   "cell_type": "markdown",
   "metadata": {},
   "source": [
    "#### x: seed compounds vector"
   ]
  },
  {
   "cell_type": "code",
   "execution_count": 433,
   "metadata": {},
   "outputs": [],
   "source": [
    "# seed_compounds = JSON.parsefile(\"../seeds.json\");\n",
    "# x = [Int(i in seed_compounds[\"Enceladus_20-SAFR-032\"]) for i in compounds];\n",
    "\n",
    "ds80_seeds = [\"C00011\",\n",
    "\"C20298\",\n",
    "\"C14819\",\n",
    "\"C00087\",\n",
    "\"C00237\",\n",
    "\"C00058\",\n",
    "\"C00033\",\n",
    "\"C00031\",\n",
    "\"C00095\",\n",
    "\"C00124\",\n",
    "\"C00159\",\n",
    "\"C00243\",\n",
    "\"C00208\",\n",
    "\"C00282\",\n",
    "\"C00007\",\n",
    "\"C00001\"]\n",
    "\n",
    "ds90_seeds = [\"C00031\",\"C00001\"]\n",
    "\n",
    "x = [Int(i in ds80_seeds) for i in compounds];\n"
   ]
  },
  {
   "cell_type": "code",
   "execution_count": 434,
   "metadata": {},
   "outputs": [],
   "source": [
    "# x"
   ]
  },
  {
   "cell_type": "markdown",
   "metadata": {},
   "source": [
    "#### b: total number reactants vector (This is now defined within netexp)"
   ]
  },
  {
   "cell_type": "code",
   "execution_count": 435,
   "metadata": {},
   "outputs": [],
   "source": [
    "# RT = transpose(R);\n",
    "# b = [sum(RT[i,:]) for i in 1:size(RT)[1]];"
   ]
  },
  {
   "cell_type": "markdown",
   "metadata": {},
   "source": [
    "#### t: target compounds vector"
   ]
  },
  {
   "cell_type": "code",
   "execution_count": 436,
   "metadata": {},
   "outputs": [],
   "source": [
    "target_compounds = JSON.parsefile(\"../targets/Freilich09.json\");\n",
    "target_compounds_org = collect(intersect(keys(target_compounds),compounds));\n",
    "t = [Int(i in target_compounds_org) for i in compounds];"
   ]
  },
  {
   "cell_type": "code",
   "execution_count": 437,
   "metadata": {},
   "outputs": [],
   "source": [
    "# x"
   ]
  },
  {
   "cell_type": "code",
   "execution_count": 438,
   "metadata": {},
   "outputs": [],
   "source": [
    "# TEST = []#Array{Int,2}([])\n",
    "# x = [1,2,2,4]\n",
    "# push!(TEST,x)\n",
    "# push!(TEST,x)"
   ]
  },
  {
   "cell_type": "code",
   "execution_count": 439,
   "metadata": {},
   "outputs": [],
   "source": [
    "# TEST[]"
   ]
  },
  {
   "cell_type": "code",
   "execution_count": 440,
   "metadata": {},
   "outputs": [],
   "source": [
    "# sum(x)"
   ]
  },
  {
   "cell_type": "markdown",
   "metadata": {},
   "source": [
    "## Make the network expansion loop!!!"
   ]
  },
  {
   "cell_type": "code",
   "execution_count": 441,
   "metadata": {},
   "outputs": [
    {
     "data": {
      "text/plain": [
       "netexp (generic function with 2 methods)"
      ]
     },
     "execution_count": 441,
     "metadata": {},
     "output_type": "execute_result"
    }
   ],
   "source": [
    "function netexp(R::Array{Int,2},P::Array{Int,2},x::Array{Int,1})\n",
    "    \n",
    "    # initialize variables:\n",
    "    # find the total number of metabolites in the seed set\n",
    "    k = sum(x);\n",
    "    # initialize previous iteration count of metabolites in the network\n",
    "    k0 = 0;\n",
    "    # iteration 1 consistes of the seed set\n",
    "    X = []\n",
    "    push!(X,x)  ## Each row is 1 generation\n",
    "    # initialize reaction accumulation matrix\n",
    "    Y = [];\n",
    "    \n",
    "    # transpose R\n",
    "    RT = transpose(R)\n",
    "    \n",
    "    b = [sum(RT[i,:]) for i in 1:size(RT)[1]];\n",
    "\n",
    "    # while the metabolite set has not converged\n",
    "    while k > k0 \n",
    "        \n",
    "        # update previous number of metabolites\n",
    "        k0 = k;\n",
    "        \n",
    "        # RT*x ==> represnts the number of present metabolites in the \n",
    "        # network within each reaction; if this isequal to the total \n",
    "        # number of metabolites in each reaction, then the reaction \n",
    "        # is added to the network\n",
    "        y = Array{Int}(RT * x .== b)\n",
    "\n",
    "        # P*y > 0 ==> represents the vector of reactions that produce \n",
    "        # metabolite i. (i in 1:m).  If this is >0, \n",
    "        # then that metabolite is producable \n",
    "        xnew = Array{Int}(P * y .> 0)\n",
    "        \n",
    "        #add to previous set of meatabolites (only needed to retain seed set)\n",
    "        x = x .| xnew\n",
    "        \n",
    "        # find new total number of metabolites in network\n",
    "        k = sum(x);\n",
    "\n",
    "        # append accumulation matricies\n",
    "        push!(X,x)\n",
    "        push!(Y,y)\n",
    "    \n",
    "    end\n",
    "    (X,Y)\n",
    "end\n",
    "    "
   ]
  },
  {
   "cell_type": "code",
   "execution_count": 442,
   "metadata": {},
   "outputs": [
    {
     "data": {
      "text/plain": [
       "(Any[[0, 0, 0, 1, 0, 0, 0, 0, 0, 1  …  0, 0, 0, 0, 0, 0, 0, 0, 0, 0], [0, 0, 0, 1, 0, 0, 0, 0, 0, 1  …  0, 0, 0, 0, 0, 0, 0, 0, 0, 0], [0, 0, 0, 1, 0, 0, 0, 0, 0, 1  …  0, 0, 0, 0, 0, 0, 0, 0, 0, 0], [0, 0, 0, 1, 0, 0, 0, 0, 0, 1  …  0, 0, 0, 0, 0, 0, 0, 0, 0, 0], [0, 0, 0, 1, 0, 0, 0, 0, 0, 1  …  0, 0, 0, 0, 0, 0, 0, 0, 0, 0], [0, 0, 0, 1, 0, 0, 0, 0, 0, 1  …  0, 0, 0, 0, 0, 0, 0, 0, 0, 0], [0, 0, 0, 1, 0, 0, 0, 0, 0, 1  …  0, 0, 0, 0, 0, 0, 0, 0, 0, 0], [0, 0, 0, 1, 0, 0, 0, 0, 0, 1  …  0, 0, 0, 0, 0, 0, 0, 0, 0, 0]], Any[[0, 0, 0, 0, 0, 0, 0, 0, 0, 0  …  0, 0, 0, 0, 0, 0, 0, 0, 0, 0], [0, 0, 0, 0, 0, 0, 0, 0, 0, 0  …  0, 0, 0, 0, 0, 0, 0, 0, 0, 0], [0, 0, 0, 0, 0, 0, 0, 0, 0, 0  …  0, 0, 0, 0, 0, 0, 0, 0, 0, 0], [0, 0, 0, 0, 0, 0, 0, 0, 0, 0  …  0, 0, 0, 0, 0, 0, 0, 0, 0, 0], [0, 0, 0, 0, 0, 0, 0, 0, 0, 0  …  0, 0, 0, 0, 0, 0, 0, 0, 0, 0], [0, 0, 0, 0, 0, 0, 0, 0, 0, 0  …  0, 0, 0, 0, 0, 0, 0, 0, 0, 0], [0, 0, 0, 0, 0, 0, 0, 0, 0, 0  …  0, 0, 0, 0, 0, 0, 0, 0, 0, 0]])"
      ]
     },
     "execution_count": 442,
     "metadata": {},
     "output_type": "execute_result"
    }
   ],
   "source": [
    "(X,Y) = netexp(R,P,x)"
   ]
  },
  {
   "cell_type": "code",
   "execution_count": 443,
   "metadata": {},
   "outputs": [
    {
     "data": {
      "text/plain": [
       "(8,)"
      ]
     },
     "execution_count": 443,
     "metadata": {},
     "output_type": "execute_result"
    }
   ],
   "source": [
    "size(X)"
   ]
  },
  {
   "cell_type": "code",
   "execution_count": 444,
   "metadata": {},
   "outputs": [
    {
     "data": {
      "text/plain": [
       "(7,)"
      ]
     },
     "execution_count": 444,
     "metadata": {},
     "output_type": "execute_result"
    }
   ],
   "source": [
    "size(Y)"
   ]
  },
  {
   "cell_type": "code",
   "execution_count": 446,
   "metadata": {},
   "outputs": [
    {
     "data": {
      "text/plain": [
       "8-element Array{Any,1}:\n",
       " [0, 0, 0, 1, 0, 0, 0, 0, 0, 1  …  0, 0, 0, 0, 0, 0, 0, 0, 0, 0]\n",
       " [0, 0, 0, 1, 0, 0, 0, 0, 0, 1  …  0, 0, 0, 0, 0, 0, 0, 0, 0, 0]\n",
       " [0, 0, 0, 1, 0, 0, 0, 0, 0, 1  …  0, 0, 0, 0, 0, 0, 0, 0, 0, 0]\n",
       " [0, 0, 0, 1, 0, 0, 0, 0, 0, 1  …  0, 0, 0, 0, 0, 0, 0, 0, 0, 0]\n",
       " [0, 0, 0, 1, 0, 0, 0, 0, 0, 1  …  0, 0, 0, 0, 0, 0, 0, 0, 0, 0]\n",
       " [0, 0, 0, 1, 0, 0, 0, 0, 0, 1  …  0, 0, 0, 0, 0, 0, 0, 0, 0, 0]\n",
       " [0, 0, 0, 1, 0, 0, 0, 0, 0, 1  …  0, 0, 0, 0, 0, 0, 0, 0, 0, 0]\n",
       " [0, 0, 0, 1, 0, 0, 0, 0, 0, 1  …  0, 0, 0, 0, 0, 0, 0, 0, 0, 0]"
      ]
     },
     "execution_count": 446,
     "metadata": {},
     "output_type": "execute_result"
    }
   ],
   "source": [
    "X"
   ]
  },
  {
   "cell_type": "code",
   "execution_count": 448,
   "metadata": {},
   "outputs": [
    {
     "data": {
      "text/plain": [
       "15"
      ]
     },
     "execution_count": 448,
     "metadata": {},
     "output_type": "execute_result"
    }
   ],
   "source": [
    "sum(X[1])"
   ]
  },
  {
   "cell_type": "code",
   "execution_count": null,
   "metadata": {},
   "outputs": [],
   "source": []
  },
  {
   "cell_type": "code",
   "execution_count": 425,
   "metadata": {},
   "outputs": [],
   "source": [
    "# unique([Y[1][i]==1 ? reactions[i] : \"SKIP\" for (i,r) in enumerate(reactions)])\n"
   ]
  },
  {
   "cell_type": "code",
   "execution_count": 426,
   "metadata": {},
   "outputs": [
    {
     "data": {
      "text/plain": [
       "10287"
      ]
     },
     "execution_count": 426,
     "metadata": {},
     "output_type": "execute_result"
    }
   ],
   "source": [
    "length(reactions)"
   ]
  },
  {
   "cell_type": "code",
   "execution_count": 427,
   "metadata": {},
   "outputs": [
    {
     "data": {
      "text/plain": [
       "8279"
      ]
     },
     "execution_count": 427,
     "metadata": {},
     "output_type": "execute_result"
    }
   ],
   "source": [
    "length(compounds)"
   ]
  },
  {
   "cell_type": "code",
   "execution_count": 428,
   "metadata": {},
   "outputs": [],
   "source": [
    "reactions_by_generation = Dict()\n",
    "for j in 1:size(Y)[1]\n",
    "    reactions_by_generation[j] = []\n",
    "    for (i,r) in enumerate(reactions)\n",
    "        if Y[j][i]==1\n",
    "            push!(reactions_by_generation[j],reactions[i])\n",
    "        end\n",
    "    end\n",
    "end"
   ]
  },
  {
   "cell_type": "code",
   "execution_count": 429,
   "metadata": {},
   "outputs": [],
   "source": [
    "compounds_by_generation = Dict()\n",
    "for j in 1:size(X)[1]\n",
    "    compounds_by_generation[j] = []\n",
    "    for (i,c) in enumerate(compounds)\n",
    "        if X[j][i]==1\n",
    "            push!(compounds_by_generation[j],compounds[i])\n",
    "        end\n",
    "    end\n",
    "end"
   ]
  },
  {
   "cell_type": "code",
   "execution_count": 430,
   "metadata": {},
   "outputs": [
    {
     "data": {
      "text/plain": [
       "Dict{Any,Any} with 7 entries:\n",
       "  7 => Any[\"R08570\", \"R02991\", \"R05539\", \"R00307\", \"R00816\", \"R02763\", \"R07803\"…\n",
       "  4 => Any[\"R08570\", \"R05539\", \"R00307\", \"R00816\", \"R02763\", \"R07803\", \"R01100\"…\n",
       "  2 => Any[\"R05539\", \"R00307\", \"R07803\", \"R01100\", \"R00276\", \"R00302\", \"R00533\"…\n",
       "  3 => Any[\"R05539\", \"R00307\", \"R00816\", \"R07803\", \"R01100\", \"R00276\", \"R00302\"…\n",
       "  5 => Any[\"R08570\", \"R05539\", \"R00307\", \"R00816\", \"R02763\", \"R07803\", \"R01100\"…\n",
       "  6 => Any[\"R08570\", \"R02991\", \"R05539\", \"R00307\", \"R00816\", \"R02763\", \"R07803\"…\n",
       "  1 => Any[\"R05539\", \"R00307\", \"R01100\", \"R00302\", \"R01098\", \"R00874\", \"R00028\"…"
      ]
     },
     "execution_count": 430,
     "metadata": {},
     "output_type": "execute_result"
    }
   ],
   "source": [
    "reactions_by_generation"
   ]
  },
  {
   "cell_type": "code",
   "execution_count": 431,
   "metadata": {},
   "outputs": [
    {
     "data": {
      "text/plain": [
       "Dict{Any,Any} with 8 entries:\n",
       "  7 => Any[\"C00001\", \"C00007\", \"C00094\", \"C00124\", \"C00022\", \"C00204\", \"C00027\"…\n",
       "  4 => Any[\"C00001\", \"C00007\", \"C00094\", \"C00124\", \"C00022\", \"C00204\", \"C00027\"…\n",
       "  2 => Any[\"C00001\", \"C00007\", \"C00094\", \"C00124\", \"C00027\", \"C00033\", \"C00794\"…\n",
       "  3 => Any[\"C00001\", \"C00007\", \"C00094\", \"C00124\", \"C00027\", \"C00033\", \"C00794\"…\n",
       "  5 => Any[\"C00001\", \"C00007\", \"C00094\", \"C00124\", \"C00022\", \"C00204\", \"C00027\"…\n",
       "  8 => Any[\"C00001\", \"C00007\", \"C00094\", \"C00124\", \"C00022\", \"C00204\", \"C00027\"…\n",
       "  6 => Any[\"C00001\", \"C00007\", \"C00094\", \"C00124\", \"C00022\", \"C00204\", \"C00027\"…\n",
       "  1 => Any[\"C00001\", \"C00007\", \"C00124\", \"C00033\", \"C00011\", \"C00031\", \"C00095\"…"
      ]
     },
     "execution_count": 431,
     "metadata": {},
     "output_type": "execute_result"
    }
   ],
   "source": [
    "compounds_by_generation"
   ]
  },
  {
   "cell_type": "code",
   "execution_count": null,
   "metadata": {},
   "outputs": [],
   "source": []
  },
  {
   "cell_type": "code",
   "execution_count": null,
   "metadata": {},
   "outputs": [],
   "source": []
  },
  {
   "cell_type": "code",
   "execution_count": 87,
   "metadata": {},
   "outputs": [
    {
     "data": {
      "text/plain": [
       "1325-element Array{String,1}:\n",
       " \"R02250\"\n",
       " \"R09932\"\n",
       " \"R01876\"\n",
       " \"R02331\"\n",
       " \"R08218\"\n",
       " \"R06983\"\n",
       " \"R07043\"\n",
       " \"R04800\"\n",
       " \"R10849\"\n",
       " \"R08281\"\n",
       " \"R04273\"\n",
       " \"R04945\"\n",
       " \"R09407\"\n",
       " ⋮       \n",
       " \"R09442\"\n",
       " \"R02926\"\n",
       " \"R07140\"\n",
       " \"R00939\"\n",
       " \"R10088\"\n",
       " \"R05051\"\n",
       " \"R01135\"\n",
       " \"R10917\"\n",
       " \"R03509\"\n",
       " \"R00416\"\n",
       " \"R05233\"\n",
       " \"R06728\""
      ]
     },
     "execution_count": 87,
     "metadata": {},
     "output_type": "execute_result"
    }
   ],
   "source": [
    "reaction_values = [i[1] for i in reaction_edges[\"products\"]]"
   ]
  },
  {
   "cell_type": "code",
   "execution_count": 71,
   "metadata": {},
   "outputs": [
    {
     "data": {
      "text/plain": [
       "1325-element Array{Array{Any,1},1}:\n",
       " [\"C00641\", \"C00162\"]          \n",
       " [\"C20226\", \"C00005\", \"C00080\"]\n",
       " [\"C00106\", \"C00620\"]          \n",
       " [\"C00008\", \"C00460\"]          \n",
       " [\"C00020\", \"C00013\", \"C06481\"]\n",
       " [\"C01031\", \"C00004\", \"C00080\"]\n",
       " [\"C14813\"]                    \n",
       " [\"C00001\", \"C05432\", \"C00028\"]\n",
       " [\"C00641\", \"C20897\"]          \n",
       " [\"C16551\", \"C00003\"]          \n",
       " [\"C03633\"]                    \n",
       " [\"C05699\", \"C00033\"]          \n",
       " [\"C19595\", \"C00001\", \"C00006\"]\n",
       " ⋮                             \n",
       " [\"C19604\", \"C00001\", \"C00006\"]\n",
       " [\"C00794\", \"C00124\"]          \n",
       " [\"C01031\", \"C00005\", \"C00080\"]\n",
       " [\"C00415\", \"C00005\", \"C00080\"]\n",
       " [\"C00001\", \"C00018\", \"C00009\"]\n",
       " [\"C05938\", \"C00003\", \"C00001\"]\n",
       " [\"C00035\", \"C00009\", \"C03794\"]\n",
       " [\"C20941\", \"C00004\", \"C00080\"]\n",
       " [\"C01302\"]                    \n",
       " [\"C00013\", \"C00043\"]          \n",
       " [\"C06613\", \"C00004\", \"C00080\"]\n",
       " [\"C12448\", \"C00180\"]          "
      ]
     },
     "execution_count": 71,
     "metadata": {},
     "output_type": "execute_result"
    }
   ],
   "source": [
    "compound_values = [i[2] for i in reaction_edges[\"products\"]]"
   ]
  },
  {
   "cell_type": "code",
   "execution_count": 75,
   "metadata": {},
   "outputs": [
    {
     "data": {
      "text/plain": [
       "948"
      ]
     },
     "execution_count": 75,
     "metadata": {},
     "output_type": "execute_result"
    }
   ],
   "source": [
    "length(Set(collect(Iterators.flatten(compound_values))))"
   ]
  },
  {
   "cell_type": "code",
   "execution_count": 79,
   "metadata": {},
   "outputs": [
    {
     "data": {
      "text/plain": [
       "948"
      ]
     },
     "execution_count": 79,
     "metadata": {},
     "output_type": "execute_result"
    }
   ],
   "source": [
    "length(unique(collect(Iterators.flatten(compound_values))))"
   ]
  },
  {
   "cell_type": "code",
   "execution_count": 80,
   "metadata": {},
   "outputs": [
    {
     "data": {
      "text/plain": [
       "948-element Array{Any,1}:\n",
       " \"C00641\"\n",
       " \"C00162\"\n",
       " \"C20226\"\n",
       " \"C00005\"\n",
       " \"C00080\"\n",
       " \"C00106\"\n",
       " \"C00620\"\n",
       " \"C00008\"\n",
       " \"C00460\"\n",
       " \"C00020\"\n",
       " \"C00013\"\n",
       " \"C06481\"\n",
       " \"C01031\"\n",
       " ⋮       \n",
       " \"C05272\"\n",
       " \"C02659\"\n",
       " \"C16639\"\n",
       " \"C19604\"\n",
       " \"C00794\"\n",
       " \"C05938\"\n",
       " \"C03794\"\n",
       " \"C20941\"\n",
       " \"C01302\"\n",
       " \"C00043\"\n",
       " \"C06613\"\n",
       " \"C12448\""
      ]
     },
     "execution_count": 80,
     "metadata": {},
     "output_type": "execute_result"
    }
   ],
   "source": [
    "unique(collect(Iterators.flatten(compound_values)))"
   ]
  },
  {
   "cell_type": "code",
   "execution_count": 89,
   "metadata": {},
   "outputs": [
    {
     "data": {
      "text/plain": [
       "Array{String,1}"
      ]
     },
     "execution_count": 89,
     "metadata": {},
     "output_type": "execute_result"
    }
   ],
   "source": [
    "typeof(reaction_values)"
   ]
  },
  {
   "cell_type": "code",
   "execution_count": 93,
   "metadata": {},
   "outputs": [
    {
     "data": {
      "text/plain": [
       "948-element Array{String,1}:\n",
       " \"C00641\"\n",
       " \"C00162\"\n",
       " \"C20226\"\n",
       " \"C00005\"\n",
       " \"C00080\"\n",
       " \"C00106\"\n",
       " \"C00620\"\n",
       " \"C00008\"\n",
       " \"C00460\"\n",
       " \"C00020\"\n",
       " \"C00013\"\n",
       " \"C06481\"\n",
       " \"C01031\"\n",
       " ⋮       \n",
       " \"C05272\"\n",
       " \"C02659\"\n",
       " \"C16639\"\n",
       " \"C19604\"\n",
       " \"C00794\"\n",
       " \"C05938\"\n",
       " \"C03794\"\n",
       " \"C20941\"\n",
       " \"C01302\"\n",
       " \"C00043\"\n",
       " \"C06613\"\n",
       " \"C12448\""
      ]
     },
     "execution_count": 93,
     "metadata": {},
     "output_type": "execute_result"
    }
   ],
   "source": [
    "compound_list = Array{String}(unique(collect(Iterators.flatten(compound_values))))\n"
   ]
  },
  {
   "cell_type": "code",
   "execution_count": 82,
   "metadata": {},
   "outputs": [],
   "source": [
    "compound_dict = Dict()\n",
    "for (i, compound) in enumerate(compound_list)\n",
    "    compound_dict[compound] = i\n",
    "end"
   ]
  },
  {
   "cell_type": "code",
   "execution_count": 83,
   "metadata": {},
   "outputs": [
    {
     "data": {
      "text/plain": [
       "Dict{Any,Any} with 948 entries:\n",
       "  \"C00334\" => 141\n",
       "  \"C21017\" => 832\n",
       "  \"C05691\" => 599\n",
       "  \"C00508\" => 456\n",
       "  \"C00093\" => 165\n",
       "  \"C00001\" => 16\n",
       "  \"C19595\" => 25\n",
       "  \"C06506\" => 496\n",
       "  \"C00396\" => 581\n",
       "  \"C05273\" => 321\n",
       "  \"C00279\" => 176\n",
       "  \"C01165\" => 532\n",
       "  \"C00068\" => 48\n",
       "  \"C09332\" => 890\n",
       "  \"C00080\" => 5\n",
       "  \"C04160\" => 560\n",
       "  \"C01352\" => 792\n",
       "  \"C06174\" => 879\n",
       "  \"C20969\" => 793\n",
       "  \"C05141\" => 637\n",
       "  \"C05539\" => 863\n",
       "  \"C04810\" => 88\n",
       "  \"C00489\" => 104\n",
       "  \"C00344\" => 263\n",
       "  \"C04734\" => 440\n",
       "  ⋮        => ⋮"
      ]
     },
     "execution_count": 83,
     "metadata": {},
     "output_type": "execute_result"
    }
   ],
   "source": [
    "compound_dict"
   ]
  },
  {
   "cell_type": "code",
   "execution_count": 95,
   "metadata": {},
   "outputs": [],
   "source": [
    "reaction_dict = Dict()\n",
    "for (i, reaction) in enumerate(reaction_values)\n",
    "    reaction_dict[reaction] = i\n",
    "end"
   ]
  },
  {
   "cell_type": "code",
   "execution_count": 111,
   "metadata": {},
   "outputs": [
    {
     "data": {
      "text/plain": [
       "Dict{Any,Any} with 1325 entries:\n",
       "  \"R02250\" => 1\n",
       "  \"R09932\" => 2\n",
       "  \"R01876\" => 3\n",
       "  \"R02331\" => 4\n",
       "  \"R08218\" => 5\n",
       "  \"R07043\" => 7\n",
       "  \"R06983\" => 6\n",
       "  \"R04800\" => 8\n",
       "  \"R10849\" => 9\n",
       "  \"R08281\" => 10\n",
       "  \"R04273\" => 11\n",
       "  \"R04945\" => 12\n",
       "  \"R09407\" => 13\n",
       "  \"R02788\" => 14\n",
       "  \"R07607\" => 15\n",
       "  \"R10223\" => 16\n",
       "  \"R07650\" => 17\n",
       "  \"R04383\" => 18\n",
       "  \"R10645\" => 19\n",
       "  \"R01859\" => 20\n",
       "  \"R02426\" => 21\n",
       "  \"R05681\" => 22\n",
       "  \"R02718\" => 23\n",
       "  \"R01072\" => 24\n",
       "  \"R02688\" => 25\n",
       "  ⋮        => ⋮"
      ]
     },
     "execution_count": 111,
     "metadata": {},
     "output_type": "execute_result"
    }
   ],
   "source": [
    "reaction_dict"
   ]
  },
  {
   "cell_type": "code",
   "execution_count": 107,
   "metadata": {},
   "outputs": [
    {
     "data": {
      "text/plain": [
       "3×2 BitArray{2}:\n",
       " false  false\n",
       " false  false\n",
       " false  false"
      ]
     },
     "execution_count": 107,
     "metadata": {},
     "output_type": "execute_result"
    }
   ],
   "source": [
    "BitArray(undef, (3,2))"
   ]
  },
  {
   "cell_type": "code",
   "execution_count": 136,
   "metadata": {},
   "outputs": [
    {
     "data": {
      "text/plain": [
       "3×2 Array{Bool,2}:\n",
       " false  false\n",
       " false  false\n",
       " false  false"
      ]
     },
     "execution_count": 136,
     "metadata": {},
     "output_type": "execute_result"
    }
   ],
   "source": [
    "Z =  zeros(Bool, (3,2))"
   ]
  },
  {
   "cell_type": "code",
   "execution_count": 139,
   "metadata": {},
   "outputs": [
    {
     "data": {
      "text/plain": [
       "true"
      ]
     },
     "execution_count": 139,
     "metadata": {},
     "output_type": "execute_result"
    }
   ],
   "source": [
    "Z[1,1]=true"
   ]
  },
  {
   "cell_type": "code",
   "execution_count": 140,
   "metadata": {},
   "outputs": [
    {
     "data": {
      "text/plain": [
       "3×2 Array{Bool,2}:\n",
       "  true  false\n",
       " false  false\n",
       " false  false"
      ]
     },
     "execution_count": 140,
     "metadata": {},
     "output_type": "execute_result"
    }
   ],
   "source": [
    "Z"
   ]
  },
  {
   "cell_type": "code",
   "execution_count": 108,
   "metadata": {},
   "outputs": [
    {
     "data": {
      "text/plain": [
       "1325×948 Array{Bool,2}:\n",
       " false  false  false  false  false  …  false  false  false  false  false\n",
       " false  false  false  false  false     false  false  false  false  false\n",
       " false  false  false  false  false     false  false  false  false  false\n",
       " false  false  false  false  false     false  false  false  false  false\n",
       " false  false  false  false  false     false  false  false  false  false\n",
       " false  false  false  false  false  …  false  false  false  false  false\n",
       " false  false  false  false  false     false  false  false  false  false\n",
       " false  false  false  false  false     false  false  false  false  false\n",
       " false  false  false  false  false     false  false  false  false  false\n",
       " false  false  false  false  false     false  false  false  false  false\n",
       " false  false  false  false  false  …  false  false  false  false  false\n",
       " false  false  false  false  false     false  false  false  false  false\n",
       " false  false  false  false  false     false  false  false  false  false\n",
       "     ⋮                              ⋱                    ⋮              \n",
       " false  false  false  false  false     false  false  false  false  false\n",
       " false  false  false  false  false     false  false  false  false  false\n",
       " false  false  false  false  false  …  false  false  false  false  false\n",
       " false  false  false  false  false     false  false  false  false  false\n",
       " false  false  false  false  false     false  false  false  false  false\n",
       " false  false  false  false  false     false  false  false  false  false\n",
       " false  false  false  false  false     false  false  false  false  false\n",
       " false  false  false  false  false  …  false  false  false  false  false\n",
       " false  false  false  false  false     false  false  false  false  false\n",
       " false  false  false  false  false     false  false  false  false  false\n",
       " false  false  false  false  false     false  false  false  false  false\n",
       " false  false  false  false  false     false  false  false  false  false"
      ]
     },
     "execution_count": 108,
     "metadata": {},
     "output_type": "execute_result"
    }
   ],
   "source": [
    "## Compounds in columns\n",
    "## Reactions in rows\n",
    "## Rows, Columns\n",
    "## This is equivilent to R` in segrelab's github\n",
    "# R = BitArray(undef, (length(reaction_dict),length(compound_dict)))\n",
    "R = zeros(Bool, (length(reaction_dict),length(compound_dict)))"
   ]
  },
  {
   "cell_type": "code",
   "execution_count": 117,
   "metadata": {},
   "outputs": [
    {
     "name": "stdout",
     "output_type": "stream",
     "text": [
      "R02250\n",
      "1\n"
     ]
    }
   ],
   "source": [
    "for (r,rindex) in reaction_dict\n",
    "    println(k)\n",
    "    println(v)\n",
    "#     reaction_dict[r]\n",
    "    break\n",
    "end"
   ]
  },
  {
   "cell_type": "code",
   "execution_count": null,
   "metadata": {},
   "outputs": [],
   "source": []
  }
 ],
 "metadata": {
  "kernelspec": {
   "display_name": "Julia 1.0.0",
   "language": "julia",
   "name": "julia-1.0"
  },
  "language_info": {
   "file_extension": ".jl",
   "mimetype": "application/julia",
   "name": "julia",
   "version": "1.0.0"
  }
 },
 "nbformat": 4,
 "nbformat_minor": 2
}
